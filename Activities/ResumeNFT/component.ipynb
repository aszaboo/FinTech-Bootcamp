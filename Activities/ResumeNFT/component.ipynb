{
 "cells": [
  {
   "cell_type": "code",
   "execution_count": 2,
   "metadata": {},
   "outputs": [],
   "source": [
    "import os\n",
    "import json\n",
    "from web3 import Account\n",
    "#from web3.gas_strategies.time_based import medium_gas_price_strategy\n",
    "from web3 import Web3\n",
    "from pathlib import Path\n",
    "from dotenv import load_dotenv\n",
    "import requests"
   ]
  },
  {
   "cell_type": "code",
   "execution_count": 56,
   "metadata": {},
   "outputs": [
    {
     "data": {
      "text/plain": [
       "True"
      ]
     },
     "execution_count": 56,
     "metadata": {},
     "output_type": "execute_result"
    }
   ],
   "source": [
    "# loading environment variables\n",
    "load_dotenv()\n"
   ]
  },
  {
   "cell_type": "code",
   "execution_count": 57,
   "metadata": {},
   "outputs": [],
   "source": [
    "# Create a W3 Connection\n",
    "w3 = Web3(Web3.HTTPProvider(os.getenv(\"WEB3_RPOVIDER_URI\")))\n",
    "private_key = os.getenv(\"PRIVATE_KEY\")\n",
    "contract_address = os.getenv(\"SMART_CONTRACT_ADDRESS\")"
   ]
  },
  {
   "cell_type": "code",
   "execution_count": 75,
   "metadata": {},
   "outputs": [],
   "source": [
    "# All functions needed to tokenize an NFT\n",
    "def generate_account(w3,private_key):\n",
    "    account = Account.privateKeyToAccount(private_key)\n",
    "    return account\n",
    "\n",
    "# Set up Pinata Headers\n",
    "json_headers = {\n",
    "    \"Content-Type\":\"application/json\",\n",
    "    \"pinata_api_key\": os.getenv(\"PINATA_API_KEY\"),\n",
    "    \"pinata_secret_api_key\": os.getenv(\"PINATA_SECRET_API_KEY\")\n",
    "}\n",
    "\n",
    "file_headers = {\n",
    "    \"pinata_api_key\": os.getenv(\"PINATA_API_KEY\"),\n",
    "    \"pinata_secret_api_key\": os.getenv(\"PINATA_SECRET_API_KEY\")\n",
    "}\n",
    "\n",
    "def convert_data_to_json(content):\n",
    "    data = {\"pinataOptions\":{\"cidVersion\":1}, \n",
    "            \"pinataContent\":content }\n",
    "    return json.dumps(data)\n",
    "\n",
    "def pin_file_to_ipfs(data):\n",
    "    r = requests.post(\"https://api.pinata.cloud/pinning/pinFileToIPFS\",\n",
    "                      files={'file':data},\n",
    "                      headers= file_headers)\n",
    "    print(r.json())\n",
    "    ipfs_hash = r.json()[\"IpfsHash\"]\n",
    "    return ipfs_hash\n",
    "\n",
    "def pin_json_to_ipfs(json):\n",
    "    r = requests.post(\"https://api.pinata.cloud/pinning/pinJSONToIPFS\",\n",
    "                      data=json,\n",
    "                      headers= json_headers)\n",
    "    print(r.json())\n",
    "    ipfs_hash = r.json()[\"IpfsHash\"]\n",
    "    return ipfs_hash\n",
    "\n",
    "def pin_cert(cert_name, cert_file,**kwargs):\n",
    "    # Pin certificate picture to IPFS\n",
    "    ipfs_file_hash = pin_file_to_ipfs(cert_file.getvalue())\n",
    "\n",
    "    # Build our NFT Token JSON\n",
    "    token_json = {\n",
    "      \"name\": cert_name, \n",
    "       \"image\": f\"ipfs.io/ipfs/{ipfs_file_hash}\"\n",
    "    }\n",
    "\n",
    "    # Add extra attributes if any passed in\n",
    "    token_json.update(kwargs.items())\n",
    "\n",
    "    # Add to pinata json to be uploaded to Pinata\n",
    "    json_data = convert_data_to_json(token_json)\n",
    "\n",
    "    # Pin the real NFT Token JSON\n",
    "    json_ipfs_hash = pin_json_to_ipfs(json_data)\n",
    "\n",
    "    return json_ipfs_hash, token_json"
   ]
  },
  {
   "cell_type": "code",
   "execution_count": 76,
   "metadata": {},
   "outputs": [],
   "source": [
    "# Pull in Ethereum Account - Used for signing transactions\n",
    "account = generate_account(w3,private_key)"
   ]
  },
  {
   "cell_type": "code",
   "execution_count": 77,
   "metadata": {},
   "outputs": [],
   "source": [
    "def load_contract():\n",
    "    with open(Path(\"./contracts/compiled/certificate_abi.json\")) as file:\n",
    "        certificate_abi = json.load(file)\n",
    "\n",
    "    contract_address = os.getenv(\"SMART_CONTRACT_ADDRESS\")\n",
    "\n",
    "    cert_contract = w3.eth.contract(address=contract_address,\n",
    "                    abi=certificate_abi)\n",
    "\n",
    "    return cert_contract      "
   ]
  },
  {
   "cell_type": "code",
   "execution_count": 81,
   "metadata": {},
   "outputs": [],
   "source": [
    "from array import array\n",
    "\n",
    "with io.BytesIO() as output:\n",
    "    image.save(output, format=\"GIF\")\n",
    "    contents = output.getvalue()"
   ]
  },
  {
   "cell_type": "code",
   "execution_count": 79,
   "metadata": {},
   "outputs": [],
   "source": [
    "# loading the rinkby contract\n",
    "contract = load_contract()\n",
    "customer_account = \"0xBb28C656dA091796c67C8787cE9E0801dE20A018\"\n",
    "byteImgIO = io.BytesIO()\n",
    "byteImg = Image.open(\"toucan1.png\")\n",
    "byteImg.save(byteImgIO, \"PNG\")\n",
    "byteImgIO.seek(0)\n",
    "byteImg = byteImgIO.read()\n",
    "# Non test code\n",
    "dataBytesIO = io.BytesIO(byteImg)"
   ]
  },
  {
   "cell_type": "code",
   "execution_count": 88,
   "metadata": {},
   "outputs": [
    {
     "ename": "AttributeError",
     "evalue": "'str' object has no attribute 'getvalue'",
     "output_type": "error",
     "traceback": [
      "\u001b[0;31m---------------------------------------------------------------------------\u001b[0m",
      "\u001b[0;31mAttributeError\u001b[0m                            Traceback (most recent call last)",
      "\u001b[0;32m/var/folders/4v/cn7thfts6hjfkp7gdl9lkpxr0000gn/T/ipykernel_53617/1685380392.py\u001b[0m in \u001b[0;36m<module>\u001b[0;34m\u001b[0m\n\u001b[0;32m----> 1\u001b[0;31m \u001b[0mcert_ipfs_hash\u001b[0m\u001b[0;34m,\u001b[0m\u001b[0mtoken_json\u001b[0m \u001b[0;34m=\u001b[0m \u001b[0mpin_cert\u001b[0m\u001b[0;34m(\u001b[0m\u001b[0mname\u001b[0m\u001b[0;34m)\u001b[0m\u001b[0;34m\u001b[0m\u001b[0;34m\u001b[0m\u001b[0m\n\u001b[0m\u001b[1;32m      2\u001b[0m \u001b[0;34m\u001b[0m\u001b[0m\n\u001b[1;32m      3\u001b[0m \u001b[0mcert_uri\u001b[0m \u001b[0;34m=\u001b[0m \u001b[0;34mf\"ipfs.io/ipfs/{cert_ipfs_hash}\"\u001b[0m\u001b[0;34m\u001b[0m\u001b[0;34m\u001b[0m\u001b[0m\n\u001b[1;32m      4\u001b[0m \u001b[0;34m\u001b[0m\u001b[0m\n\u001b[1;32m      5\u001b[0m \u001b[0mnonce\u001b[0m \u001b[0;34m=\u001b[0m \u001b[0mw3\u001b[0m\u001b[0;34m.\u001b[0m\u001b[0meth\u001b[0m\u001b[0;34m.\u001b[0m\u001b[0mgetTransactionCount\u001b[0m\u001b[0;34m(\u001b[0m\u001b[0maccount\u001b[0m\u001b[0;34m.\u001b[0m\u001b[0maddress\u001b[0m\u001b[0;34m)\u001b[0m\u001b[0;34m\u001b[0m\u001b[0;34m\u001b[0m\u001b[0m\n",
      "\u001b[0;32m/var/folders/4v/cn7thfts6hjfkp7gdl9lkpxr0000gn/T/ipykernel_53617/392641076.py\u001b[0m in \u001b[0;36mpin_cert\u001b[0;34m(cert_file, **kwargs)\u001b[0m\n\u001b[1;32m     39\u001b[0m \u001b[0;32mdef\u001b[0m \u001b[0mpin_cert\u001b[0m\u001b[0;34m(\u001b[0m\u001b[0mcert_file\u001b[0m\u001b[0;34m,\u001b[0m\u001b[0;34m**\u001b[0m\u001b[0mkwargs\u001b[0m\u001b[0;34m)\u001b[0m\u001b[0;34m:\u001b[0m\u001b[0;34m\u001b[0m\u001b[0;34m\u001b[0m\u001b[0m\n\u001b[1;32m     40\u001b[0m     \u001b[0;31m# Pin certificate picture to IPFS\u001b[0m\u001b[0;34m\u001b[0m\u001b[0;34m\u001b[0m\u001b[0;34m\u001b[0m\u001b[0m\n\u001b[0;32m---> 41\u001b[0;31m     \u001b[0mipfs_file_hash\u001b[0m \u001b[0;34m=\u001b[0m \u001b[0mpin_file_to_ipfs\u001b[0m\u001b[0;34m(\u001b[0m\u001b[0mcert_file\u001b[0m\u001b[0;34m.\u001b[0m\u001b[0mgetvalue\u001b[0m\u001b[0;34m(\u001b[0m\u001b[0;34m)\u001b[0m\u001b[0;34m)\u001b[0m\u001b[0;34m\u001b[0m\u001b[0;34m\u001b[0m\u001b[0m\n\u001b[0m\u001b[1;32m     42\u001b[0m \u001b[0;34m\u001b[0m\u001b[0m\n\u001b[1;32m     43\u001b[0m     \u001b[0;31m# Build our NFT Token JSON\u001b[0m\u001b[0;34m\u001b[0m\u001b[0;34m\u001b[0m\u001b[0;34m\u001b[0m\u001b[0m\n",
      "\u001b[0;31mAttributeError\u001b[0m: 'str' object has no attribute 'getvalue'"
     ]
    }
   ],
   "source": [
    "cert_ipfs_hash,token_json = pin_cert(name)\n",
    "\n",
    "cert_uri = f\"ipfs.io/ipfs/{cert_ipfs_hash}\"\n",
    "\n",
    "nonce = w3.eth.getTransactionCount(account.address)\n",
    " \n",
    "tx = contract.functions.mint(customer_account,cert_uri).buildTransaction({\n",
    "   'chainId':80001,\n",
    "    'gas':20000000,\n",
    "    'nonce':nonce\n",
    "})"
   ]
  },
  {
   "cell_type": "code",
   "execution_count": 1,
   "metadata": {},
   "outputs": [
    {
     "name": "stdout",
     "output_type": "stream",
     "text": [
      "Latest Ethereum block number 11174740\n"
     ]
    }
   ],
   "source": [
    "from web3 import Web3, HTTPProvider\n",
    "connection = Web3(HTTPProvider('https://rinkeby.infura.io/v3/dad654cbe1e74e88a12fd7d0c673d000'))\n",
    "print (\"Latest Ethereum block number\", connection.eth.blockNumber)"
   ]
  },
  {
   "cell_type": "code",
   "execution_count": 4,
   "metadata": {},
   "outputs": [
    {
     "data": {
      "text/plain": [
       "'https://mainnet.infura.io/v3/575c662560664e68a8fd0cb4ee97e28d'"
      ]
     },
     "execution_count": 4,
     "metadata": {},
     "output_type": "execute_result"
    }
   ],
   "source": [
    "load_dotenv()\n",
    "link = os.getenv(\"WEB3_PROVIDER_URI\")\n",
    "link"
   ]
  },
  {
   "cell_type": "code",
   "execution_count": null,
   "metadata": {},
   "outputs": [],
   "source": []
  }
 ],
 "metadata": {
  "kernelspec": {
   "display_name": "Python 3.7.13 ('web3')",
   "language": "python",
   "name": "python3"
  },
  "language_info": {
   "codemirror_mode": {
    "name": "ipython",
    "version": 3
   },
   "file_extension": ".py",
   "mimetype": "text/x-python",
   "name": "python",
   "nbconvert_exporter": "python",
   "pygments_lexer": "ipython3",
   "version": "3.7.13"
  },
  "orig_nbformat": 4,
  "vscode": {
   "interpreter": {
    "hash": "05d0262f40faf2dffdff03c93768496e5db82dc748f6c271fdc59e82cbbbecfd"
   }
  }
 },
 "nbformat": 4,
 "nbformat_minor": 2
}
