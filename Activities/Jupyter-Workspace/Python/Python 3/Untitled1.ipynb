{
 "cells": [
  {
   "cell_type": "code",
   "execution_count": 2,
   "id": "376cc2b1-94fd-4c58-a236-a64b7fc95524",
   "metadata": {},
   "outputs": [
    {
     "name": "stdout",
     "output_type": "stream",
     "text": [
      "['Name', 'Count', 'Revenue']\n",
      "['Andrew', '9', '58']\n",
      "['Phil', '8', '377']\n",
      "['Madison', '5', '302']\n",
      "['Sally', '1', '75']\n",
      "['Tyler', '1', '334']\n",
      "['Billy', '7', '146']\n",
      "['Steve', '1', '178']\n",
      "['Madison', '7', '313']\n",
      "['Sarah', '8', '103']\n",
      "['Tim', '5', '344']\n",
      "['Andrew', '5', '349']\n",
      "['Phil', '8', '61']\n",
      "['Madison', '4', '196']\n",
      "['Carl', '1', '374']\n",
      "['Devon', '9', '220']\n",
      "['Megan', '9', '321']\n",
      "['Sarah', '7', '277']\n",
      "['David', '2', '246']\n",
      "['Sally', '9', '198']\n",
      "['Tom', '5', '221']\n",
      "['Andrew', '1', '191']\n",
      "['Paul', '5', '399']\n",
      "['Carl', '1', '300']\n",
      "['Tim', '1', '345']\n",
      "['Madison', '4', '202']\n",
      "['John', '4', '305']\n",
      "['Phil', '6', '249']\n",
      "['Madison', '7', '113']\n",
      "['Sally', '6', '256']\n"
     ]
    }
   ],
   "source": [
    "# -*- coding: utf-8 -*-\n",
    "\"\"\"Student Do: Sales Analysis.\n",
    "\n",
    "This script will use the Pathlib library to set the file path,\n",
    "use the csv library to read in the file, and iterate over each\n",
    "row of the file to calculate customer sales averages.\n",
    "\"\"\"\n",
    "\n",
    "# Import the pathlib and csv library\n",
    "from pathlib import Path\n",
    "import csv\n",
    "\n",
    "# Set the file path\n",
    "csvpath = Path(\"/Users/alexszabo/Desktop/sales.csv\")\n",
    "\n",
    "# Initialize list of records\n",
    "records = []\n",
    "\n",
    "# Open the csv file as an object\n",
    "with open(csvpath, 'r') as csvfile:\n",
    "\n",
    "    # Pass in the csv file to the csv.reader() function\n",
    "    # (with ',' as the delmiter/separator) and return the csvreader object\n",
    "    csvreader = csv.reader(csvfile, delimiter=',')\n",
    "\n",
    "    # Read the header row first (skip this step if there is no header)\n",
    "    csv_header = next(csvreader)\n",
    "    # Print the header\n",
    "    print(csv_header)\n",
    "\n",
    "    # Append the column 'Average' to the header\n",
    "    csv_header.append(\"Average\")\n",
    "    # Append the header to the list of records\n",
    "    records.append(csv_header)\n",
    "\n",
    "    # Read each row of data after the header\n",
    "    for row in csvreader:\n",
    "        # Print the row\n",
    "        print(row)\n",
    "\n",
    "        # Set the 'name', 'count', and 'revenue' variables for better\n",
    "        # readability, convert strings to ints for numerical calculations\n",
    "        name = row[0]\n",
    "        count = int(row[1])\n",
    "        revenue = int(row[2])\n",
    "\n",
    "        # Calculate the average and round to the nearest 2 decimal places\n",
    "        average = round(revenue / count, 2)\n",
    "\n",
    "        # Append the average to the row\n",
    "        row.append(average)\n",
    "        # Append the row to the list of records\n",
    "        records.append(row)\n",
    "\n",
    "# Set the path for the output.csv\n",
    "output = Path(\"output.csv\")\n",
    "\n",
    "# Open the output path as a file and pass into the 'csv.writer()' function\n",
    "# Set the delimiter/separater as a ','\n",
    "with open(output, 'w') as csvfile:\n",
    "    csvwriter = csv.writer(csvfile, delimiter=',')\n",
    "\n",
    "    # Loop through the list of records and write every record to the\n",
    "    # output csv file\n",
    "    for record in records:\n",
    "        csvwriter.writerow(record)\n"
   ]
  },
  {
   "cell_type": "code",
   "execution_count": 5,
   "id": "070d8225-6370-4e2a-b596-425e5a302317",
   "metadata": {},
   "outputs": [
    {
     "data": {
      "text/plain": [
       "[['Name', 'Count', 'Revenue', 'Average'],\n",
       " ['Andrew', '9', '58', 6.44],\n",
       " ['Phil', '8', '377', 47.12],\n",
       " ['Madison', '5', '302', 60.4],\n",
       " ['Sally', '1', '75', 75.0],\n",
       " ['Tyler', '1', '334', 334.0],\n",
       " ['Billy', '7', '146', 20.86],\n",
       " ['Steve', '1', '178', 178.0],\n",
       " ['Madison', '7', '313', 44.71],\n",
       " ['Sarah', '8', '103', 12.88],\n",
       " ['Tim', '5', '344', 68.8],\n",
       " ['Andrew', '5', '349', 69.8],\n",
       " ['Phil', '8', '61', 7.62],\n",
       " ['Madison', '4', '196', 49.0],\n",
       " ['Carl', '1', '374', 374.0],\n",
       " ['Devon', '9', '220', 24.44],\n",
       " ['Megan', '9', '321', 35.67],\n",
       " ['Sarah', '7', '277', 39.57],\n",
       " ['David', '2', '246', 123.0],\n",
       " ['Sally', '9', '198', 22.0],\n",
       " ['Tom', '5', '221', 44.2],\n",
       " ['Andrew', '1', '191', 191.0],\n",
       " ['Paul', '5', '399', 79.8],\n",
       " ['Carl', '1', '300', 300.0],\n",
       " ['Tim', '1', '345', 345.0],\n",
       " ['Madison', '4', '202', 50.5],\n",
       " ['John', '4', '305', 76.25],\n",
       " ['Phil', '6', '249', 41.5],\n",
       " ['Madison', '7', '113', 16.14],\n",
       " ['Sally', '6', '256', 42.67]]"
      ]
     },
     "execution_count": 5,
     "metadata": {},
     "output_type": "execute_result"
    }
   ],
   "source": [
    "records"
   ]
  },
  {
   "cell_type": "code",
   "execution_count": 12,
   "id": "41bf3835-8c8b-4262-9e2f-8fdc60967494",
   "metadata": {},
   "outputs": [
    {
     "data": {
      "text/plain": [
       "'Average'"
      ]
     },
     "execution_count": 12,
     "metadata": {},
     "output_type": "execute_result"
    }
   ],
   "source": []
  },
  {
   "cell_type": "code",
   "execution_count": 10,
   "id": "b285139b-8932-43cb-b577-0824e20fb6ea",
   "metadata": {},
   "outputs": [
    {
     "data": {
      "text/plain": [
       "{}"
      ]
     },
     "execution_count": 10,
     "metadata": {},
     "output_type": "execute_result"
    }
   ],
   "source": []
  },
  {
   "cell_type": "code",
   "execution_count": null,
   "id": "11a9fb8e-12ee-4010-b91c-80fb8fec3476",
   "metadata": {},
   "outputs": [],
   "source": []
  }
 ],
 "metadata": {
  "kernelspec": {
   "display_name": "Python 3 (ipykernel)",
   "language": "python",
   "name": "python3"
  },
  "language_info": {
   "codemirror_mode": {
    "name": "ipython",
    "version": 3
   },
   "file_extension": ".py",
   "mimetype": "text/x-python",
   "name": "python",
   "nbconvert_exporter": "python",
   "pygments_lexer": "ipython3",
   "version": "3.7.11"
  }
 },
 "nbformat": 4,
 "nbformat_minor": 5
}
