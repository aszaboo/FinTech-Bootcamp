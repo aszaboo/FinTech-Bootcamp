{
 "cells": [
  {
   "cell_type": "code",
   "execution_count": 112,
   "id": "2db3373b-905f-460d-94e1-e7f1dfc84631",
   "metadata": {},
   "outputs": [],
   "source": [
    "# Activity 1 Refresher Activity: Email Marketing\n",
    "# List of dicts\n",
    "customers = [\n",
    "    { \"first_name\": \"Tom\", \"last_name\": \"Bell\", \"revenue\": 0 },\n",
    "    { \"first_name\": \"Maggie\", \"last_name\": \"Johnson\", \"revenue\": 1032 },\n",
    "    { \"first_name\": \"John\", \"last_name\": \"Spectre\", \"revenue\": 2543 },\n",
    "    { \"first_name\": \"Susy\", \"last_name\": \"Simmons\", \"revenue\": 5322 }\n",
    "]"
   ]
  },
  {
   "cell_type": "code",
   "execution_count": 7,
   "id": "9919f4f5-042f-4e6e-b8b4-ec301ac5204c",
   "metadata": {},
   "outputs": [],
   "source": [
    "# defining create greeting\n",
    "#create_greeting = customers[\"first_name\"] + customers[\"last_name\"] + customers[\"revenue\"]\n",
    "#first_name\n",
    "#last_name\n",
    "#revenue"
   ]
  },
  {
   "cell_type": "code",
   "execution_count": 22,
   "id": "445de27e-e6d3-490d-b68e-6c531053efbd",
   "metadata": {},
   "outputs": [],
   "source": [
    "# Define a function that accepts a customer first_name, last_name, and\n",
    "# revenue and returns a custom greeting with the full name. \n",
    "def create_greeting(first_name, last_name, revenue):\n",
    "    if revenue > 3000:\n",
    "        greeting = f\"Thank you {first_name} {last_name} for your purchase of ${revenue}. You are a platnum member\"\n",
    "    elif revenue > 2000 and revenue <= 3000:\n",
    "        greeting = f\"Thank you {first_name} {last_name} for your purchase of ${revenue}. You are a gold member\"\n",
    "    elif revenue > 1000 and revenue <= 2000:\n",
    "            greeting = f\"Thank you {first_name} {last_name} for your purchase of ${revenue}. You are a silver member\"\n",
    "    elif revenue >= 0 and revenue <= 1000: \n",
    "        greeting = f\"Thank you {first_name} {last_name} for your purchase of ${revenue}. You are a platnum member\"\n",
    "    return greeting"
   ]
  },
  {
   "cell_type": "code",
   "execution_count": 23,
   "id": "7db6f5c4-e27a-4353-b318-7f4c3fbcb731",
   "metadata": {},
   "outputs": [
    {
     "name": "stdout",
     "output_type": "stream",
     "text": [
      "Thank you Tom Bell for your purchase of $0. You are a platnum member\n",
      "Thank you Maggie Johnson for your purchase of $1032. You are a silver member\n",
      "Thank you John Spectre for your purchase of $2543. You are a gold member\n",
      "Thank you Susy Simmons for your purchase of $5322. You are a platnum member\n"
     ]
    }
   ],
   "source": [
    "# Loop through the list of customers and use your function to print custom greetings for each customer.\n",
    "for customer in customers:\n",
    "    greeting = create_greeting(customer['first_name'], customer['last_name'], customer['revenue'])\n",
    "    print(greeting)"
   ]
  },
  {
   "cell_type": "code",
   "execution_count": 52,
   "id": "7c758aaa-628b-4227-806c-69ff792de93e",
   "metadata": {},
   "outputs": [],
   "source": [
    "# Activity 2 Zero-Coupon Bonds"
   ]
  },
  {
   "cell_type": "code",
   "execution_count": 53,
   "id": "d28f17f3-9ee3-4219-bfb9-f7771838cc1d",
   "metadata": {},
   "outputs": [],
   "source": [
    "# Intialize the zero-coupon bond parameters, assume compounding period is equal to 1\n",
    "fv = 1000\n",
    "price = 700\n",
    "discount_rate =.1\n",
    "compunding_periods = 1\n",
    "years = 5"
   ]
  },
  {
   "cell_type": "code",
   "execution_count": 64,
   "id": "e42598c5-d72f-4944-ac88-67cefa30dcca",
   "metadata": {},
   "outputs": [],
   "source": [
    "# Create a function to calculate present value\n",
    "def present_value(fv, discount_rate, compunding_periods, years):\n",
    "    pv = fv / (1 + (discount_rate/compunding_periods))**(compunding_periods*years)\n",
    "    pv_formatted = round(pv, 2)\n",
    "    return pv_formatted"
   ]
  },
  {
   "cell_type": "code",
   "execution_count": 66,
   "id": "87c5b99f-4ec0-4827-98d6-0a317d1b8e1f",
   "metadata": {},
   "outputs": [],
   "source": [
    "bond_value = present_value(1000,.1,1,5)"
   ]
  },
  {
   "cell_type": "code",
   "execution_count": 68,
   "id": "dde8d1d5-3f2c-4aae-b94f-9caa681cba6e",
   "metadata": {},
   "outputs": [
    {
     "name": "stdout",
     "output_type": "stream",
     "text": [
      "The bond is selling at a price of $700 and is valued at $620.92.\n",
      "A premium of 79.08 exists, therefore you do not want to buy the bond.\n"
     ]
    }
   ],
   "source": [
    "if bond_value > price:\n",
    "    discount = round(bond_value - price, 2)\n",
    "    print(f\"The bond is selling at a price of ${price} and is valued at ${bond_value}.\")        \n",
    "    print(f\"A discount of {discount} exists, therefore you want to buy the bond.\")\n",
    "elif bond_value < price:       \n",
    "    premium = round(price - bond_value, 2)\n",
    "    print(f\"The bond is selling at a price of ${price} and is valued at ${bond_value}.\")\n",
    "    print(f\"A premium of {premium} exists, therefore you do not want to buy the bond.\")\n",
    "else:\n",
    "    print(f\"The bond is selling at a price of ${price} and is valued at ${bond_value}.\")\n",
    "    print(f\"The bond is selling at its present value, you are neutral.\")"
   ]
  },
  {
   "cell_type": "code",
   "execution_count": 79,
   "id": "490d377a-0cfe-4873-b562-c758b50aa8ee",
   "metadata": {},
   "outputs": [],
   "source": [
    "# Activity 3 Net Present Value\n",
    "import numpy_financial as npf"
   ]
  },
  {
   "cell_type": "code",
   "execution_count": 80,
   "id": "e7b2ad12-167c-4e2f-afcf-6d4d2ae16558",
   "metadata": {},
   "outputs": [],
   "source": [
    "# Discount Rate\n",
    "discount_rate = .1\n",
    "# Initial Investment, Cash Flow 1, Cash Flow 2, Cash Flow 3, Cash Flow 4\n",
    "cash_flows_conservative = [-1000, 400, 400, 400, 400]\n",
    "cash_flows_neutral = [-1500, 600, 600, 600, 600]\n",
    "cash_flows_aggressive = [-2250, 800, 800, 800, 800]\n",
    "\n",
    "# Initialize dictionary to hold NPV return values\n",
    "npv_dict = {}"
   ]
  },
  {
   "cell_type": "code",
   "execution_count": 86,
   "id": "bec3edec-9326-4a79-9a91-febd46a12863",
   "metadata": {},
   "outputs": [],
   "source": [
    "# Calculate the NPV for each scenario\n",
    "npv_conservative = npf.npv(discount_rate,cash_flows_conservative)\n",
    "npv_neutral = npf.npv(discount_rate,cash_flows_neutral)\n",
    "npv_aggressive = npf.npv(discount_rate,cash_flows_aggressive)"
   ]
  },
  {
   "cell_type": "code",
   "execution_count": 88,
   "id": "40c1a864-5197-4958-9180-7fbb5c3fed12",
   "metadata": {},
   "outputs": [],
   "source": [
    "npv_dict[\"npv_conservative\"] = npv_conservative\n",
    "npv_dict[\"npv_neutral\"] = npv_neutral\n",
    "npv_dict[\"npv_aggressive\"] = npv_aggressive"
   ]
  },
  {
   "cell_type": "code",
   "execution_count": 90,
   "id": "3b826b93-6f29-4c8c-a272-1287beafc82c",
   "metadata": {},
   "outputs": [
    {
     "data": {
      "text/plain": [
       "{'npv_conservative': 267.94617853971704,\n",
       " 'npv_neutral': 401.91926780957544,\n",
       " 'npv_aggressive': 285.8923570794341}"
      ]
     },
     "execution_count": 90,
     "metadata": {},
     "output_type": "execute_result"
    }
   ],
   "source": [
    "npv_dict"
   ]
  },
  {
   "cell_type": "code",
   "execution_count": 110,
   "id": "df2ed471-cbdb-41c2-8b4b-821de42490c3",
   "metadata": {},
   "outputs": [
    {
     "name": "stdout",
     "output_type": "stream",
     "text": [
      "The project scenario with the max NPV value is 'neutral' with a NPV of 401.92.\n"
     ]
    }
   ],
   "source": [
    "# Manually Choose the project with the highest NPV value\n",
    "print(f\"The project scenario with the max NPV value is 'neutral' with a NPV of {round(npv_dict['npv_neutral'],2)}.\")"
   ]
  },
  {
   "cell_type": "code",
   "execution_count": null,
   "id": "f2d5ed5d-d1e0-44ea-88b8-178ca734c19d",
   "metadata": {},
   "outputs": [],
   "source": [
    "# Activity "
   ]
  }
 ],
 "metadata": {
  "kernelspec": {
   "display_name": "Python 3 (ipykernel)",
   "language": "python",
   "name": "python3"
  },
  "language_info": {
   "codemirror_mode": {
    "name": "ipython",
    "version": 3
   },
   "file_extension": ".py",
   "mimetype": "text/x-python",
   "name": "python",
   "nbconvert_exporter": "python",
   "pygments_lexer": "ipython3",
   "version": "3.7.11"
  }
 },
 "nbformat": 4,
 "nbformat_minor": 5
}
