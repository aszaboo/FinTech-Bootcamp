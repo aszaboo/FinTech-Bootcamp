{
 "cells": [
  {
   "cell_type": "code",
   "execution_count": 1,
   "id": "7841750c-a033-485e-9121-1701f592a46e",
   "metadata": {},
   "outputs": [],
   "source": [
    "# Creating present future value function\n",
    "# ** == ^\n",
    "def get_future_value(pv,i,n,t):\n",
    "    future_value = pv*(1+(i/n))**(n*t)\n",
    "    return future_value"
   ]
  },
  {
   "cell_type": "code",
   "execution_count": 2,
   "id": "0166f0cc-7d36-4169-9ada-4cf19c95a830",
   "metadata": {},
   "outputs": [],
   "source": [
    "Pv = 10000\n",
    "i = .1\n",
    "n = 1\n",
    "t = 1"
   ]
  },
  {
   "cell_type": "code",
   "execution_count": 3,
   "id": "87599758-6304-4f03-a6f7-4331f7d59be3",
   "metadata": {
    "tags": []
   },
   "outputs": [
    {
     "data": {
      "text/plain": [
       "11000.0"
      ]
     },
     "execution_count": 3,
     "metadata": {},
     "output_type": "execute_result"
    }
   ],
   "source": [
    "# Compounded Yearly\n",
    "get_future_value(10000,0.1,1,1)"
   ]
  },
  {
   "cell_type": "code",
   "execution_count": 4,
   "id": "77e6af2b-f1cb-44f9-9b14-a762985a75ef",
   "metadata": {},
   "outputs": [
    {
     "data": {
      "text/plain": [
       "11038.128906249995"
      ]
     },
     "execution_count": 4,
     "metadata": {},
     "output_type": "execute_result"
    }
   ],
   "source": [
    "# Compounded Quarterly\n",
    "get_future_value(10000,0.1,4,1)"
   ]
  },
  {
   "cell_type": "code",
   "execution_count": 5,
   "id": "5bd24263-e76e-46ae-a1d0-0d75ba84ed53",
   "metadata": {},
   "outputs": [
    {
     "data": {
      "text/plain": [
       "11051.557816162325"
      ]
     },
     "execution_count": 5,
     "metadata": {},
     "output_type": "execute_result"
    }
   ],
   "source": [
    "# Compounded Daily\n",
    "get_future_value(10000,0.1,365,1)"
   ]
  },
  {
   "cell_type": "code",
   "execution_count": 6,
   "id": "8b341acc-4bfe-49cb-a0ff-5811410c0ac7",
   "metadata": {},
   "outputs": [],
   "source": [
    "# Net Present Value\n",
    "# NPV = (sum of (cashflows / (1+i)^t)) - (inital investment amount)\n",
    "# i = disocunt rate (rate that could be earned by alternative investments)\n",
    "# t = numer of years"
   ]
  },
  {
   "cell_type": "code",
   "execution_count": 7,
   "id": "d8140d38-9e64-4c4b-964f-f1ea9e83e593",
   "metadata": {},
   "outputs": [],
   "source": [
    "# Ex. proposed project cost $1000 and return is:\n",
    "# year 1 - 400\n",
    "# year 2 - 400\n",
    "# year 3 - 400\n",
    "# year 4 - 400\n",
    "# is it worth it?\n",
    "# npv = (400/1+0.1)^1 + (400/1+0.1)^2 + ($400/1+0.1)^3 + ($400/1+0.1)^4"
   ]
  },
  {
   "cell_type": "code",
   "execution_count": 8,
   "id": "ea1703cc-3469-4d8a-9836-a50a2c480a6a",
   "metadata": {},
   "outputs": [
    {
     "name": "stdout",
     "output_type": "stream",
     "text": [
      "267.94617853971704\n"
     ]
    }
   ],
   "source": [
    "cash_flow = [400,400,400,400]\n",
    "interest = 0.1\n",
    "t = len(cash_flow)\n",
    "total_sum = 0\n",
    "initial_investment = 1000\n",
    "for i in range(0,len(cash_flow)):\n",
    "    num = cash_flow[i]\n",
    "    den = (1 + interest)**(i+1)\n",
    "    total_sum = total_sum + (num/den)\n",
    "    \n",
    "npv = total_sum - initial_investment\n",
    "print(npv)  "
   ]
  },
  {
   "cell_type": "code",
   "execution_count": 9,
   "id": "c89aae1d-c3e4-4d5f-a774-0c9053cba9d3",
   "metadata": {},
   "outputs": [],
   "source": [
    "def get_npv(cash_flow,interest,intital_investment):\n",
    "    total_sum = 0\n",
    "    for i in range(0,len(cash_flow)):\n",
    "        num = cash_flow[i]\n",
    "        den = (1 + interest)**(i+1)\n",
    "        total_sum = total_sum + (num/den)\n",
    "    \n",
    "    npv = total_sum - initial_investment\n",
    "    print(npv)"
   ]
  },
  {
   "cell_type": "code",
   "execution_count": 10,
   "id": "e6179b7f-91a4-4c12-9ba3-82cd2097a406",
   "metadata": {},
   "outputs": [
    {
     "name": "stdout",
     "output_type": "stream",
     "text": [
      "Requirement already satisfied: numpy_financial in /opt/anaconda3/envs/dev/lib/python3.7/site-packages (1.0.0)\n",
      "Requirement already satisfied: numpy>=1.15 in /opt/anaconda3/envs/dev/lib/python3.7/site-packages (from numpy_financial) (1.20.3)\n",
      "Note: you may need to restart the kernel to use updated packages.\n"
     ]
    }
   ],
   "source": [
    "pip install numpy_financial"
   ]
  },
  {
   "cell_type": "code",
   "execution_count": 11,
   "id": "dc52e175-c623-48bc-8c8c-041a363441d3",
   "metadata": {},
   "outputs": [],
   "source": [
    "import numpy as np"
   ]
  },
  {
   "cell_type": "code",
   "execution_count": 12,
   "id": "9772f42f-d5d6-46a2-a5c8-94f6650ac43d",
   "metadata": {},
   "outputs": [],
   "source": [
    "import numpy_financial as npf"
   ]
  },
  {
   "cell_type": "code",
   "execution_count": 13,
   "id": "ddf69cc7-1220-45fa-8438-e25288c22ea8",
   "metadata": {},
   "outputs": [],
   "source": [
    "intrest_rate = 0.1\n",
    "cash_flow = [-1000,400,400,400,400]"
   ]
  },
  {
   "cell_type": "code",
   "execution_count": 14,
   "id": "a0eb66e1-2ce7-4225-93a6-20fa371a5129",
   "metadata": {},
   "outputs": [
    {
     "data": {
      "text/plain": [
       "267.95"
      ]
     },
     "execution_count": 14,
     "metadata": {},
     "output_type": "execute_result"
    }
   ],
   "source": [
    "round(npf.npv(intrest_rate,cash_flow),2)"
   ]
  },
  {
   "cell_type": "code",
   "execution_count": 15,
   "id": "a3cf75a0-86c5-494e-ac55-73a7ce1a34e4",
   "metadata": {},
   "outputs": [],
   "source": [
    "# Importiting and Editing CSV and Text Files"
   ]
  },
  {
   "cell_type": "code",
   "execution_count": 22,
   "id": "81353dde-6ba8-4ed5-ad83-a86dbb9239b1",
   "metadata": {},
   "outputs": [],
   "source": [
    "# can find the path from dragging file into terminal\n",
    "path = \"/Users/alexszabo/Desktop/accounting.csv\""
   ]
  },
  {
   "cell_type": "code",
   "execution_count": 23,
   "id": "45b370c2-42a5-4a53-a662-28daf84c7c8b",
   "metadata": {},
   "outputs": [],
   "source": [
    "# importing pandas\n",
    "import pandas as pd"
   ]
  },
  {
   "cell_type": "code",
   "execution_count": 27,
   "id": "74c6c9ab-b509-44a9-a5fb-cd20f13c56ca",
   "metadata": {},
   "outputs": [
    {
     "data": {
      "text/plain": [
       "74166.66666666667"
      ]
     },
     "execution_count": 27,
     "metadata": {},
     "output_type": "execute_result"
    }
   ],
   "source": [
    "# reading the csv file with panda function\n",
    "df = pd.read_csv(path)\n",
    "df['Salary'].max()\n",
    "df['Salary'].min()\n",
    "df['Salary'].mean()"
   ]
  },
  {
   "cell_type": "code",
   "execution_count": 25,
   "id": "31c98473-a1ee-4389-901d-6b6ab4cc2dfc",
   "metadata": {},
   "outputs": [],
   "source": [
    "# the long way\n",
    "from pathlib import Path"
   ]
  },
  {
   "cell_type": "code",
   "execution_count": 20,
   "id": "df2241c5-9692-4ede-8822-9775e8f4c826",
   "metadata": {},
   "outputs": [],
   "source": [
    "import csv"
   ]
  },
  {
   "cell_type": "code",
   "execution_count": 30,
   "id": "f12a768b-6bf7-4f02-97e5-d476bbe45f60",
   "metadata": {},
   "outputs": [],
   "source": [
    "csvpath = Path(\"/Users/alexszabo/Desktop/accounting.csv\")"
   ]
  },
  {
   "cell_type": "code",
   "execution_count": 31,
   "id": "d7e5317c-d760-470a-93be-ecd7c772cb34",
   "metadata": {},
   "outputs": [
    {
     "name": "stdout",
     "output_type": "stream",
     "text": [
      "<class '_io.TextIOWrapper'>\n",
      "<class '_csv.reader'>\n",
      "['First Name', 'Last Name', 'SSN', 'Salary'] <---- HEADER\n",
      "['Tina', 'Fleming', '619-16-7988', '75000']\n",
      "['Erica', 'Shah', '164-51-7615', '40000']\n",
      "['Paula', 'Ortiz', '051-83-3290', '120000']\n",
      "['James', 'Hendricks', '776-83-2884', '90000']\n",
      "['Lauren', 'King', '197-94-2398', '60000']\n",
      "['David', 'Cowan', '252-92-1832', '35000']\n",
      "['Andrew', 'Burton', '296-23-6842', '150000']\n",
      "['Julian', 'Baker', '337-40-7543', '75000']\n",
      "['Scott', 'Castro', '399-46-5595', '50000']\n",
      "['Billy', 'Rodriguez', '014-18-2503', '65000']\n",
      "['Darrell', 'Leblanc', '005-82-7918', '40000']\n",
      "['David', 'Hammond', '561-17-6312', '90000']\n",
      "150000 35000 74166.67\n"
     ]
    }
   ],
   "source": [
    "# Initialize variable to hold salaries\n",
    "salaries = []\n",
    "\n",
    "# Initialize line_num variable\n",
    "line_num = 0\n",
    "\n",
    "# Open the input path as a file object\n",
    "with open(csvpath, 'r') as csvfile:\n",
    "\n",
    "    # Print the datatype of the file object\n",
    "    print(type(csvfile))\n",
    "\n",
    "    # Pass in the csv file to the csv.reader() function\n",
    "    # (with ',' as the delmiter/separator) and return the csvreader object\n",
    "    csvreader = csv.reader(csvfile, delimiter=',')\n",
    "    # Print the datatype of the csvreader\n",
    "    print(type(csvreader))\n",
    "\n",
    "    # Go to the next row from the start of the file\n",
    "    # (which is often the first row/header) and iterate line_num by 1\n",
    "    header = next(csvreader)\n",
    "    line_num += 1\n",
    "    # Print the header\n",
    "    print(f\"{header} <---- HEADER\")\n",
    "\n",
    "    # Read each row of data after the header\n",
    "    for row in csvreader:\n",
    "        # Print the row\n",
    "        print(row)\n",
    "        # Set salary variable equal to the value in the 4th column of each row\n",
    "        salary = int(row[3])\n",
    "        # Append the row salary value to the list of salaries\n",
    "        salaries.append(salary)\n",
    "\n",
    "# Initialize metric variables\n",
    "max_salary = 0\n",
    "min_salary = 0\n",
    "avg_salary = 0\n",
    "total_salary = 0\n",
    "count_salary = 0\n",
    "# Calculate the max, mean, and average of the list of salaries\n",
    "for salary in salaries:\n",
    "\n",
    "    # Sum the total and count variables\n",
    "    total_salary += salary\n",
    "    count_salary += 1\n",
    "\n",
    "    # Logic to determine min and max salaries\n",
    "    if min_salary == 0:\n",
    "        min_salary = salary\n",
    "    elif salary > max_salary:\n",
    "        max_salary = salary\n",
    "    elif salary < min_salary:\n",
    "        min_salary = salary\n",
    "\n",
    "# Calculate the average salary, round to the nearest 2 decimal places\n",
    "avg_salary = round(total_salary / count_salary, 2)\n",
    "\n",
    "# Print the metrics\n",
    "print(max_salary, min_salary, avg_salary)"
   ]
  },
  {
   "cell_type": "code",
   "execution_count": 35,
   "id": "7df33535-c5a6-4646-91d0-9807d5fb51b6",
   "metadata": {},
   "outputs": [
    {
     "data": {
      "text/plain": [
       "(150000, 35000, 74166.66666666667)"
      ]
     },
     "execution_count": 35,
     "metadata": {},
     "output_type": "execute_result"
    }
   ],
   "source": [
    "df['Salary'].max(),df['Salary'].min(),df['Salary'].mean()"
   ]
  },
  {
   "cell_type": "code",
   "execution_count": 36,
   "id": "bd1c12ab-1455-4c35-b78c-52b8f7f2c592",
   "metadata": {},
   "outputs": [],
   "source": [
    "# Set the output header\n",
    "header = [\"Max_Salary\", \"Min_Salary\", \"Avg_Salary\"]\n",
    "# Create a list of metrics\n",
    "metrics = [max_salary, min_salary, avg_salary]\n",
    "\n",
    "# Set the output file path\n",
    "output_path = Path('output.csv')\n",
    "\n",
    "# Open the output path as a file object\n",
    "with open(output_path, 'w') as csvfile:\n",
    "    # Set the file object as a csvwriter object\n",
    "    csvwriter = csv.writer(csvfile, delimiter=',')\n",
    "    # Write the header to the output file\n",
    "    csvwriter.writerow(header)\n",
    "    # Write the list of metrics to the output file\n",
    "    csvwriter.writerow(metrics)"
   ]
  },
  {
   "cell_type": "code",
   "execution_count": 38,
   "id": "5f2477c1-9557-49ff-9908-412899c3201f",
   "metadata": {},
   "outputs": [],
   "source": [
    "df['New_Column'] = 'Hello'"
   ]
  },
  {
   "cell_type": "code",
   "execution_count": 39,
   "id": "a6386847-7b9b-4303-a6c0-85befadb38a8",
   "metadata": {},
   "outputs": [
    {
     "data": {
      "text/html": [
       "<div>\n",
       "<style scoped>\n",
       "    .dataframe tbody tr th:only-of-type {\n",
       "        vertical-align: middle;\n",
       "    }\n",
       "\n",
       "    .dataframe tbody tr th {\n",
       "        vertical-align: top;\n",
       "    }\n",
       "\n",
       "    .dataframe thead th {\n",
       "        text-align: right;\n",
       "    }\n",
       "</style>\n",
       "<table border=\"1\" class=\"dataframe\">\n",
       "  <thead>\n",
       "    <tr style=\"text-align: right;\">\n",
       "      <th></th>\n",
       "      <th>First Name</th>\n",
       "      <th>Last Name</th>\n",
       "      <th>SSN</th>\n",
       "      <th>Salary</th>\n",
       "      <th>New_Column</th>\n",
       "    </tr>\n",
       "  </thead>\n",
       "  <tbody>\n",
       "    <tr>\n",
       "      <th>0</th>\n",
       "      <td>Tina</td>\n",
       "      <td>Fleming</td>\n",
       "      <td>619-16-7988</td>\n",
       "      <td>75000</td>\n",
       "      <td>Hello</td>\n",
       "    </tr>\n",
       "    <tr>\n",
       "      <th>1</th>\n",
       "      <td>Erica</td>\n",
       "      <td>Shah</td>\n",
       "      <td>164-51-7615</td>\n",
       "      <td>40000</td>\n",
       "      <td>Hello</td>\n",
       "    </tr>\n",
       "    <tr>\n",
       "      <th>2</th>\n",
       "      <td>Paula</td>\n",
       "      <td>Ortiz</td>\n",
       "      <td>051-83-3290</td>\n",
       "      <td>120000</td>\n",
       "      <td>Hello</td>\n",
       "    </tr>\n",
       "    <tr>\n",
       "      <th>3</th>\n",
       "      <td>James</td>\n",
       "      <td>Hendricks</td>\n",
       "      <td>776-83-2884</td>\n",
       "      <td>90000</td>\n",
       "      <td>Hello</td>\n",
       "    </tr>\n",
       "    <tr>\n",
       "      <th>4</th>\n",
       "      <td>Lauren</td>\n",
       "      <td>King</td>\n",
       "      <td>197-94-2398</td>\n",
       "      <td>60000</td>\n",
       "      <td>Hello</td>\n",
       "    </tr>\n",
       "    <tr>\n",
       "      <th>5</th>\n",
       "      <td>David</td>\n",
       "      <td>Cowan</td>\n",
       "      <td>252-92-1832</td>\n",
       "      <td>35000</td>\n",
       "      <td>Hello</td>\n",
       "    </tr>\n",
       "    <tr>\n",
       "      <th>6</th>\n",
       "      <td>Andrew</td>\n",
       "      <td>Burton</td>\n",
       "      <td>296-23-6842</td>\n",
       "      <td>150000</td>\n",
       "      <td>Hello</td>\n",
       "    </tr>\n",
       "    <tr>\n",
       "      <th>7</th>\n",
       "      <td>Julian</td>\n",
       "      <td>Baker</td>\n",
       "      <td>337-40-7543</td>\n",
       "      <td>75000</td>\n",
       "      <td>Hello</td>\n",
       "    </tr>\n",
       "    <tr>\n",
       "      <th>8</th>\n",
       "      <td>Scott</td>\n",
       "      <td>Castro</td>\n",
       "      <td>399-46-5595</td>\n",
       "      <td>50000</td>\n",
       "      <td>Hello</td>\n",
       "    </tr>\n",
       "    <tr>\n",
       "      <th>9</th>\n",
       "      <td>Billy</td>\n",
       "      <td>Rodriguez</td>\n",
       "      <td>014-18-2503</td>\n",
       "      <td>65000</td>\n",
       "      <td>Hello</td>\n",
       "    </tr>\n",
       "    <tr>\n",
       "      <th>10</th>\n",
       "      <td>Darrell</td>\n",
       "      <td>Leblanc</td>\n",
       "      <td>005-82-7918</td>\n",
       "      <td>40000</td>\n",
       "      <td>Hello</td>\n",
       "    </tr>\n",
       "    <tr>\n",
       "      <th>11</th>\n",
       "      <td>David</td>\n",
       "      <td>Hammond</td>\n",
       "      <td>561-17-6312</td>\n",
       "      <td>90000</td>\n",
       "      <td>Hello</td>\n",
       "    </tr>\n",
       "  </tbody>\n",
       "</table>\n",
       "</div>"
      ],
      "text/plain": [
       "   First Name  Last Name          SSN  Salary New_Column\n",
       "0        Tina    Fleming  619-16-7988   75000      Hello\n",
       "1       Erica       Shah  164-51-7615   40000      Hello\n",
       "2       Paula      Ortiz  051-83-3290  120000      Hello\n",
       "3       James  Hendricks  776-83-2884   90000      Hello\n",
       "4      Lauren       King  197-94-2398   60000      Hello\n",
       "5       David      Cowan  252-92-1832   35000      Hello\n",
       "6      Andrew     Burton  296-23-6842  150000      Hello\n",
       "7      Julian      Baker  337-40-7543   75000      Hello\n",
       "8       Scott     Castro  399-46-5595   50000      Hello\n",
       "9       Billy  Rodriguez  014-18-2503   65000      Hello\n",
       "10    Darrell    Leblanc  005-82-7918   40000      Hello\n",
       "11      David    Hammond  561-17-6312   90000      Hello"
      ]
     },
     "execution_count": 39,
     "metadata": {},
     "output_type": "execute_result"
    }
   ],
   "source": [
    "df"
   ]
  },
  {
   "cell_type": "code",
   "execution_count": 40,
   "id": "b6c5fc9d-ba3f-470e-9cdd-eb0f2cdcdf59",
   "metadata": {},
   "outputs": [],
   "source": [
    "df.to_csv('easy.csv')"
   ]
  },
  {
   "cell_type": "code",
   "execution_count": 43,
   "id": "c3dd401c-7456-4bd0-84d1-bb9f02c2500e",
   "metadata": {},
   "outputs": [],
   "source": [
    "path2 = \"/Users/alexszabo/Desktop/input.txt\""
   ]
  },
  {
   "cell_type": "code",
   "execution_count": 45,
   "id": "bb6620c6-f899-4867-802a-253fcefdba19",
   "metadata": {},
   "outputs": [
    {
     "data": {
      "text/plain": [
       "'\\\\Users\\\\alexszabo\\\\Desktop\\\\input.txt'"
      ]
     },
     "execution_count": 45,
     "metadata": {},
     "output_type": "execute_result"
    }
   ],
   "source": [
    "path2.replace('/','\\\\')"
   ]
  },
  {
   "cell_type": "code",
   "execution_count": 46,
   "id": "85fa698d-7ffd-4d06-a0cc-ee702beb56cd",
   "metadata": {},
   "outputs": [
    {
     "data": {
      "text/plain": [
       "'/Users/alexszabo/Desktop/input.txt'"
      ]
     },
     "execution_count": 46,
     "metadata": {},
     "output_type": "execute_result"
    }
   ],
   "source": [
    "path2.replace('\\\\','/')"
   ]
  },
  {
   "cell_type": "code",
   "execution_count": 49,
   "id": "d63d67ff-889f-428b-a437-b996b7cd626d",
   "metadata": {},
   "outputs": [],
   "source": [
    "# imports terminal functions\n",
    "import os"
   ]
  },
  {
   "cell_type": "code",
   "execution_count": 50,
   "id": "0b67878d-1774-4cfb-8e65-fd73a7264de9",
   "metadata": {},
   "outputs": [
    {
     "data": {
      "text/plain": [
       "'/Users/alexszabo/Jupyter-Workspace/Python 3'"
      ]
     },
     "execution_count": 50,
     "metadata": {},
     "output_type": "execute_result"
    }
   ],
   "source": [
    "# tells you where you are (directory)\n",
    "os.getcwd()"
   ]
  },
  {
   "cell_type": "code",
   "execution_count": 52,
   "id": "6408cc73-1904-4888-bc37-4c7348d05d7a",
   "metadata": {},
   "outputs": [
    {
     "data": {
      "text/plain": [
       "['Activities.ipynb',\n",
       " 'easy.csv',\n",
       " 'output.csv',\n",
       " 'Python 3 Notes.ipynb',\n",
       " '.ipynb_checkpoints']"
      ]
     },
     "execution_count": 52,
     "metadata": {},
     "output_type": "execute_result"
    }
   ],
   "source": [
    "# shows all files in dir\n",
    "os.listdir()"
   ]
  },
  {
   "cell_type": "code",
   "execution_count": 54,
   "id": "e156bbe6-7f77-4de7-a936-529fe26992de",
   "metadata": {},
   "outputs": [
    {
     "name": "stdout",
     "output_type": "stream",
     "text": [
      "/Users/alexszabo/Jupyter-Workspace/Python 3\n"
     ]
    }
   ],
   "source": [
    "# terminal commands using !\n",
    "!pwd"
   ]
  },
  {
   "cell_type": "code",
   "execution_count": 56,
   "id": "b245fbb7-0eb7-4f06-85fe-c2ab4716b9ff",
   "metadata": {},
   "outputs": [
    {
     "name": "stdout",
     "output_type": "stream",
     "text": [
      "Current Working Directory: /Users/alexszabo/Jupyter-Workspace/Python 3\n",
      "List of Best Actors:\n",
      "Nicolas Cage\n",
      "Betty White\n",
      "Gary Busey\n"
     ]
    }
   ],
   "source": [
    "# Import from the pathlib library, the main class Path\n",
    "from pathlib import Path\n",
    "\n",
    "# Check the current directory where the Python program is executing from\n",
    "print(f\"Current Working Directory: {Path.cwd()}\")\n",
    "\n",
    "# Set the path normally (Windows)\n",
    "# Set string raw literal due to backslashes acting as escape characters for\n",
    "# the Windows file = r'..\\Resources\\input.txt'\n",
    "\n",
    "# Set the path normally (Unix)\n",
    "#file = '../Resources/input.txt'\n",
    "\n",
    "# Set the input file path irregardless of OS\n",
    "filepath = path2\n",
    "\n",
    "# Open the file in \"read\" mode ('r') and store the\n",
    "# contents in the variable \"text\"\n",
    "with open(filepath, 'r') as file:\n",
    "    # Store all of the text from the file inside a variable called \"text\"\n",
    "    # and print the contexts of the text file\n",
    "    text = file.read()\n",
    "    print(text)\n",
    "\n",
    "    # Parse and print the file line by line. The print statement adds an\n",
    "    # extra line break to each line in the output.\n",
    "    line_num = 1\n",
    "    for line in file:\n",
    "        print(f\"line {line_num}: {line}\")\n",
    "        line_num += 1\n",
    "\n",
    "# Set the output file path\n",
    "output_path = Path(\"output.txt\")\n",
    "\n",
    "# Open the output_path as a file object in \"write\" mode ('w')\n",
    "# Write a header line and write the contents of 'text' to the file\n",
    "with open(output_path, 'w') as file:\n",
    "    file.write(\"This is an output file.\\n\")\n",
    "    file.write(text)"
   ]
  },
  {
   "cell_type": "code",
   "execution_count": null,
   "id": "cfc56761-af88-4017-bad5-6689aaf18729",
   "metadata": {},
   "outputs": [],
   "source": []
  }
 ],
 "metadata": {
  "kernelspec": {
   "display_name": "Python 3 (ipykernel)",
   "language": "python",
   "name": "python3"
  },
  "language_info": {
   "codemirror_mode": {
    "name": "ipython",
    "version": 3
   },
   "file_extension": ".py",
   "mimetype": "text/x-python",
   "name": "python",
   "nbconvert_exporter": "python",
   "pygments_lexer": "ipython3",
   "version": "3.7.11"
  }
 },
 "nbformat": 4,
 "nbformat_minor": 5
}
