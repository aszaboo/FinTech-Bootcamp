{
 "cells": [
  {
   "cell_type": "code",
   "execution_count": null,
   "id": "7327cecd-7b6d-4fb0-9fbe-539ae0aea76f",
   "metadata": {},
   "outputs": [],
   "source": [
    "# Activity 1 Sugar, Flour, Butter!"
   ]
  },
  {
   "cell_type": "code",
   "execution_count": null,
   "id": "ac4b856a-dec7-4c58-9c16-45b79a5472a8",
   "metadata": {},
   "outputs": [],
   "source": [
    "# Create a list of groceries\n",
    "groceries = ['Water','Butter','Eggs','Apples','Cinnamon','Sugar','Apples']"
   ]
  },
  {
   "cell_type": "code",
   "execution_count": null,
   "id": "60bcc657-a5fc-4cff-a3f1-184988306645",
   "metadata": {},
   "outputs": [],
   "source": [
    "# Find the first two items on the list\n",
    "groceries[:2]"
   ]
  },
  {
   "cell_type": "code",
   "execution_count": null,
   "id": "2a72db44-ea74-4f59-84f8-0912e6f1fd9e",
   "metadata": {},
   "outputs": [],
   "source": [
    "# Find the last five items on the list\n",
    "groceries[2:]\n",
    "groceries[-5:]"
   ]
  },
  {
   "cell_type": "code",
   "execution_count": null,
   "id": "104f2f5d-52ca-44a7-80f2-9e2fe72e9df4",
   "metadata": {},
   "outputs": [],
   "source": [
    "# Find every other item on the list, starting from the second item\n",
    "groceries[1::2]"
   ]
  },
  {
   "cell_type": "code",
   "execution_count": null,
   "id": "85d7ef40-8f7e-40df-9954-068806c1b5d6",
   "metadata": {},
   "outputs": [],
   "source": [
    "# Add an element to the end of the list\n",
    "groceries.insert(0,'Brown Suga')"
   ]
  },
  {
   "cell_type": "code",
   "execution_count": null,
   "id": "1d2d1820-a184-4046-8662-af37959aad11",
   "metadata": {},
   "outputs": [],
   "source": [
    "groceries"
   ]
  },
  {
   "cell_type": "code",
   "execution_count": null,
   "id": "34e63317-5460-4edb-87cd-94f0b4588cce",
   "metadata": {},
   "outputs": [],
   "source": [
    "#Changes a specified element within the list at the given index\n",
    "groceries[-1] = 'Peaches'"
   ]
  },
  {
   "cell_type": "code",
   "execution_count": null,
   "id": "542221a4-7893-4372-aec4-fc0ae3f9d396",
   "metadata": {},
   "outputs": [],
   "source": [
    "groceries"
   ]
  },
  {
   "cell_type": "code",
   "execution_count": null,
   "id": "8cbc2aa2-0fb7-4ed0-9db0-b3f7d8c01ed5",
   "metadata": {},
   "outputs": [],
   "source": [
    "# Calculate how many items you have in the list\n",
    "len(groceries)"
   ]
  },
  {
   "cell_type": "code",
   "execution_count": null,
   "id": "6bb9a44d-6508-4ffa-9699-412cb8477e58",
   "metadata": {},
   "outputs": [],
   "source": [
    "# Activity 2 Trading Log"
   ]
  },
  {
   "cell_type": "code",
   "execution_count": null,
   "id": "399bc9ce-57a0-4647-9872-29ce226366ed",
   "metadata": {},
   "outputs": [],
   "source": [
    "# List of trading profits/losses\n",
    "trading_pnl = [ -224,  352, 252, 354, -544,\n",
    "                -650,   56, 123, -43,  254,\n",
    "                 325, -123,  47, 321,  123,\n",
    "                 133, -151, 613, 232, -311 ]"
   ]
  },
  {
   "cell_type": "code",
   "execution_count": 102,
   "id": "14287577-d218-4942-97e7-06e5f443f094",
   "metadata": {},
   "outputs": [],
   "source": [
    "# Initialize the metric variables\n",
    "count = 0\n",
    "total = 0\n",
    "average = 0\n",
    "# Initialize lists to hold profitable and unprofitable day profits/losses\n",
    "profitable_dayz = []\n",
    "unprofitable_dayz = []"
   ]
  },
  {
   "cell_type": "code",
   "execution_count": null,
   "id": "638f871b-59f3-407d-8af8-26d61a1b2ce9",
   "metadata": {},
   "outputs": [],
   "source": [
    "# Number of trading days\n",
    "count = len(trading_pnl)\n",
    "# Biggest Loss and Gain\n",
    "biggest_loss = min(trading_pnl)\n",
    "biggest_gain = max(trading_pnl)"
   ]
  },
  {
   "cell_type": "code",
   "execution_count": 106,
   "id": "499483ee-6712-446a-b38c-cf26fc40d0d5",
   "metadata": {},
   "outputs": [
    {
     "name": "stdout",
     "output_type": "stream",
     "text": [
      "[352, 252, 354, 56, 123, 254, 325, 47, 321, 123, 133, 613, 232]\n",
      "[-224, -544, -650, -43, -123, -151, -311]\n"
     ]
    }
   ],
   "source": [
    "# Iterate over each element of the list\n",
    "for day_pnl in trading_pnl:\n",
    "    if day_pnl >= 0:\n",
    "        profitable_dayz.append(day_pnl)\n",
    "    elif day_pnl < 0:\n",
    "        unprofitable_dayz.append(day_pnl)\n",
    "\n",
    "print(profitable_dayz)\n",
    "print(unprofitable_dayz)"
   ]
  },
  {
   "cell_type": "code",
   "execution_count": 136,
   "id": "c5b15f74-42bf-4ca8-ba76-3fb7022d9aec",
   "metadata": {},
   "outputs": [],
   "source": [
    "# Profits and losses\n",
    "total_profit = profitable_dayz+unprofitable_dayz\n",
    "profit = sum(profitable_dayz)\n",
    "loss = sum(unprofitable_dayz)\n",
    "# Number of profitable days and unprofitable days\n",
    "count_profitable = len(profitable_dayz)\n",
    "count_unprofitiable = len(unprofitable_dayz)"
   ]
  },
  {
   "cell_type": "code",
   "execution_count": 137,
   "id": "cacf5aee-a9f0-4dd4-9f5c-a28f415feff5",
   "metadata": {},
   "outputs": [],
   "source": [
    "# Percent Proftiable Days\n",
    "percent_profit = (count_profitable / len(trading_pnl)) * 100\n",
    "avg_change = (profit+loss) / len(trading_pnl)"
   ]
  },
  {
   "cell_type": "code",
   "execution_count": 142,
   "id": "10ec4d02-cbfd-4664-be06-ebc5da9d5baa",
   "metadata": {},
   "outputs": [
    {
     "name": "stdout",
     "output_type": "stream",
     "text": [
      "Your biggest loss was $-650.00.\n",
      "Your biggest gain was $613.00.\n",
      "Your total gains were $3185.00.\n",
      "Your total losses were $-2046.00.\n",
      "Your average gain to loss was $56.95.\n",
      "You were profitable 13 days.\n",
      "You were unprofitable 7 days.\n",
      "You were profitable 65.00% of days.\n",
      "Your net total was $1139.\n"
     ]
    }
   ],
   "source": [
    "# Print out the summary statistics\n",
    "print(f\"Your biggest loss was ${biggest_loss:.2f}.\")\n",
    "print(f\"Your biggest gain was ${biggest_gain:.2f}.\")\n",
    "print(f\"Your total gains were ${profit:.2f}.\")\n",
    "print(f\"Your total losses were ${loss:.2f}.\")\n",
    "print(f\"Your average gain to loss was ${avg_change:.2f}.\")\n",
    "print(f\"You were profitable {count_profitable} days.\")\n",
    "print(f\"You were unprofitable {count_unprofitiable} days.\")\n",
    "print(f\"You were profitable {percent_profit:.2f}% of days.\")\n",
    "print(f\"Your net total was ${sum(profitable_dayz+unprofitable_dayz)}.\")"
   ]
  },
  {
   "cell_type": "code",
   "execution_count": 143,
   "id": "3c47dca2-069a-4eb7-b17c-87dd7b6df4a0",
   "metadata": {},
   "outputs": [],
   "source": [
    "# Activity 3 Market Capitalization"
   ]
  },
  {
   "cell_type": "code",
   "execution_count": 171,
   "id": "797dd0a4-ff4d-4b3b-9741-7fc4513d23fd",
   "metadata": {},
   "outputs": [],
   "source": [
    "# Initialize a dictionary of banks and market caps (in billions)\n",
    "banks = {\n",
    "    \"Bank Name\": \"Market Cap\",\n",
    "    \"National Bank of Canada\": 327,\n",
    "    \"Toronto-Dominion Bank\": 302, \n",
    "    \"Royal Bank of Canada\": 173,\n",
    "    \"Wells Fargo\": 273,\n",
    "    \"Goldman Sachs\": 87,\n",
    "    \"Morgan Stanley\": 72,\n",
    "    \"Canadian Imperial Bank of Commerce\": 83,\n",
    "    \"TD Bank\": 108,\"Bank of Montreal\": 67,\n",
    "    \"Capital One\": 47,\"FNB Corporation\": 4,\n",
    "    \"Laurentian Bank of Canada\": 3,\n",
    "    \"Ally Financial\": 12,\n",
    "    \"Montreal Trust Company\": 145,\n",
    "    \"Canadian Western Bank\": .97\n",
    "}"
   ]
  },
  {
   "cell_type": "code",
   "execution_count": 172,
   "id": "6ceca234-39c1-439d-bb2e-27bca2b647b3",
   "metadata": {},
   "outputs": [],
   "source": [
    "# Change the market cap for 'Royal Bank of Canada'\n",
    "# define the key you want to switch and then set the value equal to the desired new value\n",
    "banks[\"Royal Bank of Canada\"] = 170"
   ]
  },
  {
   "cell_type": "code",
   "execution_count": 173,
   "id": "85c8b8a1-7a81-41cd-9cc9-cde2431f766c",
   "metadata": {},
   "outputs": [
    {
     "data": {
      "text/plain": [
       "170"
      ]
     },
     "execution_count": 173,
     "metadata": {},
     "output_type": "execute_result"
    }
   ],
   "source": [
    "banks[\"Royal Bank of Canada\"]"
   ]
  },
  {
   "cell_type": "code",
   "execution_count": 174,
   "id": "55026841-698c-4d95-8865-2e8c1ee1dca6",
   "metadata": {},
   "outputs": [],
   "source": [
    "# Add a new bank and market cap pair\n",
    "# dict[\"New Key Name\"] = Value for key\n",
    "banks[\"Scotiabank\"] = 33"
   ]
  },
  {
   "cell_type": "code",
   "execution_count": 175,
   "id": "bd0029bc-4d26-49be-92c9-c7877fe71704",
   "metadata": {},
   "outputs": [
    {
     "data": {
      "text/plain": [
       "{'Bank Name': 'Market Cap',\n",
       " 'National Bank of Canada': 327,\n",
       " 'Toronto-Dominion Bank': 302,\n",
       " 'Royal Bank of Canada': 170,\n",
       " 'Wells Fargo': 273,\n",
       " 'Goldman Sachs': 87,\n",
       " 'Morgan Stanley': 72,\n",
       " 'Canadian Imperial Bank of Commerce': 83,\n",
       " 'TD Bank': 108,\n",
       " 'Bank of Montreal': 67,\n",
       " 'Capital One': 47,\n",
       " 'FNB Corporation': 4,\n",
       " 'Laurentian Bank of Canada': 3,\n",
       " 'Ally Financial': 12,\n",
       " 'Montreal Trust Company': 145,\n",
       " 'Canadian Western Bank': 0.97,\n",
       " 'Scotiabank': 33}"
      ]
     },
     "execution_count": 175,
     "metadata": {},
     "output_type": "execute_result"
    }
   ],
   "source": [
    "banks"
   ]
  },
  {
   "cell_type": "code",
   "execution_count": 176,
   "id": "9af894d2-5c96-4a6d-8d8a-8586fe1398ec",
   "metadata": {
    "tags": []
   },
   "outputs": [],
   "source": [
    "# Remove a bank from the dictionary\n",
    "# del a_dictionary[key]\n",
    "del banks[\"Montreal Trust Company\"]"
   ]
  },
  {
   "cell_type": "code",
   "execution_count": 177,
   "id": "07a4bb02-53fa-4d2c-8c37-80c7fb5fd6a0",
   "metadata": {},
   "outputs": [
    {
     "data": {
      "text/plain": [
       "{'Bank Name': 'Market Cap',\n",
       " 'National Bank of Canada': 327,\n",
       " 'Toronto-Dominion Bank': 302,\n",
       " 'Royal Bank of Canada': 170,\n",
       " 'Wells Fargo': 273,\n",
       " 'Goldman Sachs': 87,\n",
       " 'Morgan Stanley': 72,\n",
       " 'Canadian Imperial Bank of Commerce': 83,\n",
       " 'TD Bank': 108,\n",
       " 'Bank of Montreal': 67,\n",
       " 'Capital One': 47,\n",
       " 'FNB Corporation': 4,\n",
       " 'Laurentian Bank of Canada': 3,\n",
       " 'Ally Financial': 12,\n",
       " 'Canadian Western Bank': 0.97,\n",
       " 'Scotiabank': 33}"
      ]
     },
     "execution_count": 177,
     "metadata": {},
     "output_type": "execute_result"
    }
   ],
   "source": [
    "# Print the modified dictionary\n",
    "banks"
   ]
  },
  {
   "cell_type": "code",
   "execution_count": 297,
   "id": "970b8460-f65a-43ee-bf1a-5b1a843c43ad",
   "metadata": {},
   "outputs": [],
   "source": [
    "# Chellenge groups banks by their capilaization tier\n",
    "# iterate over the key-value pairs in the banks dictionary and calculate the following:\n",
    "total_market_capitalization = sum(banks.values())\n",
    "total_number_of_banks = len(banks.keys())\n",
    "average_market_capitalization = round(total_market_capitalization / total_number_of_banks,2)\n",
    "largest_bank = max([i for i in banks.values()]) \n",
    "smallest_bank = min([i for i in banks.values()])"
   ]
  },
  {
   "cell_type": "code",
   "execution_count": 324,
   "id": "3e37a5fd-0e13-4386-977c-daf4da5ad3b2",
   "metadata": {},
   "outputs": [],
   "source": [
    "# sort banks by market cap\n",
    "# defining lists for market cap\n",
    "mega_caps = []\n",
    "large_caps = []\n",
    "mid_caps = []\n",
    "small_caps = []\n",
    "\n",
    "# adding the names of banks to the sub catagory based on size\n",
    "def bank_size():\n",
    "    for i in banks.items:\n",
    "        market_cap = banks.value(i)\n",
    "        bank_name = banks.key(i)\n",
    "        if market_cap >= 300:\n",
    "            mega_cap.append(bank_name)\n",
    "        elif market_cap >= 10 and market_cap < 300:\n",
    "            large_cap.append(bank_name)\n",
    "        elif market_cap >= 2 and market_cap < 10:\n",
    "            mid_cap.append(bank_name)\n",
    "        elif market_cap < 2:\n",
    "            small_cap.append(bank_name)"
   ]
  },
  {
   "cell_type": "code",
   "execution_count": 325,
   "id": "5b71b235-4494-4c7a-b22d-a77e223610c6",
   "metadata": {},
   "outputs": [
    {
     "name": "stdout",
     "output_type": "stream",
     "text": [
      "1588.97\n",
      "15\n",
      "105.93\n",
      "327\n",
      "0.97\n",
      "------------------------------------------------\n",
      "Mega Cap Banks: []\n",
      "Large Cap Banks: []\n",
      "Mid Cap Banks: []\n",
      "Small Cap Banks: []\n",
      "\n"
     ]
    }
   ],
   "source": [
    "# printing the final results\n",
    "print(total_market_capitalization)\n",
    "print(total_number_of_banks)\n",
    "print(average_market_capitalization)\n",
    "print(largest_bank)\n",
    "print(smallest_bank)\n",
    "print(\"------------------------------------------------\")\n",
    "print(f\"Mega Cap Banks: {mega_caps}\")\n",
    "print(f\"Large Cap Banks: {large_caps}\")\n",
    "print(f\"Mid Cap Banks: {mid_caps}\")\n",
    "print(f\"Small Cap Banks: {small_caps}\")\n",
    "print()"
   ]
  },
  {
   "cell_type": "code",
   "execution_count": 330,
   "id": "087a61c6-06e0-4628-8f1a-3adf68ef3d30",
   "metadata": {},
   "outputs": [],
   "source": [
    "# Activity 4 Weekly Gains"
   ]
  },
  {
   "cell_type": "code",
   "execution_count": 381,
   "id": "5091ea57-0a79-41cc-9101-7befabb344ef",
   "metadata": {},
   "outputs": [],
   "source": [
    "# Dictionary of List of Lists\n",
    "# Key: Stock Ticker | Value: List of Records\n",
    "# Record: Date, Open, High, Low, Close\n",
    "historical_stock_data = {\n",
    "    \"AAPL\": [\n",
    "        [\"04-17-2019\", 199.54, 203.38, 198.61, 203.13],\n",
    "        [\"04-18-2019\", 199.46, 201.37, 198.56, 199.25],\n",
    "        [\"04-19-2019\", 198.58, 199.85, 198.01, 199.23],\n",
    "        [\"04-20-2019\", 199.20, 200.14, 196.21, 198.87],\n",
    "\n",
    "    ],\n",
    "    \"MU\": [\n",
    "        [\"04-17-2019\", 43.20, 43.53, 42.79, 43.40],\n",
    "        [\"04-18-2019\", 43.36, 44.05, 42.76, 43.15],\n",
    "        [\"04-19-2019\", 42.26, 42.93, 42.08, 42.76],\n",
    "        [\"04-20-2019\", 42.17, 42.23, 41.20, 41.82],\n",
    "\n",
    "    ],\n",
    "    \"AMD\": [\n",
    "        [\"04-17-2019\", 27.60, 27.88, 27.34, 27.68],\n",
    "        [\"04-18-2019\", 28.21, 28.27, 27.22, 27.49],\n",
    "        [\"04-19-2019\", 27.72, 28.18, 27.49, 27.93],\n",
    "        [\"04-20-2019\", 27.80, 27.84, 26.96, 27.33],\n",
    "\n",
    "    ],\n",
    "    \"TWTR\": [\n",
    "        [\"04-17-2019\", 34.67, 34.86, 34.32, 34.40],\n",
    "        [\"04-18-2019\", 34.73, 34.90, 34.20, 34.48],\n",
    "        [\"04-19-2019\", 34.84, 34.99, 34.23, 34.46],\n",
    "        [\"04-20-2019\", 34.38, 35.03, 34.34, 34.71],\n",
    "\n",
    "    ]\n",
    "}\n",
    "\n",
    "# Dictionary of Dictionary\n",
    "# Key: Stock Ticker | Value: Dictionary\n",
    "new_records = {\n",
    "    \"AAPL\": {\n",
    "        \"date\": \"04-21-2019\",\n",
    "        \"open\": 200.85,\n",
    "        \"high\": 201.00,\n",
    "        \"low\": 198.44,\n",
    "        \"close\": 198.95\n",
    "    },\n",
    "    \"MU\": {\n",
    "        \"date\": \"04-21-2019\",\n",
    "        \"open\": 42.85,\n",
    "        \"high\": 43.20,\n",
    "        \"low\": 41.81,\n",
    "        \"close\": 42.01\n",
    "    },\n",
    "    \"AMD\": {\n",
    "        \"date\": \"04-21-2019\",\n",
    "        \"open\": 28.21,\n",
    "        \"high\": 28.38,\n",
    "        \"low\": 27.66,\n",
    "        \"close\": 27.85\n",
    "    },\n",
    "    \"TWTR\": {\n",
    "        \"date\": \"04-21-2019\",\n",
    "        \"open\": 34.67,\n",
    "        \"high\": 34.83,\n",
    "        \"low\": 34.11,\n",
    "        \"close\": 34.37\n",
    "    }\n",
    "}"
   ]
  },
  {
   "cell_type": "code",
   "execution_count": 382,
   "id": "0455ab72-13d8-4e94-9bcf-5e6eb5d42c26",
   "metadata": {},
   "outputs": [],
   "source": [
    "# Set each ticker's new record: date, open, high, low, close\n",
    "aapl_new_record = [new_records['AAPL']['date'],new_records['AAPL']['open'],new_records['AAPL']['high'],new_records['AAPL']['low'],new_records['AAPL']['close']]\n",
    "mu_new_record = [new_records['MU']['date'],new_records['MU']['open'],new_records['MU']['high'],new_records['MU']['low'],new_records['MU']['close']]\n",
    "amd_new_record = [new_records['AMD']['date'],new_records['AMD']['open'],new_records['AMD']['high'],new_records['AMD']['low'],new_records['AMD']['close']]\n",
    "twtr_new_record = [new_records['TWTR']['date'],new_records['TWTR']['open'],new_records['TWTR']['high'],new_records['TWTR']['low'],new_records['TWTR']['close']]"
   ]
  },
  {
   "cell_type": "code",
   "execution_count": 383,
   "id": "255c6f82-c268-4e59-930c-deaf590ddde9",
   "metadata": {},
   "outputs": [],
   "source": [
    "# Choice 2: Add a new round of entries via for loop to the 'historical_stock_data' dictionary\n",
    "for ticker, ticker_data in new_records.items():\n",
    "    # Set the new record to be added in list format\n",
    "    record = [ticker_data['date'], ticker_data['open'], ticker_data['high'], ticker_data['low'], ticker_data['close']]\n",
    "    # Append the new record to the historical_stock_data dictionary\n",
    "    historical_stock_data[ticker].append(record)"
   ]
  },
  {
   "cell_type": "code",
   "execution_count": 385,
   "id": "f826f4b5-3e13-4843-a4ca-bc9fcd33b73e",
   "metadata": {},
   "outputs": [
    {
     "data": {
      "text/plain": [
       "{'AAPL': [['04-17-2019', 199.54, 203.38, 198.61, 203.13],\n",
       "  ['04-18-2019', 199.46, 201.37, 198.56, 199.25],\n",
       "  ['04-19-2019', 198.58, 199.85, 198.01, 199.23],\n",
       "  ['04-20-2019', 199.2, 200.14, 196.21, 198.87],\n",
       "  ['04-21-2019', 200.85, 201.0, 198.44, 198.95]],\n",
       " 'MU': [['04-17-2019', 43.2, 43.53, 42.79, 43.4],\n",
       "  ['04-18-2019', 43.36, 44.05, 42.76, 43.15],\n",
       "  ['04-19-2019', 42.26, 42.93, 42.08, 42.76],\n",
       "  ['04-20-2019', 42.17, 42.23, 41.2, 41.82],\n",
       "  ['04-21-2019', 42.85, 43.2, 41.81, 42.01]],\n",
       " 'AMD': [['04-17-2019', 27.6, 27.88, 27.34, 27.68],\n",
       "  ['04-18-2019', 28.21, 28.27, 27.22, 27.49],\n",
       "  ['04-19-2019', 27.72, 28.18, 27.49, 27.93],\n",
       "  ['04-20-2019', 27.8, 27.84, 26.96, 27.33],\n",
       "  ['04-21-2019', 28.21, 28.38, 27.66, 27.85]],\n",
       " 'TWTR': [['04-17-2019', 34.67, 34.86, 34.32, 34.4],\n",
       "  ['04-18-2019', 34.73, 34.9, 34.2, 34.48],\n",
       "  ['04-19-2019', 34.84, 34.99, 34.23, 34.46],\n",
       "  ['04-20-2019', 34.38, 35.03, 34.34, 34.71],\n",
       "  ['04-21-2019', 34.67, 34.83, 34.11, 34.37]]}"
      ]
     },
     "execution_count": 385,
     "metadata": {},
     "output_type": "execute_result"
    }
   ],
   "source": [
    "# Print out the modified 'historical_stock_data' dictionary\n",
    "historical_stock_data"
   ]
  },
  {
   "cell_type": "code",
   "execution_count": 387,
   "id": "fcb55229-4018-4284-92b4-296c10dcff00",
   "metadata": {},
   "outputs": [],
   "source": [
    "# Activity 5 Finally Functioning"
   ]
  },
  {
   "cell_type": "code",
   "execution_count": 16,
   "id": "20eed925-3a89-4a49-aeb5-87232ec2d735",
   "metadata": {},
   "outputs": [
    {
     "name": "stdin",
     "output_type": "stream",
     "text": [
      " 1000\n",
      " 1\n",
      " 1\n"
     ]
    }
   ],
   "source": [
    "beginning_balence = input()\n",
    "end_balence = input()\n",
    "years = input()\n",
    "def calculate_compound_growth_rate(beginning_balance,end_balence,years):\n",
    "    growth = ((end_balence / beginning_balence)**1/years) - 1\n",
    "    return growth"
   ]
  },
  {
   "cell_type": "code",
   "execution_count": 17,
   "id": "2bb09f66-cdcc-4fa7-985a-c835b892b801",
   "metadata": {},
   "outputs": [],
   "source": [
    "calculate_compound_growth_rate_list = []"
   ]
  },
  {
   "cell_type": "code",
   "execution_count": 18,
   "id": "21213b15-3fe0-4c58-a2d7-b47c2ced77e8",
   "metadata": {},
   "outputs": [
    {
     "ename": "TypeError",
     "evalue": "unsupported operand type(s) for /: 'str' and 'str'",
     "output_type": "error",
     "traceback": [
      "\u001b[0;31m---------------------------------------------------------------------------\u001b[0m",
      "\u001b[0;31mTypeError\u001b[0m                                 Traceback (most recent call last)",
      "\u001b[0;32m/var/folders/4v/cn7thfts6hjfkp7gdl9lkpxr0000gn/T/ipykernel_27879/3467330240.py\u001b[0m in \u001b[0;36m<module>\u001b[0;34m\u001b[0m\n\u001b[1;32m      1\u001b[0m \u001b[0;32mfor\u001b[0m \u001b[0mi\u001b[0m \u001b[0;32min\u001b[0m \u001b[0mrange\u001b[0m\u001b[0;34m(\u001b[0m\u001b[0;36m0\u001b[0m\u001b[0;34m,\u001b[0m\u001b[0;36m4\u001b[0m\u001b[0;34m)\u001b[0m\u001b[0;34m:\u001b[0m\u001b[0;34m\u001b[0m\u001b[0;34m\u001b[0m\u001b[0m\n\u001b[0;32m----> 2\u001b[0;31m     \u001b[0mcalculate_compound_growth_rate\u001b[0m\u001b[0;34m(\u001b[0m\u001b[0mbeginning_balence\u001b[0m\u001b[0;34m,\u001b[0m \u001b[0mend_balence\u001b[0m\u001b[0;34m,\u001b[0m \u001b[0myears\u001b[0m\u001b[0;34m)\u001b[0m\u001b[0;34m\u001b[0m\u001b[0;34m\u001b[0m\u001b[0m\n\u001b[0m\u001b[1;32m      3\u001b[0m     \u001b[0mcalculate_compound_growth_rate_list\u001b[0m\u001b[0;34m.\u001b[0m\u001b[0mappend\u001b[0m\u001b[0;34m(\u001b[0m\u001b[0mgrowth\u001b[0m\u001b[0;34m)\u001b[0m\u001b[0;34m\u001b[0m\u001b[0;34m\u001b[0m\u001b[0m\n",
      "\u001b[0;32m/var/folders/4v/cn7thfts6hjfkp7gdl9lkpxr0000gn/T/ipykernel_27879/1141228902.py\u001b[0m in \u001b[0;36mcalculate_compound_growth_rate\u001b[0;34m(beginning_balance, end_balence, years)\u001b[0m\n\u001b[1;32m      1\u001b[0m \u001b[0mcalculate_compound_growth_rate_list\u001b[0m \u001b[0;34m=\u001b[0m \u001b[0;34m[\u001b[0m\u001b[0;34m]\u001b[0m\u001b[0;34m\u001b[0m\u001b[0;34m\u001b[0m\u001b[0m\n\u001b[1;32m      2\u001b[0m \u001b[0;32mdef\u001b[0m \u001b[0mcalculate_compound_growth_rate\u001b[0m\u001b[0;34m(\u001b[0m\u001b[0mbeginning_balance\u001b[0m\u001b[0;34m,\u001b[0m\u001b[0mend_balence\u001b[0m\u001b[0;34m,\u001b[0m\u001b[0myears\u001b[0m\u001b[0;34m)\u001b[0m\u001b[0;34m:\u001b[0m\u001b[0;34m\u001b[0m\u001b[0;34m\u001b[0m\u001b[0m\n\u001b[0;32m----> 3\u001b[0;31m     \u001b[0mgrowth\u001b[0m \u001b[0;34m=\u001b[0m \u001b[0;34m(\u001b[0m\u001b[0;34m(\u001b[0m\u001b[0mend_balence\u001b[0m \u001b[0;34m/\u001b[0m \u001b[0mbeginning_balence\u001b[0m\u001b[0;34m)\u001b[0m\u001b[0;34m**\u001b[0m\u001b[0;36m1\u001b[0m\u001b[0;34m/\u001b[0m\u001b[0myears\u001b[0m\u001b[0;34m)\u001b[0m \u001b[0;34m-\u001b[0m \u001b[0;36m1\u001b[0m\u001b[0;34m\u001b[0m\u001b[0;34m\u001b[0m\u001b[0m\n\u001b[0m\u001b[1;32m      4\u001b[0m     \u001b[0;32mreturn\u001b[0m \u001b[0mgrowth\u001b[0m\u001b[0;34m\u001b[0m\u001b[0;34m\u001b[0m\u001b[0m\n",
      "\u001b[0;31mTypeError\u001b[0m: unsupported operand type(s) for /: 'str' and 'str'"
     ]
    }
   ],
   "source": [
    "for i in range(0,4):\n",
    "    calculate_compound_growth_rate(beginning_balence, end_balence, years)\n",
    "    calculate_compound_growth_rate_list.append(growth)"
   ]
  },
  {
   "cell_type": "code",
   "execution_count": null,
   "id": "0e8e919b-250b-4871-b048-dc1a2dc21c39",
   "metadata": {},
   "outputs": [],
   "source": []
  },
  {
   "cell_type": "code",
   "execution_count": null,
   "id": "bc7fb833-9832-4751-9756-acc321214a39",
   "metadata": {},
   "outputs": [],
   "source": []
  },
  {
   "cell_type": "code",
   "execution_count": null,
   "id": "226456de-d763-4c31-a617-d2493522ddb5",
   "metadata": {},
   "outputs": [],
   "source": []
  }
 ],
 "metadata": {
  "kernelspec": {
   "display_name": "Python 3 (ipykernel)",
   "language": "python",
   "name": "python3"
  },
  "language_info": {
   "codemirror_mode": {
    "name": "ipython",
    "version": 3
   },
   "file_extension": ".py",
   "mimetype": "text/x-python",
   "name": "python",
   "nbconvert_exporter": "python",
   "pygments_lexer": "ipython3",
   "version": "3.7.11"
  }
 },
 "nbformat": 4,
 "nbformat_minor": 5
}
