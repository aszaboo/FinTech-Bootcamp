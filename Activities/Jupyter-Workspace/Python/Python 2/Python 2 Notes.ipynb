{
 "cells": [
  {
   "cell_type": "code",
   "execution_count": 1,
   "id": "6992a5a2-0fb8-4a8b-b828-b3a1af73e8da",
   "metadata": {},
   "outputs": [],
   "source": [
    "# Python 2 Notes"
   ]
  },
  {
   "cell_type": "code",
   "execution_count": 3,
   "id": "50e8ef8b-a845-49da-bde1-f9b8e49d20e3",
   "metadata": {},
   "outputs": [],
   "source": [
    "a = ['John','Sam','Albert','Owen','Leslie']"
   ]
  },
  {
   "cell_type": "code",
   "execution_count": 4,
   "id": "5454994d-73a2-4005-ac2e-8378228c291b",
   "metadata": {},
   "outputs": [
    {
     "data": {
      "text/plain": [
       "'Albert'"
      ]
     },
     "execution_count": 4,
     "metadata": {},
     "output_type": "execute_result"
    }
   ],
   "source": [
    "a[2]"
   ]
  },
  {
   "cell_type": "code",
   "execution_count": 5,
   "id": "a19d950f-86f2-4a6c-a7f9-a2a3866ed9f4",
   "metadata": {},
   "outputs": [
    {
     "data": {
      "text/plain": [
       "'Leslie'"
      ]
     },
     "execution_count": 5,
     "metadata": {},
     "output_type": "execute_result"
    }
   ],
   "source": [
    "a[4]"
   ]
  },
  {
   "cell_type": "code",
   "execution_count": 8,
   "id": "82dd68e6-ab96-4d33-98f5-bf41f8599f07",
   "metadata": {},
   "outputs": [
    {
     "data": {
      "text/plain": [
       "['Albert', 'Leslie']"
      ]
     },
     "execution_count": 8,
     "metadata": {},
     "output_type": "execute_result"
    }
   ],
   "source": [
    "# Casting\n",
    "[a[2]]+[a[-1]]"
   ]
  },
  {
   "cell_type": "code",
   "execution_count": 9,
   "id": "9d6b91c9-0d89-4365-9b32-d715644a4316",
   "metadata": {},
   "outputs": [],
   "source": [
    "x=3"
   ]
  },
  {
   "cell_type": "code",
   "execution_count": 10,
   "id": "7549dd19-cc2d-4ee1-81ea-4d21d11cb08a",
   "metadata": {},
   "outputs": [
    {
     "data": {
      "text/plain": [
       "3"
      ]
     },
     "execution_count": 10,
     "metadata": {},
     "output_type": "execute_result"
    }
   ],
   "source": [
    "x"
   ]
  },
  {
   "cell_type": "code",
   "execution_count": 11,
   "id": "c152f804-3766-41c5-8164-3229aba31b58",
   "metadata": {},
   "outputs": [
    {
     "data": {
      "text/plain": [
       "int"
      ]
     },
     "execution_count": 11,
     "metadata": {},
     "output_type": "execute_result"
    }
   ],
   "source": [
    "type(x)"
   ]
  },
  {
   "cell_type": "code",
   "execution_count": 12,
   "id": "2bbd106e-8191-47bd-85bc-4b0af0975260",
   "metadata": {},
   "outputs": [],
   "source": [
    "x=str(3)"
   ]
  },
  {
   "cell_type": "code",
   "execution_count": 13,
   "id": "74bbe527-cdbb-4e0a-86d4-b20dd8ea11a0",
   "metadata": {},
   "outputs": [
    {
     "data": {
      "text/plain": [
       "'3'"
      ]
     },
     "execution_count": 13,
     "metadata": {},
     "output_type": "execute_result"
    }
   ],
   "source": [
    "x"
   ]
  },
  {
   "cell_type": "code",
   "execution_count": 14,
   "id": "8fd6856c-8579-4b83-8cc5-75bb1fe22003",
   "metadata": {},
   "outputs": [
    {
     "data": {
      "text/plain": [
       "'Albert'"
      ]
     },
     "execution_count": 14,
     "metadata": {},
     "output_type": "execute_result"
    }
   ],
   "source": [
    "a[-3]"
   ]
  },
  {
   "cell_type": "code",
   "execution_count": 18,
   "id": "196f7780-d6b6-4b1a-af65-f5298dacf8d4",
   "metadata": {},
   "outputs": [
    {
     "data": {
      "text/plain": [
       "['Albert', 'Owen', 'Leslie']"
      ]
     },
     "execution_count": 18,
     "metadata": {},
     "output_type": "execute_result"
    }
   ],
   "source": [
    "# Counts last last 3 of array\n",
    "a[-3:]"
   ]
  },
  {
   "cell_type": "code",
   "execution_count": 17,
   "id": "1e463d30-5829-46f3-8b20-68955a8727ae",
   "metadata": {},
   "outputs": [
    {
     "data": {
      "text/plain": [
       "['Leslie', 'Owen', 'Albert', 'Sam', 'John']"
      ]
     },
     "execution_count": 17,
     "metadata": {},
     "output_type": "execute_result"
    }
   ],
   "source": [
    "# Flips list\n",
    "a[::-1]"
   ]
  },
  {
   "cell_type": "code",
   "execution_count": 25,
   "id": "574e92fa-f0b4-49e5-b24b-93975b8c4f64",
   "metadata": {},
   "outputs": [],
   "source": [
    "# Stack Collection\n",
    "# Add to end of array\n",
    "a.append('Faye')"
   ]
  },
  {
   "cell_type": "code",
   "execution_count": 20,
   "id": "01e36a6e-99d0-4d7b-8994-51e800af7ab6",
   "metadata": {},
   "outputs": [
    {
     "data": {
      "text/plain": [
       "['John', 'Sam', 'Albert', 'Owen', 'Leslie', 'Faye']"
      ]
     },
     "execution_count": 20,
     "metadata": {},
     "output_type": "execute_result"
    }
   ],
   "source": [
    "a"
   ]
  },
  {
   "cell_type": "code",
   "execution_count": 26,
   "id": "787e4750-ebe6-4cde-b0a3-001cb015ee3b",
   "metadata": {},
   "outputs": [
    {
     "data": {
      "text/plain": [
       "'Albert'"
      ]
     },
     "execution_count": 26,
     "metadata": {},
     "output_type": "execute_result"
    }
   ],
   "source": [
    "# Get rid of specified position # in array of list a\n",
    "a.pop(0)"
   ]
  },
  {
   "cell_type": "code",
   "execution_count": 27,
   "id": "f6393a96-d717-4364-9f51-9fbbcc6f802a",
   "metadata": {},
   "outputs": [
    {
     "data": {
      "text/plain": [
       "['Owen', 'Leslie', 'Faye', 'Faye']"
      ]
     },
     "execution_count": 27,
     "metadata": {},
     "output_type": "execute_result"
    }
   ],
   "source": [
    "a"
   ]
  },
  {
   "cell_type": "code",
   "execution_count": 2,
   "id": "6729948f-725b-45e3-bab7-c5570ed8cb02",
   "metadata": {},
   "outputs": [],
   "source": [
    "# append + pop(0) = queue\n",
    "# append + pop = stack\n",
    "a.append.pop(0)"
   ]
  },
  {
   "cell_type": "code",
   "execution_count": 35,
   "id": "8f2d401b-968f-4161-8718-ad6b82f7c7c2",
   "metadata": {},
   "outputs": [
    {
     "data": {
      "text/plain": [
       "0"
      ]
     },
     "execution_count": 35,
     "metadata": {},
     "output_type": "execute_result"
    }
   ],
   "source": [
    "# Finds the # in the array of deisred string\n",
    "a.index('Owen')"
   ]
  },
  {
   "cell_type": "code",
   "execution_count": null,
   "id": "b0cf43b1-df8b-4aac-891f-176dca1616e4",
   "metadata": {},
   "outputs": [],
   "source": [
    "# remove, removes a name in array\n",
    "a.remove('Leslie')"
   ]
  },
  {
   "cell_type": "code",
   "execution_count": 46,
   "id": "e61746e3-f515-40ed-ba69-e6c74eba52ab",
   "metadata": {},
   "outputs": [
    {
     "data": {
      "text/plain": [
       "['Owen', 'Faye', 'John']"
      ]
     },
     "execution_count": 46,
     "metadata": {},
     "output_type": "execute_result"
    }
   ],
   "source": [
    "a"
   ]
  },
  {
   "cell_type": "code",
   "execution_count": 47,
   "id": "c468762d-4123-4738-9d3b-fd23c81e5434",
   "metadata": {},
   "outputs": [
    {
     "data": {
      "text/plain": [
       "((0, 'Owen'), (1, 'Faye'), (2, 'John'))"
      ]
     },
     "execution_count": 47,
     "metadata": {},
     "output_type": "execute_result"
    }
   ],
   "source": [
    "# creates a tuple out of a list\n",
    "# tupes differ from list as you cant change them\n",
    "tuple(enumerate(a))"
   ]
  },
  {
   "cell_type": "code",
   "execution_count": 48,
   "id": "65abcfc2-1d0f-4f4e-867e-6b551a0989de",
   "metadata": {},
   "outputs": [
    {
     "data": {
      "text/plain": [
       "list"
      ]
     },
     "execution_count": 48,
     "metadata": {},
     "output_type": "execute_result"
    }
   ],
   "source": [
    "type(a)"
   ]
  },
  {
   "cell_type": "code",
   "execution_count": 49,
   "id": "e548f311-0a83-4c92-8835-9d7a32b5f9d8",
   "metadata": {},
   "outputs": [
    {
     "data": {
      "text/plain": [
       "'Owen'"
      ]
     },
     "execution_count": 49,
     "metadata": {},
     "output_type": "execute_result"
    }
   ],
   "source": [
    "a.pop(0)"
   ]
  },
  {
   "cell_type": "code",
   "execution_count": 50,
   "id": "9e2852d8-baf5-4e13-8bd2-a57efba69644",
   "metadata": {},
   "outputs": [
    {
     "data": {
      "text/plain": [
       "['Faye', 'John']"
      ]
     },
     "execution_count": 50,
     "metadata": {},
     "output_type": "execute_result"
    }
   ],
   "source": [
    "a"
   ]
  },
  {
   "cell_type": "code",
   "execution_count": 7,
   "id": "d8fb75ed-7021-4e09-b198-b6eeed507a37",
   "metadata": {},
   "outputs": [],
   "source": [
    "# Dictionaries\n",
    "# JSON is a dictionary that reltates strings and values\n",
    "# In a dictionary everything is floating (no order)\n",
    "# Ordered dictionary are not floating\n",
    "\n",
    "# Creating a Dictionary\n",
    "# with Integer Keys\n",
    "Dict = {1: 'John', 2: 'Allice', 3: 'Bob'}"
   ]
  },
  {
   "cell_type": "code",
   "execution_count": 8,
   "id": "b4884a23-d476-43e5-b2d9-77ae7af384d6",
   "metadata": {},
   "outputs": [
    {
     "data": {
      "text/plain": [
       "dict_keys([1, 2, 3])"
      ]
     },
     "execution_count": 8,
     "metadata": {},
     "output_type": "execute_result"
    }
   ],
   "source": [
    "# Finding Keys\n",
    "Dict.keys()"
   ]
  },
  {
   "cell_type": "code",
   "execution_count": 9,
   "id": "cbc448b3-367d-42c9-8985-6e87218b1ea8",
   "metadata": {},
   "outputs": [
    {
     "data": {
      "text/plain": [
       "dict_values(['John', 'Allice', 'Bob'])"
      ]
     },
     "execution_count": 9,
     "metadata": {},
     "output_type": "execute_result"
    }
   ],
   "source": [
    "# Finding values\n",
    "Dict.values()"
   ]
  },
  {
   "cell_type": "code",
   "execution_count": 10,
   "id": "c2953c6d-c5f1-4b46-9aea-ff6292f802fc",
   "metadata": {},
   "outputs": [],
   "source": [
    "# Adding a key and value\n",
    "Dict[4] = 'Vanessa'"
   ]
  },
  {
   "cell_type": "code",
   "execution_count": 11,
   "id": "3a4cf29b-c391-457e-98f8-7224f3cfc527",
   "metadata": {},
   "outputs": [
    {
     "data": {
      "text/plain": [
       "{1: 'John', 2: 'Allice', 3: 'Bob', 4: 'Vanessa'}"
      ]
     },
     "execution_count": 11,
     "metadata": {},
     "output_type": "execute_result"
    }
   ],
   "source": [
    "Dict"
   ]
  },
  {
   "cell_type": "code",
   "execution_count": 12,
   "id": "e1f7c73e-cdef-4dd0-86d8-3d8d01ed76d0",
   "metadata": {},
   "outputs": [],
   "source": [
    "# Deleting a dictionary value and key\n",
    "del Dict[4]"
   ]
  },
  {
   "cell_type": "code",
   "execution_count": 13,
   "id": "2c40e8f6-f92e-473b-a0db-86fbcaae4eb1",
   "metadata": {},
   "outputs": [],
   "source": [
    "# Showing that this dictionary does is not indexed\n",
    "Dict['new person'] = 'Vanessa'"
   ]
  },
  {
   "cell_type": "code",
   "execution_count": 14,
   "id": "9f94bd21-6469-4992-a599-7276fe42b7fb",
   "metadata": {},
   "outputs": [
    {
     "data": {
      "text/plain": [
       "{1: 'John', 2: 'Allice', 3: 'Bob', 'new person': 'Vanessa'}"
      ]
     },
     "execution_count": 14,
     "metadata": {},
     "output_type": "execute_result"
    }
   ],
   "source": [
    "Dict"
   ]
  },
  {
   "cell_type": "code",
   "execution_count": 15,
   "id": "c2762db3-3f53-4ed3-b57c-228e39e37ea0",
   "metadata": {},
   "outputs": [],
   "source": [
    "# Initialize a dictionary\n",
    "trading_pnl = {\n",
    "    \"title\": \"Trading Log\",\n",
    "    \"03-18-2019\": -224,\n",
    "    \"03-19-2019\": 352,\n",
    "    \"03-20-2019\": 252,\n",
    "    \"03-21-2019\": 354,\n",
    "    \"03-22-2019\": -544,\n",
    "    \"03-23-2019\": -650,\n",
    "    \"03-24-2019\": 56,\n",
    "    \"03-25-2019\": 123,\n",
    "    \"03-26-2019\": -43,\n",
    "    \"03-27-2019\": 254,\n",
    "    \"03-28-2019\": 325,\n",
    "    \"03-29-2019\": -123,\n",
    "    \"03-30-2019\": 47,\n",
    "    \"03-31-2019\": 321,\n",
    "    \"04-01-2019\": 123,\n",
    "    \"04-02-2019\": 133,\n",
    "    \"04-03-2019\": -151,\n",
    "    \"04-04-2019\": 613,\n",
    "    \"04-05-2019\": 232,\n",
    "    \"04-06-2019\": -311\n",
    "}"
   ]
  },
  {
   "cell_type": "code",
   "execution_count": 22,
   "id": "0d8bf9af-62d9-46c4-965f-0d6672b26105",
   "metadata": {},
   "outputs": [
    {
     "data": {
      "text/plain": [
       "-123"
      ]
     },
     "execution_count": 22,
     "metadata": {},
     "output_type": "execute_result"
    }
   ],
   "source": [
    "# Grabbing a spcific value with its key\n",
    "trading_pnl[\"03-29-2019\"]"
   ]
  },
  {
   "cell_type": "code",
   "execution_count": 28,
   "id": "60cb73d0-a655-4c23-b0e5-364ff8b8a513",
   "metadata": {},
   "outputs": [
    {
     "name": "stdout",
     "output_type": "stream",
     "text": [
      "title\n",
      "03-18-2019\n",
      "03-19-2019\n",
      "03-20-2019\n",
      "03-21-2019\n",
      "03-22-2019\n",
      "03-23-2019\n",
      "03-24-2019\n",
      "03-25-2019\n",
      "03-26-2019\n",
      "03-27-2019\n",
      "03-28-2019\n",
      "03-29-2019\n",
      "03-30-2019\n",
      "03-31-2019\n",
      "04-01-2019\n",
      "04-02-2019\n",
      "04-03-2019\n",
      "04-04-2019\n",
      "04-05-2019\n",
      "04-06-2019\n"
     ]
    }
   ],
   "source": [
    "# printing the keys\n",
    "for key in trading_pnl.keys():\n",
    "    print(key)"
   ]
  },
  {
   "cell_type": "code",
   "execution_count": 33,
   "id": "56684687-d2ec-43f4-a8d0-415e482bde14",
   "metadata": {},
   "outputs": [
    {
     "name": "stdout",
     "output_type": "stream",
     "text": [
      " the value for title is Trading Log.\n",
      " the value for 03-18-2019 is -224.\n",
      " the value for 03-19-2019 is 352.\n",
      " the value for 03-20-2019 is 252.\n",
      " the value for 03-21-2019 is 354.\n",
      " the value for 03-22-2019 is -544.\n",
      " the value for 03-23-2019 is -650.\n",
      " the value for 03-24-2019 is 56.\n",
      " the value for 03-25-2019 is 123.\n",
      " the value for 03-26-2019 is -43.\n",
      " the value for 03-27-2019 is 254.\n",
      " the value for 03-28-2019 is 325.\n",
      " the value for 03-29-2019 is -123.\n",
      " the value for 03-30-2019 is 47.\n",
      " the value for 03-31-2019 is 321.\n",
      " the value for 04-01-2019 is 123.\n",
      " the value for 04-02-2019 is 133.\n",
      " the value for 04-03-2019 is -151.\n",
      " the value for 04-04-2019 is 613.\n",
      " the value for 04-05-2019 is 232.\n",
      " the value for 04-06-2019 is -311.\n"
     ]
    }
   ],
   "source": [
    "# turning dictionary values into a list\n",
    "closing_prices=[]\n",
    "for key in trading_pnl.keys():\n",
    "    print(f\" the value for {key} is {trading_pnl[key]}.\")\n",
    "    closing_prices.append(trading_pnl[key])"
   ]
  },
  {
   "cell_type": "code",
   "execution_count": 34,
   "id": "499cb158-0d8c-4b5d-b09a-6e7a2f875391",
   "metadata": {},
   "outputs": [
    {
     "data": {
      "text/plain": [
       "['Trading Log',\n",
       " -224,\n",
       " 352,\n",
       " 252,\n",
       " 354,\n",
       " -544,\n",
       " -650,\n",
       " 56,\n",
       " 123,\n",
       " -43,\n",
       " 254,\n",
       " 325,\n",
       " -123,\n",
       " 47,\n",
       " 321,\n",
       " 123,\n",
       " 133,\n",
       " -151,\n",
       " 613,\n",
       " 232,\n",
       " -311]"
      ]
     },
     "execution_count": 34,
     "metadata": {},
     "output_type": "execute_result"
    }
   ],
   "source": [
    "# printing the list of values\n",
    "closing_prices"
   ]
  },
  {
   "cell_type": "code",
   "execution_count": 35,
   "id": "87f46d9a-96a2-427a-b319-4359e6529351",
   "metadata": {},
   "outputs": [],
   "source": [
    "# getting rid of the first element in the list because it is a string\n",
    "closing_prices = closing_prices[1:]"
   ]
  },
  {
   "cell_type": "code",
   "execution_count": 36,
   "id": "69aa503b-dd79-4056-a3cc-b1d8b4bc5697",
   "metadata": {},
   "outputs": [
    {
     "data": {
      "text/plain": [
       "[352,\n",
       " 252,\n",
       " 354,\n",
       " -544,\n",
       " -650,\n",
       " 56,\n",
       " 123,\n",
       " -43,\n",
       " 254,\n",
       " 325,\n",
       " -123,\n",
       " 47,\n",
       " 321,\n",
       " 123,\n",
       " 133,\n",
       " -151,\n",
       " 613,\n",
       " 232,\n",
       " -311]"
      ]
     },
     "execution_count": 36,
     "metadata": {},
     "output_type": "execute_result"
    }
   ],
   "source": [
    "closing_prices[1:]"
   ]
  },
  {
   "cell_type": "code",
   "execution_count": 37,
   "id": "730b6131-6608-4790-af17-67e80f6fec9a",
   "metadata": {},
   "outputs": [],
   "source": [
    "new_dict = {}"
   ]
  },
  {
   "cell_type": "code",
   "execution_count": 40,
   "id": "4b6e2fa5-19b4-4f2a-b32d-e6518842705b",
   "metadata": {},
   "outputs": [],
   "source": [
    "# Creating a for loop that goes unitl the length of closing prices complete\n",
    "# This adds all values from 0 untill the last element is added\n",
    "for i in range(0, len(closing_prices)):\n",
    "    # telling python that the number in new dict of i is equal to that of prices at i\n",
    "    new_dict[i]=closing_prices[i]"
   ]
  },
  {
   "cell_type": "code",
   "execution_count": 41,
   "id": "1c923dd9-c3f4-4b68-8338-443c403e37fe",
   "metadata": {},
   "outputs": [
    {
     "data": {
      "text/plain": [
       "{0: -224,\n",
       " 1: 352,\n",
       " 2: 252,\n",
       " 3: 354,\n",
       " 4: -544,\n",
       " 5: -650,\n",
       " 6: 56,\n",
       " 7: 123,\n",
       " 8: -43,\n",
       " 9: 254,\n",
       " 10: 325,\n",
       " 11: -123,\n",
       " 12: 47,\n",
       " 13: 321,\n",
       " 14: 123,\n",
       " 15: 133,\n",
       " 16: -151,\n",
       " 17: 613,\n",
       " 18: 232,\n",
       " 19: -311}"
      ]
     },
     "execution_count": 41,
     "metadata": {},
     "output_type": "execute_result"
    }
   ],
   "source": [
    "new_dict"
   ]
  },
  {
   "cell_type": "code",
   "execution_count": 43,
   "id": "95520ae6-5f5f-44e7-abbc-b97ea6531877",
   "metadata": {},
   "outputs": [],
   "source": [
    "# defining newer dict\n",
    "newer_dict = {}\n",
    "# if we want to start from 1\n",
    "for i in range(0, len(closing_prices)):\n",
    "    # telling python to start from one not 0\n",
    "    newer_dict[i+1] = closing_prices[i]"
   ]
  },
  {
   "cell_type": "code",
   "execution_count": 44,
   "id": "6dfe01c5-ed76-4f85-8644-e05fb61ebd01",
   "metadata": {},
   "outputs": [
    {
     "data": {
      "text/plain": [
       "{1: -224,\n",
       " 2: 352,\n",
       " 3: 252,\n",
       " 4: 354,\n",
       " 5: -544,\n",
       " 6: -650,\n",
       " 7: 56,\n",
       " 8: 123,\n",
       " 9: -43,\n",
       " 10: 254,\n",
       " 11: 325,\n",
       " 12: -123,\n",
       " 13: 47,\n",
       " 14: 321,\n",
       " 15: 123,\n",
       " 16: 133,\n",
       " 17: -151,\n",
       " 18: 613,\n",
       " 19: 232,\n",
       " 20: -311}"
      ]
     },
     "execution_count": 44,
     "metadata": {},
     "output_type": "execute_result"
    }
   ],
   "source": [
    "newer_dict"
   ]
  },
  {
   "cell_type": "code",
   "execution_count": 67,
   "id": "bba85295-0959-4812-834c-501392dcf6db",
   "metadata": {},
   "outputs": [],
   "source": [
    "# Dictionary of Dicts\n",
    "stocks_nested_dict = {\n",
    "    \"APPL\": {\n",
    "        \"name\": \"Apple\",\n",
    "        \"exchange\": \"NASDAQ\",\n",
    "        \"market_cap\": 937.7\n",
    "    },\n",
    "    \"MU\": {\n",
    "        \"name\": \"Micron Technology\",\n",
    "        \"exchange\": \"NASDAQ\",\n",
    "        \"market_cap\": 48.03\n",
    "    },\n",
    "    \"AMD\": {\n",
    "        \"name\": \"Advanced Micro Devices\",\n",
    "        \"exchange\": \"NASDAQ\",\n",
    "        \"market_cap\": 29.94\n",
    "    },\n",
    "    \"TWTR\": {\n",
    "        \"name\": \"Twitter\",\n",
    "        \"exchange\": \"NASDAQ\",\n",
    "        \"market_cap\": 26.42\n",
    "    }\n",
    "}"
   ]
  },
  {
   "cell_type": "code",
   "execution_count": 68,
   "id": "4ff39f22-b534-4a63-b58d-a8e25c062680",
   "metadata": {},
   "outputs": [],
   "source": [
    "# changing apples market cap\n",
    "stocks_nested_dict['APPL']['market_cap'] = 999"
   ]
  },
  {
   "cell_type": "code",
   "execution_count": 69,
   "id": "7c0701e8-7b9f-481d-9744-42ea258c7a5b",
   "metadata": {},
   "outputs": [
    {
     "data": {
      "text/plain": [
       "{'APPL': {'name': 'Apple', 'exchange': 'NASDAQ', 'market_cap': 999},\n",
       " 'MU': {'name': 'Micron Technology',\n",
       "  'exchange': 'NASDAQ',\n",
       "  'market_cap': 48.03},\n",
       " 'AMD': {'name': 'Advanced Micro Devices',\n",
       "  'exchange': 'NASDAQ',\n",
       "  'market_cap': 29.94},\n",
       " 'TWTR': {'name': 'Twitter', 'exchange': 'NASDAQ', 'market_cap': 26.42}}"
      ]
     },
     "execution_count": 69,
     "metadata": {},
     "output_type": "execute_result"
    }
   ],
   "source": [
    "stocks_nested_dict"
   ]
  },
  {
   "cell_type": "code",
   "execution_count": 70,
   "id": "51c76e82-448f-4210-b80d-ce6003277a68",
   "metadata": {},
   "outputs": [
    {
     "name": "stdout",
     "output_type": "stream",
     "text": [
      "999\n",
      "48.03\n",
      "29.94\n",
      "26.42\n"
     ]
    }
   ],
   "source": [
    "# grabbing all the market caps\n",
    "# do for ticker in stock_nested_dict.keys() to define tell python to go look at keys\n",
    "# do print(stocks_nested_dict[ticker]) to print the whole dict\n",
    "# do print(stocks_nested_dict[ticker]['market_cap']) to go into dict keys the locate ticker and read values from 0 to ticker\n",
    "for ticker in stocks_nested_dict.keys():\n",
    "    print(stocks_nested_dict[ticker]['market_cap'])"
   ]
  },
  {
   "cell_type": "code",
   "execution_count": 71,
   "id": "27032407-2b40-4294-8663-a00dbf2c9db5",
   "metadata": {},
   "outputs": [],
   "source": [
    "# pythons functions syntax\n",
    "# defining a function\n",
    "def add_two(x):\n",
    "    y = x+2\n",
    "    return y"
   ]
  },
  {
   "cell_type": "code",
   "execution_count": 72,
   "id": "7baf8e25-4a05-4896-b945-61db113169fa",
   "metadata": {},
   "outputs": [
    {
     "data": {
      "text/plain": [
       "5"
      ]
     },
     "execution_count": 72,
     "metadata": {},
     "output_type": "execute_result"
    }
   ],
   "source": [
    "add_two(3)"
   ]
  },
  {
   "cell_type": "code",
   "execution_count": 73,
   "id": "b844514a-f7c1-4aab-8403-b6ddb2d1545c",
   "metadata": {},
   "outputs": [],
   "source": [
    "# defining get market cap at ticker and telling it to return the market_cap\n",
    "def get_market_cap(ticker):\n",
    "    return stocks_nested_dict[ticker]['market_cap']"
   ]
  },
  {
   "cell_type": "code",
   "execution_count": 74,
   "id": "0bca3f13-286a-4046-86a6-0d771f7b151b",
   "metadata": {},
   "outputs": [
    {
     "data": {
      "text/plain": [
       "999"
      ]
     },
     "execution_count": 74,
     "metadata": {},
     "output_type": "execute_result"
    }
   ],
   "source": [
    "get_market_cap('APPL')"
   ]
  },
  {
   "cell_type": "code",
   "execution_count": 76,
   "id": "d505e27d-e47b-4d80-9e4e-2bb410c1effa",
   "metadata": {},
   "outputs": [],
   "source": [
    "# List of Lists\n",
    "ceo_nested_list = [\n",
    "    [\"Warren Buffet\", 88, \"CEO of Berkshire Hathaway\"],\n",
    "    [\"Jeff Bezos\", 55, \"CEO of Amazon\"],\n",
    "    [\"Harry Markowitz\", 91, \"Professor of Finance\"]\n",
    "]"
   ]
  },
  {
   "cell_type": "code",
   "execution_count": 86,
   "id": "9b187416-79a0-4492-b96b-e01c6cf8f74a",
   "metadata": {},
   "outputs": [
    {
     "data": {
      "text/plain": [
       "88"
      ]
     },
     "execution_count": 86,
     "metadata": {},
     "output_type": "execute_result"
    }
   ],
   "source": [
    "# acesses the list, then tells it to acess the 0th column in the lest and the 1st row. \n",
    "ceo_nested_list[0][1]"
   ]
  },
  {
   "cell_type": "code",
   "execution_count": null,
   "id": "b55aac31-3898-46db-9165-7d2133afeee0",
   "metadata": {},
   "outputs": [],
   "source": []
  }
 ],
 "metadata": {
  "kernelspec": {
   "display_name": "Python 3 (ipykernel)",
   "language": "python",
   "name": "python3"
  },
  "language_info": {
   "codemirror_mode": {
    "name": "ipython",
    "version": 3
   },
   "file_extension": ".py",
   "mimetype": "text/x-python",
   "name": "python",
   "nbconvert_exporter": "python",
   "pygments_lexer": "ipython3",
   "version": "3.7.11"
  }
 },
 "nbformat": 4,
 "nbformat_minor": 5
}
