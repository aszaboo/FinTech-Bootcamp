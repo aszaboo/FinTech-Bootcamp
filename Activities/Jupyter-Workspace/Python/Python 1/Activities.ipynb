{
 "cells": [
  {
   "cell_type": "code",
   "execution_count": 3,
   "id": "cfa3efa1-eb56-4266-8b86-d733c8f1ea0a",
   "metadata": {},
   "outputs": [
    {
     "name": "stdout",
     "output_type": "stream",
     "text": [
      "hello world\n"
     ]
    }
   ],
   "source": [
    "# Activity 1\n",
    "print(\"hello world\")"
   ]
  },
  {
   "cell_type": "code",
   "execution_count": 2,
   "id": "39cedafc-56e0-4c85-aebc-36126a15d0ad",
   "metadata": {},
   "outputs": [
    {
     "name": "stdout",
     "output_type": "stream",
     "text": [
      "hello world from a new cell\n"
     ]
    }
   ],
   "source": [
    "print(\"hello world from a new cell\")"
   ]
  },
  {
   "cell_type": "code",
   "execution_count": 4,
   "id": "510ee292-fc64-4cca-96e2-3c7b217c622e",
   "metadata": {},
   "outputs": [],
   "source": [
    "# Activity 2 Hello Variable World"
   ]
  },
  {
   "cell_type": "code",
   "execution_count": 5,
   "id": "1a22ad38-6156-4bf6-9fa9-374c6df1e314",
   "metadata": {},
   "outputs": [],
   "source": [
    "original_price = 198.87"
   ]
  },
  {
   "cell_type": "code",
   "execution_count": 6,
   "id": "9549b300-ba09-4a62-9451-211339239295",
   "metadata": {},
   "outputs": [],
   "source": [
    "current_price = 254.32"
   ]
  },
  {
   "cell_type": "code",
   "execution_count": 8,
   "id": "47a61f02-0b9f-4f37-835c-c9c6843a63b2",
   "metadata": {},
   "outputs": [],
   "source": [
    "increase = current_price - original_price"
   ]
  },
  {
   "cell_type": "code",
   "execution_count": 9,
   "id": "c722f492-bc32-4a2a-9285-917c9f5b986c",
   "metadata": {},
   "outputs": [],
   "source": [
    "percent_increase = (increase / original_price) * 100"
   ]
  },
  {
   "cell_type": "code",
   "execution_count": 13,
   "id": "dcc8b2df-bf84-44ef-90e7-bb4d901d5f85",
   "metadata": {},
   "outputs": [
    {
     "name": "stdout",
     "output_type": "stream",
     "text": [
      "The orignial price was $198.87\n"
     ]
    }
   ],
   "source": [
    "print(f\"The orignial price was ${original_price}\")"
   ]
  },
  {
   "cell_type": "code",
   "execution_count": 14,
   "id": "f38e3833-32bd-4937-87c7-e384b5295454",
   "metadata": {},
   "outputs": [
    {
     "name": "stdout",
     "output_type": "stream",
     "text": [
      "The current price is $254.32\n"
     ]
    }
   ],
   "source": [
    "print(f\"The current price is ${current_price}\")"
   ]
  },
  {
   "cell_type": "code",
   "execution_count": 21,
   "id": "d4ca533c-12db-4cdd-8553-cca98b64174a",
   "metadata": {},
   "outputs": [
    {
     "name": "stdout",
     "output_type": "stream",
     "text": [
      "The percent increase is 27.88%\n"
     ]
    }
   ],
   "source": [
    "print(f\"The percent increase is {percent_increase:.2f}%\")"
   ]
  },
  {
   "cell_type": "code",
   "execution_count": 2,
   "id": "33efd26c-e4bc-46b9-a00f-95083bdbba07",
   "metadata": {},
   "outputs": [],
   "source": [
    "# Activity 3 Conditional World\n",
    "# Whats the outcome of each line?"
   ]
  },
  {
   "cell_type": "code",
   "execution_count": 4,
   "id": "3cd6957a-c6fe-4739-8721-6ae4cf739afb",
   "metadata": {},
   "outputs": [
    {
     "name": "stdout",
     "output_type": "stream",
     "text": [
      "Oooo needs some work\n",
      "Question 2 works!\n",
      "You are of drinking age!\n",
      "GOT QUESTION 4!\n",
      "Can ride bumper cars\n"
     ]
    }
   ],
   "source": [
    "# This line will print Oooo needs some work\n",
    "x = 5\n",
    "y = 10\n",
    "if 2 * x > 10:\n",
    "    print(\"Question 1 works!\")\n",
    "else:\n",
    "    print(\"Oooo needs some work\")\n",
    "\n",
    "# 2. This line will print Question 2 works!\n",
    "x = 5\n",
    "y = 10\n",
    "if len(\"Dog\") < x:\n",
    "    print(\"Question 2 works!\")\n",
    "else:\n",
    "    print(\"Still missing out\")\n",
    "\n",
    "# 3. This line will print You are of drinking age\n",
    "age = 19\n",
    "if age > 18:\n",
    "    print(\"You are of drinking age!\")\n",
    "else:\n",
    "    print(\"Argggggh! You think you can hoodwink me, matey?! You're too young to drink!\")\n",
    "\n",
    "# 4. This line will print Got Question 4\n",
    "x = 2\n",
    "y = 5\n",
    "if (x ** 3 >= y) and (y ** 2 < 26):\n",
    "    print(\"GOT QUESTION 4!\")\n",
    "else:\n",
    "    print(\"Oh good you can count\")\n",
    "\n",
    "# 5. This line will print Can ride bumper cars\n",
    "height = 66\n",
    "age = 16\n",
    "adult_permission = True\n",
    "\n",
    "if (height > 70) and (age >= 18):\n",
    "    print(\"Can ride all the roller coasters\")\n",
    "elif (height > 65) and (age >= 18):\n",
    "    print(\"Can ride moderate roller coasters\")\n",
    "elif (height > 60) and (age >= 18):\n",
    "    print(\"Can ride light roller coasters\")\n",
    "elif ((height > 50) and (age >= 18)) or ((adult_permission) and (height > 50)):\n",
    "    print(\"Can ride bumper cars\")\n",
    "else:\n",
    "    print(\"Stick to lazy river\")\n"
   ]
  },
  {
   "cell_type": "code",
   "execution_count": 5,
   "id": "3bffebc4-4214-4b78-b621-98c5f0669145",
   "metadata": {},
   "outputs": [],
   "source": [
    "# Activity 4 Loop De Loop"
   ]
  },
  {
   "cell_type": "code",
   "execution_count": 9,
   "id": "cc7e0abe-26a4-49e6-8bf3-c985b44919d1",
   "metadata": {},
   "outputs": [],
   "source": [
    "# Step 1 defining cheer\n",
    "cheer = 'python'"
   ]
  },
  {
   "cell_type": "code",
   "execution_count": 8,
   "id": "0ee6286d-50f8-4080-9ba2-a6325596fc4d",
   "metadata": {},
   "outputs": [],
   "source": [
    "# Below strings can be used to add fun\n",
    "cheer_symbol = \"*\\O/*\"\n",
    "cheer_symbol_2 = \"ヘ( ^o^)ノ＼(^_^ )\""
   ]
  },
  {
   "cell_type": "code",
   "execution_count": 43,
   "id": "42be7d10-1062-4439-b934-2533221d807a",
   "metadata": {},
   "outputs": [
    {
     "name": "stdout",
     "output_type": "stream",
     "text": [
      "Give me a p!\n",
      "p\n",
      "Give me a y!\n",
      "y\n",
      "Give me a t!\n",
      "t\n",
      "Give me a h!\n",
      "h\n",
      "Give me a o!\n",
      "o\n",
      "Give me a n!\n",
      "n\n",
      "What does that spell?\n",
      "python!\n",
      "Wohoo go python!\n",
      "*\\O/*\n",
      "ヘ( ^o^)ノ＼(^_^ )\n"
     ]
    }
   ],
   "source": [
    "# Loop through string and print each letter with a cheer\n",
    "# putting it all together\n",
    "for i in(i):\n",
    "    print(f\"Give me a {cheer[0]}!\")\n",
    "    print(cheer[0])\n",
    "    print(f\"Give me a {cheer[1]}!\")\n",
    "    print(cheer[1])\n",
    "    print(f\"Give me a {cheer[2]}!\")\n",
    "    print(cheer[2])\n",
    "    print(f\"Give me a {cheer[3]}!\")\n",
    "    print(cheer[3])\n",
    "    print(f\"Give me a {cheer[4]}!\")\n",
    "    print(cheer[4])\n",
    "    print(f\"Give me a {cheer[5]}!\")\n",
    "    print(cheer[5])\n",
    "    print(\"What does that spell?\")\n",
    "    print(f\"{cheer}!\")\n",
    "    print(\"Wohoo go python!\")\n",
    "    print(cheer_symbol)\n",
    "    print(cheer_symbol_2)"
   ]
  },
  {
   "cell_type": "code",
   "execution_count": 41,
   "id": "04d3aa4b-adec-4f69-ad10-0f28683bf039",
   "metadata": {},
   "outputs": [],
   "source": [
    "# easier method\n",
    "# Creating cheer variable\n",
    "cheer2 = \"Python\""
   ]
  },
  {
   "cell_type": "code",
   "execution_count": 42,
   "id": "06e1f052-2842-4477-bb88-1b2947b87da8",
   "metadata": {},
   "outputs": [],
   "source": [
    "# Below strings can be used to add fun\n",
    "cheer_symbol = \"*\\O/*\"\n",
    "cheer_symbol_2 = \"ヘ( ^o^)ノ＼(^_^ )\""
   ]
  },
  {
   "cell_type": "code",
   "execution_count": 49,
   "id": "bed326e1-dac7-45a4-bc3e-988dc90753f6",
   "metadata": {},
   "outputs": [
    {
     "name": "stdout",
     "output_type": "stream",
     "text": [
      "Give me a P!\n",
      "P!\n",
      "Give me a y!\n",
      "y!\n",
      "Give me a t!\n",
      "t!\n",
      "Give me a h!\n",
      "h!\n",
      "Give me a o!\n",
      "o!\n",
      "Give me a n!\n",
      "n!\n",
      "\n",
      "What does that spell?!\n",
      "Python!\n",
      "Woohoo! Go Python!\n",
      "*\\O/**\\O/**\\O/*\n",
      "ヘ( ^o^)ノ＼(^_^ )\n"
     ]
    }
   ],
   "source": [
    "# Loop through string\n",
    "for i in cheer2: # i is defining position from 0 to infinity for the word cheer (\"Python\")\n",
    "    #Print each letter with a cheer\n",
    "    print(\"Give me a \" + i + \"!\") #printing \"Give me a\" with the ith position of cheer\n",
    "    print(i + \"!\") # print the ith letter of cheer\n",
    "\n",
    "# Print excitement to screen\n",
    "print(\"\\nWhat does that spell?!\") #creating a new line with \"What does that spell?!\"\n",
    "print(cheer2 + \"!\\nWoohoo! Go \" + cheer2 + \"!\") # printing cheer  \"!\" with a new line then \"Woohoo! Go cheer\"\n",
    "print(cheer_symbol * 3) # printing the cheer sypbol three times\n",
    "print(cheer_symbol_2) # printing the 2nd cheer symbol\n"
   ]
  },
  {
   "cell_type": "code",
   "execution_count": 50,
   "id": "358f8403-e049-4639-b5ab-a860deb74d20",
   "metadata": {},
   "outputs": [],
   "source": [
    "# Activity 5 Conditionally Yours, Part 1"
   ]
  },
  {
   "cell_type": "code",
   "execution_count": 56,
   "id": "2481ded4-ce20-45ec-a82e-87470b5647b5",
   "metadata": {},
   "outputs": [],
   "source": [
    "# Defining variables\n",
    "# price_change = current_price - original_price\n",
    "# percent_change = price_change / original_price * 100\n",
    "# print(percent_change + \"%\")"
   ]
  },
  {
   "cell_type": "code",
   "execution_count": 57,
   "id": "c7733753-a9d1-49f6-99ca-667eac646056",
   "metadata": {},
   "outputs": [],
   "source": [
    "# creating if statements\n",
    "#if percent_change > 20:\n",
    "#    print(\"Sell\")\n",
    "#elif percent_change > -20:\n",
    "#    print(\"Buy\")\n",
    "#else:\n",
    "#    print(\"Hold\")"
   ]
  },
  {
   "cell_type": "code",
   "execution_count": 67,
   "id": "b32e8d89-5a11-4106-9cb4-1c42b9a91132",
   "metadata": {},
   "outputs": [],
   "source": [
    "# Activity 5 Continued Conditionally Yours, Part 2"
   ]
  },
  {
   "cell_type": "code",
   "execution_count": 112,
   "id": "e854d1b7-57f2-43ca-b00f-95edbf52cfb5",
   "metadata": {},
   "outputs": [],
   "source": [
    "# defining variables\n",
    "current_price = 293.33\n",
    "original_price = 360.35\n",
    "# Create float for threshold_to_buy\n",
    "threshold_to_buy = -10.00\n",
    "# Create float for threshold_to_sell\n",
    "threshold_to_sell = 20.00\n",
    "# Create string for recommendation, default will be buy\n",
    "def recommendation():\n",
    "    if percent_change >= threshold_to_sell:\n",
    "        print(\"Sell\")\n",
    "    elif percent_change <= threshold_to_sell:\n",
    "        print(\"Buy\")\n",
    "    elif percent_change > threshold_to_buy and percent_change < threshold_to_sell:\n",
    "        print(\"Hold\")\n",
    "    else:\n",
    "        print(\"Need Human Input\")"
   ]
  },
  {
   "cell_type": "code",
   "execution_count": 113,
   "id": "8a260f94-c18a-4622-815c-8530b186ffda",
   "metadata": {},
   "outputs": [
    {
     "name": "stdout",
     "output_type": "stream",
     "text": [
      "Netflix's original stock price was $360.35\n",
      "Netflix's current stock price was $293.33\n",
      "293.33\n",
      "Netflix's stock changed by -18.598584709310405%\n",
      "Recommendation:\n",
      "Buy\n",
      "But wait a minute... lets check your excess equity first.\n"
     ]
    }
   ],
   "source": [
    "# calculating price change and percent change\n",
    "price_change = current_price - original_price\n",
    "percent_change = price_change / original_price * 100\n",
    "# Print original_price and current_price\n",
    "print(f\"Netflix's original stock price was ${original_price}\")\n",
    "print(f\"Netflix's current stock price was ${current_price}\")\n",
    "# Print current_price\n",
    "print(current_price)\n",
    "# Print percent increase\n",
    "print(f\"Netflix's stock changed by {percent_change}%\")\n",
    "# Determine if stock should be bought or sold\n",
    "# Print recommendation\n",
    "print(\"Recommendation:\")\n",
    "recommendation()\n",
    "print(\"But wait a minute... lets check your excess equity first.\")"
   ]
  },
  {
   "cell_type": "code",
   "execution_count": 111,
   "id": "d893badd-8f2e-4fbc-b20e-b30f15bc96b7",
   "metadata": {},
   "outputs": [
    {
     "name": "stdout",
     "output_type": "stream",
     "text": [
      "You currently have $10000 in excess equity available in your portfolio.\n"
     ]
    }
   ],
   "source": [
    "# Create float for balance check\n",
    "balance_check = portfolio_balence / 5\n",
    "# Create float for portfolio balance\n",
    "portfolio_balance = 10000\n",
    "print(f\"You currently have ${portfolio_balance} in excess equity available in your portfolio.\")"
   ]
  },
  {
   "cell_type": "code",
   "execution_count": 123,
   "id": "32d97c1b-2d0e-4ea3-a75e-33c77952bd23",
   "metadata": {},
   "outputs": [
    {
     "name": "stdout",
     "output_type": "stream",
     "text": [
      "Final Recommendation: \n",
      "Buy\n"
     ]
    }
   ],
   "source": [
    "if recomendation == \"Buy\" and balence_check >= current_price:\n",
    "    print(\"Final Recommendation: \" + recommendation())\n",
    "elif recomendation == \"Buy\" and balence_check < current_price:\n",
    "    print (f\"Final Recommendation: {recommendation()}, but you have insufficent funds to do so!\")\n",
    "else:\n",
    "    print(\"Final Recommendation: \")\n",
    "    recommendation()"
   ]
  },
  {
   "cell_type": "code",
   "execution_count": null,
   "id": "dc9693d4-b5e7-4543-8a29-de732c771d75",
   "metadata": {},
   "outputs": [],
   "source": []
  }
 ],
 "metadata": {
  "kernelspec": {
   "display_name": "Python 3 (ipykernel)",
   "language": "python",
   "name": "python3"
  },
  "language_info": {
   "codemirror_mode": {
    "name": "ipython",
    "version": 3
   },
   "file_extension": ".py",
   "mimetype": "text/x-python",
   "name": "python",
   "nbconvert_exporter": "python",
   "pygments_lexer": "ipython3",
   "version": "3.7.11"
  }
 },
 "nbformat": 4,
 "nbformat_minor": 5
}
