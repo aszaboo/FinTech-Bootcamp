{
 "cells": [
  {
   "cell_type": "code",
   "execution_count": 3,
   "id": "97726b22-a169-41ff-8a9c-16df83054af0",
   "metadata": {},
   "outputs": [],
   "source": [
    "# Variables\n",
    "# *Uppercase naming for classes*\n",
    "name = 'Alex'"
   ]
  },
  {
   "cell_type": "code",
   "execution_count": 4,
   "id": "5158adc5-a647-43a7-831f-8018185d3d99",
   "metadata": {},
   "outputs": [
    {
     "data": {
      "text/plain": [
       "'Alex'"
      ]
     },
     "execution_count": 4,
     "metadata": {},
     "output_type": "execute_result"
    }
   ],
   "source": [
    "name"
   ]
  },
  {
   "cell_type": "code",
   "execution_count": 7,
   "id": "c6b18890-d99d-4227-891f-82735569ad96",
   "metadata": {},
   "outputs": [
    {
     "data": {
      "text/plain": [
       "str"
      ]
     },
     "execution_count": 7,
     "metadata": {},
     "output_type": "execute_result"
    }
   ],
   "source": [
    "type(name)"
   ]
  },
  {
   "cell_type": "code",
   "execution_count": 8,
   "id": "2efce151-d32f-4756-9ea6-0f5c5d3bc77b",
   "metadata": {},
   "outputs": [],
   "source": [
    "age=18"
   ]
  },
  {
   "cell_type": "code",
   "execution_count": 9,
   "id": "84c00e2c-cd5f-4029-9c8c-cf8d9504a178",
   "metadata": {},
   "outputs": [
    {
     "data": {
      "text/plain": [
       "int"
      ]
     },
     "execution_count": 9,
     "metadata": {},
     "output_type": "execute_result"
    }
   ],
   "source": [
    "type(age)"
   ]
  },
  {
   "cell_type": "code",
   "execution_count": 10,
   "id": "9238972b-e2fe-4a44-a943-b22edf4292cd",
   "metadata": {},
   "outputs": [],
   "source": [
    "rate = 4.3"
   ]
  },
  {
   "cell_type": "code",
   "execution_count": 16,
   "id": "6e13c409-fe1d-4004-a90d-0cadbb14cb76",
   "metadata": {},
   "outputs": [
    {
     "data": {
      "text/plain": [
       "float"
      ]
     },
     "execution_count": 16,
     "metadata": {},
     "output_type": "execute_result"
    }
   ],
   "source": [
    "type(rate)"
   ]
  },
  {
   "cell_type": "code",
   "execution_count": 12,
   "id": "066a2794-d25e-40df-bdf2-ec07c0459ff6",
   "metadata": {},
   "outputs": [],
   "source": [
    "time = 20"
   ]
  },
  {
   "cell_type": "code",
   "execution_count": 13,
   "id": "7c825834-fcbf-46b4-af7d-0640ca8ca945",
   "metadata": {},
   "outputs": [],
   "source": [
    "distance = 15"
   ]
  },
  {
   "cell_type": "code",
   "execution_count": 18,
   "id": "44862383-6537-4c5d-9bd5-8f6c93c77f4b",
   "metadata": {},
   "outputs": [],
   "source": [
    "speed = distance / time"
   ]
  },
  {
   "cell_type": "code",
   "execution_count": 19,
   "id": "a485bfe5-9675-4d5f-8d6d-aaa9492662e5",
   "metadata": {},
   "outputs": [
    {
     "data": {
      "text/plain": [
       "0.75"
      ]
     },
     "execution_count": 19,
     "metadata": {},
     "output_type": "execute_result"
    }
   ],
   "source": [
    "speed"
   ]
  },
  {
   "cell_type": "code",
   "execution_count": 27,
   "id": "5195168d-11e9-4994-a668-9cdc06b2947e",
   "metadata": {},
   "outputs": [],
   "source": [
    "time = 1/3"
   ]
  },
  {
   "cell_type": "code",
   "execution_count": 29,
   "id": "fedf322e-498e-4d0a-9431-499537784eb9",
   "metadata": {},
   "outputs": [],
   "source": [
    "speed = distance / time"
   ]
  },
  {
   "cell_type": "code",
   "execution_count": 30,
   "id": "f723cbad-8d0c-4e8c-8859-3fba80602697",
   "metadata": {},
   "outputs": [
    {
     "name": "stdout",
     "output_type": "stream",
     "text": [
      "45.0\n"
     ]
    }
   ],
   "source": [
    "print(speed)"
   ]
  },
  {
   "cell_type": "code",
   "execution_count": 32,
   "id": "8321927a-6a90-4d73-b91b-976964892017",
   "metadata": {},
   "outputs": [
    {
     "name": "stdout",
     "output_type": "stream",
     "text": [
      "The speed is 45.0\n"
     ]
    }
   ],
   "source": [
    "# print(f\"___{}\") = print the text and display the value\n",
    "print(f\"The speed is {speed}\")"
   ]
  },
  {
   "cell_type": "code",
   "execution_count": 33,
   "id": "91127931-3f35-4029-b3d0-a9582d901184",
   "metadata": {},
   "outputs": [
    {
     "name": "stdout",
     "output_type": "stream",
     "text": [
      "The time is 0.3333333333333333\n"
     ]
    }
   ],
   "source": [
    "print(f\"The time is {time}\")"
   ]
  },
  {
   "cell_type": "code",
   "execution_count": 41,
   "id": "ab37515c-086b-4311-8347-c092a3bfe6cf",
   "metadata": {},
   "outputs": [],
   "source": [
    "# Importing Numpy Library\n",
    "# Changing Decimal Places\n",
    "import numpy as np"
   ]
  },
  {
   "cell_type": "code",
   "execution_count": 37,
   "id": "7742c369-a62b-4446-b07c-196ee3ff7093",
   "metadata": {},
   "outputs": [
    {
     "data": {
      "text/plain": [
       "0.333"
      ]
     },
     "execution_count": 37,
     "metadata": {},
     "output_type": "execute_result"
    }
   ],
   "source": [
    "np.round(time,3)"
   ]
  },
  {
   "cell_type": "code",
   "execution_count": 38,
   "id": "b1c4a77f-9f9b-4c85-8e54-93f46ab45c09",
   "metadata": {},
   "outputs": [],
   "source": [
    "time_approx = np.round(time,3)"
   ]
  },
  {
   "cell_type": "code",
   "execution_count": 39,
   "id": "33599a4c-e882-4bbe-a3e1-7339cb200d63",
   "metadata": {},
   "outputs": [
    {
     "data": {
      "text/plain": [
       "0.333"
      ]
     },
     "execution_count": 39,
     "metadata": {},
     "output_type": "execute_result"
    }
   ],
   "source": [
    "time_approx"
   ]
  },
  {
   "cell_type": "code",
   "execution_count": 42,
   "id": "bcedc943-fd99-4b66-9a92-2007336a477f",
   "metadata": {},
   "outputs": [
    {
     "name": "stdout",
     "output_type": "stream",
     "text": [
      "0.333\n"
     ]
    }
   ],
   "source": [
    "# Rounding with a print\n",
    "print(np.round(time,3))"
   ]
  },
  {
   "cell_type": "code",
   "execution_count": 43,
   "id": "3ec8d629-6ec2-4703-b7f5-04216fe348da",
   "metadata": {},
   "outputs": [],
   "source": [
    "#Testing statements"
   ]
  },
  {
   "cell_type": "code",
   "execution_count": 44,
   "id": "71e5aec5-7efc-489d-a9cd-920455d648d7",
   "metadata": {},
   "outputs": [
    {
     "data": {
      "text/plain": [
       "True"
      ]
     },
     "execution_count": 44,
     "metadata": {},
     "output_type": "execute_result"
    }
   ],
   "source": [
    "age == 18"
   ]
  },
  {
   "cell_type": "code",
   "execution_count": 45,
   "id": "ab1de46c-5144-496f-a5b3-99626c1e48dd",
   "metadata": {},
   "outputs": [
    {
     "data": {
      "text/plain": [
       "False"
      ]
     },
     "execution_count": 45,
     "metadata": {},
     "output_type": "execute_result"
    }
   ],
   "source": [
    "age > 18"
   ]
  },
  {
   "cell_type": "code",
   "execution_count": 46,
   "id": "ec815af6-73b3-4a91-99e4-db256c0c5f55",
   "metadata": {},
   "outputs": [
    {
     "data": {
      "text/plain": [
       "False"
      ]
     },
     "execution_count": 46,
     "metadata": {},
     "output_type": "execute_result"
    }
   ],
   "source": [
    "age < 18"
   ]
  },
  {
   "cell_type": "code",
   "execution_count": 47,
   "id": "2ff2d47d-1e87-4ee5-a05e-71e349fd1046",
   "metadata": {},
   "outputs": [],
   "source": [
    "# Creating a list and \n",
    "a = ['a','b','c','d','e']"
   ]
  },
  {
   "cell_type": "code",
   "execution_count": 48,
   "id": "de92377d-e10e-4732-8cfc-4142f507b08b",
   "metadata": {},
   "outputs": [
    {
     "name": "stdout",
     "output_type": "stream",
     "text": [
      "['a', 'b', 'c', 'd', 'e']\n"
     ]
    }
   ],
   "source": [
    "print(a)"
   ]
  },
  {
   "cell_type": "code",
   "execution_count": 60,
   "id": "dc9bd201-7960-420a-8597-43c71c56459e",
   "metadata": {},
   "outputs": [
    {
     "name": "stdout",
     "output_type": "stream",
     "text": [
      "0\n",
      "1\n",
      "2\n",
      "3\n",
      "4\n"
     ]
    }
   ],
   "source": [
    "for i in range(0, len(a)):\n",
    "    print(i)"
   ]
  },
  {
   "cell_type": "code",
   "execution_count": 61,
   "id": "3afac391-6b06-4a20-977a-0fae42c0dfc2",
   "metadata": {},
   "outputs": [
    {
     "name": "stdout",
     "output_type": "stream",
     "text": [
      "0 a\n",
      "1 b\n",
      "2 c\n",
      "3 d\n",
      "4 e\n"
     ]
    }
   ],
   "source": [
    "for i in range(0,len(a)):\n",
    "    print(i,a[i])"
   ]
  },
  {
   "cell_type": "code",
   "execution_count": 62,
   "id": "4c5fd04f-b9c7-4245-9fdb-688e1c0f57d2",
   "metadata": {},
   "outputs": [
    {
     "name": "stdout",
     "output_type": "stream",
     "text": [
      "a\n",
      "b\n",
      "c\n",
      "d\n",
      "e\n"
     ]
    }
   ],
   "source": [
    "for letter in a:\n",
    "    print(letter)"
   ]
  },
  {
   "cell_type": "code",
   "execution_count": 63,
   "id": "44ecc968-b7c1-4f36-9b8a-0593dc4774e7",
   "metadata": {},
   "outputs": [
    {
     "name": "stdout",
     "output_type": "stream",
     "text": [
      "1\n",
      "2\n",
      "3\n",
      "4\n",
      "5\n"
     ]
    }
   ],
   "source": [
    "# While Loops\n",
    "# Prints i is = 1 so it prints, then adds one and does so until 5\n",
    "i = 1\n",
    "while i < 6:\n",
    "    print(i)\n",
    "    i += 1"
   ]
  },
  {
   "cell_type": "code",
   "execution_count": 69,
   "id": "1e9e7858-27f4-423c-85ba-834f143ba49f",
   "metadata": {},
   "outputs": [
    {
     "name": "stdout",
     "output_type": "stream",
     "text": [
      "0 a\n",
      "1 b\n",
      "2 c\n",
      "3 d\n",
      "4 e\n"
     ]
    }
   ],
   "source": [
    "# Stop condition - something that makes the while loop not true anymore, this stopping the code\n",
    "i = 0\n",
    "while i < len(a):\n",
    "    print(i,a[i])\n",
    "    i = i+1"
   ]
  },
  {
   "cell_type": "code",
   "execution_count": null,
   "id": "79dc1cab-5e8b-49f8-a90c-1f62c4bbaa8f",
   "metadata": {},
   "outputs": [],
   "source": []
  }
 ],
 "metadata": {
  "kernelspec": {
   "display_name": "Python 3 (ipykernel)",
   "language": "python",
   "name": "python3"
  },
  "language_info": {
   "codemirror_mode": {
    "name": "ipython",
    "version": 3
   },
   "file_extension": ".py",
   "mimetype": "text/x-python",
   "name": "python",
   "nbconvert_exporter": "python",
   "pygments_lexer": "ipython3",
   "version": "3.7.11"
  }
 },
 "nbformat": 4,
 "nbformat_minor": 5
}
