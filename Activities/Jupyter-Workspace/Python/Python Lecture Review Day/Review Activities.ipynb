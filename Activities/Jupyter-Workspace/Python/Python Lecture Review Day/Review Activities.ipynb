{
 "cells": [
  {
   "cell_type": "code",
   "execution_count": 1,
   "id": "72dfadd9-8182-424c-9338-f7a6a8cfa719",
   "metadata": {},
   "outputs": [],
   "source": [
    "# Review\n",
    "# Dictionaries, Nested Dictionaries, Importing CSVs, Numpy Fincial\n",
    "# NPV, FV, PV, Cash Flows\n",
    "# For loops info functions"
   ]
  },
  {
   "cell_type": "code",
   "execution_count": 2,
   "id": "717a385c-56f7-4275-bc70-c6f77442e7ac",
   "metadata": {},
   "outputs": [],
   "source": [
    "# Activity 11"
   ]
  },
  {
   "cell_type": "code",
   "execution_count": 3,
   "id": "12fefac0-7f32-4d5d-9b99-03dbb12cf0cd",
   "metadata": {},
   "outputs": [],
   "source": [
    "having_fun = \"Functions are fun\""
   ]
  },
  {
   "cell_type": "code",
   "execution_count": 9,
   "id": "9fcd1591-3d68-47dd-8639-8ac265af86d9",
   "metadata": {},
   "outputs": [],
   "source": [
    "thirty_seven = (18+19)"
   ]
  },
  {
   "cell_type": "code",
   "execution_count": 12,
   "id": "18fa08c6-8fda-4136-b1f5-4467099c9337",
   "metadata": {},
   "outputs": [
    {
     "name": "stdout",
     "output_type": "stream",
     "text": [
      "Functions are fun\n",
      "37\n"
     ]
    }
   ],
   "source": [
    "print(having_fun)\n",
    "print(thirty_seven)"
   ]
  },
  {
   "cell_type": "code",
   "execution_count": 15,
   "id": "9d40b432-0fe9-4831-9592-654537fb604a",
   "metadata": {},
   "outputs": [],
   "source": [
    "hello = len(\"cats\")"
   ]
  },
  {
   "cell_type": "code",
   "execution_count": 16,
   "id": "3c8931bd-3be5-4781-a453-a97348315615",
   "metadata": {},
   "outputs": [
    {
     "data": {
      "text/plain": [
       "4"
      ]
     },
     "execution_count": 16,
     "metadata": {},
     "output_type": "execute_result"
    }
   ],
   "source": [
    "hello"
   ]
  },
  {
   "cell_type": "code",
   "execution_count": 28,
   "id": "04589e4a-94b5-4f9d-bf0c-c92d2a455fb7",
   "metadata": {},
   "outputs": [],
   "source": [
    "def user_input():\n",
    "    print(\"What is your name\")\n",
    "    user_name = input('Enter name: ')\n",
    "    return(user_name)"
   ]
  },
  {
   "cell_type": "code",
   "execution_count": 24,
   "id": "67112daf-7b5c-4941-b61c-f2555edcc732",
   "metadata": {},
   "outputs": [
    {
     "name": "stdout",
     "output_type": "stream",
     "text": [
      "What is your name\n"
     ]
    },
    {
     "name": "stdin",
     "output_type": "stream",
     "text": [
      "Enter name:  Alex\n"
     ]
    },
    {
     "name": "stdout",
     "output_type": "stream",
     "text": [
      "Alex\n"
     ]
    }
   ],
   "source": [
    "user_input()"
   ]
  },
  {
   "cell_type": "code",
   "execution_count": 29,
   "id": "3191aa21-3ef3-4165-b4a4-68896c5fb8e4",
   "metadata": {},
   "outputs": [],
   "source": [
    "def good_day():\n",
    "    print('Are you having a nice day?')\n",
    "    dialogue = input()\n",
    "    return(dialogue)"
   ]
  },
  {
   "cell_type": "code",
   "execution_count": 27,
   "id": "b0cc18fb-9d3c-455d-99bf-8d99af1469dd",
   "metadata": {},
   "outputs": [
    {
     "name": "stdout",
     "output_type": "stream",
     "text": [
      "Are you having a nice day?\n"
     ]
    },
    {
     "name": "stdin",
     "output_type": "stream",
     "text": [
      " Yes!\n"
     ]
    },
    {
     "name": "stdout",
     "output_type": "stream",
     "text": [
      "Yes!\n"
     ]
    }
   ],
   "source": [
    "good_day()"
   ]
  },
  {
   "cell_type": "code",
   "execution_count": null,
   "id": "792a6e8d-a3f4-4785-b1ab-bd55056f26df",
   "metadata": {},
   "outputs": [],
   "source": [
    "average = sum("
   ]
  }
 ],
 "metadata": {
  "kernelspec": {
   "display_name": "Python 3 (ipykernel)",
   "language": "python",
   "name": "python3"
  },
  "language_info": {
   "codemirror_mode": {
    "name": "ipython",
    "version": 3
   },
   "file_extension": ".py",
   "mimetype": "text/x-python",
   "name": "python",
   "nbconvert_exporter": "python",
   "pygments_lexer": "ipython3",
   "version": "3.7.11"
  }
 },
 "nbformat": 4,
 "nbformat_minor": 5
}
