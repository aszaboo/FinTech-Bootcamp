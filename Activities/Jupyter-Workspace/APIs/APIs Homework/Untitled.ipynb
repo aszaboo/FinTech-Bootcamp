{
 "cells": [
  {
   "cell_type": "code",
   "execution_count": null,
   "id": "c186a638-370c-43e0-859b-ff802cb72ab1",
   "metadata": {},
   "outputs": [],
   "source": [
    "from random import sample\n",
    "\n",
    "def plot_MC(ticker, start_date, end_date, num_days=10): \n",
    "    df = hist_data\n",
    "    initial_price = df.iloc[-1].values.sum()\n",
    "    \n",
    "    pct_changes = df.pct_change()\n",
    "    pct_changes.dropna(inplace=True)\n",
    "    pct_changes.index = pd.to_datetime(pct_changes.index)\n",
    "    \n",
    "    possible_changes = list(pct_changes.values)\n",
    "    \n",
    "\n",
    "    plt.figure(figsize=(20,10))\n",
    "\n",
    "    realizations = []\n",
    "    for i in range(0, 365*30): \n",
    "\n",
    "        current_price = initial_price \n",
    "        current_price_history = []\n",
    "        for i in range(num_days): \n",
    "            current_pct_change = sample(possible_changes,1)[0]\n",
    "            current_price = current_price * (1+ current_pct_change)\n",
    "            current_price_history.append(current_price)\n",
    "\n",
    "\n",
    "        plt.plot(current_price_history)\n",
    "        plt.title(f\"Monte Carlo Simulation for {ticker}\")\n",
    "\n",
    "        realizations.append(current_price_history)\n",
    "        \n",
    "    plt.show()\n",
    "    \n",
    "    closing_prices_as_of_last_day = [x[-1] for x in realizations]\n",
    "    expected_return = (np.mean(closing_prices_as_of_last_day) - initial_price)/initial_price\n",
    "    low_bound =  np.mean(closing_prices_as_of_last_day)  - 2*np.std(closing_prices_as_of_last_day)\n",
    "    upper_bound =  np.mean(closing_prices_as_of_last_day)  + 2*np.std(closing_prices_as_of_last_day)\n",
    "\n",
    "    print(f\"The starting closing price at the end of this period was {initial_price}\")\n",
    "    print(f\"The expected return on {ticker} is {expected_return} and the closing price will be between \\\n",
    "            {low_bound} and {upper_bound} with 95% confidence in the next {num_days} trading days\")\n",
    "    \n",
    "    low_bound =  np.mean(closing_prices_as_of_last_day)  - 1*np.std(closing_prices_as_of_last_day)\n",
    "    upper_bound =  np.mean(closing_prices_as_of_last_day)  + 1*np.std(closing_prices_as_of_last_day)\n",
    "    \n",
    "    print(f\"The starting closing price at the end of this period was {initial_price}\")\n",
    "    print(f\"The expected return on {ticker} is {expected_return} and the closing price will be between \\\n",
    "            {low_bound} and {upper_bound} with 67% confidence in the next {num_days} trading days\")"
   ]
  }
 ],
 "metadata": {
  "kernelspec": {
   "display_name": "Python 3 (ipykernel)",
   "language": "python",
   "name": "python3"
  },
  "language_info": {
   "codemirror_mode": {
    "name": "ipython",
    "version": 3
   },
   "file_extension": ".py",
   "mimetype": "text/x-python",
   "name": "python",
   "nbconvert_exporter": "python",
   "pygments_lexer": "ipython3",
   "version": "3.7.11"
  }
 },
 "nbformat": 4,
 "nbformat_minor": 5
}
