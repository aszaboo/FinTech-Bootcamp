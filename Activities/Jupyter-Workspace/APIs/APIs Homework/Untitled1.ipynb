{
 "cells": [
  {
   "cell_type": "code",
   "execution_count": 1,
   "id": "d2ebe868",
   "metadata": {},
   "outputs": [],
   "source": [
    "import os\n",
    "import requests\n",
    "import pandas as pd\n",
    "from dotenv import load_dotenv\n",
    "import alpaca_trade_api as tradeapi\n",
    "from MCForecastTools import MCSimulation\n",
    "import matplotlib.pyplot as plt\n",
    "import numpy as np\n",
    "%matplotlib inline"
   ]
  },
  {
   "cell_type": "code",
   "execution_count": 2,
   "id": "3353ffa5",
   "metadata": {},
   "outputs": [
    {
     "data": {
      "text/plain": [
       "True"
      ]
     },
     "execution_count": 2,
     "metadata": {},
     "output_type": "execute_result"
    }
   ],
   "source": [
    "# Load .env enviroment variables\n",
    "load_dotenv()"
   ]
  },
  {
   "cell_type": "code",
   "execution_count": 3,
   "id": "438f43c2",
   "metadata": {},
   "outputs": [],
   "source": [
    "# Set Alpaca API key and secret\n",
    "# YOUR CODE HERE!\n",
    "alpaca_api_key = os.getenv('ALPACA_API_KEY')\n",
    "alpaca_secret_key = os.getenv('ALPACA_SECRET_KEY')\n",
    "# Create the Alpaca API object\n",
    "# YOUR CODE HERE!\n",
    "from alpaca_trade_api.rest import REST, TimeFrame\n",
    "alpaca_api = REST(alpaca_api_key,alpaca_secret_key)"
   ]
  },
  {
   "cell_type": "code",
   "execution_count": 26,
   "id": "61f8d639",
   "metadata": {},
   "outputs": [
    {
     "data": {
      "text/html": [
       "<div>\n",
       "<style scoped>\n",
       "    .dataframe tbody tr th:only-of-type {\n",
       "        vertical-align: middle;\n",
       "    }\n",
       "\n",
       "    .dataframe tbody tr th {\n",
       "        vertical-align: top;\n",
       "    }\n",
       "\n",
       "    .dataframe thead th {\n",
       "        text-align: right;\n",
       "    }\n",
       "</style>\n",
       "<table border=\"1\" class=\"dataframe\">\n",
       "  <thead>\n",
       "    <tr style=\"text-align: right;\">\n",
       "      <th></th>\n",
       "      <th>open</th>\n",
       "      <th>high</th>\n",
       "      <th>low</th>\n",
       "      <th>close</th>\n",
       "      <th>volume</th>\n",
       "      <th>trade_count</th>\n",
       "      <th>vwap</th>\n",
       "      <th>symbol</th>\n",
       "    </tr>\n",
       "    <tr>\n",
       "      <th>timestamp</th>\n",
       "      <th></th>\n",
       "      <th></th>\n",
       "      <th></th>\n",
       "      <th></th>\n",
       "      <th></th>\n",
       "      <th></th>\n",
       "      <th></th>\n",
       "      <th></th>\n",
       "    </tr>\n",
       "  </thead>\n",
       "  <tbody>\n",
       "    <tr>\n",
       "      <th>2018-04-09 04:00:00+00:00</th>\n",
       "      <td>22.85</td>\n",
       "      <td>23.35</td>\n",
       "      <td>22.650</td>\n",
       "      <td>23.00</td>\n",
       "      <td>276852</td>\n",
       "      <td>2256</td>\n",
       "      <td>23.100142</td>\n",
       "      <td>ETH</td>\n",
       "    </tr>\n",
       "    <tr>\n",
       "      <th>2018-04-10 04:00:00+00:00</th>\n",
       "      <td>23.05</td>\n",
       "      <td>23.15</td>\n",
       "      <td>22.575</td>\n",
       "      <td>22.65</td>\n",
       "      <td>348168</td>\n",
       "      <td>2673</td>\n",
       "      <td>22.782257</td>\n",
       "      <td>ETH</td>\n",
       "    </tr>\n",
       "    <tr>\n",
       "      <th>2018-04-11 04:00:00+00:00</th>\n",
       "      <td>22.45</td>\n",
       "      <td>22.75</td>\n",
       "      <td>22.025</td>\n",
       "      <td>22.30</td>\n",
       "      <td>431988</td>\n",
       "      <td>3323</td>\n",
       "      <td>22.285096</td>\n",
       "      <td>ETH</td>\n",
       "    </tr>\n",
       "    <tr>\n",
       "      <th>2018-04-12 04:00:00+00:00</th>\n",
       "      <td>22.35</td>\n",
       "      <td>22.60</td>\n",
       "      <td>22.150</td>\n",
       "      <td>22.40</td>\n",
       "      <td>198987</td>\n",
       "      <td>1791</td>\n",
       "      <td>22.410171</td>\n",
       "      <td>ETH</td>\n",
       "    </tr>\n",
       "    <tr>\n",
       "      <th>2018-04-13 04:00:00+00:00</th>\n",
       "      <td>22.40</td>\n",
       "      <td>22.60</td>\n",
       "      <td>21.800</td>\n",
       "      <td>22.35</td>\n",
       "      <td>344724</td>\n",
       "      <td>2421</td>\n",
       "      <td>22.269010</td>\n",
       "      <td>ETH</td>\n",
       "    </tr>\n",
       "  </tbody>\n",
       "</table>\n",
       "</div>"
      ],
      "text/plain": [
       "                            open   high     low  close  volume  trade_count  \\\n",
       "timestamp                                                                     \n",
       "2018-04-09 04:00:00+00:00  22.85  23.35  22.650  23.00  276852         2256   \n",
       "2018-04-10 04:00:00+00:00  23.05  23.15  22.575  22.65  348168         2673   \n",
       "2018-04-11 04:00:00+00:00  22.45  22.75  22.025  22.30  431988         3323   \n",
       "2018-04-12 04:00:00+00:00  22.35  22.60  22.150  22.40  198987         1791   \n",
       "2018-04-13 04:00:00+00:00  22.40  22.60  21.800  22.35  344724         2421   \n",
       "\n",
       "                                vwap symbol  \n",
       "timestamp                                    \n",
       "2018-04-09 04:00:00+00:00  23.100142    ETH  \n",
       "2018-04-10 04:00:00+00:00  22.782257    ETH  \n",
       "2018-04-11 04:00:00+00:00  22.285096    ETH  \n",
       "2018-04-12 04:00:00+00:00  22.410171    ETH  \n",
       "2018-04-13 04:00:00+00:00  22.269010    ETH  "
      ]
     },
     "execution_count": 26,
     "metadata": {},
     "output_type": "execute_result"
    }
   ],
   "source": [
    "yesterday = pd.Timestamp.now(tz=\"America/New_York\") - pd.Timedelta(days=1)\n",
    "\n",
    "start = (yesterday - pd.Timedelta(days=1460)).strftime('%Y-%m-%d')\n",
    "end = yesterday.strftime('%Y-%m-%d')\n",
    "\n",
    "# Set the tickers\n",
    "tickers = [\"\"]\n",
    "\n",
    "# Set timeframe to '1D' for Alpaca API\n",
    "timeframe = \"1DAY\"\n",
    "\n",
    "df_tickers = alpaca_api.get_bars(tickers, TimeFrame.Day, start, end).df\n",
    "\n",
    "# Preview DataFrame\n",
    "df_tickers.head()"
   ]
  },
  {
   "cell_type": "code",
   "execution_count": 25,
   "id": "84d5ec10",
   "metadata": {},
   "outputs": [
    {
     "data": {
      "text/plain": [
       "17"
      ]
     },
     "execution_count": 25,
     "metadata": {},
     "output_type": "execute_result"
    }
   ],
   "source": [
    "len(df_tickers)"
   ]
  },
  {
   "cell_type": "code",
   "execution_count": null,
   "id": "02f1d5a0",
   "metadata": {},
   "outputs": [],
   "source": []
  }
 ],
 "metadata": {
  "kernelspec": {
   "display_name": "Python [conda env:alpacaenv]",
   "language": "python",
   "name": "conda-env-alpacaenv-py"
  },
  "language_info": {
   "codemirror_mode": {
    "name": "ipython",
    "version": 3
   },
   "file_extension": ".py",
   "mimetype": "text/x-python",
   "name": "python",
   "nbconvert_exporter": "python",
   "pygments_lexer": "ipython3",
   "version": "3.7.11"
  }
 },
 "nbformat": 4,
 "nbformat_minor": 5
}
