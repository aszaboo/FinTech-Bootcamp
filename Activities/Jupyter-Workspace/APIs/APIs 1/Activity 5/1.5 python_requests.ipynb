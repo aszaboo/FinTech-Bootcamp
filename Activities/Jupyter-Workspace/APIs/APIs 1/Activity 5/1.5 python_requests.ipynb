{
 "cells": [
  {
   "cell_type": "markdown",
   "metadata": {},
   "source": [
    "## Ice Breakers on Request"
   ]
  },
  {
   "cell_type": "markdown",
   "metadata": {},
   "source": [
    "### Import requests library"
   ]
  },
  {
   "cell_type": "code",
   "execution_count": 1,
   "metadata": {},
   "outputs": [],
   "source": [
    "import requests"
   ]
  },
  {
   "cell_type": "markdown",
   "metadata": {},
   "source": [
    "### Declare `request_urls`"
   ]
  },
  {
   "cell_type": "code",
   "execution_count": 2,
   "metadata": {},
   "outputs": [],
   "source": [
    "# Declare `url` variables\n",
    "prog_joke_url = \"https://official-joke-api.appspot.com/jokes/programming/random\"\n",
    "rand_joke_url = \"https://official-joke-api.appspot.com/jokes/random\"\n",
    "cat_facts_url = \"https://catfact.ninja/facts\"\n",
    "daily_releases_url = \"https://www150.statcan.gc.ca/n1/dai-quo/ssi/homepage/daily-banner-eng.json\"\n",
    "us_gdp_data_url = \"http://api.worldbank.org/v2/country/us?format=json\""
   ]
  },
  {
   "cell_type": "markdown",
   "metadata": {},
   "source": [
    "### Execute `GET` request using `requests` library"
   ]
  },
  {
   "cell_type": "code",
   "execution_count": 7,
   "metadata": {},
   "outputs": [],
   "source": [
    "# Execute `GET` request with url\n",
    "response_data = requests.get(cat_facts_url)"
   ]
  },
  {
   "cell_type": "markdown",
   "metadata": {},
   "source": [
    "### Get response `status code`"
   ]
  },
  {
   "cell_type": "code",
   "execution_count": 8,
   "metadata": {},
   "outputs": [
    {
     "name": "stdout",
     "output_type": "stream",
     "text": [
      "<Response [200]>\n"
     ]
    }
   ],
   "source": [
    "# Print `response_data variable`\n",
    "print(response_data)"
   ]
  },
  {
   "cell_type": "markdown",
   "metadata": {},
   "source": [
    "### Extract response `content`"
   ]
  },
  {
   "cell_type": "code",
   "execution_count": 9,
   "metadata": {},
   "outputs": [],
   "source": [
    "# Store response using `content` attribute\n",
    "response_content = response_data.content"
   ]
  },
  {
   "cell_type": "markdown",
   "metadata": {},
   "source": [
    "### Convert output to JSON"
   ]
  },
  {
   "cell_type": "code",
   "execution_count": 10,
   "metadata": {},
   "outputs": [],
   "source": [
    "# Format data as JSON\n",
    "data = response_data.json() "
   ]
  },
  {
   "cell_type": "markdown",
   "metadata": {},
   "source": [
    "### Format data with `json.dumps`"
   ]
  },
  {
   "cell_type": "code",
   "execution_count": 12,
   "metadata": {},
   "outputs": [
    {
     "name": "stdout",
     "output_type": "stream",
     "text": [
      "{\n",
      "    \"current_page\": 1,\n",
      "    \"data\": [\n",
      "        {\n",
      "            \"fact\": \"The cheetah is the world's fastest land mammal. It can run at speeds of up to 70 miles an hour (113 kilometers an hour).\",\n",
      "            \"length\": 120\n",
      "        },\n",
      "        {\n",
      "            \"fact\": \"Ginger tabby cats can have freckles around their mouths and on their eyelids!\",\n",
      "            \"length\": 77\n",
      "        },\n",
      "        {\n",
      "            \"fact\": \"A cat's field of vision is about 200 degrees.\",\n",
      "            \"length\": 45\n",
      "        },\n",
      "        {\n",
      "            \"fact\": \"A cat\\u2019s back is extremely flexible because it has up to 53 loosely fitting vertebrae. Humans only have 34.\",\n",
      "            \"length\": 106\n",
      "        },\n",
      "        {\n",
      "            \"fact\": \"Cats eat grass to aid their digestion and to help them get rid of any fur in their stomachs.\",\n",
      "            \"length\": 92\n",
      "        },\n",
      "        {\n",
      "            \"fact\": \"Cats have 32 muscles that control the outer ear (humans have only 6). A cat can independently rotate its ears 180 degrees.\",\n",
      "            \"length\": 122\n",
      "        },\n",
      "        {\n",
      "            \"fact\": \"An adult lion's roar can be heard up to five miles (eight kilometers) away.\",\n",
      "            \"length\": 75\n",
      "        },\n",
      "        {\n",
      "            \"fact\": \"A cat has approximately 60 to 80 million olfactory cells (a human has between 5 and 20 million).\",\n",
      "            \"length\": 96\n",
      "        },\n",
      "        {\n",
      "            \"fact\": \"Cats have 3 eyelids.\",\n",
      "            \"length\": 20\n",
      "        },\n",
      "        {\n",
      "            \"fact\": \"Cat families usually play best in even numbers. Cats and kittens should be acquired in pairs whenever possible.\",\n",
      "            \"length\": 111\n",
      "        }\n",
      "    ],\n",
      "    \"first_page_url\": \"https://catfact.ninja/facts?page=1\",\n",
      "    \"from\": 1,\n",
      "    \"last_page\": 34,\n",
      "    \"last_page_url\": \"https://catfact.ninja/facts?page=34\",\n",
      "    \"links\": [\n",
      "        {\n",
      "            \"url\": null,\n",
      "            \"label\": \"Previous\",\n",
      "            \"active\": false\n",
      "        },\n",
      "        {\n",
      "            \"url\": \"https://catfact.ninja/facts?page=1\",\n",
      "            \"label\": \"1\",\n",
      "            \"active\": true\n",
      "        },\n",
      "        {\n",
      "            \"url\": \"https://catfact.ninja/facts?page=2\",\n",
      "            \"label\": \"2\",\n",
      "            \"active\": false\n",
      "        },\n",
      "        {\n",
      "            \"url\": \"https://catfact.ninja/facts?page=3\",\n",
      "            \"label\": \"3\",\n",
      "            \"active\": false\n",
      "        },\n",
      "        {\n",
      "            \"url\": \"https://catfact.ninja/facts?page=4\",\n",
      "            \"label\": \"4\",\n",
      "            \"active\": false\n",
      "        },\n",
      "        {\n",
      "            \"url\": \"https://catfact.ninja/facts?page=5\",\n",
      "            \"label\": \"5\",\n",
      "            \"active\": false\n",
      "        },\n",
      "        {\n",
      "            \"url\": \"https://catfact.ninja/facts?page=6\",\n",
      "            \"label\": \"6\",\n",
      "            \"active\": false\n",
      "        },\n",
      "        {\n",
      "            \"url\": \"https://catfact.ninja/facts?page=7\",\n",
      "            \"label\": \"7\",\n",
      "            \"active\": false\n",
      "        },\n",
      "        {\n",
      "            \"url\": \"https://catfact.ninja/facts?page=8\",\n",
      "            \"label\": \"8\",\n",
      "            \"active\": false\n",
      "        },\n",
      "        {\n",
      "            \"url\": \"https://catfact.ninja/facts?page=9\",\n",
      "            \"label\": \"9\",\n",
      "            \"active\": false\n",
      "        },\n",
      "        {\n",
      "            \"url\": \"https://catfact.ninja/facts?page=10\",\n",
      "            \"label\": \"10\",\n",
      "            \"active\": false\n",
      "        },\n",
      "        {\n",
      "            \"url\": null,\n",
      "            \"label\": \"...\",\n",
      "            \"active\": false\n",
      "        },\n",
      "        {\n",
      "            \"url\": \"https://catfact.ninja/facts?page=33\",\n",
      "            \"label\": \"33\",\n",
      "            \"active\": false\n",
      "        },\n",
      "        {\n",
      "            \"url\": \"https://catfact.ninja/facts?page=34\",\n",
      "            \"label\": \"34\",\n",
      "            \"active\": false\n",
      "        },\n",
      "        {\n",
      "            \"url\": \"https://catfact.ninja/facts?page=2\",\n",
      "            \"label\": \"Next\",\n",
      "            \"active\": false\n",
      "        }\n",
      "    ],\n",
      "    \"next_page_url\": \"https://catfact.ninja/facts?page=2\",\n",
      "    \"path\": \"https://catfact.ninja/facts\",\n",
      "    \"per_page\": 10,\n",
      "    \"prev_page_url\": null,\n",
      "    \"to\": 10,\n",
      "    \"total\": 332\n",
      "}\n"
     ]
    }
   ],
   "source": [
    "import json\n",
    "# Use json.dumps with argument indent=4 to format data\n",
    "print(json.dumps(data, indent=4))"
   ]
  },
  {
   "cell_type": "markdown",
   "metadata": {},
   "source": [
    "### Select value and store as variable"
   ]
  },
  {
   "cell_type": "code",
   "execution_count": 15,
   "metadata": {},
   "outputs": [],
   "source": [
    "backround_info = data[\"data\"][0][\"fact\"]"
   ]
  },
  {
   "cell_type": "code",
   "execution_count": 16,
   "metadata": {},
   "outputs": [
    {
     "data": {
      "text/plain": [
       "\"The cheetah is the world's fastest land mammal. It can run at speeds of up to 70 miles an hour (113 kilometers an hour).\""
      ]
     },
     "execution_count": 16,
     "metadata": {},
     "output_type": "execute_result"
    }
   ],
   "source": [
    "# Print selected values\n",
    "backround_info"
   ]
  },
  {
   "cell_type": "code",
   "execution_count": null,
   "metadata": {},
   "outputs": [],
   "source": []
  }
 ],
 "metadata": {
  "kernelspec": {
   "display_name": "Python 3 (ipykernel)",
   "language": "python",
   "name": "python3"
  },
  "language_info": {
   "codemirror_mode": {
    "name": "ipython",
    "version": 3
   },
   "file_extension": ".py",
   "mimetype": "text/x-python",
   "name": "python",
   "nbconvert_exporter": "python",
   "pygments_lexer": "ipython3",
   "version": "3.7.11"
  }
 },
 "nbformat": 4,
 "nbformat_minor": 4
}
