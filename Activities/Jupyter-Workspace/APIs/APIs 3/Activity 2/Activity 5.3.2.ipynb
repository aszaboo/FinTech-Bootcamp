{
 "cells": [
  {
   "cell_type": "code",
   "execution_count": 24,
   "id": "b4afdf63-b532-445a-a687-173e0fbca7f9",
   "metadata": {},
   "outputs": [],
   "source": [
    "# importing load_dotenv\n",
    "from dotenv import load_dotenv\n",
    "# importing operating system\n",
    "import os\n",
    "# makes file acessable\n",
    "load_dotenv()\n",
    "# importing requests\n",
    "import requests\n",
    "# importing pandas\n",
    "import pandas as pd\n",
    "# importing alpaca trade api\n",
    "import alpaca_trade_api as trade_api\n",
    "# importing datetime\n",
    "from datetime import datetime\n",
    "# importing seaborn\n",
    "import seaborn as sns"
   ]
  },
  {
   "cell_type": "code",
   "execution_count": 5,
   "id": "31f8e685-2789-4704-9829-57f34d53f082",
   "metadata": {},
   "outputs": [],
   "source": [
    "# Retrieve API key and store as Python variable\n",
    "alpaca_api_key = os.getenv('ALPACA_API_KEY')\n",
    "alpaca_secret_key = os.getenv('ALPACA_SECRET_KEY')"
   ]
  },
  {
   "cell_type": "code",
   "execution_count": 8,
   "id": "bb60108e-ca4e-4cfc-ab6a-93ce54d3e4bf",
   "metadata": {},
   "outputs": [],
   "source": [
    "# Using the Alpaca API, query the database and get 1 year's worth of daily stock information for the following stocks:\n",
    "tickers = ['SPY','LUV','DIS','AAPL','SBUX','WORK']"
   ]
  },
  {
   "cell_type": "code",
   "execution_count": 9,
   "id": "ec1ba58f-ea7b-4dda-a6d9-9c6e22f976e8",
   "metadata": {},
   "outputs": [],
   "source": [
    "# defining the alpaca trade api\n",
    "from alpaca_trade_api.rest import REST, TimeFrame\n",
    "stocks = REST(alpaca_api_key,alpaca_secret_key)"
   ]
  },
  {
   "cell_type": "code",
   "execution_count": 26,
   "id": "61e03bfe-cfab-4cc0-8ee3-aee760197d33",
   "metadata": {},
   "outputs": [],
   "source": [
    "stock_price = stocks.get_bars(tickers, TimeFrame.Day, \"2020-03-01\", \"2021-03-01\", adjustment='raw').df"
   ]
  },
  {
   "cell_type": "code",
   "execution_count": 27,
   "id": "b7dc55d5-663b-4ff8-b9ab-3afeae324113",
   "metadata": {},
   "outputs": [],
   "source": [
    "stock_price.index=stock_price.index.date"
   ]
  },
  {
   "cell_type": "code",
   "execution_count": 28,
   "id": "abcd2fed-490c-4e90-bed6-81b37103e95a",
   "metadata": {},
   "outputs": [],
   "source": [
    "stock_price.index=pd.to_datetime(stock_price.index)"
   ]
  },
  {
   "cell_type": "code",
   "execution_count": 29,
   "id": "57d526f3-a2d2-4844-8c66-7fff64ef192e",
   "metadata": {},
   "outputs": [],
   "source": [
    "stock_price=stock_price[['close', 'symbol']]"
   ]
  },
  {
   "cell_type": "code",
   "execution_count": 30,
   "id": "51de0946-9450-4191-98c3-a9868710abd6",
   "metadata": {},
   "outputs": [],
   "source": [
    "stocks_sorted = pd.pivot_table(stock_price, values='close', index=stock_price.index, columns=['symbol'])"
   ]
  },
  {
   "cell_type": "code",
   "execution_count": 31,
   "id": "87e162a8-04f2-4ce0-9ae3-0187805619f6",
   "metadata": {},
   "outputs": [],
   "source": [
    "table_daily_returns = stocks_sorted.pct_change()"
   ]
  },
  {
   "cell_type": "code",
   "execution_count": 32,
   "id": "a9851066-fbb0-4254-9707-e0ee2c030ee5",
   "metadata": {},
   "outputs": [],
   "source": [
    "table_daily_returns.dropna(inplace=True)"
   ]
  },
  {
   "cell_type": "code",
   "execution_count": 33,
   "id": "e10d8b27-a7d3-4cc1-aba2-e159975b8db5",
   "metadata": {},
   "outputs": [
    {
     "data": {
      "text/html": [
       "<div>\n",
       "<style scoped>\n",
       "    .dataframe tbody tr th:only-of-type {\n",
       "        vertical-align: middle;\n",
       "    }\n",
       "\n",
       "    .dataframe tbody tr th {\n",
       "        vertical-align: top;\n",
       "    }\n",
       "\n",
       "    .dataframe thead th {\n",
       "        text-align: right;\n",
       "    }\n",
       "</style>\n",
       "<table border=\"1\" class=\"dataframe\">\n",
       "  <thead>\n",
       "    <tr style=\"text-align: right;\">\n",
       "      <th>symbol</th>\n",
       "      <th>AAPL</th>\n",
       "      <th>DIS</th>\n",
       "      <th>LUV</th>\n",
       "      <th>SBUX</th>\n",
       "      <th>SPY</th>\n",
       "      <th>WORK</th>\n",
       "    </tr>\n",
       "  </thead>\n",
       "  <tbody>\n",
       "    <tr>\n",
       "      <th>2020-03-03</th>\n",
       "      <td>-0.031759</td>\n",
       "      <td>-0.029422</td>\n",
       "      <td>-0.037061</td>\n",
       "      <td>-0.045885</td>\n",
       "      <td>-0.028632</td>\n",
       "      <td>-0.010658</td>\n",
       "    </tr>\n",
       "    <tr>\n",
       "      <th>2020-03-04</th>\n",
       "      <td>0.046385</td>\n",
       "      <td>0.023444</td>\n",
       "      <td>0.038045</td>\n",
       "      <td>0.013613</td>\n",
       "      <td>0.042033</td>\n",
       "      <td>0.032689</td>\n",
       "    </tr>\n",
       "    <tr>\n",
       "      <th>2020-03-05</th>\n",
       "      <td>-0.032437</td>\n",
       "      <td>-0.043631</td>\n",
       "      <td>-0.035798</td>\n",
       "      <td>-0.043680</td>\n",
       "      <td>-0.033242</td>\n",
       "      <td>0.021223</td>\n",
       "    </tr>\n",
       "    <tr>\n",
       "      <th>2020-03-06</th>\n",
       "      <td>-0.013280</td>\n",
       "      <td>0.011318</td>\n",
       "      <td>0.010608</td>\n",
       "      <td>-0.011156</td>\n",
       "      <td>-0.016531</td>\n",
       "      <td>-0.069391</td>\n",
       "    </tr>\n",
       "    <tr>\n",
       "      <th>2020-03-09</th>\n",
       "      <td>-0.079092</td>\n",
       "      <td>-0.094734</td>\n",
       "      <td>-0.046140</td>\n",
       "      <td>-0.059862</td>\n",
       "      <td>-0.078095</td>\n",
       "      <td>-0.057911</td>\n",
       "    </tr>\n",
       "    <tr>\n",
       "      <th>...</th>\n",
       "      <td>...</td>\n",
       "      <td>...</td>\n",
       "      <td>...</td>\n",
       "      <td>...</td>\n",
       "      <td>...</td>\n",
       "      <td>...</td>\n",
       "    </tr>\n",
       "    <tr>\n",
       "      <th>2021-02-23</th>\n",
       "      <td>-0.001111</td>\n",
       "      <td>0.027795</td>\n",
       "      <td>0.035225</td>\n",
       "      <td>-0.004322</td>\n",
       "      <td>0.001214</td>\n",
       "      <td>-0.010266</td>\n",
       "    </tr>\n",
       "    <tr>\n",
       "      <th>2021-02-24</th>\n",
       "      <td>-0.004052</td>\n",
       "      <td>0.002131</td>\n",
       "      <td>0.045310</td>\n",
       "      <td>0.029693</td>\n",
       "      <td>0.011019</td>\n",
       "      <td>-0.001650</td>\n",
       "    </tr>\n",
       "    <tr>\n",
       "      <th>2021-02-25</th>\n",
       "      <td>-0.034783</td>\n",
       "      <td>-0.033062</td>\n",
       "      <td>-0.016529</td>\n",
       "      <td>-0.008718</td>\n",
       "      <td>-0.024096</td>\n",
       "      <td>-0.012987</td>\n",
       "    </tr>\n",
       "    <tr>\n",
       "      <th>2021-02-26</th>\n",
       "      <td>0.002232</td>\n",
       "      <td>-0.010158</td>\n",
       "      <td>-0.003087</td>\n",
       "      <td>0.044071</td>\n",
       "      <td>-0.005153</td>\n",
       "      <td>-0.020813</td>\n",
       "    </tr>\n",
       "    <tr>\n",
       "      <th>2021-03-01</th>\n",
       "      <td>0.053851</td>\n",
       "      <td>0.031422</td>\n",
       "      <td>-0.001204</td>\n",
       "      <td>-0.010738</td>\n",
       "      <td>0.024240</td>\n",
       "      <td>0.004398</td>\n",
       "    </tr>\n",
       "  </tbody>\n",
       "</table>\n",
       "<p>251 rows × 6 columns</p>\n",
       "</div>"
      ],
      "text/plain": [
       "symbol          AAPL       DIS       LUV      SBUX       SPY      WORK\n",
       "2020-03-03 -0.031759 -0.029422 -0.037061 -0.045885 -0.028632 -0.010658\n",
       "2020-03-04  0.046385  0.023444  0.038045  0.013613  0.042033  0.032689\n",
       "2020-03-05 -0.032437 -0.043631 -0.035798 -0.043680 -0.033242  0.021223\n",
       "2020-03-06 -0.013280  0.011318  0.010608 -0.011156 -0.016531 -0.069391\n",
       "2020-03-09 -0.079092 -0.094734 -0.046140 -0.059862 -0.078095 -0.057911\n",
       "...              ...       ...       ...       ...       ...       ...\n",
       "2021-02-23 -0.001111  0.027795  0.035225 -0.004322  0.001214 -0.010266\n",
       "2021-02-24 -0.004052  0.002131  0.045310  0.029693  0.011019 -0.001650\n",
       "2021-02-25 -0.034783 -0.033062 -0.016529 -0.008718 -0.024096 -0.012987\n",
       "2021-02-26  0.002232 -0.010158 -0.003087  0.044071 -0.005153 -0.020813\n",
       "2021-03-01  0.053851  0.031422 -0.001204 -0.010738  0.024240  0.004398\n",
       "\n",
       "[251 rows x 6 columns]"
      ]
     },
     "execution_count": 33,
     "metadata": {},
     "output_type": "execute_result"
    }
   ],
   "source": [
    "table_daily_returns"
   ]
  },
  {
   "cell_type": "code",
   "execution_count": 34,
   "id": "deeb6487-76f0-4d7e-802a-e6f116ae91ad",
   "metadata": {},
   "outputs": [
    {
     "data": {
      "text/plain": [
       "<AxesSubplot:ylabel='Frequency'>"
      ]
     },
     "execution_count": 34,
     "metadata": {},
     "output_type": "execute_result"
    },
    {
     "data": {
      "image/png": "[encoded data removed]",
      "text/plain": [
       "<Figure size 432x288 with 1 Axes>"
      ]
     },
     "metadata": {
      "needs_background": "light"
     },
     "output_type": "display_data"
    }
   ],
   "source": [
    "# Visualize the distribution of daily returns across all stocks using a histogram plot.\n",
    "table_daily_returns.plot.hist(alpha=0.5)"
   ]
  },
  {
   "cell_type": "code",
   "execution_count": 35,
   "id": "a2172d99-dfc4-4910-82f1-4d464398dec5",
   "metadata": {},
   "outputs": [
    {
     "data": {
      "text/plain": [
       "<AxesSubplot:ylabel='Density'>"
      ]
     },
     "execution_count": 35,
     "metadata": {},
     "output_type": "execute_result"
    },
    {
     "data": {
      "image/png": "[encoded data removed]",
      "text/plain": [
       "<Figure size 432x288 with 1 Axes>"
      ]
     },
     "metadata": {
      "needs_background": "light"
     },
     "output_type": "display_data"
    }
   ],
   "source": [
    "# Visualize the distribution of daily returns across all stocks using a density plot\n",
    "table_daily_returns.plot.density()"
   ]
  },
  {
   "cell_type": "code",
   "execution_count": 36,
   "id": "965bbd5e-5fc2-43a0-bae6-c24bcc1cf3a0",
   "metadata": {},
   "outputs": [
    {
     "name": "stderr",
     "output_type": "stream",
     "text": [
      "/opt/anaconda3/envs/alpacaenv/lib/python3.7/site-packages/seaborn/distributions.py:2619: FutureWarning: `distplot` is a deprecated function and will be removed in a future version. Please adapt your code to use either `displot` (a figure-level function with similar flexibility) or `histplot` (an axes-level function for histograms).\n",
      "  warnings.warn(msg, FutureWarning)\n"
     ]
    },
    {
     "data": {
      "text/plain": [
       "<AxesSubplot:ylabel='Density'>"
      ]
     },
     "execution_count": 36,
     "metadata": {},
     "output_type": "execute_result"
    },
    {
     "data": {
      "image/png": "[encoded data removed]",
      "text/plain": [
       "<Figure size 432x288 with 1 Axes>"
      ]
     },
     "metadata": {
      "needs_background": "light"
     },
     "output_type": "display_data"
    }
   ],
   "source": [
    "sns.distplot(table_daily_returns)"
   ]
  },
  {
   "cell_type": "code",
   "execution_count": null,
   "id": "cb6446bc-ccb2-4b04-b2c4-b7e198406971",
   "metadata": {},
   "outputs": [],
   "source": []
  },
  {
   "cell_type": "code",
   "execution_count": null,
   "id": "6aa9c3be-1539-4e49-8260-5a61c22051cd",
   "metadata": {},
   "outputs": [],
   "source": []
  }
 ],
 "metadata": {
  "kernelspec": {
   "display_name": "Python 3 (ipykernel)",
   "language": "python",
   "name": "python3"
  },
  "language_info": {
   "codemirror_mode": {
    "name": "ipython",
    "version": 3
   },
   "file_extension": ".py",
   "mimetype": "text/x-python",
   "name": "python",
   "nbconvert_exporter": "python",
   "pygments_lexer": "ipython3",
   "version": "3.7.11"
  }
 },
 "nbformat": 4,
 "nbformat_minor": 5
}
