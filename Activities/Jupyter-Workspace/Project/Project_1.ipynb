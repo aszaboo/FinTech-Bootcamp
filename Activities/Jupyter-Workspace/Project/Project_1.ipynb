{
 "cells": [
  {
   "cell_type": "code",
   "execution_count": 1,
   "id": "2f9ea590",
   "metadata": {},
   "outputs": [],
   "source": [
    "# Initial imports\n",
    "import os\n",
    "import requests\n",
    "import pandas as pd\n",
    "from dotenv import load_dotenv\n",
    "import numpy as np\n",
    "import datetime\n",
    "import yfinance as yf"
   ]
  },
  {
   "cell_type": "code",
   "execution_count": 2,
   "id": "e6aaad0b",
   "metadata": {},
   "outputs": [
    {
     "data": {
      "text/plain": [
       "True"
      ]
     },
     "execution_count": 2,
     "metadata": {},
     "output_type": "execute_result"
    }
   ],
   "source": [
    "# Load .env enviroment variables\n",
    "load_dotenv()"
   ]
  },
  {
   "cell_type": "code",
   "execution_count": 3,
   "id": "ed0fa5c1",
   "metadata": {},
   "outputs": [
    {
     "data": {
      "text/plain": [
       "'2022-04-15'"
      ]
     },
     "execution_count": 3,
     "metadata": {},
     "output_type": "execute_result"
    }
   ],
   "source": [
    "# defining the date for yahoo finance API\n",
    "today = datetime.date.today().isoformat()\n",
    "today"
   ]
  },
  {
   "cell_type": "code",
   "execution_count": 4,
   "id": "edd6e0cc",
   "metadata": {},
   "outputs": [
    {
     "name": "stdout",
     "output_type": "stream",
     "text": [
      "[*********************100%***********************]  6 of 6 completed\n"
     ]
    }
   ],
   "source": [
    "# downloading all stock, crypto and index data\n",
    "data = yf.download(\"DX-Y.NYB COIN GC=F ^GSPC ^IXIC BTC-USD\", start=\"2014-09-17\", end=today)"
   ]
  },
  {
   "cell_type": "code",
   "execution_count": 5,
   "id": "c83a0712",
   "metadata": {},
   "outputs": [
    {
     "data": {
      "text/html": [
       "<div>\n",
       "<style scoped>\n",
       "    .dataframe tbody tr th:only-of-type {\n",
       "        vertical-align: middle;\n",
       "    }\n",
       "\n",
       "    .dataframe tbody tr th {\n",
       "        vertical-align: top;\n",
       "    }\n",
       "\n",
       "    .dataframe thead th {\n",
       "        text-align: right;\n",
       "    }\n",
       "</style>\n",
       "<table border=\"1\" class=\"dataframe\">\n",
       "  <thead>\n",
       "    <tr style=\"text-align: right;\">\n",
       "      <th></th>\n",
       "      <th>BTC-USD</th>\n",
       "      <th>COIN</th>\n",
       "      <th>USDX</th>\n",
       "      <th>GCF</th>\n",
       "      <th>GSPC</th>\n",
       "      <th>IXIC</th>\n",
       "    </tr>\n",
       "    <tr>\n",
       "      <th>Date</th>\n",
       "      <th></th>\n",
       "      <th></th>\n",
       "      <th></th>\n",
       "      <th></th>\n",
       "      <th></th>\n",
       "      <th></th>\n",
       "    </tr>\n",
       "  </thead>\n",
       "  <tbody>\n",
       "    <tr>\n",
       "      <th>2022-04-11</th>\n",
       "      <td>39521.902344</td>\n",
       "      <td>153.869995</td>\n",
       "      <td>99.930000</td>\n",
       "      <td>1944.300049</td>\n",
       "      <td>4412.529785</td>\n",
       "      <td>13411.959961</td>\n",
       "    </tr>\n",
       "    <tr>\n",
       "      <th>2022-04-12</th>\n",
       "      <td>40127.183594</td>\n",
       "      <td>149.850006</td>\n",
       "      <td>100.290001</td>\n",
       "      <td>1972.099976</td>\n",
       "      <td>4397.450195</td>\n",
       "      <td>13371.570312</td>\n",
       "    </tr>\n",
       "    <tr>\n",
       "      <th>2022-04-13</th>\n",
       "      <td>41166.730469</td>\n",
       "      <td>154.789993</td>\n",
       "      <td>99.879997</td>\n",
       "      <td>1981.000000</td>\n",
       "      <td>4446.589844</td>\n",
       "      <td>13643.589844</td>\n",
       "    </tr>\n",
       "    <tr>\n",
       "      <th>2022-04-14</th>\n",
       "      <td>39935.515625</td>\n",
       "      <td>147.289993</td>\n",
       "      <td>100.320000</td>\n",
       "      <td>1970.900024</td>\n",
       "      <td>4392.589844</td>\n",
       "      <td>13351.080078</td>\n",
       "    </tr>\n",
       "    <tr>\n",
       "      <th>2022-04-15</th>\n",
       "      <td>40028.042969</td>\n",
       "      <td>NaN</td>\n",
       "      <td>100.517998</td>\n",
       "      <td>NaN</td>\n",
       "      <td>NaN</td>\n",
       "      <td>NaN</td>\n",
       "    </tr>\n",
       "  </tbody>\n",
       "</table>\n",
       "</div>"
      ],
      "text/plain": [
       "                 BTC-USD        COIN        USDX          GCF         GSPC  \\\n",
       "Date                                                                         \n",
       "2022-04-11  39521.902344  153.869995   99.930000  1944.300049  4412.529785   \n",
       "2022-04-12  40127.183594  149.850006  100.290001  1972.099976  4397.450195   \n",
       "2022-04-13  41166.730469  154.789993   99.879997  1981.000000  4446.589844   \n",
       "2022-04-14  39935.515625  147.289993  100.320000  1970.900024  4392.589844   \n",
       "2022-04-15  40028.042969         NaN  100.517998          NaN          NaN   \n",
       "\n",
       "                    IXIC  \n",
       "Date                      \n",
       "2022-04-11  13411.959961  \n",
       "2022-04-12  13371.570312  \n",
       "2022-04-13  13643.589844  \n",
       "2022-04-14  13351.080078  \n",
       "2022-04-15           NaN  "
      ]
     },
     "execution_count": 5,
     "metadata": {},
     "output_type": "execute_result"
    }
   ],
   "source": [
    "# trimming the data\n",
    "securities_data = data['Close']\n",
    "securities_data = securities_data.rename(columns={'DX-Y.NYB': 'USDX','GC=F': 'GCF', '^GSPC': 'GSPC', '^IXIC': 'IXIC'}).copy(deep=True)\n",
    "securities_data.tail()"
   ]
  },
  {
   "cell_type": "code",
   "execution_count": 6,
   "id": "a1a73dc8",
   "metadata": {},
   "outputs": [
    {
     "data": {
      "text/html": [
       "<div>\n",
       "<style scoped>\n",
       "    .dataframe tbody tr th:only-of-type {\n",
       "        vertical-align: middle;\n",
       "    }\n",
       "\n",
       "    .dataframe tbody tr th {\n",
       "        vertical-align: top;\n",
       "    }\n",
       "\n",
       "    .dataframe thead th {\n",
       "        text-align: right;\n",
       "    }\n",
       "</style>\n",
       "<table border=\"1\" class=\"dataframe\">\n",
       "  <thead>\n",
       "    <tr style=\"text-align: right;\">\n",
       "      <th></th>\n",
       "      <th>BTC-USD</th>\n",
       "      <th>COIN</th>\n",
       "      <th>USDX</th>\n",
       "      <th>GCF</th>\n",
       "      <th>GSPC</th>\n",
       "      <th>IXIC</th>\n",
       "    </tr>\n",
       "    <tr>\n",
       "      <th>Date</th>\n",
       "      <th></th>\n",
       "      <th></th>\n",
       "      <th></th>\n",
       "      <th></th>\n",
       "      <th></th>\n",
       "      <th></th>\n",
       "    </tr>\n",
       "  </thead>\n",
       "  <tbody>\n",
       "    <tr>\n",
       "      <th>2014-09-17</th>\n",
       "      <td>457.334015</td>\n",
       "      <td>NaN</td>\n",
       "      <td>84.699997</td>\n",
       "      <td>1234.400024</td>\n",
       "      <td>2001.569946</td>\n",
       "      <td>4562.189941</td>\n",
       "    </tr>\n",
       "    <tr>\n",
       "      <th>2014-09-18</th>\n",
       "      <td>424.440002</td>\n",
       "      <td>NaN</td>\n",
       "      <td>84.320000</td>\n",
       "      <td>1225.699951</td>\n",
       "      <td>2011.359985</td>\n",
       "      <td>4593.430176</td>\n",
       "    </tr>\n",
       "    <tr>\n",
       "      <th>2014-09-19</th>\n",
       "      <td>394.795990</td>\n",
       "      <td>NaN</td>\n",
       "      <td>84.800003</td>\n",
       "      <td>1215.300049</td>\n",
       "      <td>2010.400024</td>\n",
       "      <td>4579.790039</td>\n",
       "    </tr>\n",
       "    <tr>\n",
       "      <th>2014-09-22</th>\n",
       "      <td>402.152008</td>\n",
       "      <td>NaN</td>\n",
       "      <td>84.669998</td>\n",
       "      <td>1216.800049</td>\n",
       "      <td>1994.290039</td>\n",
       "      <td>4527.689941</td>\n",
       "    </tr>\n",
       "    <tr>\n",
       "      <th>2014-09-23</th>\n",
       "      <td>435.790985</td>\n",
       "      <td>NaN</td>\n",
       "      <td>84.660004</td>\n",
       "      <td>1221.000000</td>\n",
       "      <td>1982.770020</td>\n",
       "      <td>4508.689941</td>\n",
       "    </tr>\n",
       "  </tbody>\n",
       "</table>\n",
       "</div>"
      ],
      "text/plain": [
       "               BTC-USD  COIN       USDX          GCF         GSPC         IXIC\n",
       "Date                                                                          \n",
       "2014-09-17  457.334015   NaN  84.699997  1234.400024  2001.569946  4562.189941\n",
       "2014-09-18  424.440002   NaN  84.320000  1225.699951  2011.359985  4593.430176\n",
       "2014-09-19  394.795990   NaN  84.800003  1215.300049  2010.400024  4579.790039\n",
       "2014-09-22  402.152008   NaN  84.669998  1216.800049  1994.290039  4527.689941\n",
       "2014-09-23  435.790985   NaN  84.660004  1221.000000  1982.770020  4508.689941"
      ]
     },
     "execution_count": 6,
     "metadata": {},
     "output_type": "execute_result"
    }
   ],
   "source": [
    "# deleting the weekends from the data\n",
    "securities_data = securities_data.dropna(subset=['USDX', 'GCF', 'GSPC', 'IXIC'], how='all')\n",
    "securities_data.head()"
   ]
  },
  {
   "cell_type": "code",
   "execution_count": 7,
   "id": "8f5bcd0d",
   "metadata": {},
   "outputs": [
    {
     "data": {
      "text/html": [
       "<div>\n",
       "<style scoped>\n",
       "    .dataframe tbody tr th:only-of-type {\n",
       "        vertical-align: middle;\n",
       "    }\n",
       "\n",
       "    .dataframe tbody tr th {\n",
       "        vertical-align: top;\n",
       "    }\n",
       "\n",
       "    .dataframe thead th {\n",
       "        text-align: right;\n",
       "    }\n",
       "</style>\n",
       "<table border=\"1\" class=\"dataframe\">\n",
       "  <thead>\n",
       "    <tr style=\"text-align: right;\">\n",
       "      <th></th>\n",
       "      <th>BTC-USD</th>\n",
       "      <th>COIN</th>\n",
       "      <th>USDX</th>\n",
       "      <th>GCF</th>\n",
       "      <th>GSPC</th>\n",
       "      <th>IXIC</th>\n",
       "    </tr>\n",
       "    <tr>\n",
       "      <th>Date</th>\n",
       "      <th></th>\n",
       "      <th></th>\n",
       "      <th></th>\n",
       "      <th></th>\n",
       "      <th></th>\n",
       "      <th></th>\n",
       "    </tr>\n",
       "  </thead>\n",
       "  <tbody>\n",
       "    <tr>\n",
       "      <th>2014-09-18</th>\n",
       "      <td>-0.071926</td>\n",
       "      <td>NaN</td>\n",
       "      <td>-0.004486</td>\n",
       "      <td>-0.007048</td>\n",
       "      <td>0.004891</td>\n",
       "      <td>0.006848</td>\n",
       "    </tr>\n",
       "    <tr>\n",
       "      <th>2014-09-19</th>\n",
       "      <td>-0.069843</td>\n",
       "      <td>NaN</td>\n",
       "      <td>0.005693</td>\n",
       "      <td>-0.008485</td>\n",
       "      <td>-0.000477</td>\n",
       "      <td>-0.002969</td>\n",
       "    </tr>\n",
       "    <tr>\n",
       "      <th>2014-09-22</th>\n",
       "      <td>0.018632</td>\n",
       "      <td>NaN</td>\n",
       "      <td>-0.001533</td>\n",
       "      <td>0.001234</td>\n",
       "      <td>-0.008013</td>\n",
       "      <td>-0.011376</td>\n",
       "    </tr>\n",
       "    <tr>\n",
       "      <th>2014-09-23</th>\n",
       "      <td>0.083647</td>\n",
       "      <td>NaN</td>\n",
       "      <td>-0.000118</td>\n",
       "      <td>0.003452</td>\n",
       "      <td>-0.005777</td>\n",
       "      <td>-0.004196</td>\n",
       "    </tr>\n",
       "    <tr>\n",
       "      <th>2014-09-24</th>\n",
       "      <td>-0.028881</td>\n",
       "      <td>NaN</td>\n",
       "      <td>0.004607</td>\n",
       "      <td>-0.001966</td>\n",
       "      <td>0.007832</td>\n",
       "      <td>0.010320</td>\n",
       "    </tr>\n",
       "  </tbody>\n",
       "</table>\n",
       "</div>"
      ],
      "text/plain": [
       "             BTC-USD  COIN      USDX       GCF      GSPC      IXIC\n",
       "Date                                                              \n",
       "2014-09-18 -0.071926   NaN -0.004486 -0.007048  0.004891  0.006848\n",
       "2014-09-19 -0.069843   NaN  0.005693 -0.008485 -0.000477 -0.002969\n",
       "2014-09-22  0.018632   NaN -0.001533  0.001234 -0.008013 -0.011376\n",
       "2014-09-23  0.083647   NaN -0.000118  0.003452 -0.005777 -0.004196\n",
       "2014-09-24 -0.028881   NaN  0.004607 -0.001966  0.007832  0.010320"
      ]
     },
     "execution_count": 7,
     "metadata": {},
     "output_type": "execute_result"
    }
   ],
   "source": [
    "# creating a dataframe with price percent changes\n",
    "securities_pct = securities_data.pct_change()\n",
    "securities_pct = securities_pct.iloc[1:]\n",
    "securities_pct.head()"
   ]
  }
 ],
 "metadata": {
  "kernelspec": {
   "display_name": "Python 3",
   "language": "python",
   "name": "python3"
  },
  "language_info": {
   "codemirror_mode": {
    "name": "ipython",
    "version": 3
   },
   "file_extension": ".py",
   "mimetype": "text/x-python",
   "name": "python",
   "nbconvert_exporter": "python",
   "pygments_lexer": "ipython3",
   "version": "3.7.13"
  }
 },
 "nbformat": 4,
 "nbformat_minor": 5
}
