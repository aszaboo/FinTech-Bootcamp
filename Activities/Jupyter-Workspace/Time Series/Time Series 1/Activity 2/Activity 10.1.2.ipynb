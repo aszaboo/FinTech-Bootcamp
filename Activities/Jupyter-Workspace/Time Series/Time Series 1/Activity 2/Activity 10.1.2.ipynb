{
 "cells": [
  {
   "cell_type": "code",
   "execution_count": 25,
   "id": "1eaa3d51",
   "metadata": {},
   "outputs": [
    {
     "name": "stdout",
     "output_type": "stream",
     "text": [
      "Activity 10.1.2.ipynb shopify.csv\n"
     ]
    }
   ],
   "source": [
    "import pandas as pd\n",
    "!ls"
   ]
  },
  {
   "cell_type": "code",
   "execution_count": 4,
   "id": "85b3ea1d",
   "metadata": {},
   "outputs": [
    {
     "name": "stdout",
     "output_type": "stream",
     "text": [
      "<class 'pandas.core.frame.DataFrame'>\n",
      "DatetimeIndex: 234 entries, 2018-09-04 to 2019-08-08\n",
      "Data columns (total 5 columns):\n",
      " #   Column  Non-Null Count  Dtype  \n",
      "---  ------  --------------  -----  \n",
      " 0   Open    234 non-null    float64\n",
      " 1   High    234 non-null    float64\n",
      " 2   Low     234 non-null    float64\n",
      " 3   Close   234 non-null    float64\n",
      " 4   Volume  234 non-null    int64  \n",
      "dtypes: float64(4), int64(1)\n",
      "memory usage: 11.0 KB\n"
     ]
    }
   ],
   "source": [
    "shopify_df = pd.read_csv(\"shopify.csv\", index_col=\"Date\", parse_dates=True,infer_datetime_format=True)\n",
    "shopify_df.info()"
   ]
  },
  {
   "cell_type": "markdown",
   "id": "5c27579a",
   "metadata": {},
   "source": [
    "### Selecting data from Sept 2018"
   ]
  },
  {
   "cell_type": "code",
   "execution_count": 10,
   "id": "e9017bfd",
   "metadata": {},
   "outputs": [
    {
     "data": {
      "text/html": [
       "<div>\n",
       "<style scoped>\n",
       "    .dataframe tbody tr th:only-of-type {\n",
       "        vertical-align: middle;\n",
       "    }\n",
       "\n",
       "    .dataframe tbody tr th {\n",
       "        vertical-align: top;\n",
       "    }\n",
       "\n",
       "    .dataframe thead th {\n",
       "        text-align: right;\n",
       "    }\n",
       "</style>\n",
       "<table border=\"1\" class=\"dataframe\">\n",
       "  <thead>\n",
       "    <tr style=\"text-align: right;\">\n",
       "      <th></th>\n",
       "      <th>Open</th>\n",
       "      <th>High</th>\n",
       "      <th>Low</th>\n",
       "      <th>Close</th>\n",
       "      <th>Volume</th>\n",
       "    </tr>\n",
       "    <tr>\n",
       "      <th>Date</th>\n",
       "      <th></th>\n",
       "      <th></th>\n",
       "      <th></th>\n",
       "      <th></th>\n",
       "      <th></th>\n",
       "    </tr>\n",
       "  </thead>\n",
       "  <tbody>\n",
       "    <tr>\n",
       "      <th>2018-09-24</th>\n",
       "      <td>207.88</td>\n",
       "      <td>213.40</td>\n",
       "      <td>203.26</td>\n",
       "      <td>209.64</td>\n",
       "      <td>224168</td>\n",
       "    </tr>\n",
       "    <tr>\n",
       "      <th>2018-09-25</th>\n",
       "      <td>210.38</td>\n",
       "      <td>213.56</td>\n",
       "      <td>205.95</td>\n",
       "      <td>208.45</td>\n",
       "      <td>323543</td>\n",
       "    </tr>\n",
       "    <tr>\n",
       "      <th>2018-09-26</th>\n",
       "      <td>209.66</td>\n",
       "      <td>213.50</td>\n",
       "      <td>207.49</td>\n",
       "      <td>210.70</td>\n",
       "      <td>254510</td>\n",
       "    </tr>\n",
       "    <tr>\n",
       "      <th>2018-09-27</th>\n",
       "      <td>211.69</td>\n",
       "      <td>214.70</td>\n",
       "      <td>211.69</td>\n",
       "      <td>214.06</td>\n",
       "      <td>157060</td>\n",
       "    </tr>\n",
       "    <tr>\n",
       "      <th>2018-09-28</th>\n",
       "      <td>213.91</td>\n",
       "      <td>217.69</td>\n",
       "      <td>210.87</td>\n",
       "      <td>212.30</td>\n",
       "      <td>231695</td>\n",
       "    </tr>\n",
       "  </tbody>\n",
       "</table>\n",
       "</div>"
      ],
      "text/plain": [
       "              Open    High     Low   Close  Volume\n",
       "Date                                              \n",
       "2018-09-24  207.88  213.40  203.26  209.64  224168\n",
       "2018-09-25  210.38  213.56  205.95  208.45  323543\n",
       "2018-09-26  209.66  213.50  207.49  210.70  254510\n",
       "2018-09-27  211.69  214.70  211.69  214.06  157060\n",
       "2018-09-28  213.91  217.69  210.87  212.30  231695"
      ]
     },
     "execution_count": 10,
     "metadata": {},
     "output_type": "execute_result"
    }
   ],
   "source": [
    "sept_2018 = shopify_df.loc['2018-09']\n",
    "sept_2018.tail()"
   ]
  },
  {
   "cell_type": "markdown",
   "id": "cc7dbf65",
   "metadata": {},
   "source": [
    "### Slicing data from Sept 2018 to Oct 2018"
   ]
  },
  {
   "cell_type": "code",
   "execution_count": 13,
   "id": "d66a5889",
   "metadata": {},
   "outputs": [
    {
     "data": {
      "text/html": [
       "<div>\n",
       "<style scoped>\n",
       "    .dataframe tbody tr th:only-of-type {\n",
       "        vertical-align: middle;\n",
       "    }\n",
       "\n",
       "    .dataframe tbody tr th {\n",
       "        vertical-align: top;\n",
       "    }\n",
       "\n",
       "    .dataframe thead th {\n",
       "        text-align: right;\n",
       "    }\n",
       "</style>\n",
       "<table border=\"1\" class=\"dataframe\">\n",
       "  <thead>\n",
       "    <tr style=\"text-align: right;\">\n",
       "      <th></th>\n",
       "      <th>Open</th>\n",
       "      <th>High</th>\n",
       "      <th>Low</th>\n",
       "      <th>Close</th>\n",
       "      <th>Volume</th>\n",
       "    </tr>\n",
       "    <tr>\n",
       "      <th>Date</th>\n",
       "      <th></th>\n",
       "      <th></th>\n",
       "      <th></th>\n",
       "      <th></th>\n",
       "      <th></th>\n",
       "    </tr>\n",
       "  </thead>\n",
       "  <tbody>\n",
       "    <tr>\n",
       "      <th>2018-09-04</th>\n",
       "      <td>191.71</td>\n",
       "      <td>193.50</td>\n",
       "      <td>189.40</td>\n",
       "      <td>192.57</td>\n",
       "      <td>158473</td>\n",
       "    </tr>\n",
       "    <tr>\n",
       "      <th>2018-09-05</th>\n",
       "      <td>188.88</td>\n",
       "      <td>190.20</td>\n",
       "      <td>180.01</td>\n",
       "      <td>184.39</td>\n",
       "      <td>365251</td>\n",
       "    </tr>\n",
       "    <tr>\n",
       "      <th>2018-09-06</th>\n",
       "      <td>183.68</td>\n",
       "      <td>185.43</td>\n",
       "      <td>174.80</td>\n",
       "      <td>176.08</td>\n",
       "      <td>321631</td>\n",
       "    </tr>\n",
       "    <tr>\n",
       "      <th>2018-09-07</th>\n",
       "      <td>173.85</td>\n",
       "      <td>185.80</td>\n",
       "      <td>172.10</td>\n",
       "      <td>185.35</td>\n",
       "      <td>270336</td>\n",
       "    </tr>\n",
       "    <tr>\n",
       "      <th>2018-09-10</th>\n",
       "      <td>186.31</td>\n",
       "      <td>187.60</td>\n",
       "      <td>183.13</td>\n",
       "      <td>187.09</td>\n",
       "      <td>234808</td>\n",
       "    </tr>\n",
       "  </tbody>\n",
       "</table>\n",
       "</div>"
      ],
      "text/plain": [
       "              Open    High     Low   Close  Volume\n",
       "Date                                              \n",
       "2018-09-04  191.71  193.50  189.40  192.57  158473\n",
       "2018-09-05  188.88  190.20  180.01  184.39  365251\n",
       "2018-09-06  183.68  185.43  174.80  176.08  321631\n",
       "2018-09-07  173.85  185.80  172.10  185.35  270336\n",
       "2018-09-10  186.31  187.60  183.13  187.09  234808"
      ]
     },
     "execution_count": 13,
     "metadata": {},
     "output_type": "execute_result"
    }
   ],
   "source": [
    "sliced_data = shopify_df['2018-09':'2018-10']\n",
    "sliced_data.head()"
   ]
  },
  {
   "cell_type": "markdown",
   "id": "6f25e35b",
   "metadata": {},
   "source": [
    "Plot Timeseries Data"
   ]
  },
  {
   "cell_type": "code",
   "execution_count": 15,
   "id": "7e2992e3",
   "metadata": {},
   "outputs": [
    {
     "data": {
      "text/plain": [
       "<AxesSubplot:xlabel='Date'>"
      ]
     },
     "execution_count": 15,
     "metadata": {},
     "output_type": "execute_result"
    },
    {
     "data": {
      "image/png": "[encoded data removed]",
      "text/plain": [
       "<Figure size 432x288 with 1 Axes>"
      ]
     },
     "metadata": {
      "needs_background": "light"
     },
     "output_type": "display_data"
    }
   ],
   "source": [
    " # Plot the closing prices using a line plot\n",
    "shopify_df.Close.plot()"
   ]
  },
  {
   "cell_type": "markdown",
   "id": "4f7f8649",
   "metadata": {},
   "source": [
    "### Resample Time Series Data"
   ]
  },
  {
   "cell_type": "code",
   "execution_count": 19,
   "id": "3bddd7d0",
   "metadata": {},
   "outputs": [
    {
     "data": {
      "text/plain": [
       "Date\n",
       "2018-09-09    184.5975\n",
       "2018-09-16    196.6780\n",
       "2018-09-23    209.6740\n",
       "2018-09-30    211.0300\n",
       "2018-10-07    199.3400\n",
       "Freq: W-SUN, Name: Close, dtype: float64"
      ]
     },
     "execution_count": 19,
     "metadata": {},
     "output_type": "execute_result"
    }
   ],
   "source": [
    "# Resample the closing prices to weekly and take the mean\n",
    "# resample() is like groupby() for datetime\n",
    "weekly = shopify_df['Close'].resample('W').mean()\n",
    "weekly.head()"
   ]
  },
  {
   "cell_type": "code",
   "execution_count": 21,
   "id": "148fc7f9",
   "metadata": {},
   "outputs": [
    {
     "data": {
      "text/plain": [
       "<AxesSubplot:xlabel='Date'>"
      ]
     },
     "execution_count": 21,
     "metadata": {},
     "output_type": "execute_result"
    },
    {
     "data": {
      "image/png": "[encoded data removed]",
      "text/plain": [
       "<Figure size 432x288 with 1 Axes>"
      ]
     },
     "metadata": {
      "needs_background": "light"
     },
     "output_type": "display_data"
    }
   ],
   "source": [
    "# Plot the weekly average closing prices as a line chart\n",
    "weekly.plot()"
   ]
  },
  {
   "cell_type": "code",
   "execution_count": 24,
   "id": "599f6f8f",
   "metadata": {},
   "outputs": [
    {
     "data": {
      "text/plain": [
       "<AxesSubplot:title={'center':'Highest Closing Price per Month - Shopify'}, xlabel='Date'>"
      ]
     },
     "execution_count": 24,
     "metadata": {},
     "output_type": "execute_result"
    },
    {
     "data": {
      "image/png": "[encoded data removed]",
      "text/plain": [
       "<Figure size 720x504 with 1 Axes>"
      ]
     },
     "metadata": {
      "needs_background": "light"
     },
     "output_type": "display_data"
    }
   ],
   "source": [
    " # Use resample to get the highest closing price per month\n",
    "monthly = shopify_df['Close'].resample('M').max()\n",
    "\n",
    "# Create a bar chart of the result\n",
    "monthly.plot.bar(figsize = (10,7), title = 'Highest Closing Price per Month - Shopify')"
   ]
  },
  {
   "cell_type": "code",
   "execution_count": null,
   "id": "3f802561",
   "metadata": {},
   "outputs": [],
   "source": []
  }
 ],
 "metadata": {
  "kernelspec": {
   "display_name": "Python [conda env:masterenv] *",
   "language": "python",
   "name": "conda-env-masterenv-py"
  },
  "language_info": {
   "codemirror_mode": {
    "name": "ipython",
    "version": 3
   },
   "file_extension": ".py",
   "mimetype": "text/x-python",
   "name": "python",
   "nbconvert_exporter": "python",
   "pygments_lexer": "ipython3",
   "version": "3.7.11"
  }
 },
 "nbformat": 4,
 "nbformat_minor": 5
}
