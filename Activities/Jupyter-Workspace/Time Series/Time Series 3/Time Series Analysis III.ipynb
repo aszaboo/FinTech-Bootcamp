{
 "cells": [
  {
   "cell_type": "markdown",
   "id": "7e13f0d5",
   "metadata": {},
   "source": [
    "#### Linear regression\n",
    "N dimentional\n",
    "y = wj + xj + b\n",
    "- equation has many X's and only one y\n",
    "- X's are variables for the predicition\n",
    "- y is what is being predicted\n",
    "- uses w (weight) and b (constant) to get closest possible predition\n",
    "\n",
    "Coefficents\n",
    "- Resitdual - the distance from the line to the point\n",
    "- RMSE - Root Mean Squared Error"
   ]
  },
  {
   "cell_type": "markdown",
   "id": "2115715e",
   "metadata": {},
   "source": [
    "#### Finding y\n",
    "Splitting data into three parts:\n",
    "- training (80%) - use this data to create model\n",
    "\n",
    "RMSE is used to test for accurasy of model (and if overfitting is present)\n",
    "- validation (10%) - use this data to check if model is overfitting\n",
    "- test set (10%) - the final test to check valitidity of model\n",
    "\n",
    "R2 score - how coorilated points are\n",
    "- high score is good"
   ]
  },
  {
   "cell_type": "markdown",
   "id": "0766d891",
   "metadata": {},
   "source": [
    "#### Variable Effects on Model\n",
    "certain variable change depending on other variables\n",
    "ex. online behaviour on weekdays vs. weekends\n",
    "- cyclical variables: Hour of the day, Day of the week, Month of the year\n",
    "- SIN and COS used to encode cyclical variables"
   ]
  },
  {
   "cell_type": "markdown",
   "id": "ed5d2c83",
   "metadata": {},
   "source": [
    "#### Bias-Variance Tradeoff\n",
    "Bias high underfit - too simple\n",
    "\n",
    "Variance high overfit - too spcific\n",
    "- too many variables (colinerar)\n",
    "- Ex Zipcode and Provence say same thing and confuses model\n",
    "\n",
    "If overfitted \n",
    "- overfitted - change the training set\n",
    "\n",
    "Ways to Fix Model Error\n",
    "- Improve feature selection\n",
    "- Lable Smoothing - adding noise to remove over confidence\n",
    "- Regularization - makes outlier less relelvent"
   ]
  },
  {
   "cell_type": "code",
   "execution_count": null,
   "id": "e6b757c8",
   "metadata": {},
   "outputs": [],
   "source": []
  }
 ],
 "metadata": {
  "kernelspec": {
   "display_name": "Python [conda env:masterenv] *",
   "language": "python",
   "name": "conda-env-masterenv-py"
  },
  "language_info": {
   "codemirror_mode": {
    "name": "ipython",
    "version": 3
   },
   "file_extension": ".py",
   "mimetype": "text/x-python",
   "name": "python",
   "nbconvert_exporter": "python",
   "pygments_lexer": "ipython3",
   "version": "3.7.11"
  }
 },
 "nbformat": 4,
 "nbformat_minor": 5
}
