{
 "cells": [
  {
   "cell_type": "code",
   "execution_count": 1,
   "id": "862af491",
   "metadata": {},
   "outputs": [],
   "source": [
    "# Pannel\n",
    "# Panes - pane has multiple pannels\n",
    "# Panel Object - containerizing \"Docker containers\""
   ]
  },
  {
   "cell_type": "code",
   "execution_count": 11,
   "id": "44cf5f74",
   "metadata": {},
   "outputs": [],
   "source": [
    "import pandas as pd\n",
    "import numpy as np\n",
    "import panel as pn\n",
    "from panel.interact import interact\n",
    "from panel import widgets"
   ]
  },
  {
   "cell_type": "code",
   "execution_count": 12,
   "id": "a46034b4",
   "metadata": {},
   "outputs": [],
   "source": [
    "pn.extension()"
   ]
  },
  {
   "cell_type": "code",
   "execution_count": 13,
   "id": "178c0d9f",
   "metadata": {},
   "outputs": [],
   "source": [
    "# Import hvplot.pandas after pn.extension\n",
    "# This avoids plotly initialization failure\n",
    "import hvplot.pandas"
   ]
  },
  {
   "cell_type": "code",
   "execution_count": 14,
   "id": "3f3e6dce",
   "metadata": {},
   "outputs": [],
   "source": [
    "# Define function to choose a year\n",
    "def choose_year(year):\n",
    "    return year"
   ]
  },
  {
   "cell_type": "code",
   "execution_count": 15,
   "id": "85af4e71",
   "metadata": {},
   "outputs": [
    {
     "data": {},
     "metadata": {},
     "output_type": "display_data"
    },
    {
     "data": {
      "application/vnd.holoviews_exec.v0+json": "",
      "text/html": [
       "<div id='4758'>\n",
       "\n",
       "\n",
       "\n",
       "\n",
       "\n",
       "  <div class=\"bk-root\" id=\"5d2fb5e0-8bd8-48a2-b07d-6db74d9ef18e\" data-root-id=\"4758\"></div>\n",
       "</div>\n",
       "<script type=\"application/javascript\">(function(root) {\n",
       "  function embed_document(root) {\n",
       "    var docs_json = {\"2a619612-75c2-4ee5-8687-640c87bcefc3\":{\"defs\":[{\"extends\":null,\"module\":null,\"name\":\"ReactiveHTML1\",\"overrides\":[],\"properties\":[]},{\"extends\":null,\"module\":null,\"name\":\"FlexBox1\",\"overrides\":[],\"properties\":[{\"default\":\"flex-start\",\"kind\":null,\"name\":\"align_content\"},{\"default\":\"flex-start\",\"kind\":null,\"name\":\"align_items\"},{\"default\":\"row\",\"kind\":null,\"name\":\"flex_direction\"},{\"default\":\"wrap\",\"kind\":null,\"name\":\"flex_wrap\"},{\"default\":\"flex-start\",\"kind\":null,\"name\":\"justify_content\"}]},{\"extends\":null,\"module\":null,\"name\":\"TemplateActions1\",\"overrides\":[],\"properties\":[{\"default\":0,\"kind\":null,\"name\":\"open_modal\"},{\"default\":0,\"kind\":null,\"name\":\"close_modal\"}]},{\"extends\":null,\"module\":null,\"name\":\"MaterialTemplateActions1\",\"overrides\":[],\"properties\":[{\"default\":0,\"kind\":null,\"name\":\"open_modal\"},{\"default\":0,\"kind\":null,\"name\":\"close_modal\"}]}],\"roots\":{\"references\":[{\"attributes\":{\"children\":[{\"id\":\"4759\"},{\"id\":\"4761\"}],\"margin\":[0,0,0,0],\"name\":\"Column07111\"},\"id\":\"4758\",\"type\":\"Column\"},{\"attributes\":{\"margin\":[5,10,5,10],\"options\":[\"2019\",\"2018\",\"2017\",\"2016\",\"2015\"],\"title\":\"year\",\"value\":\"2019\"},\"id\":\"4760\",\"type\":\"Select\"},{\"attributes\":{\"css_classes\":[\"markdown\"],\"margin\":[5,5,5,5],\"name\":\"interactive07110\",\"text\":\"&lt;p&gt;2019&lt;/p&gt;\"},\"id\":\"4762\",\"type\":\"panel.models.markup.HTML\"},{\"attributes\":{\"children\":[{\"id\":\"4762\"}],\"margin\":[0,0,0,0],\"name\":\"Row07115\"},\"id\":\"4761\",\"type\":\"Row\"},{\"attributes\":{\"client_comm_id\":\"81450c9d940746458452ad0d6315396d\",\"comm_id\":\"e445f6541e0a4f04be6b1c21c3fa365d\",\"plot_id\":\"4758\"},\"id\":\"4763\",\"type\":\"panel.models.comm_manager.CommManager\"},{\"attributes\":{\"children\":[{\"id\":\"4760\"}],\"margin\":[0,0,0,0],\"name\":\"Column07116\"},\"id\":\"4759\",\"type\":\"Column\"}],\"root_ids\":[\"4758\",\"4763\"]},\"title\":\"Bokeh Application\",\"version\":\"2.4.1\"}};\n",
       "    var render_items = [{\"docid\":\"2a619612-75c2-4ee5-8687-640c87bcefc3\",\"root_ids\":[\"4758\"],\"roots\":{\"4758\":\"5d2fb5e0-8bd8-48a2-b07d-6db74d9ef18e\"}}];\n",
       "    root.Bokeh.embed.embed_items_notebook(docs_json, render_items);\n",
       "  }\n",
       "  if (root.Bokeh !== undefined && root.Bokeh.Panel !== undefined) {\n",
       "    embed_document(root);\n",
       "  } else {\n",
       "    var attempts = 0;\n",
       "    var timer = setInterval(function(root) {\n",
       "      if (root.Bokeh !== undefined && root.Bokeh.Panel !== undefined) {\n",
       "        clearInterval(timer);\n",
       "        embed_document(root);\n",
       "      } else if (document.readyState == \"complete\") {\n",
       "        attempts++;\n",
       "        if (attempts > 200) {\n",
       "          clearInterval(timer);\n",
       "          console.log(\"Bokeh: ERROR: Unable to run BokehJS code because BokehJS library is missing\");\n",
       "        }\n",
       "      }\n",
       "    }, 25, root)\n",
       "  }\n",
       "})(window);</script>"
      ],
      "text/plain": [
       "Column\n",
       "    [0] Column\n",
       "        [0] Select(name='year', options=['2019', '2018', ...], value='2019')\n",
       "    [1] Row\n",
       "        [0] Markdown(str, name='interactive07110')"
      ]
     },
     "execution_count": 15,
     "metadata": {
      "application/vnd.holoviews_exec.v0+json": {
       "id": "4758"
      }
     },
     "output_type": "execute_result"
    }
   ],
   "source": [
    "# Declare one list of years to be used in a Panel select list\n",
    "list_of_years = ['2019', '2018', '2017', '2016', '2015']\n",
    "# Execute interact function\n",
    "interact(choose_year, year=list_of_years)"
   ]
  },
  {
   "cell_type": "code",
   "execution_count": 16,
   "id": "99d34f51",
   "metadata": {},
   "outputs": [
    {
     "data": {},
     "metadata": {},
     "output_type": "display_data"
    },
    {
     "data": {
      "application/vnd.holoviews_exec.v0+json": "",
      "text/html": [
       "<div id='4764'>\n",
       "\n",
       "\n",
       "\n",
       "\n",
       "\n",
       "  <div class=\"bk-root\" id=\"561df678-f8f5-4a92-8bf8-8b40d3d58308\" data-root-id=\"4764\"></div>\n",
       "</div>\n",
       "<script type=\"application/javascript\">(function(root) {\n",
       "  function embed_document(root) {\n",
       "    var docs_json = {\"71c93906-4b36-43ea-a502-cab569377b21\":{\"defs\":[{\"extends\":null,\"module\":null,\"name\":\"ReactiveHTML1\",\"overrides\":[],\"properties\":[]},{\"extends\":null,\"module\":null,\"name\":\"FlexBox1\",\"overrides\":[],\"properties\":[{\"default\":\"flex-start\",\"kind\":null,\"name\":\"align_content\"},{\"default\":\"flex-start\",\"kind\":null,\"name\":\"align_items\"},{\"default\":\"row\",\"kind\":null,\"name\":\"flex_direction\"},{\"default\":\"wrap\",\"kind\":null,\"name\":\"flex_wrap\"},{\"default\":\"flex-start\",\"kind\":null,\"name\":\"justify_content\"}]},{\"extends\":null,\"module\":null,\"name\":\"TemplateActions1\",\"overrides\":[],\"properties\":[{\"default\":0,\"kind\":null,\"name\":\"open_modal\"},{\"default\":0,\"kind\":null,\"name\":\"close_modal\"}]},{\"extends\":null,\"module\":null,\"name\":\"MaterialTemplateActions1\",\"overrides\":[],\"properties\":[{\"default\":0,\"kind\":null,\"name\":\"open_modal\"},{\"default\":0,\"kind\":null,\"name\":\"close_modal\"}]}],\"roots\":{\"references\":[{\"attributes\":{\"children\":[{\"id\":\"4766\"}],\"margin\":[0,0,0,0],\"name\":\"Column07125\"},\"id\":\"4765\",\"type\":\"Column\"},{\"attributes\":{\"css_classes\":[\"markdown\"],\"margin\":[5,5,5,5],\"name\":\"interactive07119\",\"text\":\"&lt;p&gt;2014&lt;/p&gt;\"},\"id\":\"4768\",\"type\":\"panel.models.markup.HTML\"},{\"attributes\":{\"children\":[{\"id\":\"4768\"}],\"margin\":[0,0,0,0],\"name\":\"Row07124\"},\"id\":\"4767\",\"type\":\"Row\"},{\"attributes\":{\"margin\":[5,10,5,10],\"options\":[\"2014\",\"2013\",\"2012\",\"2011\",\"2010\"],\"title\":\"year\",\"value\":\"2014\"},\"id\":\"4766\",\"type\":\"Select\"},{\"attributes\":{\"children\":[{\"id\":\"4765\"},{\"id\":\"4767\"}],\"margin\":[0,0,0,0],\"name\":\"Column07120\"},\"id\":\"4764\",\"type\":\"Column\"},{\"attributes\":{\"client_comm_id\":\"560bcc847b8d4d7b94b49070fc47decb\",\"comm_id\":\"dcc83faae37543fd997037dec433d9f4\",\"plot_id\":\"4764\"},\"id\":\"4769\",\"type\":\"panel.models.comm_manager.CommManager\"}],\"root_ids\":[\"4764\",\"4769\"]},\"title\":\"Bokeh Application\",\"version\":\"2.4.1\"}};\n",
       "    var render_items = [{\"docid\":\"71c93906-4b36-43ea-a502-cab569377b21\",\"root_ids\":[\"4764\"],\"roots\":{\"4764\":\"561df678-f8f5-4a92-8bf8-8b40d3d58308\"}}];\n",
       "    root.Bokeh.embed.embed_items_notebook(docs_json, render_items);\n",
       "  }\n",
       "  if (root.Bokeh !== undefined && root.Bokeh.Panel !== undefined) {\n",
       "    embed_document(root);\n",
       "  } else {\n",
       "    var attempts = 0;\n",
       "    var timer = setInterval(function(root) {\n",
       "      if (root.Bokeh !== undefined && root.Bokeh.Panel !== undefined) {\n",
       "        clearInterval(timer);\n",
       "        embed_document(root);\n",
       "      } else if (document.readyState == \"complete\") {\n",
       "        attempts++;\n",
       "        if (attempts > 200) {\n",
       "          clearInterval(timer);\n",
       "          console.log(\"Bokeh: ERROR: Unable to run BokehJS code because BokehJS library is missing\");\n",
       "        }\n",
       "      }\n",
       "    }, 25, root)\n",
       "  }\n",
       "})(window);</script>"
      ],
      "text/plain": [
       "Column\n",
       "    [0] Column\n",
       "        [0] Select(name='year', options=['2014', '2013', ...], value='2014')\n",
       "    [1] Row\n",
       "        [0] Markdown(str, name='interactive07119')"
      ]
     },
     "execution_count": 16,
     "metadata": {
      "application/vnd.holoviews_exec.v0+json": {
       "id": "4764"
      }
     },
     "output_type": "execute_result"
    }
   ],
   "source": [
    "# Declare a second list of years to be used in a Panel select list\n",
    "list_of_years_2 = ['2014', '2013', '2012', '2011', '2010']\n",
    "\n",
    "# Execute interact function\n",
    "interact(choose_year, year=list_of_years_2)"
   ]
  },
  {
   "cell_type": "code",
   "execution_count": 17,
   "id": "1d9e586d",
   "metadata": {},
   "outputs": [
    {
     "data": {},
     "metadata": {},
     "output_type": "display_data"
    },
    {
     "data": {},
     "metadata": {},
     "output_type": "display_data"
    },
    {
     "data": {
      "application/vnd.holoviews_exec.v0+json": "",
      "text/html": [
       "<div id='4770'>\n",
       "\n",
       "\n",
       "\n",
       "\n",
       "\n",
       "  <div class=\"bk-root\" id=\"6d36b415-2c9a-4ea3-81d8-b9aafe45625b\" data-root-id=\"4770\"></div>\n",
       "</div>\n",
       "<script type=\"application/javascript\">(function(root) {\n",
       "  function embed_document(root) {\n",
       "    var docs_json = {\"6f19bb7a-af9b-4e5c-a4dd-d678917e3c3f\":{\"defs\":[{\"extends\":null,\"module\":null,\"name\":\"ReactiveHTML1\",\"overrides\":[],\"properties\":[]},{\"extends\":null,\"module\":null,\"name\":\"FlexBox1\",\"overrides\":[],\"properties\":[{\"default\":\"flex-start\",\"kind\":null,\"name\":\"align_content\"},{\"default\":\"flex-start\",\"kind\":null,\"name\":\"align_items\"},{\"default\":\"row\",\"kind\":null,\"name\":\"flex_direction\"},{\"default\":\"wrap\",\"kind\":null,\"name\":\"flex_wrap\"},{\"default\":\"flex-start\",\"kind\":null,\"name\":\"justify_content\"}]},{\"extends\":null,\"module\":null,\"name\":\"TemplateActions1\",\"overrides\":[],\"properties\":[{\"default\":0,\"kind\":null,\"name\":\"open_modal\"},{\"default\":0,\"kind\":null,\"name\":\"close_modal\"}]},{\"extends\":null,\"module\":null,\"name\":\"MaterialTemplateActions1\",\"overrides\":[],\"properties\":[{\"default\":0,\"kind\":null,\"name\":\"open_modal\"},{\"default\":0,\"kind\":null,\"name\":\"close_modal\"}]}],\"roots\":{\"references\":[{\"attributes\":{},\"id\":\"4796\",\"type\":\"WheelZoomTool\"},{\"attributes\":{},\"id\":\"4794\",\"type\":\"SaveTool\"},{\"attributes\":{},\"id\":\"4784\",\"type\":\"LinearScale\"},{\"attributes\":{\"fill_color\":{\"field\":\"color\",\"transform\":{\"id\":\"4807\"}},\"hatch_color\":{\"field\":\"color\",\"transform\":{\"id\":\"4807\"}},\"line_color\":{\"field\":\"color\",\"transform\":{\"id\":\"4807\"}},\"size\":{\"value\":5.477225575051661},\"x\":{\"field\":\"sales\"},\"y\":{\"field\":\"foreclosures\"}},\"id\":\"4811\",\"type\":\"Scatter\"},{\"attributes\":{},\"id\":\"4821\",\"type\":\"BasicTickFormatter\"},{\"attributes\":{\"coordinates\":null,\"data_source\":{\"id\":\"4808\"},\"glyph\":{\"id\":\"4811\"},\"group\":null,\"hover_glyph\":{\"id\":\"4814\"},\"muted_glyph\":{\"id\":\"4815\"},\"nonselection_glyph\":{\"id\":\"4812\"},\"selection_glyph\":{\"id\":\"4813\"},\"view\":{\"id\":\"4817\"}},\"id\":\"4816\",\"type\":\"GlyphRenderer\"},{\"attributes\":{\"axis_label\":\"sales\",\"coordinates\":null,\"formatter\":{\"id\":\"4821\"},\"group\":null,\"major_label_policy\":{\"id\":\"4822\"},\"ticker\":{\"id\":\"4787\"}},\"id\":\"4786\",\"type\":\"LinearAxis\"},{\"attributes\":{},\"id\":\"4830\",\"type\":\"NoOverlap\"},{\"attributes\":{},\"id\":\"4787\",\"type\":\"BasicTicker\"},{\"attributes\":{},\"id\":\"4782\",\"type\":\"LinearScale\"},{\"attributes\":{\"client_comm_id\":\"e94a7e07ca6940f1b1997d21f139a666\",\"comm_id\":\"2b873b21a97145fe8676bf888d657d3d\",\"plot_id\":\"4770\"},\"id\":\"4881\",\"type\":\"panel.models.comm_manager.CommManager\"},{\"attributes\":{\"axis_label\":\"foreclosures\",\"coordinates\":null,\"formatter\":{\"id\":\"4824\"},\"group\":null,\"major_label_policy\":{\"id\":\"4825\"},\"ticker\":{\"id\":\"4791\"}},\"id\":\"4790\",\"type\":\"LinearAxis\"},{\"attributes\":{},\"id\":\"4809\",\"type\":\"Selection\"},{\"attributes\":{\"coordinates\":null,\"group\":null,\"text\":\"Alleghany, PA Housing Transactions\",\"text_color\":\"black\",\"text_font_size\":\"12pt\"},\"id\":\"4778\",\"type\":\"Title\"},{\"attributes\":{},\"id\":\"4822\",\"type\":\"AllLabels\"},{\"attributes\":{\"children\":[{\"id\":\"4772\"}],\"margin\":[0,0,0,0],\"name\":\"Column07213\"},\"id\":\"4771\",\"type\":\"Column\"},{\"attributes\":{\"fill_alpha\":{\"value\":0.2},\"fill_color\":{\"field\":\"color\",\"transform\":{\"id\":\"4807\"}},\"hatch_alpha\":{\"value\":0.2},\"hatch_color\":{\"field\":\"color\",\"transform\":{\"id\":\"4807\"}},\"line_alpha\":{\"value\":0.2},\"line_color\":{\"field\":\"color\",\"transform\":{\"id\":\"4807\"}},\"size\":{\"value\":5.477225575051661},\"x\":{\"field\":\"sales\"},\"y\":{\"field\":\"foreclosures\"}},\"id\":\"4815\",\"type\":\"Scatter\"},{\"attributes\":{\"fill_alpha\":{\"value\":0.1},\"fill_color\":{\"field\":\"color\",\"transform\":{\"id\":\"4807\"}},\"hatch_alpha\":{\"value\":0.1},\"hatch_color\":{\"field\":\"color\",\"transform\":{\"id\":\"4807\"}},\"line_alpha\":{\"value\":0.1},\"line_color\":{\"field\":\"color\",\"transform\":{\"id\":\"4807\"}},\"size\":{\"value\":5.477225575051661},\"x\":{\"field\":\"sales\"},\"y\":{\"field\":\"foreclosures\"}},\"id\":\"4812\",\"type\":\"Scatter\"},{\"attributes\":{\"fill_color\":{\"field\":\"color\",\"transform\":{\"id\":\"4807\"}},\"hatch_color\":{\"field\":\"color\",\"transform\":{\"id\":\"4807\"}},\"line_color\":{\"field\":\"color\",\"transform\":{\"id\":\"4807\"}},\"size\":{\"value\":5.477225575051661},\"x\":{\"field\":\"sales\"},\"y\":{\"field\":\"foreclosures\"}},\"id\":\"4813\",\"type\":\"Scatter\"},{\"attributes\":{},\"id\":\"4818\",\"type\":\"BasicTicker\"},{\"attributes\":{\"end\":159.5,\"reset_end\":159.5,\"reset_start\":-2.5,\"start\":-2.5,\"tags\":[[[\"foreclosures\",\"foreclosures\",null]]]},\"id\":\"4775\",\"type\":\"Range1d\"},{\"attributes\":{\"callback\":null,\"renderers\":[{\"id\":\"4816\"}],\"tags\":[\"hv_created\"],\"tooltips\":[[\"sales\",\"@{sales}\"],[\"foreclosures\",\"@{foreclosures}\"],[\"years\",\"@{years}\"]]},\"id\":\"4776\",\"type\":\"HoverTool\"},{\"attributes\":{\"below\":[{\"id\":\"4786\"}],\"center\":[{\"id\":\"4789\"},{\"id\":\"4793\"}],\"height\":300,\"left\":[{\"id\":\"4790\"}],\"margin\":[5,5,5,5],\"min_border_bottom\":10,\"min_border_left\":10,\"min_border_right\":10,\"min_border_top\":10,\"renderers\":[{\"id\":\"4816\"}],\"right\":[{\"id\":\"4819\"}],\"sizing_mode\":\"fixed\",\"title\":{\"id\":\"4778\"},\"toolbar\":{\"id\":\"4800\"},\"width\":700,\"x_range\":{\"id\":\"4774\"},\"x_scale\":{\"id\":\"4782\"},\"y_range\":{\"id\":\"4775\"},\"y_scale\":{\"id\":\"4784\"}},\"id\":\"4777\",\"subtype\":\"Figure\",\"type\":\"Plot\"},{\"attributes\":{\"end\":510.7285714285714,\"reset_end\":510.7285714285714,\"reset_start\":36.27142857142857,\"start\":36.27142857142857,\"tags\":[[[\"sales\",\"sales\",null]]]},\"id\":\"4774\",\"type\":\"Range1d\"},{\"attributes\":{\"source\":{\"id\":\"4808\"}},\"id\":\"4817\",\"type\":\"CDSView\"},{\"attributes\":{\"fill_color\":{\"field\":\"color\",\"transform\":{\"id\":\"4807\"}},\"hatch_color\":{\"field\":\"color\",\"transform\":{\"id\":\"4807\"}},\"line_color\":{\"field\":\"color\",\"transform\":{\"id\":\"4807\"}},\"size\":{\"value\":5.477225575051661},\"x\":{\"field\":\"sales\"},\"y\":{\"field\":\"foreclosures\"}},\"id\":\"4814\",\"type\":\"Scatter\"},{\"attributes\":{\"high\":2018,\"low\":2010,\"palette\":[\"#440154\",\"#440255\",\"#440357\",\"#450558\",\"#45065a\",\"#45085b\",\"#46095c\",\"#460b5e\",\"#460c5f\",\"#460e61\",\"#470f62\",\"#471163\",\"#471265\",\"#471466\",\"#471567\",\"#471669\",\"#47186a\",\"#48196b\",\"#481a6c\",\"#481c6e\",\"#481d6f\",\"#481e70\",\"#482071\",\"#482172\",\"#482273\",\"#482374\",\"#472575\",\"#472676\",\"#472777\",\"#472878\",\"#472a79\",\"#472b7a\",\"#472c7b\",\"#462d7c\",\"#462f7c\",\"#46307d\",\"#46317e\",\"#45327f\",\"#45347f\",\"#453580\",\"#453681\",\"#443781\",\"#443982\",\"#433a83\",\"#433b83\",\"#433c84\",\"#423d84\",\"#423e85\",\"#424085\",\"#414186\",\"#414286\",\"#404387\",\"#404487\",\"#3f4587\",\"#3f4788\",\"#3e4888\",\"#3e4989\",\"#3d4a89\",\"#3d4b89\",\"#3d4c89\",\"#3c4d8a\",\"#3c4e8a\",\"#3b508a\",\"#3b518a\",\"#3a528b\",\"#3a538b\",\"#39548b\",\"#39558b\",\"#38568b\",\"#38578c\",\"#37588c\",\"#37598c\",\"#365a8c\",\"#365b8c\",\"#355c8c\",\"#355d8c\",\"#345e8d\",\"#345f8d\",\"#33608d\",\"#33618d\",\"#32628d\",\"#32638d\",\"#31648d\",\"#31658d\",\"#31668d\",\"#30678d\",\"#30688d\",\"#2f698d\",\"#2f6a8d\",\"#2e6b8e\",\"#2e6c8e\",\"#2e6d8e\",\"#2d6e8e\",\"#2d6f8e\",\"#2c708e\",\"#2c718e\",\"#2c728e\",\"#2b738e\",\"#2b748e\",\"#2a758e\",\"#2a768e\",\"#2a778e\",\"#29788e\",\"#29798e\",\"#287a8e\",\"#287a8e\",\"#287b8e\",\"#277c8e\",\"#277d8e\",\"#277e8e\",\"#267f8e\",\"#26808e\",\"#26818e\",\"#25828e\",\"#25838d\",\"#24848d\",\"#24858d\",\"#24868d\",\"#23878d\",\"#23888d\",\"#23898d\",\"#22898d\",\"#228a8d\",\"#228b8d\",\"#218c8d\",\"#218d8c\",\"#218e8c\",\"#208f8c\",\"#20908c\",\"#20918c\",\"#1f928c\",\"#1f938b\",\"#1f948b\",\"#1f958b\",\"#1f968b\",\"#1e978a\",\"#1e988a\",\"#1e998a\",\"#1e998a\",\"#1e9a89\",\"#1e9b89\",\"#1e9c89\",\"#1e9d88\",\"#1e9e88\",\"#1e9f88\",\"#1ea087\",\"#1fa187\",\"#1fa286\",\"#1fa386\",\"#20a485\",\"#20a585\",\"#21a685\",\"#21a784\",\"#22a784\",\"#23a883\",\"#23a982\",\"#24aa82\",\"#25ab81\",\"#26ac81\",\"#27ad80\",\"#28ae7f\",\"#29af7f\",\"#2ab07e\",\"#2bb17d\",\"#2cb17d\",\"#2eb27c\",\"#2fb37b\",\"#30b47a\",\"#32b57a\",\"#33b679\",\"#35b778\",\"#36b877\",\"#38b976\",\"#39b976\",\"#3bba75\",\"#3dbb74\",\"#3ebc73\",\"#40bd72\",\"#42be71\",\"#44be70\",\"#45bf6f\",\"#47c06e\",\"#49c16d\",\"#4bc26c\",\"#4dc26b\",\"#4fc369\",\"#51c468\",\"#53c567\",\"#55c666\",\"#57c665\",\"#59c764\",\"#5bc862\",\"#5ec961\",\"#60c960\",\"#62ca5f\",\"#64cb5d\",\"#67cc5c\",\"#69cc5b\",\"#6bcd59\",\"#6dce58\",\"#70ce56\",\"#72cf55\",\"#74d054\",\"#77d052\",\"#79d151\",\"#7cd24f\",\"#7ed24e\",\"#81d34c\",\"#83d34b\",\"#86d449\",\"#88d547\",\"#8bd546\",\"#8dd644\",\"#90d643\",\"#92d741\",\"#95d73f\",\"#97d83e\",\"#9ad83c\",\"#9dd93a\",\"#9fd938\",\"#a2da37\",\"#a5da35\",\"#a7db33\",\"#aadb32\",\"#addc30\",\"#afdc2e\",\"#b2dd2c\",\"#b5dd2b\",\"#b7dd29\",\"#bade27\",\"#bdde26\",\"#bfdf24\",\"#c2df22\",\"#c5df21\",\"#c7e01f\",\"#cae01e\",\"#cde01d\",\"#cfe11c\",\"#d2e11b\",\"#d4e11a\",\"#d7e219\",\"#dae218\",\"#dce218\",\"#dfe318\",\"#e1e318\",\"#e4e318\",\"#e7e419\",\"#e9e419\",\"#ece41a\",\"#eee51b\",\"#f1e51c\",\"#f3e51e\",\"#f6e61f\",\"#f8e621\",\"#fae622\",\"#fde724\"]},\"id\":\"4807\",\"type\":\"LinearColorMapper\"},{\"attributes\":{\"data\":{\"color\":[2010,2010,2010,2010,2010,2010,2010,2010,2010,2010,2011,2011,2011,2011,2011,2011,2011,2011,2011,2011,2011,2011,2011,2011,2012,2012,2012,2012,2012,2012,2012,2012,2013,2013,2013,2013,2013,2013,2013,2013,2013,2013,2013,2013,2013,2013,2014,2014,2014,2014,2014,2014,2014,2014,2014,2014,2014,2014,2015,2015,2015,2015,2015,2015,2015,2015,2015,2015,2015,2016,2016,2016,2016,2016,2016,2016,2016,2016,2016,2016,2016,2016,2017,2017,2017,2017,2017,2017,2017,2017,2018,2018,2018,2018,2018,2018,2018,2018,2018,2018],\"foreclosures\":[43,53,39,145,12,65,43,108,85,114,114,45,86,113,108,138,59,98,112,136,79,139,41,88,117,114,49,103,11,55,98,46,67,112,107,18,72,25,25,119,121,85,76,114,114,93,145,89,45,130,54,39,41,146,54,99,21,111,139,123,12,23,88,55,135,122,22,71,61,84,106,35,136,34,72,97,16,16,92,108,141,30,110,108,47,79,115,91,24,131,127,138,85,56,56,25,32,111,60,122],\"sales\":[86,261,318,331,339,347,448,458,478,492,55,105,114,131,152,157,205,206,249,340,364,372,459,461,61,147,218,236,274,283,293,488,57,93,94,104,108,119,149,172,205,205,211,212,215,280,103,196,207,240,279,308,338,344,345,364,444,450,65,83,114,119,126,178,290,362,404,435,481,80,93,102,114,194,219,278,284,300,318,460,471,478,100,155,257,325,348,371,431,484,88,107,131,131,173,302,416,442,490,491],\"years\":[2010,2010,2010,2010,2010,2010,2010,2010,2010,2010,2011,2011,2011,2011,2011,2011,2011,2011,2011,2011,2011,2011,2011,2011,2012,2012,2012,2012,2012,2012,2012,2012,2013,2013,2013,2013,2013,2013,2013,2013,2013,2013,2013,2013,2013,2013,2014,2014,2014,2014,2014,2014,2014,2014,2014,2014,2014,2014,2015,2015,2015,2015,2015,2015,2015,2015,2015,2015,2015,2016,2016,2016,2016,2016,2016,2016,2016,2016,2016,2016,2016,2016,2017,2017,2017,2017,2017,2017,2017,2017,2018,2018,2018,2018,2018,2018,2018,2018,2018,2018]},\"selected\":{\"id\":\"4809\"},\"selection_policy\":{\"id\":\"4834\"}},\"id\":\"4808\",\"type\":\"ColumnDataSource\"},{\"attributes\":{\"bar_line_color\":\"black\",\"color_mapper\":{\"id\":\"4807\"},\"coordinates\":null,\"group\":null,\"label_standoff\":8,\"location\":[0,0],\"major_label_policy\":{\"id\":\"4830\"},\"major_tick_line_color\":\"black\",\"ticker\":{\"id\":\"4818\"}},\"id\":\"4819\",\"type\":\"ColorBar\"},{\"attributes\":{\"end\":300,\"margin\":[5,10,5,10],\"start\":-100,\"title\":\"number_of_sales\",\"value\":100},\"id\":\"4772\",\"type\":\"Slider\"},{\"attributes\":{},\"id\":\"4798\",\"type\":\"ResetTool\"},{\"attributes\":{\"bottom_units\":\"screen\",\"coordinates\":null,\"fill_alpha\":0.5,\"fill_color\":\"lightgrey\",\"group\":null,\"left_units\":\"screen\",\"level\":\"overlay\",\"line_alpha\":1.0,\"line_color\":\"black\",\"line_dash\":[4,4],\"line_width\":2,\"right_units\":\"screen\",\"syncable\":false,\"top_units\":\"screen\"},\"id\":\"4799\",\"type\":\"BoxAnnotation\"},{\"attributes\":{},\"id\":\"4795\",\"type\":\"PanTool\"},{\"attributes\":{\"axis\":{\"id\":\"4790\"},\"coordinates\":null,\"dimension\":1,\"grid_line_color\":null,\"group\":null,\"ticker\":null},\"id\":\"4793\",\"type\":\"Grid\"},{\"attributes\":{\"children\":[{\"id\":\"4777\"}],\"margin\":[0,0,0,0],\"name\":\"Row07212\"},\"id\":\"4773\",\"type\":\"Row\"},{\"attributes\":{\"overlay\":{\"id\":\"4799\"}},\"id\":\"4797\",\"type\":\"BoxZoomTool\"},{\"attributes\":{},\"id\":\"4825\",\"type\":\"AllLabels\"},{\"attributes\":{},\"id\":\"4791\",\"type\":\"BasicTicker\"},{\"attributes\":{},\"id\":\"4824\",\"type\":\"BasicTickFormatter\"},{\"attributes\":{\"children\":[{\"id\":\"4771\"},{\"id\":\"4773\"}],\"margin\":[0,0,0,0],\"name\":\"Column07129\"},\"id\":\"4770\",\"type\":\"Column\"},{\"attributes\":{\"axis\":{\"id\":\"4786\"},\"coordinates\":null,\"grid_line_color\":null,\"group\":null,\"ticker\":null},\"id\":\"4789\",\"type\":\"Grid\"},{\"attributes\":{\"tools\":[{\"id\":\"4776\"},{\"id\":\"4794\"},{\"id\":\"4795\"},{\"id\":\"4796\"},{\"id\":\"4797\"},{\"id\":\"4798\"}]},\"id\":\"4800\",\"type\":\"Toolbar\"},{\"attributes\":{},\"id\":\"4834\",\"type\":\"UnionRenderers\"}],\"root_ids\":[\"4770\",\"4881\"]},\"title\":\"Bokeh Application\",\"version\":\"2.4.1\"}};\n",
       "    var render_items = [{\"docid\":\"6f19bb7a-af9b-4e5c-a4dd-d678917e3c3f\",\"root_ids\":[\"4770\"],\"roots\":{\"4770\":\"6d36b415-2c9a-4ea3-81d8-b9aafe45625b\"}}];\n",
       "    root.Bokeh.embed.embed_items_notebook(docs_json, render_items);\n",
       "  }\n",
       "  if (root.Bokeh !== undefined && root.Bokeh.Panel !== undefined) {\n",
       "    embed_document(root);\n",
       "  } else {\n",
       "    var attempts = 0;\n",
       "    var timer = setInterval(function(root) {\n",
       "      if (root.Bokeh !== undefined && root.Bokeh.Panel !== undefined) {\n",
       "        clearInterval(timer);\n",
       "        embed_document(root);\n",
       "      } else if (document.readyState == \"complete\") {\n",
       "        attempts++;\n",
       "        if (attempts > 200) {\n",
       "          clearInterval(timer);\n",
       "          console.log(\"Bokeh: ERROR: Unable to run BokehJS code because BokehJS library is missing\");\n",
       "        }\n",
       "      }\n",
       "    }, 25, root)\n",
       "  }\n",
       "})(window);</script>"
      ],
      "text/plain": [
       "Column\n",
       "    [0] Column\n",
       "        [0] IntSlider(end=300, name='number_of_sales', start=-100, value=100)\n",
       "    [1] Row\n",
       "        [0] HoloViews(Scatter, name='interactive07128')"
      ]
     },
     "execution_count": 17,
     "metadata": {
      "application/vnd.holoviews_exec.v0+json": {
       "id": "4770"
      }
     },
     "output_type": "execute_result"
    }
   ],
   "source": [
    "# Define function to create plot\n",
    "def plot_housing_tx(number_of_sales):\n",
    "    housing_transactions = pd.DataFrame(\n",
    "        {\n",
    "            \"years\": np.random.randint(2010, 2019, number_of_sales),\n",
    "            \"sales\": np.random.randint(53, 500, number_of_sales),\n",
    "            \"foreclosures\": np.random.randint(10, 147, number_of_sales),\n",
    "        }\n",
    "    ).sort_values([\"years\", \"sales\"])\n",
    "\n",
    "    return housing_transactions.hvplot.scatter(\n",
    "        x=\"sales\",\n",
    "        y=\"foreclosures\",\n",
    "        c=\"years\",\n",
    "        colormap=\"viridis\",\n",
    "        title=\"Alleghany, PA Housing Transactions\",\n",
    "    )\n",
    "\n",
    "\n",
    "# Render plot with Panel interactive widget\n",
    "interact(plot_housing_tx, number_of_sales=100)"
   ]
  },
  {
   "cell_type": "code",
   "execution_count": null,
   "id": "ef645bc1",
   "metadata": {},
   "outputs": [],
   "source": []
  }
 ],
 "metadata": {
  "kernelspec": {
   "display_name": "Python [conda env:pyvizenv] *",
   "language": "python",
   "name": "conda-env-pyvizenv-py"
  },
  "language_info": {
   "codemirror_mode": {
    "name": "ipython",
    "version": 3
   },
   "file_extension": ".py",
   "mimetype": "text/x-python",
   "name": "python",
   "nbconvert_exporter": "python",
   "pygments_lexer": "ipython3",
   "version": "3.7.11"
  }
 },
 "nbformat": 4,
 "nbformat_minor": 5
}
