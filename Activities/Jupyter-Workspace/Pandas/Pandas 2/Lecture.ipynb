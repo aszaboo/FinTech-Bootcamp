{
 "cells": [
  {
   "cell_type": "code",
   "execution_count": 6,
   "id": "d12fa0ba-8705-4ebf-9bab-8965ec4a6420",
   "metadata": {},
   "outputs": [
    {
     "name": "stdout",
     "output_type": "stream",
     "text": [
      "FB Stock Info - Sheet1.csv Lecture.ipynb\n"
     ]
    }
   ],
   "source": [
    "# Lecture 3.3 Pandas\n",
    "!ls"
   ]
  },
  {
   "cell_type": "code",
   "execution_count": 7,
   "id": "f05e2898-43fe-4d48-85f4-cf27fade2d19",
   "metadata": {},
   "outputs": [],
   "source": [
    "# Google Sheets\n",
    "import pandas as pd\n",
    "df=pd.read_csv('FB Stock Info - Sheet1.csv')"
   ]
  },
  {
   "cell_type": "code",
   "execution_count": 8,
   "id": "3bfc3470-59ff-4421-b5d1-7f0e2e3cf418",
   "metadata": {},
   "outputs": [
    {
     "data": {
      "text/html": [
       "<div>\n",
       "<style scoped>\n",
       "    .dataframe tbody tr th:only-of-type {\n",
       "        vertical-align: middle;\n",
       "    }\n",
       "\n",
       "    .dataframe tbody tr th {\n",
       "        vertical-align: top;\n",
       "    }\n",
       "\n",
       "    .dataframe thead th {\n",
       "        text-align: right;\n",
       "    }\n",
       "</style>\n",
       "<table border=\"1\" class=\"dataframe\">\n",
       "  <thead>\n",
       "    <tr style=\"text-align: right;\">\n",
       "      <th></th>\n",
       "      <th>Date</th>\n",
       "      <th>Close</th>\n",
       "    </tr>\n",
       "  </thead>\n",
       "  <tbody>\n",
       "    <tr>\n",
       "      <th>0</th>\n",
       "      <td>2/12/2021</td>\n",
       "      <td>270.50</td>\n",
       "    </tr>\n",
       "    <tr>\n",
       "      <th>1</th>\n",
       "      <td>2/16/2021</td>\n",
       "      <td>273.97</td>\n",
       "    </tr>\n",
       "    <tr>\n",
       "      <th>2</th>\n",
       "      <td>2/17/2021</td>\n",
       "      <td>273.57</td>\n",
       "    </tr>\n",
       "    <tr>\n",
       "      <th>3</th>\n",
       "      <td>2/18/2021</td>\n",
       "      <td>269.39</td>\n",
       "    </tr>\n",
       "    <tr>\n",
       "      <th>4</th>\n",
       "      <td>2/19/2021</td>\n",
       "      <td>261.56</td>\n",
       "    </tr>\n",
       "    <tr>\n",
       "      <th>...</th>\n",
       "      <td>...</td>\n",
       "      <td>...</td>\n",
       "    </tr>\n",
       "    <tr>\n",
       "      <th>264</th>\n",
       "      <td>3/2/2022</td>\n",
       "      <td>208.11</td>\n",
       "    </tr>\n",
       "    <tr>\n",
       "      <th>265</th>\n",
       "      <td>3/3/2022</td>\n",
       "      <td>202.97</td>\n",
       "    </tr>\n",
       "    <tr>\n",
       "      <th>266</th>\n",
       "      <td>3/4/2022</td>\n",
       "      <td>200.06</td>\n",
       "    </tr>\n",
       "    <tr>\n",
       "      <th>267</th>\n",
       "      <td>3/7/2022</td>\n",
       "      <td>187.47</td>\n",
       "    </tr>\n",
       "    <tr>\n",
       "      <th>268</th>\n",
       "      <td>3/8/2022</td>\n",
       "      <td>190.29</td>\n",
       "    </tr>\n",
       "  </tbody>\n",
       "</table>\n",
       "<p>269 rows × 2 columns</p>\n",
       "</div>"
      ],
      "text/plain": [
       "          Date   Close\n",
       "0    2/12/2021  270.50\n",
       "1    2/16/2021  273.97\n",
       "2    2/17/2021  273.57\n",
       "3    2/18/2021  269.39\n",
       "4    2/19/2021  261.56\n",
       "..         ...     ...\n",
       "264   3/2/2022  208.11\n",
       "265   3/3/2022  202.97\n",
       "266   3/4/2022  200.06\n",
       "267   3/7/2022  187.47\n",
       "268   3/8/2022  190.29\n",
       "\n",
       "[269 rows x 2 columns]"
      ]
     },
     "execution_count": 8,
     "metadata": {},
     "output_type": "execute_result"
    }
   ],
   "source": [
    "df"
   ]
  },
  {
   "cell_type": "code",
   "execution_count": 9,
   "id": "da7c134a-5d61-417b-8902-98003832275b",
   "metadata": {},
   "outputs": [
    {
     "data": {
      "text/plain": [
       "str"
      ]
     },
     "execution_count": 9,
     "metadata": {},
     "output_type": "execute_result"
    }
   ],
   "source": [
    "type(df['Date'].iloc[0])"
   ]
  },
  {
   "cell_type": "code",
   "execution_count": 11,
   "id": "88c45e58-2aaf-4ea7-b8bd-fe49ddb44134",
   "metadata": {},
   "outputs": [
    {
     "data": {
      "text/plain": [
       "0      2/12/2021\n",
       "1      2/16/2021\n",
       "2      2/17/2021\n",
       "3      2/18/2021\n",
       "4      2/19/2021\n",
       "         ...    \n",
       "264     3/2/2022\n",
       "265     3/3/2022\n",
       "266     3/4/2022\n",
       "267     3/7/2022\n",
       "268     3/8/2022\n",
       "Name: Date, Length: 269, dtype: object"
      ]
     },
     "execution_count": 11,
     "metadata": {},
     "output_type": "execute_result"
    }
   ],
   "source": [
    "df['Date']"
   ]
  },
  {
   "cell_type": "code",
   "execution_count": 14,
   "id": "82247ae0-00d8-4bfe-9afb-7adb6f95027b",
   "metadata": {},
   "outputs": [],
   "source": [
    "df['Date'] = pd.to_datetime(df['Date'])"
   ]
  },
  {
   "cell_type": "code",
   "execution_count": 18,
   "id": "115c4d9b-72f0-4901-94ee-aaa35fd19328",
   "metadata": {},
   "outputs": [
    {
     "data": {
      "text/plain": [
       "pandas._libs.tslibs.timestamps.Timestamp"
      ]
     },
     "execution_count": 18,
     "metadata": {},
     "output_type": "execute_result"
    }
   ],
   "source": [
    "type(df['Date'].iloc[0])"
   ]
  },
  {
   "cell_type": "code",
   "execution_count": 20,
   "id": "1cb2bcbc-07c2-4a7d-bd92-9d251d30dfe1",
   "metadata": {},
   "outputs": [],
   "source": [
    "df2 = pd.read_csv('FB Stock Info - Sheet1.csv', index_col='Date', parse_dates=True, infer_datetime_format=True)"
   ]
  },
  {
   "cell_type": "code",
   "execution_count": 24,
   "id": "c9ce3e7a-83eb-47aa-b50e-5ed52e584b53",
   "metadata": {},
   "outputs": [
    {
     "data": {
      "text/plain": [
       "Timestamp('2021-02-12 00:00:00')"
      ]
     },
     "execution_count": 24,
     "metadata": {},
     "output_type": "execute_result"
    }
   ],
   "source": [
    "df2.index[0]"
   ]
  },
  {
   "cell_type": "code",
   "execution_count": 26,
   "id": "a4bac443-1180-40ff-a1f1-31d92a392b2c",
   "metadata": {},
   "outputs": [
    {
     "data": {
      "text/plain": [
       "pandas._libs.tslibs.timestamps.Timestamp"
      ]
     },
     "execution_count": 26,
     "metadata": {},
     "output_type": "execute_result"
    }
   ],
   "source": [
    "type(df2.index[0])"
   ]
  },
  {
   "cell_type": "code",
   "execution_count": 28,
   "id": "f7e9a0c2-c00e-479e-a895-78fa401497ce",
   "metadata": {},
   "outputs": [],
   "source": [
    "df2['pct_change'] = df2['Close'].pct_change()"
   ]
  },
  {
   "cell_type": "code",
   "execution_count": 29,
   "id": "b99b55fd-b017-464c-bd77-765db4477996",
   "metadata": {},
   "outputs": [
    {
     "data": {
      "text/html": [
       "<div>\n",
       "<style scoped>\n",
       "    .dataframe tbody tr th:only-of-type {\n",
       "        vertical-align: middle;\n",
       "    }\n",
       "\n",
       "    .dataframe tbody tr th {\n",
       "        vertical-align: top;\n",
       "    }\n",
       "\n",
       "    .dataframe thead th {\n",
       "        text-align: right;\n",
       "    }\n",
       "</style>\n",
       "<table border=\"1\" class=\"dataframe\">\n",
       "  <thead>\n",
       "    <tr style=\"text-align: right;\">\n",
       "      <th></th>\n",
       "      <th>Close</th>\n",
       "      <th>pct_change</th>\n",
       "    </tr>\n",
       "    <tr>\n",
       "      <th>Date</th>\n",
       "      <th></th>\n",
       "      <th></th>\n",
       "    </tr>\n",
       "  </thead>\n",
       "  <tbody>\n",
       "    <tr>\n",
       "      <th>2021-02-12</th>\n",
       "      <td>270.50</td>\n",
       "      <td>NaN</td>\n",
       "    </tr>\n",
       "    <tr>\n",
       "      <th>2021-02-16</th>\n",
       "      <td>273.97</td>\n",
       "      <td>0.012828</td>\n",
       "    </tr>\n",
       "    <tr>\n",
       "      <th>2021-02-17</th>\n",
       "      <td>273.57</td>\n",
       "      <td>-0.001460</td>\n",
       "    </tr>\n",
       "    <tr>\n",
       "      <th>2021-02-18</th>\n",
       "      <td>269.39</td>\n",
       "      <td>-0.015279</td>\n",
       "    </tr>\n",
       "    <tr>\n",
       "      <th>2021-02-19</th>\n",
       "      <td>261.56</td>\n",
       "      <td>-0.029066</td>\n",
       "    </tr>\n",
       "    <tr>\n",
       "      <th>...</th>\n",
       "      <td>...</td>\n",
       "      <td>...</td>\n",
       "    </tr>\n",
       "    <tr>\n",
       "      <th>2022-03-02</th>\n",
       "      <td>208.11</td>\n",
       "      <td>0.022704</td>\n",
       "    </tr>\n",
       "    <tr>\n",
       "      <th>2022-03-03</th>\n",
       "      <td>202.97</td>\n",
       "      <td>-0.024698</td>\n",
       "    </tr>\n",
       "    <tr>\n",
       "      <th>2022-03-04</th>\n",
       "      <td>200.06</td>\n",
       "      <td>-0.014337</td>\n",
       "    </tr>\n",
       "    <tr>\n",
       "      <th>2022-03-07</th>\n",
       "      <td>187.47</td>\n",
       "      <td>-0.062931</td>\n",
       "    </tr>\n",
       "    <tr>\n",
       "      <th>2022-03-08</th>\n",
       "      <td>190.29</td>\n",
       "      <td>0.015042</td>\n",
       "    </tr>\n",
       "  </tbody>\n",
       "</table>\n",
       "<p>269 rows × 2 columns</p>\n",
       "</div>"
      ],
      "text/plain": [
       "             Close  pct_change\n",
       "Date                          \n",
       "2021-02-12  270.50         NaN\n",
       "2021-02-16  273.97    0.012828\n",
       "2021-02-17  273.57   -0.001460\n",
       "2021-02-18  269.39   -0.015279\n",
       "2021-02-19  261.56   -0.029066\n",
       "...            ...         ...\n",
       "2022-03-02  208.11    0.022704\n",
       "2022-03-03  202.97   -0.024698\n",
       "2022-03-04  200.06   -0.014337\n",
       "2022-03-07  187.47   -0.062931\n",
       "2022-03-08  190.29    0.015042\n",
       "\n",
       "[269 rows x 2 columns]"
      ]
     },
     "execution_count": 29,
     "metadata": {},
     "output_type": "execute_result"
    }
   ],
   "source": [
    "df2"
   ]
  },
  {
   "cell_type": "code",
   "execution_count": 34,
   "id": "5d0c65d4-8d4a-4b5e-bab2-8a6f8bb2c867",
   "metadata": {},
   "outputs": [
    {
     "data": {
      "text/plain": [
       "-0.0009540061760855182"
      ]
     },
     "execution_count": 34,
     "metadata": {},
     "output_type": "execute_result"
    }
   ],
   "source": [
    "df2['pct_change'].mean()"
   ]
  },
  {
   "cell_type": "code",
   "execution_count": null,
   "id": "c516f352-824c-480e-984b-38e232cfbe8c",
   "metadata": {},
   "outputs": [],
   "source": []
  }
 ],
 "metadata": {
  "kernelspec": {
   "display_name": "Python 3 (ipykernel)",
   "language": "python",
   "name": "python3"
  },
  "language_info": {
   "codemirror_mode": {
    "name": "ipython",
    "version": 3
   },
   "file_extension": ".py",
   "mimetype": "text/x-python",
   "name": "python",
   "nbconvert_exporter": "python",
   "pygments_lexer": "ipython3",
   "version": "3.7.11"
  }
 },
 "nbformat": 4,
 "nbformat_minor": 5
}
