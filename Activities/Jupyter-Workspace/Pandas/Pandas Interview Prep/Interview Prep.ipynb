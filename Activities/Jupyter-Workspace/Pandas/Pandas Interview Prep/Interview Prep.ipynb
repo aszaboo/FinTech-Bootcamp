{
 "cells": [
  {
   "cell_type": "code",
   "execution_count": null,
   "id": "bbcad0f0-75e9-49b6-8db0-c01fea9da2a3",
   "metadata": {},
   "outputs": [],
   "source": [
    "# Mock Interviews\n",
    "# Lay out the solution before implementing\n",
    "# Communication\n",
    "# Own the problem\n",
    "# Think of edge cases (when it works and when it doesn't)\n",
    "# Refine later\n",
    "# Know what you know\n",
    "# Know what you don't know\n",
    "# Talk about the complexity of"
   ]
  }
 ],
 "metadata": {
  "kernelspec": {
   "display_name": "Python 3 (ipykernel)",
   "language": "python",
   "name": "python3"
  },
  "language_info": {
   "codemirror_mode": {
    "name": "ipython",
    "version": 3
   },
   "file_extension": ".py",
   "mimetype": "text/x-python",
   "name": "python",
   "nbconvert_exporter": "python",
   "pygments_lexer": "ipython3",
   "version": "3.7.11"
  }
 },
 "nbformat": 4,
 "nbformat_minor": 5
}
