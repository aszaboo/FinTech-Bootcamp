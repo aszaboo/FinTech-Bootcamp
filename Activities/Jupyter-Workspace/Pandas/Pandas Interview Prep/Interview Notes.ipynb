{
 "cells": [
  {
   "cell_type": "code",
   "execution_count": 1,
   "id": "064278e5-a1ec-41d5-835f-c7e2eca529af",
   "metadata": {},
   "outputs": [],
   "source": [
    "# Palendrome question\n",
    "# Create a function to see if string is same if fliped\n",
    "# Test Mom and Mother"
   ]
  },
  {
   "cell_type": "code",
   "execution_count": 25,
   "id": "d6d756fd-98a4-4458-95da-94a50ef9c21b",
   "metadata": {},
   "outputs": [],
   "source": [
    "def pal(word):\n",
    "    word == word[::-1]:\n",
    "        return word"
   ]
  },
  {
   "cell_type": "code",
   "execution_count": 26,
   "id": "89408c18-1d38-4448-a045-e8742556dabf",
   "metadata": {},
   "outputs": [
    {
     "data": {
      "text/plain": [
       "'mom'"
      ]
     },
     "execution_count": 26,
     "metadata": {},
     "output_type": "execute_result"
    }
   ],
   "source": [
    "pal('mom')"
   ]
  },
  {
   "cell_type": "code",
   "execution_count": null,
   "id": "47f8cbef-0f59-49e9-b1d9-2cbf0c9e373a",
   "metadata": {},
   "outputs": [],
   "source": []
  },
  {
   "cell_type": "code",
   "execution_count": null,
   "id": "f438c6ee-95d2-497b-9d7a-cfaae37b6f07",
   "metadata": {},
   "outputs": [],
   "source": []
  },
  {
   "cell_type": "code",
   "execution_count": null,
   "id": "dbc1f184-eadc-49df-9208-0da73606c3c8",
   "metadata": {},
   "outputs": [],
   "source": []
  }
 ],
 "metadata": {
  "kernelspec": {
   "display_name": "Python 3 (ipykernel)",
   "language": "python",
   "name": "python3"
  },
  "language_info": {
   "codemirror_mode": {
    "name": "ipython",
    "version": 3
   },
   "file_extension": ".py",
   "mimetype": "text/x-python",
   "name": "python",
   "nbconvert_exporter": "python",
   "pygments_lexer": "ipython3",
   "version": "3.7.11"
  }
 },
 "nbformat": 4,
 "nbformat_minor": 5
}
