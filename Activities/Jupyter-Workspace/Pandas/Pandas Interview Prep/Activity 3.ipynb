{
 "cells": [
  {
   "cell_type": "code",
   "execution_count": 1,
   "id": "d05b16c9-29cc-4a92-981b-fefa45c7ca2e",
   "metadata": {},
   "outputs": [],
   "source": [
    "# Buy Low Sell High"
   ]
  },
  {
   "cell_type": "code",
   "execution_count": 24,
   "id": "b9ffd261-68eb-472b-b048-1137cbd77fb0",
   "metadata": {},
   "outputs": [],
   "source": [
    "# does not work as dosent take in time\n",
    "prices = [1.42, 1.32, 1.45, 1.20, 1.34, 1.74, 1.10, 1.89, 1.42, 1.90, 1.80, 1.85]"
   ]
  },
  {
   "cell_type": "code",
   "execution_count": 25,
   "id": "6198b222-2544-423a-8235-b4427ea0dadc",
   "metadata": {},
   "outputs": [],
   "source": [
    "prices.sort()"
   ]
  },
  {
   "cell_type": "code",
   "execution_count": 26,
   "id": "1e33ca59-5bb8-4a76-bb8f-45ba32ddd2f7",
   "metadata": {},
   "outputs": [],
   "source": [
    "max_value = prices[-1] - prices[0]"
   ]
  },
  {
   "cell_type": "code",
   "execution_count": 27,
   "id": "fae1b92e-8820-49ef-92cb-1e9c732a6d17",
   "metadata": {},
   "outputs": [
    {
     "data": {
      "text/plain": [
       "7999.999999999998"
      ]
     },
     "execution_count": 27,
     "metadata": {},
     "output_type": "execute_result"
    }
   ],
   "source": [
    "most_profit = max_value*10000\n",
    "most_profit"
   ]
  },
  {
   "cell_type": "code",
   "execution_count": null,
   "id": "87d48c92-4399-4d20-a679-67088099bd98",
   "metadata": {},
   "outputs": [],
   "source": []
  }
 ],
 "metadata": {
  "kernelspec": {
   "display_name": "Python 3 (ipykernel)",
   "language": "python",
   "name": "python3"
  },
  "language_info": {
   "codemirror_mode": {
    "name": "ipython",
    "version": 3
   },
   "file_extension": ".py",
   "mimetype": "text/x-python",
   "name": "python",
   "nbconvert_exporter": "python",
   "pygments_lexer": "ipython3",
   "version": "3.7.11"
  }
 },
 "nbformat": 4,
 "nbformat_minor": 5
}
