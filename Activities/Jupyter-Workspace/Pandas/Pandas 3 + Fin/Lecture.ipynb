{
 "cells": [
  {
   "cell_type": "code",
   "execution_count": 2,
   "id": "438d62db-b362-4f31-90b0-2e64914ebf08",
   "metadata": {},
   "outputs": [],
   "source": [
    "# Sharpe Ratio\n",
    "# Sa = E[Ra - Rb] / Theta(a)\n",
    "# Sa - Sharpe Ratio\n",
    "# E - Expected Value\n",
    "# Ra - Asset Return\n",
    "# Rb - Risk free return\n",
    "# Sigma(a) - standard deviation of the asses excess return\\"
   ]
  },
  {
   "cell_type": "code",
   "execution_count": 4,
   "id": "6c2ecf70-e3d3-4ca5-994b-09d95879903d",
   "metadata": {},
   "outputs": [],
   "source": [
    "# Beta - measure of volitily relitive to a bench mark such as the S&P 500\n",
    "# Growth stocks have a B > 1 (higher risk then the market)\n",
    "# if Beta < 0 for example if B = -2 then th investment is opposite of the index by a factor of 2\n",
    "# Tresury bonds tend to have negaive Betas\n",
    "# if corolation around 0 cant make any assumption about risk\n",
    "# B = Cov(return of stock, return of market) / var(market return)\n",
    "\n",
    "# Covarience - measures how two stocks move together\n",
    "# if Cov > 0 stocks tend to move together\n",
    "# if Cov < 0 stocks tend to move opposite of eachother\n",
    "\n",
    "# Diff between variance and Covarience\n",
    "# Varience is a specail case of the Covarience\n",
    "# Cov(X,X) = Var(x) - sigma**2 (x)\n",
    "# Cov(X,Y) = sigma(x)sigma(y) = E[(X-E[x])(Y-E[y])]\n",
    "# can also write it as E[x] - Mx\n",
    "# E[1,2,3] = (1+2+3)/3 = 6/3 = 2"
   ]
  },
  {
   "cell_type": "code",
   "execution_count": 5,
   "id": "f08d43d2-c09d-4f67-8c72-74ee8bc7bb1b",
   "metadata": {},
   "outputs": [],
   "source": [
    "# Corr xy = P xy = E[(X-Mx)(Y-My)]/theta(x)theta(x)\n",
    "# Corr = Cov(X,Y)/sigma(x)sigma(y)\n",
    "# Variance tells you difference reletive to eachother\n",
    "# Corr tells you the units so you know exactly how big\n",
    "# Normalize = per unit\n",
    "# Sample Variance - S**2 = theta**2 = \n"
   ]
  },
  {
   "cell_type": "code",
   "execution_count": 87,
   "id": "bd0bff97-b6aa-413f-b5aa-8e524c6def4a",
   "metadata": {},
   "outputs": [
    {
     "name": "stdout",
     "output_type": "stream",
     "text": [
      "FB Stock Info - Sheet3.csv harold_portfolio.csv\n",
      "Lecture.ipynb              my_portfolio.csv\n"
     ]
    }
   ],
   "source": [
    "import pandas as pd\n",
    "!ls"
   ]
  },
  {
   "cell_type": "code",
   "execution_count": 88,
   "id": "2a8f6bf6-c688-4310-b77c-261c2674242f",
   "metadata": {},
   "outputs": [],
   "source": [
    "harold_portfolio = pd.read_csv(\"harold_portfolio.csv\")"
   ]
  },
  {
   "cell_type": "code",
   "execution_count": 89,
   "id": "b0903b6b-eaeb-46f5-a6ed-dfb9ae346bfb",
   "metadata": {},
   "outputs": [],
   "source": [
    "my_portfolio = pd.read_csv(\"my_portfolio.csv\")"
   ]
  },
  {
   "cell_type": "code",
   "execution_count": 90,
   "id": "51d6c347-6c97-4fc9-88ec-a264d4798eb4",
   "metadata": {},
   "outputs": [
    {
     "data": {
      "text/html": [
       "<div>\n",
       "<style scoped>\n",
       "    .dataframe tbody tr th:only-of-type {\n",
       "        vertical-align: middle;\n",
       "    }\n",
       "\n",
       "    .dataframe tbody tr th {\n",
       "        vertical-align: top;\n",
       "    }\n",
       "\n",
       "    .dataframe thead th {\n",
       "        text-align: right;\n",
       "    }\n",
       "</style>\n",
       "<table border=\"1\" class=\"dataframe\">\n",
       "  <thead>\n",
       "    <tr style=\"text-align: right;\">\n",
       "      <th></th>\n",
       "      <th>Date</th>\n",
       "      <th>BTC</th>\n",
       "      <th>BTT</th>\n",
       "      <th>DOGE</th>\n",
       "      <th>ETH</th>\n",
       "      <th>LTC</th>\n",
       "      <th>XRP</th>\n",
       "      <th>SOLVE</th>\n",
       "      <th>XLM</th>\n",
       "      <th>TRON</th>\n",
       "      <th>ZIL</th>\n",
       "    </tr>\n",
       "  </thead>\n",
       "  <tbody>\n",
       "    <tr>\n",
       "      <th>0</th>\n",
       "      <td>2019-05-20</td>\n",
       "      <td>8118.39</td>\n",
       "      <td>0.001187</td>\n",
       "      <td>0.003041</td>\n",
       "      <td>261.09</td>\n",
       "      <td>95.06</td>\n",
       "      <td>0.398003</td>\n",
       "      <td>0.338667</td>\n",
       "      <td>0.135545</td>\n",
       "      <td>0.028509</td>\n",
       "      <td>0.017992</td>\n",
       "    </tr>\n",
       "    <tr>\n",
       "      <th>1</th>\n",
       "      <td>2019-05-19</td>\n",
       "      <td>8200.00</td>\n",
       "      <td>0.001056</td>\n",
       "      <td>0.003178</td>\n",
       "      <td>234.03</td>\n",
       "      <td>86.65</td>\n",
       "      <td>0.417700</td>\n",
       "      <td>0.300430</td>\n",
       "      <td>0.141485</td>\n",
       "      <td>0.029277</td>\n",
       "      <td>0.019170</td>\n",
       "    </tr>\n",
       "    <tr>\n",
       "      <th>2</th>\n",
       "      <td>2019-05-18</td>\n",
       "      <td>7262.40</td>\n",
       "      <td>0.000993</td>\n",
       "      <td>0.003005</td>\n",
       "      <td>244.59</td>\n",
       "      <td>89.88</td>\n",
       "      <td>0.372736</td>\n",
       "      <td>0.287630</td>\n",
       "      <td>0.128833</td>\n",
       "      <td>0.026823</td>\n",
       "      <td>0.017685</td>\n",
       "    </tr>\n",
       "    <tr>\n",
       "      <th>3</th>\n",
       "      <td>2019-05-17</td>\n",
       "      <td>7363.69</td>\n",
       "      <td>0.000957</td>\n",
       "      <td>0.002962</td>\n",
       "      <td>264.39</td>\n",
       "      <td>95.75</td>\n",
       "      <td>0.386193</td>\n",
       "      <td>0.259506</td>\n",
       "      <td>0.126562</td>\n",
       "      <td>0.027220</td>\n",
       "      <td>0.017892</td>\n",
       "    </tr>\n",
       "    <tr>\n",
       "      <th>4</th>\n",
       "      <td>2019-05-16</td>\n",
       "      <td>7878.96</td>\n",
       "      <td>0.000885</td>\n",
       "      <td>0.003168</td>\n",
       "      <td>249.00</td>\n",
       "      <td>102.26</td>\n",
       "      <td>0.419707</td>\n",
       "      <td>0.223316</td>\n",
       "      <td>0.137283</td>\n",
       "      <td>0.028857</td>\n",
       "      <td>0.018725</td>\n",
       "    </tr>\n",
       "  </tbody>\n",
       "</table>\n",
       "</div>"
      ],
      "text/plain": [
       "         Date      BTC       BTT      DOGE     ETH     LTC       XRP  \\\n",
       "0  2019-05-20  8118.39  0.001187  0.003041  261.09   95.06  0.398003   \n",
       "1  2019-05-19  8200.00  0.001056  0.003178  234.03   86.65  0.417700   \n",
       "2  2019-05-18  7262.40  0.000993  0.003005  244.59   89.88  0.372736   \n",
       "3  2019-05-17  7363.69  0.000957  0.002962  264.39   95.75  0.386193   \n",
       "4  2019-05-16  7878.96  0.000885  0.003168  249.00  102.26  0.419707   \n",
       "\n",
       "      SOLVE       XLM      TRON       ZIL  \n",
       "0  0.338667  0.135545  0.028509  0.017992  \n",
       "1  0.300430  0.141485  0.029277  0.019170  \n",
       "2  0.287630  0.128833  0.026823  0.017685  \n",
       "3  0.259506  0.126562  0.027220  0.017892  \n",
       "4  0.223316  0.137283  0.028857  0.018725  "
      ]
     },
     "execution_count": 90,
     "metadata": {},
     "output_type": "execute_result"
    }
   ],
   "source": [
    "harold_portfolio.head()"
   ]
  },
  {
   "cell_type": "code",
   "execution_count": 91,
   "id": "6d5285bf-f5f5-4b25-a895-87a41bb3bd9f",
   "metadata": {},
   "outputs": [
    {
     "data": {
      "text/html": [
       "<div>\n",
       "<style scoped>\n",
       "    .dataframe tbody tr th:only-of-type {\n",
       "        vertical-align: middle;\n",
       "    }\n",
       "\n",
       "    .dataframe tbody tr th {\n",
       "        vertical-align: top;\n",
       "    }\n",
       "\n",
       "    .dataframe thead th {\n",
       "        text-align: right;\n",
       "    }\n",
       "</style>\n",
       "<table border=\"1\" class=\"dataframe\">\n",
       "  <thead>\n",
       "    <tr style=\"text-align: right;\">\n",
       "      <th></th>\n",
       "      <th>Date</th>\n",
       "      <th>BTC</th>\n",
       "      <th>DOGE</th>\n",
       "      <th>ETH</th>\n",
       "      <th>LTC</th>\n",
       "      <th>XRP</th>\n",
       "      <th>XLM</th>\n",
       "    </tr>\n",
       "  </thead>\n",
       "  <tbody>\n",
       "    <tr>\n",
       "      <th>0</th>\n",
       "      <td>2019-05-20</td>\n",
       "      <td>8200.00</td>\n",
       "      <td>0.003041</td>\n",
       "      <td>261.09</td>\n",
       "      <td>95.06</td>\n",
       "      <td>0.398003</td>\n",
       "      <td>0.135545</td>\n",
       "    </tr>\n",
       "    <tr>\n",
       "      <th>1</th>\n",
       "      <td>2019-05-19</td>\n",
       "      <td>7262.40</td>\n",
       "      <td>0.003178</td>\n",
       "      <td>234.03</td>\n",
       "      <td>86.65</td>\n",
       "      <td>0.417700</td>\n",
       "      <td>0.141485</td>\n",
       "    </tr>\n",
       "    <tr>\n",
       "      <th>2</th>\n",
       "      <td>2019-05-18</td>\n",
       "      <td>7363.69</td>\n",
       "      <td>0.003005</td>\n",
       "      <td>244.59</td>\n",
       "      <td>89.88</td>\n",
       "      <td>0.372736</td>\n",
       "      <td>0.128833</td>\n",
       "    </tr>\n",
       "    <tr>\n",
       "      <th>3</th>\n",
       "      <td>2019-05-17</td>\n",
       "      <td>7878.96</td>\n",
       "      <td>0.002962</td>\n",
       "      <td>264.39</td>\n",
       "      <td>95.75</td>\n",
       "      <td>0.386193</td>\n",
       "      <td>0.126562</td>\n",
       "    </tr>\n",
       "    <tr>\n",
       "      <th>4</th>\n",
       "      <td>2019-05-16</td>\n",
       "      <td>8203.32</td>\n",
       "      <td>0.003168</td>\n",
       "      <td>249.00</td>\n",
       "      <td>102.26</td>\n",
       "      <td>0.419707</td>\n",
       "      <td>0.137283</td>\n",
       "    </tr>\n",
       "  </tbody>\n",
       "</table>\n",
       "</div>"
      ],
      "text/plain": [
       "         Date      BTC      DOGE     ETH     LTC       XRP       XLM\n",
       "0  2019-05-20  8200.00  0.003041  261.09   95.06  0.398003  0.135545\n",
       "1  2019-05-19  7262.40  0.003178  234.03   86.65  0.417700  0.141485\n",
       "2  2019-05-18  7363.69  0.003005  244.59   89.88  0.372736  0.128833\n",
       "3  2019-05-17  7878.96  0.002962  264.39   95.75  0.386193  0.126562\n",
       "4  2019-05-16  8203.32  0.003168  249.00  102.26  0.419707  0.137283"
      ]
     },
     "execution_count": 91,
     "metadata": {},
     "output_type": "execute_result"
    }
   ],
   "source": [
    "my_portfolio.head()"
   ]
  },
  {
   "cell_type": "code",
   "execution_count": 92,
   "id": "2562a65b-4350-45b0-ac7d-49b2edf3de36",
   "metadata": {},
   "outputs": [],
   "source": [
    "my_portfolio['Date'] = pd.to_datetime(my_portfolio['Date'])"
   ]
  },
  {
   "cell_type": "code",
   "execution_count": 93,
   "id": "68533d12-643b-4498-99b6-2fa9bc7d1867",
   "metadata": {},
   "outputs": [
    {
     "data": {
      "text/plain": [
       "Timestamp('2014-12-01 00:00:00')"
      ]
     },
     "execution_count": 93,
     "metadata": {},
     "output_type": "execute_result"
    }
   ],
   "source": [
    "my_portfolio['Date'].min()"
   ]
  },
  {
   "cell_type": "code",
   "execution_count": 94,
   "id": "23b893c6-25dc-4bc1-9d52-4b2b3d3606bd",
   "metadata": {},
   "outputs": [
    {
     "data": {
      "text/plain": [
       "Timestamp('2019-05-20 00:00:00')"
      ]
     },
     "execution_count": 94,
     "metadata": {},
     "output_type": "execute_result"
    }
   ],
   "source": [
    "my_portfolio['Date'].max()"
   ]
  },
  {
   "cell_type": "code",
   "execution_count": 95,
   "id": "ef8ec465-cb3e-47a2-948e-e7af31beb594",
   "metadata": {},
   "outputs": [
    {
     "data": {
      "text/plain": [
       "11"
      ]
     },
     "execution_count": 95,
     "metadata": {},
     "output_type": "execute_result"
    }
   ],
   "source": [
    "len(my_portfolio[my_portfolio['Date'].duplicated()])"
   ]
  },
  {
   "cell_type": "code",
   "execution_count": 96,
   "id": "d95d9fc0-0855-4e5d-bbfa-281461f5267c",
   "metadata": {},
   "outputs": [
    {
     "data": {
      "text/plain": [
       "0      2019-05-20\n",
       "1      2019-05-19\n",
       "2      2019-05-18\n",
       "3      2019-05-17\n",
       "4      2019-05-16\n",
       "          ...    \n",
       "1615   2014-12-05\n",
       "1616   2014-12-04\n",
       "1617   2014-12-03\n",
       "1618   2014-12-02\n",
       "1619   2014-12-01\n",
       "Name: Date, Length: 1620, dtype: datetime64[ns]"
      ]
     },
     "execution_count": 96,
     "metadata": {},
     "output_type": "execute_result"
    }
   ],
   "source": [
    "my_portfolio['Date'].dropna()"
   ]
  },
  {
   "cell_type": "code",
   "execution_count": 97,
   "id": "9de6c2a7-93bb-401d-afa9-0a5539e04a05",
   "metadata": {},
   "outputs": [
    {
     "data": {
      "text/plain": [
       "1632"
      ]
     },
     "execution_count": 97,
     "metadata": {},
     "output_type": "execute_result"
    }
   ],
   "source": [
    "len(my_portfolio)"
   ]
  },
  {
   "cell_type": "code",
   "execution_count": 98,
   "id": "fa9bd520-a7b6-4b17-b18a-2a14f8c76f79",
   "metadata": {},
   "outputs": [
    {
     "data": {
      "text/plain": [
       "1620"
      ]
     },
     "execution_count": 98,
     "metadata": {},
     "output_type": "execute_result"
    }
   ],
   "source": [
    "len(my_portfolio['Date'].dropna())"
   ]
  },
  {
   "cell_type": "code",
   "execution_count": 99,
   "id": "d394daab-c16d-428e-aea9-222a934fb0cc",
   "metadata": {},
   "outputs": [
    {
     "data": {
      "text/plain": [
       "0      2019-05-20\n",
       "1      2019-05-19\n",
       "2      2019-05-18\n",
       "3      2019-05-17\n",
       "4      2019-05-16\n",
       "          ...    \n",
       "1615   2014-12-05\n",
       "1616   2014-12-04\n",
       "1617   2014-12-03\n",
       "1618   2014-12-02\n",
       "1619   2014-12-01\n",
       "Name: Date, Length: 1620, dtype: datetime64[ns]"
      ]
     },
     "execution_count": 99,
     "metadata": {},
     "output_type": "execute_result"
    }
   ],
   "source": [
    "my_portfolio['Date'].dropna().copy()"
   ]
  },
  {
   "cell_type": "code",
   "execution_count": 100,
   "id": "23d6a66d-22d5-42a8-862a-40892a7c8108",
   "metadata": {},
   "outputs": [],
   "source": [
    "my_portfolio.dropna(inplace = True)"
   ]
  },
  {
   "cell_type": "code",
   "execution_count": 101,
   "id": "acd3e417-78a4-493b-a82c-113c0ed3c74e",
   "metadata": {},
   "outputs": [
    {
     "data": {
      "text/html": [
       "<div>\n",
       "<style scoped>\n",
       "    .dataframe tbody tr th:only-of-type {\n",
       "        vertical-align: middle;\n",
       "    }\n",
       "\n",
       "    .dataframe tbody tr th {\n",
       "        vertical-align: top;\n",
       "    }\n",
       "\n",
       "    .dataframe thead th {\n",
       "        text-align: right;\n",
       "    }\n",
       "</style>\n",
       "<table border=\"1\" class=\"dataframe\">\n",
       "  <thead>\n",
       "    <tr style=\"text-align: right;\">\n",
       "      <th></th>\n",
       "      <th>Date</th>\n",
       "      <th>BTC</th>\n",
       "      <th>DOGE</th>\n",
       "      <th>ETH</th>\n",
       "      <th>LTC</th>\n",
       "      <th>XRP</th>\n",
       "      <th>XLM</th>\n",
       "    </tr>\n",
       "  </thead>\n",
       "  <tbody>\n",
       "    <tr>\n",
       "      <th>0</th>\n",
       "      <td>2019-05-20</td>\n",
       "      <td>8200.00</td>\n",
       "      <td>0.003041</td>\n",
       "      <td>261.09</td>\n",
       "      <td>95.06</td>\n",
       "      <td>0.398003</td>\n",
       "      <td>0.135545</td>\n",
       "    </tr>\n",
       "    <tr>\n",
       "      <th>1</th>\n",
       "      <td>2019-05-19</td>\n",
       "      <td>7262.40</td>\n",
       "      <td>0.003178</td>\n",
       "      <td>234.03</td>\n",
       "      <td>86.65</td>\n",
       "      <td>0.417700</td>\n",
       "      <td>0.141485</td>\n",
       "    </tr>\n",
       "    <tr>\n",
       "      <th>2</th>\n",
       "      <td>2019-05-18</td>\n",
       "      <td>7363.69</td>\n",
       "      <td>0.003005</td>\n",
       "      <td>244.59</td>\n",
       "      <td>89.88</td>\n",
       "      <td>0.372736</td>\n",
       "      <td>0.128833</td>\n",
       "    </tr>\n",
       "    <tr>\n",
       "      <th>3</th>\n",
       "      <td>2019-05-17</td>\n",
       "      <td>7878.96</td>\n",
       "      <td>0.002962</td>\n",
       "      <td>264.39</td>\n",
       "      <td>95.75</td>\n",
       "      <td>0.386193</td>\n",
       "      <td>0.126562</td>\n",
       "    </tr>\n",
       "    <tr>\n",
       "      <th>4</th>\n",
       "      <td>2019-05-16</td>\n",
       "      <td>8203.32</td>\n",
       "      <td>0.003168</td>\n",
       "      <td>249.00</td>\n",
       "      <td>102.26</td>\n",
       "      <td>0.419707</td>\n",
       "      <td>0.137283</td>\n",
       "    </tr>\n",
       "    <tr>\n",
       "      <th>...</th>\n",
       "      <td>...</td>\n",
       "      <td>...</td>\n",
       "      <td>...</td>\n",
       "      <td>...</td>\n",
       "      <td>...</td>\n",
       "      <td>...</td>\n",
       "      <td>...</td>\n",
       "    </tr>\n",
       "    <tr>\n",
       "      <th>983</th>\n",
       "      <td>2016-08-28</td>\n",
       "      <td>570.42</td>\n",
       "      <td>0.000230</td>\n",
       "      <td>11.21</td>\n",
       "      <td>3.78</td>\n",
       "      <td>0.005869</td>\n",
       "      <td>0.002020</td>\n",
       "    </tr>\n",
       "    <tr>\n",
       "      <th>984</th>\n",
       "      <td>2016-08-27</td>\n",
       "      <td>578.89</td>\n",
       "      <td>0.000228</td>\n",
       "      <td>11.29</td>\n",
       "      <td>3.81</td>\n",
       "      <td>0.005902</td>\n",
       "      <td>0.001931</td>\n",
       "    </tr>\n",
       "    <tr>\n",
       "      <th>985</th>\n",
       "      <td>2016-08-26</td>\n",
       "      <td>576.16</td>\n",
       "      <td>0.000242</td>\n",
       "      <td>11.34</td>\n",
       "      <td>3.81</td>\n",
       "      <td>0.005892</td>\n",
       "      <td>0.001925</td>\n",
       "    </tr>\n",
       "    <tr>\n",
       "      <th>986</th>\n",
       "      <td>2016-08-25</td>\n",
       "      <td>578.92</td>\n",
       "      <td>0.000241</td>\n",
       "      <td>11.00</td>\n",
       "      <td>3.84</td>\n",
       "      <td>0.005912</td>\n",
       "      <td>0.001925</td>\n",
       "    </tr>\n",
       "    <tr>\n",
       "      <th>987</th>\n",
       "      <td>2016-08-24</td>\n",
       "      <td>582.58</td>\n",
       "      <td>0.000236</td>\n",
       "      <td>10.98</td>\n",
       "      <td>3.95</td>\n",
       "      <td>0.005932</td>\n",
       "      <td>0.001912</td>\n",
       "    </tr>\n",
       "  </tbody>\n",
       "</table>\n",
       "<p>988 rows × 7 columns</p>\n",
       "</div>"
      ],
      "text/plain": [
       "          Date      BTC      DOGE     ETH     LTC       XRP       XLM\n",
       "0   2019-05-20  8200.00  0.003041  261.09   95.06  0.398003  0.135545\n",
       "1   2019-05-19  7262.40  0.003178  234.03   86.65  0.417700  0.141485\n",
       "2   2019-05-18  7363.69  0.003005  244.59   89.88  0.372736  0.128833\n",
       "3   2019-05-17  7878.96  0.002962  264.39   95.75  0.386193  0.126562\n",
       "4   2019-05-16  8203.32  0.003168  249.00  102.26  0.419707  0.137283\n",
       "..         ...      ...       ...     ...     ...       ...       ...\n",
       "983 2016-08-28   570.42  0.000230   11.21    3.78  0.005869  0.002020\n",
       "984 2016-08-27   578.89  0.000228   11.29    3.81  0.005902  0.001931\n",
       "985 2016-08-26   576.16  0.000242   11.34    3.81  0.005892  0.001925\n",
       "986 2016-08-25   578.92  0.000241   11.00    3.84  0.005912  0.001925\n",
       "987 2016-08-24   582.58  0.000236   10.98    3.95  0.005932  0.001912\n",
       "\n",
       "[988 rows x 7 columns]"
      ]
     },
     "execution_count": 101,
     "metadata": {},
     "output_type": "execute_result"
    }
   ],
   "source": [
    "my_portfolio"
   ]
  },
  {
   "cell_type": "code",
   "execution_count": 102,
   "id": "8abd79cb-3530-4c17-9bbc-daa45037e86d",
   "metadata": {},
   "outputs": [
    {
     "data": {
      "text/plain": [
       "988"
      ]
     },
     "execution_count": 102,
     "metadata": {},
     "output_type": "execute_result"
    }
   ],
   "source": [
    "len(my_portfolio)"
   ]
  },
  {
   "cell_type": "code",
   "execution_count": 103,
   "id": "1ef0b100-aac6-450e-ab1e-967080195b9f",
   "metadata": {},
   "outputs": [
    {
     "data": {
      "text/plain": [
       "Timestamp('2016-08-24 00:00:00')"
      ]
     },
     "execution_count": 103,
     "metadata": {},
     "output_type": "execute_result"
    }
   ],
   "source": [
    "my_portfolio['Date'].min()"
   ]
  },
  {
   "cell_type": "code",
   "execution_count": 104,
   "id": "7788449e-d301-4971-a5ac-f3e15425b0cd",
   "metadata": {},
   "outputs": [
    {
     "data": {
      "text/plain": [
       "Timestamp('2019-05-20 00:00:00')"
      ]
     },
     "execution_count": 104,
     "metadata": {},
     "output_type": "execute_result"
    }
   ],
   "source": [
    "my_portfolio['Date'].max()"
   ]
  },
  {
   "cell_type": "code",
   "execution_count": 105,
   "id": "04fda99e-229f-4146-8a0e-afbf6f86baa4",
   "metadata": {},
   "outputs": [],
   "source": [
    "harold_portfolio.dropna(inplace=True)"
   ]
  },
  {
   "cell_type": "code",
   "execution_count": 106,
   "id": "30733d5f-8a45-4ce6-9e68-88874ca2c89e",
   "metadata": {},
   "outputs": [
    {
     "data": {
      "text/plain": [
       "'2019-05-20'"
      ]
     },
     "execution_count": 106,
     "metadata": {},
     "output_type": "execute_result"
    }
   ],
   "source": [
    "harold_portfolio['Date'].max()"
   ]
  },
  {
   "cell_type": "code",
   "execution_count": 107,
   "id": "ec0716d9-93e6-4113-8eff-9561a65f59fa",
   "metadata": {},
   "outputs": [
    {
     "data": {
      "text/plain": [
       "'2019-05-15'"
      ]
     },
     "execution_count": 107,
     "metadata": {},
     "output_type": "execute_result"
    }
   ],
   "source": [
    "harold_portfolio['Date'].min()"
   ]
  },
  {
   "cell_type": "code",
   "execution_count": 108,
   "id": "26828b5a-7533-46a1-bd97-37f4fde29a3b",
   "metadata": {},
   "outputs": [
    {
     "data": {
      "text/plain": [
       "6"
      ]
     },
     "execution_count": 108,
     "metadata": {},
     "output_type": "execute_result"
    }
   ],
   "source": [
    "len(harold_portfolio)"
   ]
  },
  {
   "cell_type": "code",
   "execution_count": 109,
   "id": "1817014d-36b3-4b7d-bd38-f035d80937c3",
   "metadata": {},
   "outputs": [
    {
     "data": {
      "text/html": [
       "<div>\n",
       "<style scoped>\n",
       "    .dataframe tbody tr th:only-of-type {\n",
       "        vertical-align: middle;\n",
       "    }\n",
       "\n",
       "    .dataframe tbody tr th {\n",
       "        vertical-align: top;\n",
       "    }\n",
       "\n",
       "    .dataframe thead th {\n",
       "        text-align: right;\n",
       "    }\n",
       "</style>\n",
       "<table border=\"1\" class=\"dataframe\">\n",
       "  <thead>\n",
       "    <tr style=\"text-align: right;\">\n",
       "      <th></th>\n",
       "      <th>Date</th>\n",
       "      <th>BTC</th>\n",
       "      <th>BTT</th>\n",
       "      <th>DOGE</th>\n",
       "      <th>ETH</th>\n",
       "      <th>LTC</th>\n",
       "      <th>XRP</th>\n",
       "      <th>SOLVE</th>\n",
       "      <th>XLM</th>\n",
       "      <th>TRON</th>\n",
       "      <th>ZIL</th>\n",
       "    </tr>\n",
       "  </thead>\n",
       "  <tbody>\n",
       "    <tr>\n",
       "      <th>0</th>\n",
       "      <td>2019-05-20</td>\n",
       "      <td>8118.39</td>\n",
       "      <td>0.001187</td>\n",
       "      <td>0.003041</td>\n",
       "      <td>261.09</td>\n",
       "      <td>95.06</td>\n",
       "      <td>0.398003</td>\n",
       "      <td>0.338667</td>\n",
       "      <td>0.135545</td>\n",
       "      <td>0.028509</td>\n",
       "      <td>0.017992</td>\n",
       "    </tr>\n",
       "    <tr>\n",
       "      <th>1</th>\n",
       "      <td>2019-05-19</td>\n",
       "      <td>8200.00</td>\n",
       "      <td>0.001056</td>\n",
       "      <td>0.003178</td>\n",
       "      <td>234.03</td>\n",
       "      <td>86.65</td>\n",
       "      <td>0.417700</td>\n",
       "      <td>0.300430</td>\n",
       "      <td>0.141485</td>\n",
       "      <td>0.029277</td>\n",
       "      <td>0.019170</td>\n",
       "    </tr>\n",
       "    <tr>\n",
       "      <th>2</th>\n",
       "      <td>2019-05-18</td>\n",
       "      <td>7262.40</td>\n",
       "      <td>0.000993</td>\n",
       "      <td>0.003005</td>\n",
       "      <td>244.59</td>\n",
       "      <td>89.88</td>\n",
       "      <td>0.372736</td>\n",
       "      <td>0.287630</td>\n",
       "      <td>0.128833</td>\n",
       "      <td>0.026823</td>\n",
       "      <td>0.017685</td>\n",
       "    </tr>\n",
       "    <tr>\n",
       "      <th>3</th>\n",
       "      <td>2019-05-17</td>\n",
       "      <td>7363.69</td>\n",
       "      <td>0.000957</td>\n",
       "      <td>0.002962</td>\n",
       "      <td>264.39</td>\n",
       "      <td>95.75</td>\n",
       "      <td>0.386193</td>\n",
       "      <td>0.259506</td>\n",
       "      <td>0.126562</td>\n",
       "      <td>0.027220</td>\n",
       "      <td>0.017892</td>\n",
       "    </tr>\n",
       "    <tr>\n",
       "      <th>4</th>\n",
       "      <td>2019-05-16</td>\n",
       "      <td>7878.96</td>\n",
       "      <td>0.000885</td>\n",
       "      <td>0.003168</td>\n",
       "      <td>249.00</td>\n",
       "      <td>102.26</td>\n",
       "      <td>0.419707</td>\n",
       "      <td>0.223316</td>\n",
       "      <td>0.137283</td>\n",
       "      <td>0.028857</td>\n",
       "      <td>0.018725</td>\n",
       "    </tr>\n",
       "    <tr>\n",
       "      <th>5</th>\n",
       "      <td>2019-05-15</td>\n",
       "      <td>8203.32</td>\n",
       "      <td>0.000852</td>\n",
       "      <td>0.003308</td>\n",
       "      <td>217.44</td>\n",
       "      <td>91.69</td>\n",
       "      <td>0.456005</td>\n",
       "      <td>0.224973</td>\n",
       "      <td>0.137002</td>\n",
       "      <td>0.031348</td>\n",
       "      <td>0.020377</td>\n",
       "    </tr>\n",
       "  </tbody>\n",
       "</table>\n",
       "</div>"
      ],
      "text/plain": [
       "         Date      BTC       BTT      DOGE     ETH     LTC       XRP  \\\n",
       "0  2019-05-20  8118.39  0.001187  0.003041  261.09   95.06  0.398003   \n",
       "1  2019-05-19  8200.00  0.001056  0.003178  234.03   86.65  0.417700   \n",
       "2  2019-05-18  7262.40  0.000993  0.003005  244.59   89.88  0.372736   \n",
       "3  2019-05-17  7363.69  0.000957  0.002962  264.39   95.75  0.386193   \n",
       "4  2019-05-16  7878.96  0.000885  0.003168  249.00  102.26  0.419707   \n",
       "5  2019-05-15  8203.32  0.000852  0.003308  217.44   91.69  0.456005   \n",
       "\n",
       "      SOLVE       XLM      TRON       ZIL  \n",
       "0  0.338667  0.135545  0.028509  0.017992  \n",
       "1  0.300430  0.141485  0.029277  0.019170  \n",
       "2  0.287630  0.128833  0.026823  0.017685  \n",
       "3  0.259506  0.126562  0.027220  0.017892  \n",
       "4  0.223316  0.137283  0.028857  0.018725  \n",
       "5  0.224973  0.137002  0.031348  0.020377  "
      ]
     },
     "execution_count": 109,
     "metadata": {},
     "output_type": "execute_result"
    }
   ],
   "source": [
    "harold_portfolio"
   ]
  },
  {
   "cell_type": "code",
   "execution_count": 110,
   "id": "d405e0dc-a62f-4122-8db1-afafb789fc1c",
   "metadata": {},
   "outputs": [
    {
     "data": {
      "text/plain": [
       "Index(['Date', 'BTC', 'BTT', 'DOGE', 'ETH', 'LTC', 'XRP', 'SOLVE', 'XLM',\n",
       "       'TRON', 'ZIL'],\n",
       "      dtype='object')"
      ]
     },
     "execution_count": 110,
     "metadata": {},
     "output_type": "execute_result"
    }
   ],
   "source": [
    "harold_portfolio.columns"
   ]
  },
  {
   "cell_type": "code",
   "execution_count": 111,
   "id": "e0f46c56-c77b-4d7b-aad3-425d4858d2e8",
   "metadata": {},
   "outputs": [
    {
     "data": {
      "text/plain": [
       "['BTC', 'DOGE', 'ETH', 'LTC', 'XRP', 'XLM']"
      ]
     },
     "execution_count": 111,
     "metadata": {},
     "output_type": "execute_result"
    }
   ],
   "source": [
    "tickers = list(my_portfolio.columns)[1:]\n",
    "tickers"
   ]
  },
  {
   "cell_type": "code",
   "execution_count": 112,
   "id": "76c663b6-302e-4b3d-bd87-fb2081f84fa5",
   "metadata": {},
   "outputs": [
    {
     "name": "stdout",
     "output_type": "stream",
     "text": [
      "BTC 13593931.05524489\n",
      "DOGE 5.051199931846797e-06\n",
      "ETH 73514.00110011228\n",
      "LTC 4205.446582919143\n",
      "XRP 0.16705689362721934\n",
      "XLM 0.021117463647832013\n"
     ]
    }
   ],
   "source": [
    "for ticker in tickers:\n",
    "    print(ticker,my_portfolio[ticker].var())"
   ]
  },
  {
   "cell_type": "code",
   "execution_count": 113,
   "id": "eb9f226a-c06a-4ede-b154-f5599fb79d8d",
   "metadata": {},
   "outputs": [
    {
     "data": {
      "text/plain": [
       "Timestamp('2019-05-20 00:00:00')"
      ]
     },
     "execution_count": 113,
     "metadata": {},
     "output_type": "execute_result"
    }
   ],
   "source": [
    "my_portfolio['Date'].max()"
   ]
  },
  {
   "cell_type": "code",
   "execution_count": 114,
   "id": "f4c284a5-1524-4859-9c5c-ca9d519cb6d5",
   "metadata": {},
   "outputs": [
    {
     "data": {
      "text/plain": [
       "Timestamp('2016-08-24 00:00:00')"
      ]
     },
     "execution_count": 114,
     "metadata": {},
     "output_type": "execute_result"
    }
   ],
   "source": [
    "my_portfolio['Date'].min()"
   ]
  },
  {
   "cell_type": "code",
   "execution_count": 115,
   "id": "501809df-d7cd-4c5c-a00d-2229e3602ce2",
   "metadata": {},
   "outputs": [
    {
     "name": "stdout",
     "output_type": "stream",
     "text": [
      "FB Stock Info - Sheet3.csv harold_portfolio.csv\n",
      "Lecture.ipynb              my_portfolio.csv\n"
     ]
    }
   ],
   "source": [
    "!ls"
   ]
  },
  {
   "cell_type": "code",
   "execution_count": 116,
   "id": "8fcfbc5b-df20-465f-9885-8ebe21cdff31",
   "metadata": {},
   "outputs": [],
   "source": [
    "stock_data = pd.read_csv(\"FB Stock Info - Sheet3.csv\")"
   ]
  },
  {
   "cell_type": "code",
   "execution_count": 117,
   "id": "d579b809-12ba-451e-a54b-7e878609d62d",
   "metadata": {},
   "outputs": [],
   "source": [
    "my_portfolio.index = my_portfolio['Date']"
   ]
  },
  {
   "cell_type": "code",
   "execution_count": 118,
   "id": "790c4b0a-7e79-47bf-b378-a680b1f6fa6c",
   "metadata": {},
   "outputs": [
    {
     "data": {
      "text/html": [
       "<div>\n",
       "<style scoped>\n",
       "    .dataframe tbody tr th:only-of-type {\n",
       "        vertical-align: middle;\n",
       "    }\n",
       "\n",
       "    .dataframe tbody tr th {\n",
       "        vertical-align: top;\n",
       "    }\n",
       "\n",
       "    .dataframe thead th {\n",
       "        text-align: right;\n",
       "    }\n",
       "</style>\n",
       "<table border=\"1\" class=\"dataframe\">\n",
       "  <thead>\n",
       "    <tr style=\"text-align: right;\">\n",
       "      <th></th>\n",
       "      <th>Date</th>\n",
       "      <th>BTC</th>\n",
       "      <th>DOGE</th>\n",
       "      <th>ETH</th>\n",
       "      <th>LTC</th>\n",
       "      <th>XRP</th>\n",
       "      <th>XLM</th>\n",
       "    </tr>\n",
       "    <tr>\n",
       "      <th>Date</th>\n",
       "      <th></th>\n",
       "      <th></th>\n",
       "      <th></th>\n",
       "      <th></th>\n",
       "      <th></th>\n",
       "      <th></th>\n",
       "      <th></th>\n",
       "    </tr>\n",
       "  </thead>\n",
       "  <tbody>\n",
       "    <tr>\n",
       "      <th>2019-05-20</th>\n",
       "      <td>2019-05-20</td>\n",
       "      <td>8200.00</td>\n",
       "      <td>0.003041</td>\n",
       "      <td>261.09</td>\n",
       "      <td>95.06</td>\n",
       "      <td>0.398003</td>\n",
       "      <td>0.135545</td>\n",
       "    </tr>\n",
       "    <tr>\n",
       "      <th>2019-05-19</th>\n",
       "      <td>2019-05-19</td>\n",
       "      <td>7262.40</td>\n",
       "      <td>0.003178</td>\n",
       "      <td>234.03</td>\n",
       "      <td>86.65</td>\n",
       "      <td>0.417700</td>\n",
       "      <td>0.141485</td>\n",
       "    </tr>\n",
       "    <tr>\n",
       "      <th>2019-05-18</th>\n",
       "      <td>2019-05-18</td>\n",
       "      <td>7363.69</td>\n",
       "      <td>0.003005</td>\n",
       "      <td>244.59</td>\n",
       "      <td>89.88</td>\n",
       "      <td>0.372736</td>\n",
       "      <td>0.128833</td>\n",
       "    </tr>\n",
       "    <tr>\n",
       "      <th>2019-05-17</th>\n",
       "      <td>2019-05-17</td>\n",
       "      <td>7878.96</td>\n",
       "      <td>0.002962</td>\n",
       "      <td>264.39</td>\n",
       "      <td>95.75</td>\n",
       "      <td>0.386193</td>\n",
       "      <td>0.126562</td>\n",
       "    </tr>\n",
       "    <tr>\n",
       "      <th>2019-05-16</th>\n",
       "      <td>2019-05-16</td>\n",
       "      <td>8203.32</td>\n",
       "      <td>0.003168</td>\n",
       "      <td>249.00</td>\n",
       "      <td>102.26</td>\n",
       "      <td>0.419707</td>\n",
       "      <td>0.137283</td>\n",
       "    </tr>\n",
       "    <tr>\n",
       "      <th>...</th>\n",
       "      <td>...</td>\n",
       "      <td>...</td>\n",
       "      <td>...</td>\n",
       "      <td>...</td>\n",
       "      <td>...</td>\n",
       "      <td>...</td>\n",
       "      <td>...</td>\n",
       "    </tr>\n",
       "    <tr>\n",
       "      <th>2016-08-28</th>\n",
       "      <td>2016-08-28</td>\n",
       "      <td>570.42</td>\n",
       "      <td>0.000230</td>\n",
       "      <td>11.21</td>\n",
       "      <td>3.78</td>\n",
       "      <td>0.005869</td>\n",
       "      <td>0.002020</td>\n",
       "    </tr>\n",
       "    <tr>\n",
       "      <th>2016-08-27</th>\n",
       "      <td>2016-08-27</td>\n",
       "      <td>578.89</td>\n",
       "      <td>0.000228</td>\n",
       "      <td>11.29</td>\n",
       "      <td>3.81</td>\n",
       "      <td>0.005902</td>\n",
       "      <td>0.001931</td>\n",
       "    </tr>\n",
       "    <tr>\n",
       "      <th>2016-08-26</th>\n",
       "      <td>2016-08-26</td>\n",
       "      <td>576.16</td>\n",
       "      <td>0.000242</td>\n",
       "      <td>11.34</td>\n",
       "      <td>3.81</td>\n",
       "      <td>0.005892</td>\n",
       "      <td>0.001925</td>\n",
       "    </tr>\n",
       "    <tr>\n",
       "      <th>2016-08-25</th>\n",
       "      <td>2016-08-25</td>\n",
       "      <td>578.92</td>\n",
       "      <td>0.000241</td>\n",
       "      <td>11.00</td>\n",
       "      <td>3.84</td>\n",
       "      <td>0.005912</td>\n",
       "      <td>0.001925</td>\n",
       "    </tr>\n",
       "    <tr>\n",
       "      <th>2016-08-24</th>\n",
       "      <td>2016-08-24</td>\n",
       "      <td>582.58</td>\n",
       "      <td>0.000236</td>\n",
       "      <td>10.98</td>\n",
       "      <td>3.95</td>\n",
       "      <td>0.005932</td>\n",
       "      <td>0.001912</td>\n",
       "    </tr>\n",
       "  </tbody>\n",
       "</table>\n",
       "<p>988 rows × 7 columns</p>\n",
       "</div>"
      ],
      "text/plain": [
       "                 Date      BTC      DOGE     ETH     LTC       XRP       XLM\n",
       "Date                                                                        \n",
       "2019-05-20 2019-05-20  8200.00  0.003041  261.09   95.06  0.398003  0.135545\n",
       "2019-05-19 2019-05-19  7262.40  0.003178  234.03   86.65  0.417700  0.141485\n",
       "2019-05-18 2019-05-18  7363.69  0.003005  244.59   89.88  0.372736  0.128833\n",
       "2019-05-17 2019-05-17  7878.96  0.002962  264.39   95.75  0.386193  0.126562\n",
       "2019-05-16 2019-05-16  8203.32  0.003168  249.00  102.26  0.419707  0.137283\n",
       "...               ...      ...       ...     ...     ...       ...       ...\n",
       "2016-08-28 2016-08-28   570.42  0.000230   11.21    3.78  0.005869  0.002020\n",
       "2016-08-27 2016-08-27   578.89  0.000228   11.29    3.81  0.005902  0.001931\n",
       "2016-08-26 2016-08-26   576.16  0.000242   11.34    3.81  0.005892  0.001925\n",
       "2016-08-25 2016-08-25   578.92  0.000241   11.00    3.84  0.005912  0.001925\n",
       "2016-08-24 2016-08-24   582.58  0.000236   10.98    3.95  0.005932  0.001912\n",
       "\n",
       "[988 rows x 7 columns]"
      ]
     },
     "execution_count": 118,
     "metadata": {},
     "output_type": "execute_result"
    }
   ],
   "source": [
    "my_portfolio"
   ]
  },
  {
   "cell_type": "code",
   "execution_count": 119,
   "id": "1ec6468d-bea8-4512-b617-258b2c702c47",
   "metadata": {},
   "outputs": [],
   "source": [
    "my_portfolio.drop(columns = ['Date'], inplace=True)"
   ]
  },
  {
   "cell_type": "code",
   "execution_count": 120,
   "id": "1848a5a6-a1d9-4911-b40a-1d05ac8cb0cc",
   "metadata": {},
   "outputs": [
    {
     "data": {
      "text/html": [
       "<div>\n",
       "<style scoped>\n",
       "    .dataframe tbody tr th:only-of-type {\n",
       "        vertical-align: middle;\n",
       "    }\n",
       "\n",
       "    .dataframe tbody tr th {\n",
       "        vertical-align: top;\n",
       "    }\n",
       "\n",
       "    .dataframe thead th {\n",
       "        text-align: right;\n",
       "    }\n",
       "</style>\n",
       "<table border=\"1\" class=\"dataframe\">\n",
       "  <thead>\n",
       "    <tr style=\"text-align: right;\">\n",
       "      <th></th>\n",
       "      <th>BTC</th>\n",
       "      <th>DOGE</th>\n",
       "      <th>ETH</th>\n",
       "      <th>LTC</th>\n",
       "      <th>XRP</th>\n",
       "      <th>XLM</th>\n",
       "    </tr>\n",
       "    <tr>\n",
       "      <th>Date</th>\n",
       "      <th></th>\n",
       "      <th></th>\n",
       "      <th></th>\n",
       "      <th></th>\n",
       "      <th></th>\n",
       "      <th></th>\n",
       "    </tr>\n",
       "  </thead>\n",
       "  <tbody>\n",
       "    <tr>\n",
       "      <th>2019-05-20</th>\n",
       "      <td>8200.00</td>\n",
       "      <td>0.003041</td>\n",
       "      <td>261.09</td>\n",
       "      <td>95.06</td>\n",
       "      <td>0.398003</td>\n",
       "      <td>0.135545</td>\n",
       "    </tr>\n",
       "    <tr>\n",
       "      <th>2019-05-19</th>\n",
       "      <td>7262.40</td>\n",
       "      <td>0.003178</td>\n",
       "      <td>234.03</td>\n",
       "      <td>86.65</td>\n",
       "      <td>0.417700</td>\n",
       "      <td>0.141485</td>\n",
       "    </tr>\n",
       "    <tr>\n",
       "      <th>2019-05-18</th>\n",
       "      <td>7363.69</td>\n",
       "      <td>0.003005</td>\n",
       "      <td>244.59</td>\n",
       "      <td>89.88</td>\n",
       "      <td>0.372736</td>\n",
       "      <td>0.128833</td>\n",
       "    </tr>\n",
       "    <tr>\n",
       "      <th>2019-05-17</th>\n",
       "      <td>7878.96</td>\n",
       "      <td>0.002962</td>\n",
       "      <td>264.39</td>\n",
       "      <td>95.75</td>\n",
       "      <td>0.386193</td>\n",
       "      <td>0.126562</td>\n",
       "    </tr>\n",
       "    <tr>\n",
       "      <th>2019-05-16</th>\n",
       "      <td>8203.32</td>\n",
       "      <td>0.003168</td>\n",
       "      <td>249.00</td>\n",
       "      <td>102.26</td>\n",
       "      <td>0.419707</td>\n",
       "      <td>0.137283</td>\n",
       "    </tr>\n",
       "    <tr>\n",
       "      <th>...</th>\n",
       "      <td>...</td>\n",
       "      <td>...</td>\n",
       "      <td>...</td>\n",
       "      <td>...</td>\n",
       "      <td>...</td>\n",
       "      <td>...</td>\n",
       "    </tr>\n",
       "    <tr>\n",
       "      <th>2016-08-28</th>\n",
       "      <td>570.42</td>\n",
       "      <td>0.000230</td>\n",
       "      <td>11.21</td>\n",
       "      <td>3.78</td>\n",
       "      <td>0.005869</td>\n",
       "      <td>0.002020</td>\n",
       "    </tr>\n",
       "    <tr>\n",
       "      <th>2016-08-27</th>\n",
       "      <td>578.89</td>\n",
       "      <td>0.000228</td>\n",
       "      <td>11.29</td>\n",
       "      <td>3.81</td>\n",
       "      <td>0.005902</td>\n",
       "      <td>0.001931</td>\n",
       "    </tr>\n",
       "    <tr>\n",
       "      <th>2016-08-26</th>\n",
       "      <td>576.16</td>\n",
       "      <td>0.000242</td>\n",
       "      <td>11.34</td>\n",
       "      <td>3.81</td>\n",
       "      <td>0.005892</td>\n",
       "      <td>0.001925</td>\n",
       "    </tr>\n",
       "    <tr>\n",
       "      <th>2016-08-25</th>\n",
       "      <td>578.92</td>\n",
       "      <td>0.000241</td>\n",
       "      <td>11.00</td>\n",
       "      <td>3.84</td>\n",
       "      <td>0.005912</td>\n",
       "      <td>0.001925</td>\n",
       "    </tr>\n",
       "    <tr>\n",
       "      <th>2016-08-24</th>\n",
       "      <td>582.58</td>\n",
       "      <td>0.000236</td>\n",
       "      <td>10.98</td>\n",
       "      <td>3.95</td>\n",
       "      <td>0.005932</td>\n",
       "      <td>0.001912</td>\n",
       "    </tr>\n",
       "  </tbody>\n",
       "</table>\n",
       "<p>988 rows × 6 columns</p>\n",
       "</div>"
      ],
      "text/plain": [
       "                BTC      DOGE     ETH     LTC       XRP       XLM\n",
       "Date                                                             \n",
       "2019-05-20  8200.00  0.003041  261.09   95.06  0.398003  0.135545\n",
       "2019-05-19  7262.40  0.003178  234.03   86.65  0.417700  0.141485\n",
       "2019-05-18  7363.69  0.003005  244.59   89.88  0.372736  0.128833\n",
       "2019-05-17  7878.96  0.002962  264.39   95.75  0.386193  0.126562\n",
       "2019-05-16  8203.32  0.003168  249.00  102.26  0.419707  0.137283\n",
       "...             ...       ...     ...     ...       ...       ...\n",
       "2016-08-28   570.42  0.000230   11.21    3.78  0.005869  0.002020\n",
       "2016-08-27   578.89  0.000228   11.29    3.81  0.005902  0.001931\n",
       "2016-08-26   576.16  0.000242   11.34    3.81  0.005892  0.001925\n",
       "2016-08-25   578.92  0.000241   11.00    3.84  0.005912  0.001925\n",
       "2016-08-24   582.58  0.000236   10.98    3.95  0.005932  0.001912\n",
       "\n",
       "[988 rows x 6 columns]"
      ]
     },
     "execution_count": 120,
     "metadata": {},
     "output_type": "execute_result"
    }
   ],
   "source": [
    "my_portfolio"
   ]
  },
  {
   "cell_type": "code",
   "execution_count": 121,
   "id": "dc11c7fa-3ef2-4e5e-b502-3b97d80ed16c",
   "metadata": {},
   "outputs": [],
   "source": [
    "stock_data.index = stock_data['Date']"
   ]
  },
  {
   "cell_type": "code",
   "execution_count": 122,
   "id": "09f32c31-5afc-4f73-aaf1-631afaf2f164",
   "metadata": {},
   "outputs": [],
   "source": [
    "stock_data.index = pd.to_datetime(stock_data.index)"
   ]
  },
  {
   "cell_type": "code",
   "execution_count": 123,
   "id": "5afb4b0d-44fe-4f45-b62f-0b9e93624d19",
   "metadata": {},
   "outputs": [],
   "source": [
    "stock_data.drop(columns = ['Date'], inplace=True)"
   ]
  },
  {
   "cell_type": "code",
   "execution_count": 124,
   "id": "d9ec0f24-b3ae-4618-b1ba-0ffe020a4033",
   "metadata": {},
   "outputs": [],
   "source": [
    "all_data = pd.merge(my_portfolio, stock_data, how = 'inner', left_on = my_portfolio.index, right_on = stock_data.index)"
   ]
  },
  {
   "cell_type": "code",
   "execution_count": 125,
   "id": "a8746b4f-6d27-46cb-bfb0-6d7be6928f9a",
   "metadata": {},
   "outputs": [
    {
     "data": {
      "text/html": [
       "<div>\n",
       "<style scoped>\n",
       "    .dataframe tbody tr th:only-of-type {\n",
       "        vertical-align: middle;\n",
       "    }\n",
       "\n",
       "    .dataframe tbody tr th {\n",
       "        vertical-align: top;\n",
       "    }\n",
       "\n",
       "    .dataframe thead th {\n",
       "        text-align: right;\n",
       "    }\n",
       "</style>\n",
       "<table border=\"1\" class=\"dataframe\">\n",
       "  <thead>\n",
       "    <tr style=\"text-align: right;\">\n",
       "      <th></th>\n",
       "      <th>key_0</th>\n",
       "      <th>BTC</th>\n",
       "      <th>DOGE</th>\n",
       "      <th>ETH</th>\n",
       "      <th>LTC</th>\n",
       "      <th>XRP</th>\n",
       "      <th>XLM</th>\n",
       "      <th>Close</th>\n",
       "    </tr>\n",
       "  </thead>\n",
       "  <tbody>\n",
       "    <tr>\n",
       "      <th>0</th>\n",
       "      <td>2019-05-17</td>\n",
       "      <td>7878.96</td>\n",
       "      <td>0.002962</td>\n",
       "      <td>264.39</td>\n",
       "      <td>95.75</td>\n",
       "      <td>0.386193</td>\n",
       "      <td>0.126562</td>\n",
       "      <td>285.84</td>\n",
       "    </tr>\n",
       "    <tr>\n",
       "      <th>1</th>\n",
       "      <td>2019-05-16</td>\n",
       "      <td>8203.32</td>\n",
       "      <td>0.003168</td>\n",
       "      <td>249.00</td>\n",
       "      <td>102.26</td>\n",
       "      <td>0.419707</td>\n",
       "      <td>0.137283</td>\n",
       "      <td>287.70</td>\n",
       "    </tr>\n",
       "    <tr>\n",
       "      <th>2</th>\n",
       "      <td>2019-05-15</td>\n",
       "      <td>7990.92</td>\n",
       "      <td>0.003308</td>\n",
       "      <td>217.44</td>\n",
       "      <td>91.69</td>\n",
       "      <td>0.456005</td>\n",
       "      <td>0.137002</td>\n",
       "      <td>285.06</td>\n",
       "    </tr>\n",
       "    <tr>\n",
       "      <th>3</th>\n",
       "      <td>2019-05-14</td>\n",
       "      <td>7824.93</td>\n",
       "      <td>0.003068</td>\n",
       "      <td>196.51</td>\n",
       "      <td>87.78</td>\n",
       "      <td>0.409062</td>\n",
       "      <td>0.112994</td>\n",
       "      <td>283.40</td>\n",
       "    </tr>\n",
       "    <tr>\n",
       "      <th>4</th>\n",
       "      <td>2019-05-13</td>\n",
       "      <td>6979.76</td>\n",
       "      <td>0.002756</td>\n",
       "      <td>188.23</td>\n",
       "      <td>84.79</td>\n",
       "      <td>0.325475</td>\n",
       "      <td>0.100416</td>\n",
       "      <td>280.86</td>\n",
       "    </tr>\n",
       "    <tr>\n",
       "      <th>...</th>\n",
       "      <td>...</td>\n",
       "      <td>...</td>\n",
       "      <td>...</td>\n",
       "      <td>...</td>\n",
       "      <td>...</td>\n",
       "      <td>...</td>\n",
       "      <td>...</td>\n",
       "      <td>...</td>\n",
       "    </tr>\n",
       "    <tr>\n",
       "      <th>674</th>\n",
       "      <td>2016-08-30</td>\n",
       "      <td>573.00</td>\n",
       "      <td>0.000226</td>\n",
       "      <td>10.95</td>\n",
       "      <td>3.77</td>\n",
       "      <td>0.005842</td>\n",
       "      <td>0.001966</td>\n",
       "      <td>218.00</td>\n",
       "    </tr>\n",
       "    <tr>\n",
       "      <th>675</th>\n",
       "      <td>2016-08-29</td>\n",
       "      <td>574.83</td>\n",
       "      <td>0.000227</td>\n",
       "      <td>10.98</td>\n",
       "      <td>3.72</td>\n",
       "      <td>0.005870</td>\n",
       "      <td>0.002032</td>\n",
       "      <td>218.36</td>\n",
       "    </tr>\n",
       "    <tr>\n",
       "      <th>676</th>\n",
       "      <td>2016-08-26</td>\n",
       "      <td>576.16</td>\n",
       "      <td>0.000242</td>\n",
       "      <td>11.34</td>\n",
       "      <td>3.81</td>\n",
       "      <td>0.005892</td>\n",
       "      <td>0.001925</td>\n",
       "      <td>217.29</td>\n",
       "    </tr>\n",
       "    <tr>\n",
       "      <th>677</th>\n",
       "      <td>2016-08-25</td>\n",
       "      <td>578.92</td>\n",
       "      <td>0.000241</td>\n",
       "      <td>11.00</td>\n",
       "      <td>3.84</td>\n",
       "      <td>0.005912</td>\n",
       "      <td>0.001925</td>\n",
       "      <td>217.70</td>\n",
       "    </tr>\n",
       "    <tr>\n",
       "      <th>678</th>\n",
       "      <td>2016-08-24</td>\n",
       "      <td>582.58</td>\n",
       "      <td>0.000236</td>\n",
       "      <td>10.98</td>\n",
       "      <td>3.95</td>\n",
       "      <td>0.005932</td>\n",
       "      <td>0.001912</td>\n",
       "      <td>217.85</td>\n",
       "    </tr>\n",
       "  </tbody>\n",
       "</table>\n",
       "<p>679 rows × 8 columns</p>\n",
       "</div>"
      ],
      "text/plain": [
       "         key_0      BTC      DOGE     ETH     LTC       XRP       XLM   Close\n",
       "0   2019-05-17  7878.96  0.002962  264.39   95.75  0.386193  0.126562  285.84\n",
       "1   2019-05-16  8203.32  0.003168  249.00  102.26  0.419707  0.137283  287.70\n",
       "2   2019-05-15  7990.92  0.003308  217.44   91.69  0.456005  0.137002  285.06\n",
       "3   2019-05-14  7824.93  0.003068  196.51   87.78  0.409062  0.112994  283.40\n",
       "4   2019-05-13  6979.76  0.002756  188.23   84.79  0.325475  0.100416  280.86\n",
       "..         ...      ...       ...     ...     ...       ...       ...     ...\n",
       "674 2016-08-30   573.00  0.000226   10.95    3.77  0.005842  0.001966  218.00\n",
       "675 2016-08-29   574.83  0.000227   10.98    3.72  0.005870  0.002032  218.36\n",
       "676 2016-08-26   576.16  0.000242   11.34    3.81  0.005892  0.001925  217.29\n",
       "677 2016-08-25   578.92  0.000241   11.00    3.84  0.005912  0.001925  217.70\n",
       "678 2016-08-24   582.58  0.000236   10.98    3.95  0.005932  0.001912  217.85\n",
       "\n",
       "[679 rows x 8 columns]"
      ]
     },
     "execution_count": 125,
     "metadata": {},
     "output_type": "execute_result"
    }
   ],
   "source": [
    "all_data"
   ]
  },
  {
   "cell_type": "code",
   "execution_count": 126,
   "id": "94c36f58-e58d-4a4d-acdb-3500a825fe96",
   "metadata": {},
   "outputs": [],
   "source": [
    "all_data.index = all_data['key_0']"
   ]
  },
  {
   "cell_type": "code",
   "execution_count": 127,
   "id": "0b0515db-19fd-4f81-89e9-a5b25d792c51",
   "metadata": {},
   "outputs": [],
   "source": [
    "all_data.drop(columns = ['key_0'], inplace=True)"
   ]
  },
  {
   "cell_type": "code",
   "execution_count": 128,
   "id": "f43f6cf2-7a64-4395-80f0-415edcddade2",
   "metadata": {},
   "outputs": [
    {
     "data": {
      "text/html": [
       "<div>\n",
       "<style scoped>\n",
       "    .dataframe tbody tr th:only-of-type {\n",
       "        vertical-align: middle;\n",
       "    }\n",
       "\n",
       "    .dataframe tbody tr th {\n",
       "        vertical-align: top;\n",
       "    }\n",
       "\n",
       "    .dataframe thead th {\n",
       "        text-align: right;\n",
       "    }\n",
       "</style>\n",
       "<table border=\"1\" class=\"dataframe\">\n",
       "  <thead>\n",
       "    <tr style=\"text-align: right;\">\n",
       "      <th></th>\n",
       "      <th>BTC</th>\n",
       "      <th>DOGE</th>\n",
       "      <th>ETH</th>\n",
       "      <th>LTC</th>\n",
       "      <th>XRP</th>\n",
       "      <th>XLM</th>\n",
       "      <th>Close</th>\n",
       "    </tr>\n",
       "    <tr>\n",
       "      <th>key_0</th>\n",
       "      <th></th>\n",
       "      <th></th>\n",
       "      <th></th>\n",
       "      <th></th>\n",
       "      <th></th>\n",
       "      <th></th>\n",
       "      <th></th>\n",
       "    </tr>\n",
       "  </thead>\n",
       "  <tbody>\n",
       "    <tr>\n",
       "      <th>2019-05-17</th>\n",
       "      <td>7878.96</td>\n",
       "      <td>0.002962</td>\n",
       "      <td>264.39</td>\n",
       "      <td>95.75</td>\n",
       "      <td>0.386193</td>\n",
       "      <td>0.126562</td>\n",
       "      <td>285.84</td>\n",
       "    </tr>\n",
       "    <tr>\n",
       "      <th>2019-05-16</th>\n",
       "      <td>8203.32</td>\n",
       "      <td>0.003168</td>\n",
       "      <td>249.00</td>\n",
       "      <td>102.26</td>\n",
       "      <td>0.419707</td>\n",
       "      <td>0.137283</td>\n",
       "      <td>287.70</td>\n",
       "    </tr>\n",
       "    <tr>\n",
       "      <th>2019-05-15</th>\n",
       "      <td>7990.92</td>\n",
       "      <td>0.003308</td>\n",
       "      <td>217.44</td>\n",
       "      <td>91.69</td>\n",
       "      <td>0.456005</td>\n",
       "      <td>0.137002</td>\n",
       "      <td>285.06</td>\n",
       "    </tr>\n",
       "    <tr>\n",
       "      <th>2019-05-14</th>\n",
       "      <td>7824.93</td>\n",
       "      <td>0.003068</td>\n",
       "      <td>196.51</td>\n",
       "      <td>87.78</td>\n",
       "      <td>0.409062</td>\n",
       "      <td>0.112994</td>\n",
       "      <td>283.40</td>\n",
       "    </tr>\n",
       "    <tr>\n",
       "      <th>2019-05-13</th>\n",
       "      <td>6979.76</td>\n",
       "      <td>0.002756</td>\n",
       "      <td>188.23</td>\n",
       "      <td>84.79</td>\n",
       "      <td>0.325475</td>\n",
       "      <td>0.100416</td>\n",
       "      <td>280.86</td>\n",
       "    </tr>\n",
       "    <tr>\n",
       "      <th>...</th>\n",
       "      <td>...</td>\n",
       "      <td>...</td>\n",
       "      <td>...</td>\n",
       "      <td>...</td>\n",
       "      <td>...</td>\n",
       "      <td>...</td>\n",
       "      <td>...</td>\n",
       "    </tr>\n",
       "    <tr>\n",
       "      <th>2016-08-30</th>\n",
       "      <td>573.00</td>\n",
       "      <td>0.000226</td>\n",
       "      <td>10.95</td>\n",
       "      <td>3.77</td>\n",
       "      <td>0.005842</td>\n",
       "      <td>0.001966</td>\n",
       "      <td>218.00</td>\n",
       "    </tr>\n",
       "    <tr>\n",
       "      <th>2016-08-29</th>\n",
       "      <td>574.83</td>\n",
       "      <td>0.000227</td>\n",
       "      <td>10.98</td>\n",
       "      <td>3.72</td>\n",
       "      <td>0.005870</td>\n",
       "      <td>0.002032</td>\n",
       "      <td>218.36</td>\n",
       "    </tr>\n",
       "    <tr>\n",
       "      <th>2016-08-26</th>\n",
       "      <td>576.16</td>\n",
       "      <td>0.000242</td>\n",
       "      <td>11.34</td>\n",
       "      <td>3.81</td>\n",
       "      <td>0.005892</td>\n",
       "      <td>0.001925</td>\n",
       "      <td>217.29</td>\n",
       "    </tr>\n",
       "    <tr>\n",
       "      <th>2016-08-25</th>\n",
       "      <td>578.92</td>\n",
       "      <td>0.000241</td>\n",
       "      <td>11.00</td>\n",
       "      <td>3.84</td>\n",
       "      <td>0.005912</td>\n",
       "      <td>0.001925</td>\n",
       "      <td>217.70</td>\n",
       "    </tr>\n",
       "    <tr>\n",
       "      <th>2016-08-24</th>\n",
       "      <td>582.58</td>\n",
       "      <td>0.000236</td>\n",
       "      <td>10.98</td>\n",
       "      <td>3.95</td>\n",
       "      <td>0.005932</td>\n",
       "      <td>0.001912</td>\n",
       "      <td>217.85</td>\n",
       "    </tr>\n",
       "  </tbody>\n",
       "</table>\n",
       "<p>679 rows × 7 columns</p>\n",
       "</div>"
      ],
      "text/plain": [
       "                BTC      DOGE     ETH     LTC       XRP       XLM   Close\n",
       "key_0                                                                    \n",
       "2019-05-17  7878.96  0.002962  264.39   95.75  0.386193  0.126562  285.84\n",
       "2019-05-16  8203.32  0.003168  249.00  102.26  0.419707  0.137283  287.70\n",
       "2019-05-15  7990.92  0.003308  217.44   91.69  0.456005  0.137002  285.06\n",
       "2019-05-14  7824.93  0.003068  196.51   87.78  0.409062  0.112994  283.40\n",
       "2019-05-13  6979.76  0.002756  188.23   84.79  0.325475  0.100416  280.86\n",
       "...             ...       ...     ...     ...       ...       ...     ...\n",
       "2016-08-30   573.00  0.000226   10.95    3.77  0.005842  0.001966  218.00\n",
       "2016-08-29   574.83  0.000227   10.98    3.72  0.005870  0.002032  218.36\n",
       "2016-08-26   576.16  0.000242   11.34    3.81  0.005892  0.001925  217.29\n",
       "2016-08-25   578.92  0.000241   11.00    3.84  0.005912  0.001925  217.70\n",
       "2016-08-24   582.58  0.000236   10.98    3.95  0.005932  0.001912  217.85\n",
       "\n",
       "[679 rows x 7 columns]"
      ]
     },
     "execution_count": 128,
     "metadata": {},
     "output_type": "execute_result"
    }
   ],
   "source": [
    "all_data"
   ]
  },
  {
   "cell_type": "code",
   "execution_count": 129,
   "id": "7ec74df2-8fe7-4e69-ad08-2b7f0c96623a",
   "metadata": {},
   "outputs": [],
   "source": [
    "all_data.index.names = ['Date']"
   ]
  },
  {
   "cell_type": "code",
   "execution_count": 130,
   "id": "33b35c43-6c5f-4cff-b72d-07f738367d53",
   "metadata": {},
   "outputs": [
    {
     "data": {
      "text/html": [
       "<div>\n",
       "<style scoped>\n",
       "    .dataframe tbody tr th:only-of-type {\n",
       "        vertical-align: middle;\n",
       "    }\n",
       "\n",
       "    .dataframe tbody tr th {\n",
       "        vertical-align: top;\n",
       "    }\n",
       "\n",
       "    .dataframe thead th {\n",
       "        text-align: right;\n",
       "    }\n",
       "</style>\n",
       "<table border=\"1\" class=\"dataframe\">\n",
       "  <thead>\n",
       "    <tr style=\"text-align: right;\">\n",
       "      <th></th>\n",
       "      <th>BTC</th>\n",
       "      <th>DOGE</th>\n",
       "      <th>ETH</th>\n",
       "      <th>LTC</th>\n",
       "      <th>XRP</th>\n",
       "      <th>XLM</th>\n",
       "      <th>Close</th>\n",
       "    </tr>\n",
       "    <tr>\n",
       "      <th>Date</th>\n",
       "      <th></th>\n",
       "      <th></th>\n",
       "      <th></th>\n",
       "      <th></th>\n",
       "      <th></th>\n",
       "      <th></th>\n",
       "      <th></th>\n",
       "    </tr>\n",
       "  </thead>\n",
       "  <tbody>\n",
       "    <tr>\n",
       "      <th>2019-05-17</th>\n",
       "      <td>7878.96</td>\n",
       "      <td>0.002962</td>\n",
       "      <td>264.39</td>\n",
       "      <td>95.75</td>\n",
       "      <td>0.386193</td>\n",
       "      <td>0.126562</td>\n",
       "      <td>285.84</td>\n",
       "    </tr>\n",
       "    <tr>\n",
       "      <th>2019-05-16</th>\n",
       "      <td>8203.32</td>\n",
       "      <td>0.003168</td>\n",
       "      <td>249.00</td>\n",
       "      <td>102.26</td>\n",
       "      <td>0.419707</td>\n",
       "      <td>0.137283</td>\n",
       "      <td>287.70</td>\n",
       "    </tr>\n",
       "    <tr>\n",
       "      <th>2019-05-15</th>\n",
       "      <td>7990.92</td>\n",
       "      <td>0.003308</td>\n",
       "      <td>217.44</td>\n",
       "      <td>91.69</td>\n",
       "      <td>0.456005</td>\n",
       "      <td>0.137002</td>\n",
       "      <td>285.06</td>\n",
       "    </tr>\n",
       "    <tr>\n",
       "      <th>2019-05-14</th>\n",
       "      <td>7824.93</td>\n",
       "      <td>0.003068</td>\n",
       "      <td>196.51</td>\n",
       "      <td>87.78</td>\n",
       "      <td>0.409062</td>\n",
       "      <td>0.112994</td>\n",
       "      <td>283.40</td>\n",
       "    </tr>\n",
       "    <tr>\n",
       "      <th>2019-05-13</th>\n",
       "      <td>6979.76</td>\n",
       "      <td>0.002756</td>\n",
       "      <td>188.23</td>\n",
       "      <td>84.79</td>\n",
       "      <td>0.325475</td>\n",
       "      <td>0.100416</td>\n",
       "      <td>280.86</td>\n",
       "    </tr>\n",
       "    <tr>\n",
       "      <th>...</th>\n",
       "      <td>...</td>\n",
       "      <td>...</td>\n",
       "      <td>...</td>\n",
       "      <td>...</td>\n",
       "      <td>...</td>\n",
       "      <td>...</td>\n",
       "      <td>...</td>\n",
       "    </tr>\n",
       "    <tr>\n",
       "      <th>2016-08-30</th>\n",
       "      <td>573.00</td>\n",
       "      <td>0.000226</td>\n",
       "      <td>10.95</td>\n",
       "      <td>3.77</td>\n",
       "      <td>0.005842</td>\n",
       "      <td>0.001966</td>\n",
       "      <td>218.00</td>\n",
       "    </tr>\n",
       "    <tr>\n",
       "      <th>2016-08-29</th>\n",
       "      <td>574.83</td>\n",
       "      <td>0.000227</td>\n",
       "      <td>10.98</td>\n",
       "      <td>3.72</td>\n",
       "      <td>0.005870</td>\n",
       "      <td>0.002032</td>\n",
       "      <td>218.36</td>\n",
       "    </tr>\n",
       "    <tr>\n",
       "      <th>2016-08-26</th>\n",
       "      <td>576.16</td>\n",
       "      <td>0.000242</td>\n",
       "      <td>11.34</td>\n",
       "      <td>3.81</td>\n",
       "      <td>0.005892</td>\n",
       "      <td>0.001925</td>\n",
       "      <td>217.29</td>\n",
       "    </tr>\n",
       "    <tr>\n",
       "      <th>2016-08-25</th>\n",
       "      <td>578.92</td>\n",
       "      <td>0.000241</td>\n",
       "      <td>11.00</td>\n",
       "      <td>3.84</td>\n",
       "      <td>0.005912</td>\n",
       "      <td>0.001925</td>\n",
       "      <td>217.70</td>\n",
       "    </tr>\n",
       "    <tr>\n",
       "      <th>2016-08-24</th>\n",
       "      <td>582.58</td>\n",
       "      <td>0.000236</td>\n",
       "      <td>10.98</td>\n",
       "      <td>3.95</td>\n",
       "      <td>0.005932</td>\n",
       "      <td>0.001912</td>\n",
       "      <td>217.85</td>\n",
       "    </tr>\n",
       "  </tbody>\n",
       "</table>\n",
       "<p>679 rows × 7 columns</p>\n",
       "</div>"
      ],
      "text/plain": [
       "                BTC      DOGE     ETH     LTC       XRP       XLM   Close\n",
       "Date                                                                     \n",
       "2019-05-17  7878.96  0.002962  264.39   95.75  0.386193  0.126562  285.84\n",
       "2019-05-16  8203.32  0.003168  249.00  102.26  0.419707  0.137283  287.70\n",
       "2019-05-15  7990.92  0.003308  217.44   91.69  0.456005  0.137002  285.06\n",
       "2019-05-14  7824.93  0.003068  196.51   87.78  0.409062  0.112994  283.40\n",
       "2019-05-13  6979.76  0.002756  188.23   84.79  0.325475  0.100416  280.86\n",
       "...             ...       ...     ...     ...       ...       ...     ...\n",
       "2016-08-30   573.00  0.000226   10.95    3.77  0.005842  0.001966  218.00\n",
       "2016-08-29   574.83  0.000227   10.98    3.72  0.005870  0.002032  218.36\n",
       "2016-08-26   576.16  0.000242   11.34    3.81  0.005892  0.001925  217.29\n",
       "2016-08-25   578.92  0.000241   11.00    3.84  0.005912  0.001925  217.70\n",
       "2016-08-24   582.58  0.000236   10.98    3.95  0.005932  0.001912  217.85\n",
       "\n",
       "[679 rows x 7 columns]"
      ]
     },
     "execution_count": 130,
     "metadata": {},
     "output_type": "execute_result"
    }
   ],
   "source": [
    "all_data"
   ]
  },
  {
   "cell_type": "code",
   "execution_count": 133,
   "id": "059fdb01-aa37-44cb-83aa-6a58cdab2fcf",
   "metadata": {},
   "outputs": [
    {
     "data": {
      "text/html": [
       "<div>\n",
       "<style scoped>\n",
       "    .dataframe tbody tr th:only-of-type {\n",
       "        vertical-align: middle;\n",
       "    }\n",
       "\n",
       "    .dataframe tbody tr th {\n",
       "        vertical-align: top;\n",
       "    }\n",
       "\n",
       "    .dataframe thead th {\n",
       "        text-align: right;\n",
       "    }\n",
       "</style>\n",
       "<table border=\"1\" class=\"dataframe\">\n",
       "  <thead>\n",
       "    <tr style=\"text-align: right;\">\n",
       "      <th></th>\n",
       "      <th>BTC</th>\n",
       "      <th>DOGE</th>\n",
       "      <th>ETH</th>\n",
       "      <th>LTC</th>\n",
       "      <th>XRP</th>\n",
       "      <th>XLM</th>\n",
       "      <th>Close</th>\n",
       "    </tr>\n",
       "    <tr>\n",
       "      <th>Date</th>\n",
       "      <th></th>\n",
       "      <th></th>\n",
       "      <th></th>\n",
       "      <th></th>\n",
       "      <th></th>\n",
       "      <th></th>\n",
       "      <th></th>\n",
       "    </tr>\n",
       "  </thead>\n",
       "  <tbody>\n",
       "    <tr>\n",
       "      <th>2019-05-16</th>\n",
       "      <td>0.041168</td>\n",
       "      <td>0.069548</td>\n",
       "      <td>-0.058209</td>\n",
       "      <td>0.067990</td>\n",
       "      <td>0.086780</td>\n",
       "      <td>0.084709</td>\n",
       "      <td>0.006507</td>\n",
       "    </tr>\n",
       "    <tr>\n",
       "      <th>2019-05-15</th>\n",
       "      <td>-0.025892</td>\n",
       "      <td>0.044192</td>\n",
       "      <td>-0.126747</td>\n",
       "      <td>-0.103364</td>\n",
       "      <td>0.086484</td>\n",
       "      <td>-0.002047</td>\n",
       "      <td>-0.009176</td>\n",
       "    </tr>\n",
       "    <tr>\n",
       "      <th>2019-05-14</th>\n",
       "      <td>-0.020772</td>\n",
       "      <td>-0.072551</td>\n",
       "      <td>-0.096256</td>\n",
       "      <td>-0.042644</td>\n",
       "      <td>-0.102944</td>\n",
       "      <td>-0.175238</td>\n",
       "      <td>-0.005823</td>\n",
       "    </tr>\n",
       "    <tr>\n",
       "      <th>2019-05-13</th>\n",
       "      <td>-0.108010</td>\n",
       "      <td>-0.101695</td>\n",
       "      <td>-0.042135</td>\n",
       "      <td>-0.034062</td>\n",
       "      <td>-0.204338</td>\n",
       "      <td>-0.111316</td>\n",
       "      <td>-0.008963</td>\n",
       "    </tr>\n",
       "    <tr>\n",
       "      <th>2019-05-10</th>\n",
       "      <td>-0.118438</td>\n",
       "      <td>-0.084906</td>\n",
       "      <td>-0.096265</td>\n",
       "      <td>-0.130086</td>\n",
       "      <td>-0.077081</td>\n",
       "      <td>-0.079310</td>\n",
       "      <td>0.025778</td>\n",
       "    </tr>\n",
       "    <tr>\n",
       "      <th>...</th>\n",
       "      <td>...</td>\n",
       "      <td>...</td>\n",
       "      <td>...</td>\n",
       "      <td>...</td>\n",
       "      <td>...</td>\n",
       "      <td>...</td>\n",
       "      <td>...</td>\n",
       "    </tr>\n",
       "    <tr>\n",
       "      <th>2016-08-30</th>\n",
       "      <td>-0.003114</td>\n",
       "      <td>0.000000</td>\n",
       "      <td>-0.022321</td>\n",
       "      <td>-0.010499</td>\n",
       "      <td>-0.009327</td>\n",
       "      <td>0.013402</td>\n",
       "      <td>0.002852</td>\n",
       "    </tr>\n",
       "    <tr>\n",
       "      <th>2016-08-29</th>\n",
       "      <td>0.003194</td>\n",
       "      <td>0.004425</td>\n",
       "      <td>0.002740</td>\n",
       "      <td>-0.013263</td>\n",
       "      <td>0.004793</td>\n",
       "      <td>0.033571</td>\n",
       "      <td>0.001651</td>\n",
       "    </tr>\n",
       "    <tr>\n",
       "      <th>2016-08-26</th>\n",
       "      <td>0.002314</td>\n",
       "      <td>0.066079</td>\n",
       "      <td>0.032787</td>\n",
       "      <td>0.024194</td>\n",
       "      <td>0.003748</td>\n",
       "      <td>-0.052657</td>\n",
       "      <td>-0.004900</td>\n",
       "    </tr>\n",
       "    <tr>\n",
       "      <th>2016-08-25</th>\n",
       "      <td>0.004790</td>\n",
       "      <td>-0.004132</td>\n",
       "      <td>-0.029982</td>\n",
       "      <td>0.007874</td>\n",
       "      <td>0.003394</td>\n",
       "      <td>0.000000</td>\n",
       "      <td>0.001887</td>\n",
       "    </tr>\n",
       "    <tr>\n",
       "      <th>2016-08-24</th>\n",
       "      <td>0.006322</td>\n",
       "      <td>-0.020747</td>\n",
       "      <td>-0.001818</td>\n",
       "      <td>0.028646</td>\n",
       "      <td>0.003383</td>\n",
       "      <td>-0.006753</td>\n",
       "      <td>0.000689</td>\n",
       "    </tr>\n",
       "  </tbody>\n",
       "</table>\n",
       "<p>678 rows × 7 columns</p>\n",
       "</div>"
      ],
      "text/plain": [
       "                 BTC      DOGE       ETH       LTC       XRP       XLM  \\\n",
       "Date                                                                     \n",
       "2019-05-16  0.041168  0.069548 -0.058209  0.067990  0.086780  0.084709   \n",
       "2019-05-15 -0.025892  0.044192 -0.126747 -0.103364  0.086484 -0.002047   \n",
       "2019-05-14 -0.020772 -0.072551 -0.096256 -0.042644 -0.102944 -0.175238   \n",
       "2019-05-13 -0.108010 -0.101695 -0.042135 -0.034062 -0.204338 -0.111316   \n",
       "2019-05-10 -0.118438 -0.084906 -0.096265 -0.130086 -0.077081 -0.079310   \n",
       "...              ...       ...       ...       ...       ...       ...   \n",
       "2016-08-30 -0.003114  0.000000 -0.022321 -0.010499 -0.009327  0.013402   \n",
       "2016-08-29  0.003194  0.004425  0.002740 -0.013263  0.004793  0.033571   \n",
       "2016-08-26  0.002314  0.066079  0.032787  0.024194  0.003748 -0.052657   \n",
       "2016-08-25  0.004790 -0.004132 -0.029982  0.007874  0.003394  0.000000   \n",
       "2016-08-24  0.006322 -0.020747 -0.001818  0.028646  0.003383 -0.006753   \n",
       "\n",
       "               Close  \n",
       "Date                  \n",
       "2019-05-16  0.006507  \n",
       "2019-05-15 -0.009176  \n",
       "2019-05-14 -0.005823  \n",
       "2019-05-13 -0.008963  \n",
       "2019-05-10  0.025778  \n",
       "...              ...  \n",
       "2016-08-30  0.002852  \n",
       "2016-08-29  0.001651  \n",
       "2016-08-26 -0.004900  \n",
       "2016-08-25  0.001887  \n",
       "2016-08-24  0.000689  \n",
       "\n",
       "[678 rows x 7 columns]"
      ]
     },
     "execution_count": 133,
     "metadata": {},
     "output_type": "execute_result"
    }
   ],
   "source": [
    "all_data.pct_change().dropna()"
   ]
  },
  {
   "cell_type": "code",
   "execution_count": 134,
   "id": "da43f1d3-660c-443b-a41d-4546d9efd738",
   "metadata": {},
   "outputs": [],
   "source": [
    "returns = all_data.pct_change().dropna()"
   ]
  },
  {
   "cell_type": "code",
   "execution_count": 141,
   "id": "507d669c-44da-4cc6-bd86-4fa99f744e43",
   "metadata": {},
   "outputs": [
    {
     "data": {
      "text/plain": [
       "BTC      0.049482\n",
       "DOGE     0.087479\n",
       "ETH      0.069548\n",
       "LTC      0.073456\n",
       "XRP      0.092277\n",
       "XLM      0.103580\n",
       "Close    0.007997\n",
       "dtype: float64"
      ]
     },
     "execution_count": 141,
     "metadata": {},
     "output_type": "execute_result"
    }
   ],
   "source": [
    "returns_std= returns.std()\n",
    "returns_std"
   ]
  },
  {
   "cell_type": "code",
   "execution_count": 140,
   "id": "646e1105-ce65-45c5-a315-82fac2a673d8",
   "metadata": {},
   "outputs": [
    {
     "data": {
      "text/plain": [
       "BTC     -0.002616\n",
       "DOGE     0.000403\n",
       "ETH     -0.002217\n",
       "LTC     -0.001766\n",
       "XRP     -0.001437\n",
       "XLM      0.000051\n",
       "Close   -0.000369\n",
       "dtype: float64"
      ]
     },
     "execution_count": 140,
     "metadata": {},
     "output_type": "execute_result"
    }
   ],
   "source": [
    "returns_mean = returns.mean()\n",
    "returns_mean"
   ]
  },
  {
   "cell_type": "code",
   "execution_count": null,
   "id": "93016d56-57d4-43ea-ba84-59386a50aab5",
   "metadata": {},
   "outputs": [],
   "source": [
    "import numpy as np\n",
    "sharpe_ratios = (returns.mean() * 252) / (returns_std * np.sqrt(252))"
   ]
  },
  {
   "cell_type": "code",
   "execution_count": 143,
   "id": "5da63a9c-5399-45aa-b597-2c0d48b56cc6",
   "metadata": {},
   "outputs": [
    {
     "data": {
      "text/plain": [
       "-0.002247"
      ]
     },
     "execution_count": 143,
     "metadata": {},
     "output_type": "execute_result"
    }
   ],
   "source": [
    "numerator = (-0.002616-(-0.000369))\n",
    "numerator"
   ]
  },
  {
   "cell_type": "code",
   "execution_count": 144,
   "id": "e68ce703-7324-4694-a382-3f121e6e8547",
   "metadata": {},
   "outputs": [
    {
     "data": {
      "text/plain": [
       "0.049482075440260696"
      ]
     },
     "execution_count": 144,
     "metadata": {},
     "output_type": "execute_result"
    }
   ],
   "source": [
    "returns_std['BTC']"
   ]
  },
  {
   "cell_type": "code",
   "execution_count": 146,
   "id": "7eb2e916-e0e5-413c-8ae6-ea5808ed844c",
   "metadata": {},
   "outputs": [
    {
     "data": {
      "text/plain": [
       "-0.045410383053006424"
      ]
     },
     "execution_count": 146,
     "metadata": {},
     "output_type": "execute_result"
    }
   ],
   "source": [
    "sharpe_BTC = numerator / returns_std['BTC']\n",
    "sharpe_BTC"
   ]
  },
  {
   "cell_type": "code",
   "execution_count": 153,
   "id": "87f7bbe0-3d36-4554-89b1-509914ab8d55",
   "metadata": {},
   "outputs": [],
   "source": [
    "import numpy as np\n",
    "annualized = (returns.mean() * 252) / (returns_std * np.sqrt(252))"
   ]
  },
  {
   "cell_type": "code",
   "execution_count": 154,
   "id": "fe63e133-48b7-492f-bace-403c20933883",
   "metadata": {},
   "outputs": [
    {
     "data": {
      "text/plain": [
       "BTC     -0.839284\n",
       "DOGE     0.073120\n",
       "ETH     -0.505974\n",
       "LTC     -0.381621\n",
       "XRP     -0.247213\n",
       "XLM      0.007786\n",
       "Close   -0.731961\n",
       "dtype: float64"
      ]
     },
     "execution_count": 154,
     "metadata": {},
     "output_type": "execute_result"
    }
   ],
   "source": [
    "annualized"
   ]
  },
  {
   "cell_type": "code",
   "execution_count": 156,
   "id": "33f1bf08-f122-4589-a0e8-3faade3dcbdc",
   "metadata": {},
   "outputs": [
    {
     "data": {
      "text/html": [
       "<div>\n",
       "<style scoped>\n",
       "    .dataframe tbody tr th:only-of-type {\n",
       "        vertical-align: middle;\n",
       "    }\n",
       "\n",
       "    .dataframe tbody tr th {\n",
       "        vertical-align: top;\n",
       "    }\n",
       "\n",
       "    .dataframe thead th {\n",
       "        text-align: right;\n",
       "    }\n",
       "</style>\n",
       "<table border=\"1\" class=\"dataframe\">\n",
       "  <thead>\n",
       "    <tr style=\"text-align: right;\">\n",
       "      <th></th>\n",
       "      <th>BTC</th>\n",
       "      <th>DOGE</th>\n",
       "      <th>ETH</th>\n",
       "      <th>LTC</th>\n",
       "      <th>XRP</th>\n",
       "      <th>XLM</th>\n",
       "      <th>Close</th>\n",
       "    </tr>\n",
       "  </thead>\n",
       "  <tbody>\n",
       "    <tr>\n",
       "      <th>BTC</th>\n",
       "      <td>1.000000</td>\n",
       "      <td>0.009308</td>\n",
       "      <td>0.599540</td>\n",
       "      <td>0.585935</td>\n",
       "      <td>-0.052965</td>\n",
       "      <td>0.015184</td>\n",
       "      <td>0.068054</td>\n",
       "    </tr>\n",
       "    <tr>\n",
       "      <th>DOGE</th>\n",
       "      <td>0.009308</td>\n",
       "      <td>1.000000</td>\n",
       "      <td>0.042619</td>\n",
       "      <td>0.091354</td>\n",
       "      <td>0.540719</td>\n",
       "      <td>0.531902</td>\n",
       "      <td>-0.014242</td>\n",
       "    </tr>\n",
       "    <tr>\n",
       "      <th>ETH</th>\n",
       "      <td>0.599540</td>\n",
       "      <td>0.042619</td>\n",
       "      <td>1.000000</td>\n",
       "      <td>0.560719</td>\n",
       "      <td>0.022367</td>\n",
       "      <td>0.023345</td>\n",
       "      <td>0.070568</td>\n",
       "    </tr>\n",
       "    <tr>\n",
       "      <th>LTC</th>\n",
       "      <td>0.585935</td>\n",
       "      <td>0.091354</td>\n",
       "      <td>0.560719</td>\n",
       "      <td>1.000000</td>\n",
       "      <td>0.076381</td>\n",
       "      <td>0.058563</td>\n",
       "      <td>0.043891</td>\n",
       "    </tr>\n",
       "    <tr>\n",
       "      <th>XRP</th>\n",
       "      <td>-0.052965</td>\n",
       "      <td>0.540719</td>\n",
       "      <td>0.022367</td>\n",
       "      <td>0.076381</td>\n",
       "      <td>1.000000</td>\n",
       "      <td>0.642165</td>\n",
       "      <td>-0.037552</td>\n",
       "    </tr>\n",
       "    <tr>\n",
       "      <th>XLM</th>\n",
       "      <td>0.015184</td>\n",
       "      <td>0.531902</td>\n",
       "      <td>0.023345</td>\n",
       "      <td>0.058563</td>\n",
       "      <td>0.642165</td>\n",
       "      <td>1.000000</td>\n",
       "      <td>0.002864</td>\n",
       "    </tr>\n",
       "    <tr>\n",
       "      <th>Close</th>\n",
       "      <td>0.068054</td>\n",
       "      <td>-0.014242</td>\n",
       "      <td>0.070568</td>\n",
       "      <td>0.043891</td>\n",
       "      <td>-0.037552</td>\n",
       "      <td>0.002864</td>\n",
       "      <td>1.000000</td>\n",
       "    </tr>\n",
       "  </tbody>\n",
       "</table>\n",
       "</div>"
      ],
      "text/plain": [
       "            BTC      DOGE       ETH       LTC       XRP       XLM     Close\n",
       "BTC    1.000000  0.009308  0.599540  0.585935 -0.052965  0.015184  0.068054\n",
       "DOGE   0.009308  1.000000  0.042619  0.091354  0.540719  0.531902 -0.014242\n",
       "ETH    0.599540  0.042619  1.000000  0.560719  0.022367  0.023345  0.070568\n",
       "LTC    0.585935  0.091354  0.560719  1.000000  0.076381  0.058563  0.043891\n",
       "XRP   -0.052965  0.540719  0.022367  0.076381  1.000000  0.642165 -0.037552\n",
       "XLM    0.015184  0.531902  0.023345  0.058563  0.642165  1.000000  0.002864\n",
       "Close  0.068054 -0.014242  0.070568  0.043891 -0.037552  0.002864  1.000000"
      ]
     },
     "execution_count": 156,
     "metadata": {},
     "output_type": "execute_result"
    }
   ],
   "source": [
    "returns.corr()"
   ]
  },
  {
   "cell_type": "code",
   "execution_count": 157,
   "id": "c586e33e-cfdf-43f6-a1ce-3237bdf18efb",
   "metadata": {},
   "outputs": [],
   "source": [
    "import seaborn as sns"
   ]
  },
  {
   "cell_type": "code",
   "execution_count": 158,
   "id": "7f41b89f-a1d0-4f7b-b526-62f1daf049da",
   "metadata": {},
   "outputs": [
    {
     "data": {
      "text/plain": [
       "<AxesSubplot:>"
      ]
     },
     "execution_count": 158,
     "metadata": {},
     "output_type": "execute_result"
    },
    {
     "data": {
      "image/png": "[encoded data removed]",
      "text/plain": [
       "<Figure size 432x288 with 2 Axes>"
      ]
     },
     "metadata": {
      "needs_background": "light"
     },
     "output_type": "display_data"
    }
   ],
   "source": [
    "sns.heatmap(returns.corr(), vmin = -1, vmax = 1)"
   ]
  },
  {
   "cell_type": "code",
   "execution_count": 159,
   "id": "e473ce00-d772-42ac-b994-6fdfc7b9b10e",
   "metadata": {},
   "outputs": [
    {
     "data": {
      "text/html": [
       "<div>\n",
       "<style scoped>\n",
       "    .dataframe tbody tr th:only-of-type {\n",
       "        vertical-align: middle;\n",
       "    }\n",
       "\n",
       "    .dataframe tbody tr th {\n",
       "        vertical-align: top;\n",
       "    }\n",
       "\n",
       "    .dataframe thead th {\n",
       "        text-align: right;\n",
       "    }\n",
       "</style>\n",
       "<table border=\"1\" class=\"dataframe\">\n",
       "  <thead>\n",
       "    <tr style=\"text-align: right;\">\n",
       "      <th></th>\n",
       "      <th>BTC</th>\n",
       "      <th>DOGE</th>\n",
       "      <th>ETH</th>\n",
       "      <th>LTC</th>\n",
       "      <th>XRP</th>\n",
       "      <th>XLM</th>\n",
       "      <th>Close</th>\n",
       "    </tr>\n",
       "    <tr>\n",
       "      <th>Date</th>\n",
       "      <th></th>\n",
       "      <th></th>\n",
       "      <th></th>\n",
       "      <th></th>\n",
       "      <th></th>\n",
       "      <th></th>\n",
       "      <th></th>\n",
       "    </tr>\n",
       "  </thead>\n",
       "  <tbody>\n",
       "    <tr>\n",
       "      <th>2019-05-16</th>\n",
       "      <td>0.041168</td>\n",
       "      <td>0.069548</td>\n",
       "      <td>-0.058209</td>\n",
       "      <td>0.067990</td>\n",
       "      <td>0.086780</td>\n",
       "      <td>0.084709</td>\n",
       "      <td>0.006507</td>\n",
       "    </tr>\n",
       "    <tr>\n",
       "      <th>2019-05-15</th>\n",
       "      <td>-0.025892</td>\n",
       "      <td>0.044192</td>\n",
       "      <td>-0.126747</td>\n",
       "      <td>-0.103364</td>\n",
       "      <td>0.086484</td>\n",
       "      <td>-0.002047</td>\n",
       "      <td>-0.009176</td>\n",
       "    </tr>\n",
       "    <tr>\n",
       "      <th>2019-05-14</th>\n",
       "      <td>-0.020772</td>\n",
       "      <td>-0.072551</td>\n",
       "      <td>-0.096256</td>\n",
       "      <td>-0.042644</td>\n",
       "      <td>-0.102944</td>\n",
       "      <td>-0.175238</td>\n",
       "      <td>-0.005823</td>\n",
       "    </tr>\n",
       "    <tr>\n",
       "      <th>2019-05-13</th>\n",
       "      <td>-0.108010</td>\n",
       "      <td>-0.101695</td>\n",
       "      <td>-0.042135</td>\n",
       "      <td>-0.034062</td>\n",
       "      <td>-0.204338</td>\n",
       "      <td>-0.111316</td>\n",
       "      <td>-0.008963</td>\n",
       "    </tr>\n",
       "    <tr>\n",
       "      <th>2019-05-10</th>\n",
       "      <td>-0.118438</td>\n",
       "      <td>-0.084906</td>\n",
       "      <td>-0.096265</td>\n",
       "      <td>-0.130086</td>\n",
       "      <td>-0.077081</td>\n",
       "      <td>-0.079310</td>\n",
       "      <td>0.025778</td>\n",
       "    </tr>\n",
       "    <tr>\n",
       "      <th>...</th>\n",
       "      <td>...</td>\n",
       "      <td>...</td>\n",
       "      <td>...</td>\n",
       "      <td>...</td>\n",
       "      <td>...</td>\n",
       "      <td>...</td>\n",
       "      <td>...</td>\n",
       "    </tr>\n",
       "    <tr>\n",
       "      <th>2016-08-30</th>\n",
       "      <td>-0.003114</td>\n",
       "      <td>0.000000</td>\n",
       "      <td>-0.022321</td>\n",
       "      <td>-0.010499</td>\n",
       "      <td>-0.009327</td>\n",
       "      <td>0.013402</td>\n",
       "      <td>0.002852</td>\n",
       "    </tr>\n",
       "    <tr>\n",
       "      <th>2016-08-29</th>\n",
       "      <td>0.003194</td>\n",
       "      <td>0.004425</td>\n",
       "      <td>0.002740</td>\n",
       "      <td>-0.013263</td>\n",
       "      <td>0.004793</td>\n",
       "      <td>0.033571</td>\n",
       "      <td>0.001651</td>\n",
       "    </tr>\n",
       "    <tr>\n",
       "      <th>2016-08-26</th>\n",
       "      <td>0.002314</td>\n",
       "      <td>0.066079</td>\n",
       "      <td>0.032787</td>\n",
       "      <td>0.024194</td>\n",
       "      <td>0.003748</td>\n",
       "      <td>-0.052657</td>\n",
       "      <td>-0.004900</td>\n",
       "    </tr>\n",
       "    <tr>\n",
       "      <th>2016-08-25</th>\n",
       "      <td>0.004790</td>\n",
       "      <td>-0.004132</td>\n",
       "      <td>-0.029982</td>\n",
       "      <td>0.007874</td>\n",
       "      <td>0.003394</td>\n",
       "      <td>0.000000</td>\n",
       "      <td>0.001887</td>\n",
       "    </tr>\n",
       "    <tr>\n",
       "      <th>2016-08-24</th>\n",
       "      <td>0.006322</td>\n",
       "      <td>-0.020747</td>\n",
       "      <td>-0.001818</td>\n",
       "      <td>0.028646</td>\n",
       "      <td>0.003383</td>\n",
       "      <td>-0.006753</td>\n",
       "      <td>0.000689</td>\n",
       "    </tr>\n",
       "  </tbody>\n",
       "</table>\n",
       "<p>678 rows × 7 columns</p>\n",
       "</div>"
      ],
      "text/plain": [
       "                 BTC      DOGE       ETH       LTC       XRP       XLM  \\\n",
       "Date                                                                     \n",
       "2019-05-16  0.041168  0.069548 -0.058209  0.067990  0.086780  0.084709   \n",
       "2019-05-15 -0.025892  0.044192 -0.126747 -0.103364  0.086484 -0.002047   \n",
       "2019-05-14 -0.020772 -0.072551 -0.096256 -0.042644 -0.102944 -0.175238   \n",
       "2019-05-13 -0.108010 -0.101695 -0.042135 -0.034062 -0.204338 -0.111316   \n",
       "2019-05-10 -0.118438 -0.084906 -0.096265 -0.130086 -0.077081 -0.079310   \n",
       "...              ...       ...       ...       ...       ...       ...   \n",
       "2016-08-30 -0.003114  0.000000 -0.022321 -0.010499 -0.009327  0.013402   \n",
       "2016-08-29  0.003194  0.004425  0.002740 -0.013263  0.004793  0.033571   \n",
       "2016-08-26  0.002314  0.066079  0.032787  0.024194  0.003748 -0.052657   \n",
       "2016-08-25  0.004790 -0.004132 -0.029982  0.007874  0.003394  0.000000   \n",
       "2016-08-24  0.006322 -0.020747 -0.001818  0.028646  0.003383 -0.006753   \n",
       "\n",
       "               Close  \n",
       "Date                  \n",
       "2019-05-16  0.006507  \n",
       "2019-05-15 -0.009176  \n",
       "2019-05-14 -0.005823  \n",
       "2019-05-13 -0.008963  \n",
       "2019-05-10  0.025778  \n",
       "...              ...  \n",
       "2016-08-30  0.002852  \n",
       "2016-08-29  0.001651  \n",
       "2016-08-26 -0.004900  \n",
       "2016-08-25  0.001887  \n",
       "2016-08-24  0.000689  \n",
       "\n",
       "[678 rows x 7 columns]"
      ]
     },
     "execution_count": 159,
     "metadata": {},
     "output_type": "execute_result"
    }
   ],
   "source": [
    "returns"
   ]
  },
  {
   "cell_type": "code",
   "execution_count": 160,
   "id": "d941d5b4-6bbf-46d2-80ab-4f188cd34dbf",
   "metadata": {},
   "outputs": [
    {
     "data": {
      "text/plain": [
       "<AxesSubplot:xlabel='Close', ylabel='BTC'>"
      ]
     },
     "execution_count": 160,
     "metadata": {},
     "output_type": "execute_result"
    },
    {
     "data": {
      "image/png": "[encoded data removed]",
      "text/plain": [
       "<Figure size 432x288 with 1 Axes>"
      ]
     },
     "metadata": {
      "needs_background": "light"
     },
     "output_type": "display_data"
    }
   ],
   "source": [
    "returns.plot(kind='scatter', x= 'Close', y = 'BTC')"
   ]
  },
  {
   "cell_type": "code",
   "execution_count": 163,
   "id": "ab05cca1-d860-40eb-a1f2-1e35427124fd",
   "metadata": {},
   "outputs": [
    {
     "data": {
      "text/plain": [
       "<AxesSubplot:xlabel='Date'>"
      ]
     },
     "execution_count": 163,
     "metadata": {},
     "output_type": "execute_result"
    },
    {
     "data": {
      "image/png": "[encoded data removed]",
      "text/plain": [
       "<Figure size 432x288 with 1 Axes>"
      ]
     },
     "metadata": {
      "needs_background": "light"
     },
     "output_type": "display_data"
    }
   ],
   "source": [
    "all_data['BTC'].plot()"
   ]
  },
  {
   "cell_type": "code",
   "execution_count": 164,
   "id": "3355113a-d43e-4b9d-b2ff-c0fc4ae2d3af",
   "metadata": {},
   "outputs": [
    {
     "data": {
      "text/plain": [
       "<AxesSubplot:xlabel='Date'>"
      ]
     },
     "execution_count": 164,
     "metadata": {},
     "output_type": "execute_result"
    },
    {
     "data": {
      "image/png": "[encoded data removed]",
      "text/plain": [
       "<Figure size 432x288 with 1 Axes>"
      ]
     },
     "metadata": {
      "needs_background": "light"
     },
     "output_type": "display_data"
    }
   ],
   "source": [
    "all_data['BTC'].rolling(window=7).mean().plot()"
   ]
  },
  {
   "cell_type": "code",
   "execution_count": 165,
   "id": "79792060-0f1c-4677-b162-a03ba4ea1c81",
   "metadata": {},
   "outputs": [
    {
     "data": {
      "text/plain": [
       "<AxesSubplot:xlabel='Date'>"
      ]
     },
     "execution_count": 165,
     "metadata": {},
     "output_type": "execute_result"
    },
    {
     "data": {
      "image/png": "[encoded data removed]",
      "text/plain": [
       "<Figure size 432x288 with 1 Axes>"
      ]
     },
     "metadata": {
      "needs_background": "light"
     },
     "output_type": "display_data"
    }
   ],
   "source": [
    "all_data['BTC'].rolling(window=20).mean().plot()"
   ]
  },
  {
   "cell_type": "code",
   "execution_count": 166,
   "id": "a436c9b6-50c4-4f40-a251-17cbc3321f41",
   "metadata": {},
   "outputs": [
    {
     "data": {
      "text/plain": [
       "<AxesSubplot:xlabel='Date'>"
      ]
     },
     "execution_count": 166,
     "metadata": {},
     "output_type": "execute_result"
    },
    {
     "data": {
      "image/png": "[encoded data removed]",
      "text/plain": [
       "<Figure size 432x288 with 1 Axes>"
      ]
     },
     "metadata": {
      "needs_background": "light"
     },
     "output_type": "display_data"
    }
   ],
   "source": [
    "# rolling window inc plot becomes smoother\n",
    "all_data['BTC'].rolling(window=7).std().plot()"
   ]
  },
  {
   "cell_type": "code",
   "execution_count": 167,
   "id": "57109e16-0d9a-464d-ba9c-66d9e712d1b1",
   "metadata": {},
   "outputs": [
    {
     "data": {
      "text/plain": [
       "<AxesSubplot:xlabel='Date'>"
      ]
     },
     "execution_count": 167,
     "metadata": {},
     "output_type": "execute_result"
    },
    {
     "data": {
      "image/png": "[encoded data removed]",
      "text/plain": [
       "<Figure size 432x288 with 1 Axes>"
      ]
     },
     "metadata": {
      "needs_background": "light"
     },
     "output_type": "display_data"
    }
   ],
   "source": [
    "all_data['BTC'].rolling(window=20).std().plot()"
   ]
  },
  {
   "cell_type": "code",
   "execution_count": 168,
   "id": "79888951-eb13-4ed4-ab7a-e23bbdd9d535",
   "metadata": {},
   "outputs": [
    {
     "data": {
      "text/plain": [
       "<AxesSubplot:xlabel='Date'>"
      ]
     },
     "execution_count": 168,
     "metadata": {},
     "output_type": "execute_result"
    },
    {
     "data": {
      "image/png": "[encoded data removed]",
      "text/plain": [
       "<Figure size 432x288 with 1 Axes>"
      ]
     },
     "metadata": {
      "needs_background": "light"
     },
     "output_type": "display_data"
    }
   ],
   "source": [
    "all_data['BTC'].rolling(window=252).std().plot()"
   ]
  },
  {
   "cell_type": "code",
   "execution_count": 169,
   "id": "106f36f7-5f3b-4d6a-94b1-61da1e7504d3",
   "metadata": {},
   "outputs": [],
   "source": [
    "variance = returns['Close'].var()"
   ]
  },
  {
   "cell_type": "code",
   "execution_count": 170,
   "id": "3a3aa15c-6635-4df9-b9d5-c46bd0b4cc7c",
   "metadata": {},
   "outputs": [
    {
     "data": {
      "text/plain": [
       "6.394660437396749e-05"
      ]
     },
     "execution_count": 170,
     "metadata": {},
     "output_type": "execute_result"
    }
   ],
   "source": [
    "variance"
   ]
  },
  {
   "cell_type": "code",
   "execution_count": 171,
   "id": "bbb74932-2cac-4782-ad1d-597fc9b3ffad",
   "metadata": {},
   "outputs": [],
   "source": [
    "covariance = returns['BTC'].cov(returns['Close'])"
   ]
  },
  {
   "cell_type": "code",
   "execution_count": 172,
   "id": "4350de49-55db-43dd-b8d7-73b73f03c1ce",
   "metadata": {},
   "outputs": [
    {
     "data": {
      "text/plain": [
       "2.6928187317906297e-05"
      ]
     },
     "execution_count": 172,
     "metadata": {},
     "output_type": "execute_result"
    }
   ],
   "source": [
    "covariance"
   ]
  },
  {
   "cell_type": "code",
   "execution_count": 173,
   "id": "a791885b-46ed-4e4b-b5d8-9959b320fcd8",
   "metadata": {},
   "outputs": [],
   "source": [
    "beta_bitcoin = covariance / variance"
   ]
  },
  {
   "cell_type": "code",
   "execution_count": 174,
   "id": "fb37cdd1-efc5-44e6-8694-de1f2d50f372",
   "metadata": {},
   "outputs": [
    {
     "data": {
      "text/plain": [
       "0.42110425692702924"
      ]
     },
     "execution_count": 174,
     "metadata": {},
     "output_type": "execute_result"
    }
   ],
   "source": [
    "beta_bitcoin"
   ]
  },
  {
   "cell_type": "code",
   "execution_count": 176,
   "id": "374d5ed7-0bb9-4598-8c75-0bbd34042cc3",
   "metadata": {},
   "outputs": [],
   "source": [
    "rolling_covariance = returns['BTC'].rolling(window=30).cov(returns['Close'])"
   ]
  },
  {
   "cell_type": "code",
   "execution_count": 177,
   "id": "90306ed1-9d4c-4214-871d-f26e454c31a8",
   "metadata": {},
   "outputs": [
    {
     "data": {
      "text/plain": [
       "Date\n",
       "2019-05-16         NaN\n",
       "2019-05-15         NaN\n",
       "2019-05-14         NaN\n",
       "2019-05-13         NaN\n",
       "2019-05-10         NaN\n",
       "                ...   \n",
       "2016-08-30   -0.000031\n",
       "2016-08-29   -0.000033\n",
       "2016-08-26   -0.000034\n",
       "2016-08-25   -0.000035\n",
       "2016-08-24   -0.000036\n",
       "Length: 678, dtype: float64"
      ]
     },
     "execution_count": 177,
     "metadata": {},
     "output_type": "execute_result"
    }
   ],
   "source": [
    "rolling_covariance"
   ]
  },
  {
   "cell_type": "code",
   "execution_count": 178,
   "id": "c81bfce6-ab76-4d36-8126-3272307cfe10",
   "metadata": {},
   "outputs": [],
   "source": [
    "rolling_variance = returns['Close'].rolling(window=30).var()"
   ]
  },
  {
   "cell_type": "code",
   "execution_count": 179,
   "id": "cebe427a-dbb0-40e7-9029-c17e813c723e",
   "metadata": {},
   "outputs": [
    {
     "data": {
      "text/plain": [
       "Date\n",
       "2019-05-16         NaN\n",
       "2019-05-15         NaN\n",
       "2019-05-14         NaN\n",
       "2019-05-13         NaN\n",
       "2019-05-10         NaN\n",
       "                ...   \n",
       "2016-08-30    0.000067\n",
       "2016-08-29    0.000067\n",
       "2016-08-26    0.000063\n",
       "2016-08-25    0.000062\n",
       "2016-08-24    0.000061\n",
       "Name: Close, Length: 678, dtype: float64"
      ]
     },
     "execution_count": 179,
     "metadata": {},
     "output_type": "execute_result"
    }
   ],
   "source": [
    "rolling_variance"
   ]
  },
  {
   "cell_type": "code",
   "execution_count": 181,
   "id": "4a244ce7-d5f6-4345-a49c-de68f9d9c872",
   "metadata": {},
   "outputs": [],
   "source": [
    "rolling_beta = rolling_covariance / rolling_variance "
   ]
  },
  {
   "cell_type": "code",
   "execution_count": 183,
   "id": "688c9dd6-0eec-4902-be8b-6786d69d7dbb",
   "metadata": {},
   "outputs": [
    {
     "data": {
      "text/plain": [
       "<AxesSubplot:title={'center':'Rolling 30day Beta of BTC'}, xlabel='Date'>"
      ]
     },
     "execution_count": 183,
     "metadata": {},
     "output_type": "execute_result"
    },
    {
     "data": {
      "image/png": "[encoded data removed]",
      "text/plain": [
       "<Figure size 1440x720 with 1 Axes>"
      ]
     },
     "metadata": {
      "needs_background": "light"
     },
     "output_type": "display_data"
    }
   ],
   "source": [
    "rolling_beta.plot(figsize=(20,10), title = 'Rolling 30day Beta of BTC')"
   ]
  },
  {
   "cell_type": "code",
   "execution_count": null,
   "id": "35fdfe01-b6cf-43f4-a756-ee733b17941e",
   "metadata": {},
   "outputs": [],
   "source": []
  }
 ],
 "metadata": {
  "kernelspec": {
   "display_name": "Python 3 (ipykernel)",
   "language": "python",
   "name": "python3"
  },
  "language_info": {
   "codemirror_mode": {
    "name": "ipython",
    "version": 3
   },
   "file_extension": ".py",
   "mimetype": "text/x-python",
   "name": "python",
   "nbconvert_exporter": "python",
   "pygments_lexer": "ipython3",
   "version": "3.7.11"
  }
 },
 "nbformat": 4,
 "nbformat_minor": 5
}
