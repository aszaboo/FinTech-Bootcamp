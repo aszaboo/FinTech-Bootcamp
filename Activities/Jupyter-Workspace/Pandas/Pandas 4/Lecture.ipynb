{
 "cells": [
  {
   "cell_type": "code",
   "execution_count": 2,
   "id": "ee1cf947-62b2-4604-beb5-a0640266e02f",
   "metadata": {},
   "outputs": [],
   "source": [
    "# Objects\n",
    "# Inheritnace - \n",
    "# Class = Object\n",
    "# Objects / Classes - \"nouns\"\n",
    "# Attributes - charecteristics if the nouns \"Adjectives\"\n",
    "# method / function - Actions that the nouns perform \"Verbs\"\n",
    "# Example 1\n",
    "# class Stock:\n",
    "# init(self,ticker.name,start_dt,end_dt)\n",
    "#   self.ticker_name = ticker_name\n",
    "#   self.start_dt = start_dt\n",
    "#   self.end_dt = end_dt\n",
    "#   self.data = self.get_data()\n",
    "# def get_data(self):\n",
    "#  API.get_data(self.ticker_name,self.start_dt,self.end_dt)"
   ]
  },
  {
   "cell_type": "code",
   "execution_count": 3,
   "id": "17992667-547a-462e-be38-fc8f7f24ddbd",
   "metadata": {},
   "outputs": [],
   "source": [
    "# Example 2\n",
    "# class Robot:\n",
    "# def_init__(self,name,colour,weight)"
   ]
  },
  {
   "cell_type": "code",
   "execution_count": 49,
   "id": "9607f89f-9940-4241-ae6e-b33984baf5f3",
   "metadata": {},
   "outputs": [],
   "source": [
    "class Robot:\n",
    "    def __init__(self,name,colour,weight, height):\n",
    "        self.name = name\n",
    "        self.colour = colour\n",
    "        self.weight = weight\n",
    "        self.height = height\n",
    "        \n",
    "    def greet(self):\n",
    "        print(f\"hi my name is {self.name}, my colour is {self.colour}, and my weight is {self.weight}\")\n",
    "    def calculate_height_to_weight_ratio(self):\n",
    "        return self.height/self.weight"
   ]
  },
  {
   "cell_type": "code",
   "execution_count": 50,
   "id": "0c54d23c-0dd8-4e84-9be0-bf1be965999c",
   "metadata": {},
   "outputs": [],
   "source": [
    "patrick_robot = Robot('Patrick','blue',160, 70)"
   ]
  },
  {
   "cell_type": "code",
   "execution_count": 51,
   "id": "0e190239-a35f-4d0e-978b-1c14da44251d",
   "metadata": {},
   "outputs": [
    {
     "data": {
      "text/plain": [
       "'Patrick'"
      ]
     },
     "execution_count": 51,
     "metadata": {},
     "output_type": "execute_result"
    }
   ],
   "source": [
    "patrick_robot.name"
   ]
  },
  {
   "cell_type": "code",
   "execution_count": 52,
   "id": "1935be1b-5108-4454-ab21-5ad654bdd6ff",
   "metadata": {},
   "outputs": [
    {
     "data": {
      "text/plain": [
       "'blue'"
      ]
     },
     "execution_count": 52,
     "metadata": {},
     "output_type": "execute_result"
    }
   ],
   "source": [
    "patrick_robot.colour"
   ]
  },
  {
   "cell_type": "code",
   "execution_count": 53,
   "id": "368238ba-8c85-4ab6-8a91-f4de5bd1d440",
   "metadata": {},
   "outputs": [
    {
     "data": {
      "text/plain": [
       "'Patrick'"
      ]
     },
     "execution_count": 53,
     "metadata": {},
     "output_type": "execute_result"
    }
   ],
   "source": [
    "patrick_robot.name"
   ]
  },
  {
   "cell_type": "code",
   "execution_count": 54,
   "id": "b6ab56ff-695d-4b4e-a701-f9b53443d620",
   "metadata": {},
   "outputs": [
    {
     "data": {
      "text/plain": [
       "__main__.Robot"
      ]
     },
     "execution_count": 54,
     "metadata": {},
     "output_type": "execute_result"
    }
   ],
   "source": [
    "type(patrick_robot)"
   ]
  },
  {
   "cell_type": "code",
   "execution_count": 55,
   "id": "a5ea8e8f-ae00-48da-a0bf-9482389b6a8c",
   "metadata": {},
   "outputs": [
    {
     "name": "stdout",
     "output_type": "stream",
     "text": [
      "hi my name is Patrick, my colour is blue, and my weight is 160\n"
     ]
    }
   ],
   "source": [
    "patrick_robot.greet()"
   ]
  },
  {
   "cell_type": "code",
   "execution_count": 56,
   "id": "922de4ad-250c-4bc8-a57a-ac119f211b13",
   "metadata": {},
   "outputs": [
    {
     "data": {
      "text/plain": [
       "0.4375"
      ]
     },
     "execution_count": 56,
     "metadata": {},
     "output_type": "execute_result"
    }
   ],
   "source": [
    "patrick_robot.calculate_height_to_weight_ratio()"
   ]
  },
  {
   "cell_type": "code",
   "execution_count": null,
   "id": "2e9e0f91-d20b-4496-ae2d-3e3014474dd7",
   "metadata": {},
   "outputs": [],
   "source": []
  },
  {
   "cell_type": "code",
   "execution_count": null,
   "id": "776eb068-a942-4d94-a189-078cd6a1039f",
   "metadata": {},
   "outputs": [],
   "source": []
  },
  {
   "cell_type": "code",
   "execution_count": null,
   "id": "ac5dde61-5e41-4ddc-9f03-aeea5b28d47e",
   "metadata": {},
   "outputs": [],
   "source": []
  }
 ],
 "metadata": {
  "kernelspec": {
   "display_name": "Python 3 (ipykernel)",
   "language": "python",
   "name": "python3"
  },
  "language_info": {
   "codemirror_mode": {
    "name": "ipython",
    "version": 3
   },
   "file_extension": ".py",
   "mimetype": "text/x-python",
   "name": "python",
   "nbconvert_exporter": "python",
   "pygments_lexer": "ipython3",
   "version": "3.7.11"
  }
 },
 "nbformat": 4,
 "nbformat_minor": 5
}
