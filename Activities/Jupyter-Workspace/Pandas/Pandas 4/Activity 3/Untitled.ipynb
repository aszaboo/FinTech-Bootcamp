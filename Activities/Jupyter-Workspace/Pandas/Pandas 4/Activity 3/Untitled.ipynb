{
 "cells": [
  {
   "cell_type": "code",
   "execution_count": 2,
   "id": "c7f1c771-61af-46ef-a5ac-7b6ab5d88fe3",
   "metadata": {},
   "outputs": [
    {
     "name": "stdout",
     "output_type": "stream",
     "text": [
      "Untitled.ipynb       people_cleansed.csv  people_reordered.csv\n"
     ]
    }
   ],
   "source": [
    "import pandas as pd\n",
    "!ls"
   ]
  },
  {
   "cell_type": "code",
   "execution_count": 5,
   "id": "bbfcde2a-a3a4-4ee6-8db0-b8a0b8fbde37",
   "metadata": {},
   "outputs": [],
   "source": [
    "people_cleansed = pd.read_csv(\"people_cleansed.csv\")\n",
    "people_reordered = pd.read_csv(\"people_reordered.csv\")"
   ]
  },
  {
   "cell_type": "code",
   "execution_count": 6,
   "id": "c0954aca-e298-4dd6-95dc-bac2956288b8",
   "metadata": {},
   "outputs": [
    {
     "data": {
      "text/html": [
       "<div>\n",
       "<style scoped>\n",
       "    .dataframe tbody tr th:only-of-type {\n",
       "        vertical-align: middle;\n",
       "    }\n",
       "\n",
       "    .dataframe tbody tr th {\n",
       "        vertical-align: top;\n",
       "    }\n",
       "\n",
       "    .dataframe thead th {\n",
       "        text-align: right;\n",
       "    }\n",
       "</style>\n",
       "<table border=\"1\" class=\"dataframe\">\n",
       "  <thead>\n",
       "    <tr style=\"text-align: right;\">\n",
       "      <th></th>\n",
       "      <th>Unnamed: 0</th>\n",
       "      <th>Person_ID</th>\n",
       "      <th>Last_Name</th>\n",
       "      <th>First_Name</th>\n",
       "      <th>Gender</th>\n",
       "      <th>University</th>\n",
       "      <th>Occupation</th>\n",
       "      <th>Salary</th>\n",
       "      <th>Email</th>\n",
       "      <th>Age</th>\n",
       "    </tr>\n",
       "  </thead>\n",
       "  <tbody>\n",
       "    <tr>\n",
       "      <th>0</th>\n",
       "      <td>0</td>\n",
       "      <td>1.0</td>\n",
       "      <td>Lenormand</td>\n",
       "      <td>Keriann</td>\n",
       "      <td>Female</td>\n",
       "      <td>Aurora University</td>\n",
       "      <td>Nurse Practicioner</td>\n",
       "      <td>58135.0</td>\n",
       "      <td>klenormand0@businessinsider.com</td>\n",
       "      <td>27</td>\n",
       "    </tr>\n",
       "    <tr>\n",
       "      <th>1</th>\n",
       "      <td>1</td>\n",
       "      <td>2.0</td>\n",
       "      <td>Rupke</td>\n",
       "      <td>Huntley</td>\n",
       "      <td>Male</td>\n",
       "      <td>Osaka University of Economics</td>\n",
       "      <td>Project Manager</td>\n",
       "      <td>96053.0</td>\n",
       "      <td>hrupke1@reuters.com</td>\n",
       "      <td>22</td>\n",
       "    </tr>\n",
       "    <tr>\n",
       "      <th>2</th>\n",
       "      <td>2</td>\n",
       "      <td>3.0</td>\n",
       "      <td>Dalgarnowch</td>\n",
       "      <td>Gorden</td>\n",
       "      <td>Male</td>\n",
       "      <td>Ludong University</td>\n",
       "      <td>Environmental Tech</td>\n",
       "      <td>59196.0</td>\n",
       "      <td>gdalgarnowch2@microsoft.com</td>\n",
       "      <td>40</td>\n",
       "    </tr>\n",
       "    <tr>\n",
       "      <th>3</th>\n",
       "      <td>3</td>\n",
       "      <td>4.0</td>\n",
       "      <td>NaN</td>\n",
       "      <td>Cullie</td>\n",
       "      <td>Male</td>\n",
       "      <td>Université des Sciences et de la Technologie d...</td>\n",
       "      <td>Legal Assistant</td>\n",
       "      <td>88493.0</td>\n",
       "      <td>cputten3@nymag.com</td>\n",
       "      <td>62</td>\n",
       "    </tr>\n",
       "    <tr>\n",
       "      <th>4</th>\n",
       "      <td>4</td>\n",
       "      <td>5.0</td>\n",
       "      <td>Strangman</td>\n",
       "      <td>Ariel</td>\n",
       "      <td>Female</td>\n",
       "      <td>Boise State University</td>\n",
       "      <td>Project Manager</td>\n",
       "      <td>89073.0</td>\n",
       "      <td>astrangman4@bravesites.com</td>\n",
       "      <td>47</td>\n",
       "    </tr>\n",
       "  </tbody>\n",
       "</table>\n",
       "</div>"
      ],
      "text/plain": [
       "   Unnamed: 0  Person_ID    Last_Name First_Name  Gender  \\\n",
       "0           0        1.0    Lenormand    Keriann  Female   \n",
       "1           1        2.0        Rupke    Huntley    Male   \n",
       "2           2        3.0  Dalgarnowch     Gorden    Male   \n",
       "3           3        4.0          NaN     Cullie    Male   \n",
       "4           4        5.0    Strangman      Ariel  Female   \n",
       "\n",
       "                                          University          Occupation  \\\n",
       "0                                  Aurora University  Nurse Practicioner   \n",
       "1                      Osaka University of Economics     Project Manager   \n",
       "2                                  Ludong University  Environmental Tech   \n",
       "3  Université des Sciences et de la Technologie d...     Legal Assistant   \n",
       "4                             Boise State University     Project Manager   \n",
       "\n",
       "    Salary                            Email  Age  \n",
       "0  58135.0  klenormand0@businessinsider.com   27  \n",
       "1  96053.0              hrupke1@reuters.com   22  \n",
       "2  59196.0      gdalgarnowch2@microsoft.com   40  \n",
       "3  88493.0               cputten3@nymag.com   62  \n",
       "4  89073.0       astrangman4@bravesites.com   47  "
      ]
     },
     "execution_count": 6,
     "metadata": {},
     "output_type": "execute_result"
    }
   ],
   "source": [
    "people_reordered.head()"
   ]
  },
  {
   "cell_type": "code",
   "execution_count": 8,
   "id": "c792fa7a-310a-4ecd-887b-5c18d29c90ab",
   "metadata": {},
   "outputs": [],
   "source": [
    "people_reordered.drop(columns='Unnamed: 0', inplace=True)"
   ]
  },
  {
   "cell_type": "code",
   "execution_count": 15,
   "id": "76fd55f9-18a8-46eb-b1c5-b115bdfb8d77",
   "metadata": {},
   "outputs": [
    {
     "data": {
      "text/plain": [
       "1000"
      ]
     },
     "execution_count": 15,
     "metadata": {},
     "output_type": "execute_result"
    }
   ],
   "source": [
    "len(people_reordered)"
   ]
  },
  {
   "cell_type": "code",
   "execution_count": 12,
   "id": "cf55308d-4bd6-418d-a426-95d80fc3655d",
   "metadata": {},
   "outputs": [
    {
     "data": {
      "text/plain": [
       "85"
      ]
     },
     "execution_count": 12,
     "metadata": {},
     "output_type": "execute_result"
    }
   ],
   "source": [
    "people_reordered['First_Name'].duplicated().sum()"
   ]
  },
  {
   "cell_type": "code",
   "execution_count": 14,
   "id": "4bb5d637-25b5-4d51-9412-165c47490eca",
   "metadata": {},
   "outputs": [
    {
     "data": {
      "text/plain": [
       "Person_ID      4\n",
       "Last_Name     10\n",
       "First_Name     7\n",
       "Gender         2\n",
       "University     9\n",
       "Occupation     2\n",
       "Salary         2\n",
       "Email          8\n",
       "Age            0\n",
       "dtype: int64"
      ]
     },
     "execution_count": 14,
     "metadata": {},
     "output_type": "execute_result"
    }
   ],
   "source": [
    "people_reordered.isnull().sum()"
   ]
  },
  {
   "cell_type": "code",
   "execution_count": 18,
   "id": "ae5fc02c-2ae6-405a-b5dd-8505ce824bc5",
   "metadata": {},
   "outputs": [
    {
     "data": {
      "text/plain": [
       "Person_ID     0.4\n",
       "Last_Name     1.0\n",
       "First_Name    0.7\n",
       "Gender        0.2\n",
       "University    0.9\n",
       "Occupation    0.2\n",
       "Salary        0.2\n",
       "Email         0.8\n",
       "Age           0.0\n",
       "dtype: float64"
      ]
     },
     "execution_count": 18,
     "metadata": {},
     "output_type": "execute_result"
    }
   ],
   "source": [
    "((people_reordered.isnull().sum()) / len(people_reordered)) * 100"
   ]
  },
  {
   "cell_type": "code",
   "execution_count": 19,
   "id": "686371a1-2344-41d5-9af9-7bc866d52cd0",
   "metadata": {},
   "outputs": [
    {
     "data": {
      "text/plain": [
       "0      False\n",
       "1      False\n",
       "2      False\n",
       "3      False\n",
       "4      False\n",
       "       ...  \n",
       "995    False\n",
       "996    False\n",
       "997    False\n",
       "998    False\n",
       "999     True\n",
       "Length: 1000, dtype: bool"
      ]
     },
     "execution_count": 19,
     "metadata": {},
     "output_type": "execute_result"
    }
   ],
   "source": [
    "people_reordered.duplicated()"
   ]
  },
  {
   "cell_type": "code",
   "execution_count": 20,
   "id": "d5b933b4-a41c-45c1-ab86-bd1478b72cdb",
   "metadata": {},
   "outputs": [
    {
     "data": {
      "text/plain": [
       "0      False\n",
       "1      False\n",
       "2      False\n",
       "3      False\n",
       "4      False\n",
       "       ...  \n",
       "995    False\n",
       "996    False\n",
       "997    False\n",
       "998    False\n",
       "999     True\n",
       "Name: First_Name, Length: 1000, dtype: bool"
      ]
     },
     "execution_count": 20,
     "metadata": {},
     "output_type": "execute_result"
    }
   ],
   "source": [
    "people_reordered['First_Name'].duplicated()"
   ]
  },
  {
   "cell_type": "code",
   "execution_count": 21,
   "id": "64d5a7e1-038f-4ade-9b7a-5ac26f4c4b42",
   "metadata": {},
   "outputs": [
    {
     "data": {
      "text/plain": [
       "0      False\n",
       "1      False\n",
       "2      False\n",
       "3      False\n",
       "4      False\n",
       "       ...  \n",
       "995    False\n",
       "996    False\n",
       "997    False\n",
       "998    False\n",
       "999     True\n",
       "Name: Last_Name, Length: 1000, dtype: bool"
      ]
     },
     "execution_count": 21,
     "metadata": {},
     "output_type": "execute_result"
    }
   ],
   "source": [
    "people_reordered['Last_Name'].duplicated()"
   ]
  },
  {
   "cell_type": "code",
   "execution_count": 22,
   "id": "550f2a17-5f0a-49c2-95ad-5ab8d5d07629",
   "metadata": {},
   "outputs": [],
   "source": [
    "people_reordered['First_Name'].fillna(\"Unnamed\", inplace=True)\n",
    "people_reordered['Last_Name'].fillna(\"Unnamed\", inplace=True)"
   ]
  },
  {
   "cell_type": "code",
   "execution_count": 24,
   "id": "d2edebf9-ab55-4543-8383-381cef1dabcc",
   "metadata": {},
   "outputs": [],
   "source": [
    "people_reordered.dropna(inplace=True)"
   ]
  },
  {
   "cell_type": "code",
   "execution_count": 25,
   "id": "b9ee8e22-3ab7-433d-9c9f-3d548a600bf9",
   "metadata": {},
   "outputs": [
    {
     "data": {
      "text/plain": [
       "Person_ID     0\n",
       "Last_Name     0\n",
       "First_Name    0\n",
       "Gender        0\n",
       "University    0\n",
       "Occupation    0\n",
       "Salary        0\n",
       "Email         0\n",
       "Age           0\n",
       "dtype: int64"
      ]
     },
     "execution_count": 25,
     "metadata": {},
     "output_type": "execute_result"
    }
   ],
   "source": [
    "people_reordered.isnull().sum()"
   ]
  },
  {
   "cell_type": "code",
   "execution_count": 28,
   "id": "f25a0804-e45c-452e-a2c9-05b2bb103f23",
   "metadata": {},
   "outputs": [],
   "source": [
    "people_reordered2 = people_reordered.drop_duplicates(\n",
    "  subset = ['First_Name', 'Last_Name'],\n",
    "  keep = 'last').reset_index(drop = True)"
   ]
  },
  {
   "cell_type": "code",
   "execution_count": 29,
   "id": "562860e3-4688-4e1e-afd3-c02cba2072fb",
   "metadata": {},
   "outputs": [
    {
     "data": {
      "text/html": [
       "<div>\n",
       "<style scoped>\n",
       "    .dataframe tbody tr th:only-of-type {\n",
       "        vertical-align: middle;\n",
       "    }\n",
       "\n",
       "    .dataframe tbody tr th {\n",
       "        vertical-align: top;\n",
       "    }\n",
       "\n",
       "    .dataframe thead th {\n",
       "        text-align: right;\n",
       "    }\n",
       "</style>\n",
       "<table border=\"1\" class=\"dataframe\">\n",
       "  <thead>\n",
       "    <tr style=\"text-align: right;\">\n",
       "      <th></th>\n",
       "      <th>Person_ID</th>\n",
       "      <th>Last_Name</th>\n",
       "      <th>First_Name</th>\n",
       "      <th>Gender</th>\n",
       "      <th>University</th>\n",
       "      <th>Occupation</th>\n",
       "      <th>Salary</th>\n",
       "      <th>Email</th>\n",
       "      <th>Age</th>\n",
       "    </tr>\n",
       "  </thead>\n",
       "  <tbody>\n",
       "    <tr>\n",
       "      <th>0</th>\n",
       "      <td>1.0</td>\n",
       "      <td>Lenormand</td>\n",
       "      <td>Keriann</td>\n",
       "      <td>Female</td>\n",
       "      <td>Aurora University</td>\n",
       "      <td>Nurse Practicioner</td>\n",
       "      <td>58135.0</td>\n",
       "      <td>klenormand0@businessinsider.com</td>\n",
       "      <td>27</td>\n",
       "    </tr>\n",
       "    <tr>\n",
       "      <th>1</th>\n",
       "      <td>2.0</td>\n",
       "      <td>Rupke</td>\n",
       "      <td>Huntley</td>\n",
       "      <td>Male</td>\n",
       "      <td>Osaka University of Economics</td>\n",
       "      <td>Project Manager</td>\n",
       "      <td>96053.0</td>\n",
       "      <td>hrupke1@reuters.com</td>\n",
       "      <td>22</td>\n",
       "    </tr>\n",
       "    <tr>\n",
       "      <th>2</th>\n",
       "      <td>3.0</td>\n",
       "      <td>Dalgarnowch</td>\n",
       "      <td>Gorden</td>\n",
       "      <td>Male</td>\n",
       "      <td>Ludong University</td>\n",
       "      <td>Environmental Tech</td>\n",
       "      <td>59196.0</td>\n",
       "      <td>gdalgarnowch2@microsoft.com</td>\n",
       "      <td>40</td>\n",
       "    </tr>\n",
       "    <tr>\n",
       "      <th>3</th>\n",
       "      <td>4.0</td>\n",
       "      <td>Unnamed</td>\n",
       "      <td>Cullie</td>\n",
       "      <td>Male</td>\n",
       "      <td>Université des Sciences et de la Technologie d...</td>\n",
       "      <td>Legal Assistant</td>\n",
       "      <td>88493.0</td>\n",
       "      <td>cputten3@nymag.com</td>\n",
       "      <td>62</td>\n",
       "    </tr>\n",
       "    <tr>\n",
       "      <th>4</th>\n",
       "      <td>5.0</td>\n",
       "      <td>Strangman</td>\n",
       "      <td>Ariel</td>\n",
       "      <td>Female</td>\n",
       "      <td>Boise State University</td>\n",
       "      <td>Project Manager</td>\n",
       "      <td>89073.0</td>\n",
       "      <td>astrangman4@bravesites.com</td>\n",
       "      <td>47</td>\n",
       "    </tr>\n",
       "    <tr>\n",
       "      <th>...</th>\n",
       "      <td>...</td>\n",
       "      <td>...</td>\n",
       "      <td>...</td>\n",
       "      <td>...</td>\n",
       "      <td>...</td>\n",
       "      <td>...</td>\n",
       "      <td>...</td>\n",
       "      <td>...</td>\n",
       "      <td>...</td>\n",
       "    </tr>\n",
       "    <tr>\n",
       "      <th>967</th>\n",
       "      <td>995.0</td>\n",
       "      <td>Jeacop</td>\n",
       "      <td>Iggy</td>\n",
       "      <td>Male</td>\n",
       "      <td>University of Greenwich</td>\n",
       "      <td>Sales Associate</td>\n",
       "      <td>82726.0</td>\n",
       "      <td>ijeacoprm@4shared.com</td>\n",
       "      <td>22</td>\n",
       "    </tr>\n",
       "    <tr>\n",
       "      <th>968</th>\n",
       "      <td>996.0</td>\n",
       "      <td>Crumpton</td>\n",
       "      <td>Meta</td>\n",
       "      <td>Female</td>\n",
       "      <td>ECAM - Institut Supérieur Industriel</td>\n",
       "      <td>Registered Nurse</td>\n",
       "      <td>57060.0</td>\n",
       "      <td>mcrumptonrn@qq.com</td>\n",
       "      <td>52</td>\n",
       "    </tr>\n",
       "    <tr>\n",
       "      <th>969</th>\n",
       "      <td>997.0</td>\n",
       "      <td>Gilford</td>\n",
       "      <td>Gunar</td>\n",
       "      <td>Male</td>\n",
       "      <td>Smolny University</td>\n",
       "      <td>Marketing Manager</td>\n",
       "      <td>76109.0</td>\n",
       "      <td>ggilfordro@yandex.ru</td>\n",
       "      <td>32</td>\n",
       "    </tr>\n",
       "    <tr>\n",
       "      <th>970</th>\n",
       "      <td>998.0</td>\n",
       "      <td>Gurling</td>\n",
       "      <td>Lucretia</td>\n",
       "      <td>Female</td>\n",
       "      <td>Institut Teknologi Telkom</td>\n",
       "      <td>Software Engineer III</td>\n",
       "      <td>92115.0</td>\n",
       "      <td>lgurlingrp@de.vu</td>\n",
       "      <td>48</td>\n",
       "    </tr>\n",
       "    <tr>\n",
       "      <th>971</th>\n",
       "      <td>999.0</td>\n",
       "      <td>Yang</td>\n",
       "      <td>Andrew</td>\n",
       "      <td>Male</td>\n",
       "      <td>Rutgers University School of Business</td>\n",
       "      <td>Curriculum Engineer</td>\n",
       "      <td>60000.0</td>\n",
       "      <td>ayang@codedrills.com</td>\n",
       "      <td>53</td>\n",
       "    </tr>\n",
       "  </tbody>\n",
       "</table>\n",
       "<p>972 rows × 9 columns</p>\n",
       "</div>"
      ],
      "text/plain": [
       "     Person_ID    Last_Name First_Name  Gender  \\\n",
       "0          1.0    Lenormand    Keriann  Female   \n",
       "1          2.0        Rupke    Huntley    Male   \n",
       "2          3.0  Dalgarnowch     Gorden    Male   \n",
       "3          4.0      Unnamed     Cullie    Male   \n",
       "4          5.0    Strangman      Ariel  Female   \n",
       "..         ...          ...        ...     ...   \n",
       "967      995.0       Jeacop       Iggy    Male   \n",
       "968      996.0     Crumpton       Meta  Female   \n",
       "969      997.0      Gilford      Gunar    Male   \n",
       "970      998.0      Gurling   Lucretia  Female   \n",
       "971      999.0         Yang     Andrew    Male   \n",
       "\n",
       "                                            University             Occupation  \\\n",
       "0                                    Aurora University     Nurse Practicioner   \n",
       "1                        Osaka University of Economics        Project Manager   \n",
       "2                                    Ludong University     Environmental Tech   \n",
       "3    Université des Sciences et de la Technologie d...        Legal Assistant   \n",
       "4                               Boise State University        Project Manager   \n",
       "..                                                 ...                    ...   \n",
       "967                            University of Greenwich        Sales Associate   \n",
       "968               ECAM - Institut Supérieur Industriel       Registered Nurse   \n",
       "969                                  Smolny University      Marketing Manager   \n",
       "970                          Institut Teknologi Telkom  Software Engineer III   \n",
       "971              Rutgers University School of Business    Curriculum Engineer   \n",
       "\n",
       "      Salary                            Email  Age  \n",
       "0    58135.0  klenormand0@businessinsider.com   27  \n",
       "1    96053.0              hrupke1@reuters.com   22  \n",
       "2    59196.0      gdalgarnowch2@microsoft.com   40  \n",
       "3    88493.0               cputten3@nymag.com   62  \n",
       "4    89073.0       astrangman4@bravesites.com   47  \n",
       "..       ...                              ...  ...  \n",
       "967  82726.0            ijeacoprm@4shared.com   22  \n",
       "968  57060.0               mcrumptonrn@qq.com   52  \n",
       "969  76109.0             ggilfordro@yandex.ru   32  \n",
       "970  92115.0                 lgurlingrp@de.vu   48  \n",
       "971  60000.0             ayang@codedrills.com   53  \n",
       "\n",
       "[972 rows x 9 columns]"
      ]
     },
     "execution_count": 29,
     "metadata": {},
     "output_type": "execute_result"
    }
   ],
   "source": [
    "people_reordered2"
   ]
  },
  {
   "cell_type": "code",
   "execution_count": 30,
   "id": "fffa580c-c4cf-4575-b48b-db4cd1970d3f",
   "metadata": {},
   "outputs": [
    {
     "data": {
      "text/plain": [
       "0        1\n",
       "1        2\n",
       "2        3\n",
       "3        4\n",
       "4        5\n",
       "      ... \n",
       "967    995\n",
       "968    996\n",
       "969    997\n",
       "970    998\n",
       "971    999\n",
       "Name: Person_ID, Length: 972, dtype: int64"
      ]
     },
     "execution_count": 30,
     "metadata": {},
     "output_type": "execute_result"
    }
   ],
   "source": [
    "people_reordered2['Person_ID'].astype(int)"
   ]
  },
  {
   "cell_type": "code",
   "execution_count": 32,
   "id": "b7e43871-b669-470c-b96f-6753447c820c",
   "metadata": {},
   "outputs": [
    {
     "data": {
      "text/plain": [
       "Person_ID     float64\n",
       "Last_Name      object\n",
       "First_Name     object\n",
       "Gender         object\n",
       "University     object\n",
       "Occupation     object\n",
       "Salary        float64\n",
       "Email          object\n",
       "Age             int64\n",
       "dtype: object"
      ]
     },
     "execution_count": 32,
     "metadata": {},
     "output_type": "execute_result"
    }
   ],
   "source": [
    "people_reordered2.dtypes"
   ]
  },
  {
   "cell_type": "code",
   "execution_count": 33,
   "id": "892d4469-4866-4c0c-be56-235f0a2366e1",
   "metadata": {},
   "outputs": [],
   "source": [
    "Resources = people_reordered2"
   ]
  },
  {
   "cell_type": "code",
   "execution_count": 34,
   "id": "f8545c93-2246-4de6-b928-3879b8ecddef",
   "metadata": {},
   "outputs": [
    {
     "data": {
      "text/html": [
       "<div>\n",
       "<style scoped>\n",
       "    .dataframe tbody tr th:only-of-type {\n",
       "        vertical-align: middle;\n",
       "    }\n",
       "\n",
       "    .dataframe tbody tr th {\n",
       "        vertical-align: top;\n",
       "    }\n",
       "\n",
       "    .dataframe thead th {\n",
       "        text-align: right;\n",
       "    }\n",
       "</style>\n",
       "<table border=\"1\" class=\"dataframe\">\n",
       "  <thead>\n",
       "    <tr style=\"text-align: right;\">\n",
       "      <th></th>\n",
       "      <th>Person_ID</th>\n",
       "      <th>Last_Name</th>\n",
       "      <th>First_Name</th>\n",
       "      <th>Gender</th>\n",
       "      <th>University</th>\n",
       "      <th>Occupation</th>\n",
       "      <th>Salary</th>\n",
       "      <th>Email</th>\n",
       "      <th>Age</th>\n",
       "    </tr>\n",
       "  </thead>\n",
       "  <tbody>\n",
       "    <tr>\n",
       "      <th>0</th>\n",
       "      <td>1.0</td>\n",
       "      <td>Lenormand</td>\n",
       "      <td>Keriann</td>\n",
       "      <td>Female</td>\n",
       "      <td>Aurora University</td>\n",
       "      <td>Nurse Practicioner</td>\n",
       "      <td>58135.0</td>\n",
       "      <td>klenormand0@businessinsider.com</td>\n",
       "      <td>27</td>\n",
       "    </tr>\n",
       "    <tr>\n",
       "      <th>1</th>\n",
       "      <td>2.0</td>\n",
       "      <td>Rupke</td>\n",
       "      <td>Huntley</td>\n",
       "      <td>Male</td>\n",
       "      <td>Osaka University of Economics</td>\n",
       "      <td>Project Manager</td>\n",
       "      <td>96053.0</td>\n",
       "      <td>hrupke1@reuters.com</td>\n",
       "      <td>22</td>\n",
       "    </tr>\n",
       "    <tr>\n",
       "      <th>2</th>\n",
       "      <td>3.0</td>\n",
       "      <td>Dalgarnowch</td>\n",
       "      <td>Gorden</td>\n",
       "      <td>Male</td>\n",
       "      <td>Ludong University</td>\n",
       "      <td>Environmental Tech</td>\n",
       "      <td>59196.0</td>\n",
       "      <td>gdalgarnowch2@microsoft.com</td>\n",
       "      <td>40</td>\n",
       "    </tr>\n",
       "    <tr>\n",
       "      <th>3</th>\n",
       "      <td>4.0</td>\n",
       "      <td>Unnamed</td>\n",
       "      <td>Cullie</td>\n",
       "      <td>Male</td>\n",
       "      <td>Université des Sciences et de la Technologie d...</td>\n",
       "      <td>Legal Assistant</td>\n",
       "      <td>88493.0</td>\n",
       "      <td>cputten3@nymag.com</td>\n",
       "      <td>62</td>\n",
       "    </tr>\n",
       "    <tr>\n",
       "      <th>4</th>\n",
       "      <td>5.0</td>\n",
       "      <td>Strangman</td>\n",
       "      <td>Ariel</td>\n",
       "      <td>Female</td>\n",
       "      <td>Boise State University</td>\n",
       "      <td>Project Manager</td>\n",
       "      <td>89073.0</td>\n",
       "      <td>astrangman4@bravesites.com</td>\n",
       "      <td>47</td>\n",
       "    </tr>\n",
       "    <tr>\n",
       "      <th>...</th>\n",
       "      <td>...</td>\n",
       "      <td>...</td>\n",
       "      <td>...</td>\n",
       "      <td>...</td>\n",
       "      <td>...</td>\n",
       "      <td>...</td>\n",
       "      <td>...</td>\n",
       "      <td>...</td>\n",
       "      <td>...</td>\n",
       "    </tr>\n",
       "    <tr>\n",
       "      <th>967</th>\n",
       "      <td>995.0</td>\n",
       "      <td>Jeacop</td>\n",
       "      <td>Iggy</td>\n",
       "      <td>Male</td>\n",
       "      <td>University of Greenwich</td>\n",
       "      <td>Sales Associate</td>\n",
       "      <td>82726.0</td>\n",
       "      <td>ijeacoprm@4shared.com</td>\n",
       "      <td>22</td>\n",
       "    </tr>\n",
       "    <tr>\n",
       "      <th>968</th>\n",
       "      <td>996.0</td>\n",
       "      <td>Crumpton</td>\n",
       "      <td>Meta</td>\n",
       "      <td>Female</td>\n",
       "      <td>ECAM - Institut Supérieur Industriel</td>\n",
       "      <td>Registered Nurse</td>\n",
       "      <td>57060.0</td>\n",
       "      <td>mcrumptonrn@qq.com</td>\n",
       "      <td>52</td>\n",
       "    </tr>\n",
       "    <tr>\n",
       "      <th>969</th>\n",
       "      <td>997.0</td>\n",
       "      <td>Gilford</td>\n",
       "      <td>Gunar</td>\n",
       "      <td>Male</td>\n",
       "      <td>Smolny University</td>\n",
       "      <td>Marketing Manager</td>\n",
       "      <td>76109.0</td>\n",
       "      <td>ggilfordro@yandex.ru</td>\n",
       "      <td>32</td>\n",
       "    </tr>\n",
       "    <tr>\n",
       "      <th>970</th>\n",
       "      <td>998.0</td>\n",
       "      <td>Gurling</td>\n",
       "      <td>Lucretia</td>\n",
       "      <td>Female</td>\n",
       "      <td>Institut Teknologi Telkom</td>\n",
       "      <td>Software Engineer III</td>\n",
       "      <td>92115.0</td>\n",
       "      <td>lgurlingrp@de.vu</td>\n",
       "      <td>48</td>\n",
       "    </tr>\n",
       "    <tr>\n",
       "      <th>971</th>\n",
       "      <td>999.0</td>\n",
       "      <td>Yang</td>\n",
       "      <td>Andrew</td>\n",
       "      <td>Male</td>\n",
       "      <td>Rutgers University School of Business</td>\n",
       "      <td>Curriculum Engineer</td>\n",
       "      <td>60000.0</td>\n",
       "      <td>ayang@codedrills.com</td>\n",
       "      <td>53</td>\n",
       "    </tr>\n",
       "  </tbody>\n",
       "</table>\n",
       "<p>972 rows × 9 columns</p>\n",
       "</div>"
      ],
      "text/plain": [
       "     Person_ID    Last_Name First_Name  Gender  \\\n",
       "0          1.0    Lenormand    Keriann  Female   \n",
       "1          2.0        Rupke    Huntley    Male   \n",
       "2          3.0  Dalgarnowch     Gorden    Male   \n",
       "3          4.0      Unnamed     Cullie    Male   \n",
       "4          5.0    Strangman      Ariel  Female   \n",
       "..         ...          ...        ...     ...   \n",
       "967      995.0       Jeacop       Iggy    Male   \n",
       "968      996.0     Crumpton       Meta  Female   \n",
       "969      997.0      Gilford      Gunar    Male   \n",
       "970      998.0      Gurling   Lucretia  Female   \n",
       "971      999.0         Yang     Andrew    Male   \n",
       "\n",
       "                                            University             Occupation  \\\n",
       "0                                    Aurora University     Nurse Practicioner   \n",
       "1                        Osaka University of Economics        Project Manager   \n",
       "2                                    Ludong University     Environmental Tech   \n",
       "3    Université des Sciences et de la Technologie d...        Legal Assistant   \n",
       "4                               Boise State University        Project Manager   \n",
       "..                                                 ...                    ...   \n",
       "967                            University of Greenwich        Sales Associate   \n",
       "968               ECAM - Institut Supérieur Industriel       Registered Nurse   \n",
       "969                                  Smolny University      Marketing Manager   \n",
       "970                          Institut Teknologi Telkom  Software Engineer III   \n",
       "971              Rutgers University School of Business    Curriculum Engineer   \n",
       "\n",
       "      Salary                            Email  Age  \n",
       "0    58135.0  klenormand0@businessinsider.com   27  \n",
       "1    96053.0              hrupke1@reuters.com   22  \n",
       "2    59196.0      gdalgarnowch2@microsoft.com   40  \n",
       "3    88493.0               cputten3@nymag.com   62  \n",
       "4    89073.0       astrangman4@bravesites.com   47  \n",
       "..       ...                              ...  ...  \n",
       "967  82726.0            ijeacoprm@4shared.com   22  \n",
       "968  57060.0               mcrumptonrn@qq.com   52  \n",
       "969  76109.0             ggilfordro@yandex.ru   32  \n",
       "970  92115.0                 lgurlingrp@de.vu   48  \n",
       "971  60000.0             ayang@codedrills.com   53  \n",
       "\n",
       "[972 rows x 9 columns]"
      ]
     },
     "execution_count": 34,
     "metadata": {},
     "output_type": "execute_result"
    }
   ],
   "source": [
    "Resources"
   ]
  },
  {
   "cell_type": "code",
   "execution_count": null,
   "id": "0f17c5ca-6667-4f35-849d-ab8c450782b9",
   "metadata": {},
   "outputs": [],
   "source": []
  }
 ],
 "metadata": {
  "kernelspec": {
   "display_name": "Python 3 (ipykernel)",
   "language": "python",
   "name": "python3"
  },
  "language_info": {
   "codemirror_mode": {
    "name": "ipython",
    "version": 3
   },
   "file_extension": ".py",
   "mimetype": "text/x-python",
   "name": "python",
   "nbconvert_exporter": "python",
   "pygments_lexer": "ipython3",
   "version": "3.7.11"
  }
 },
 "nbformat": 4,
 "nbformat_minor": 5
}
